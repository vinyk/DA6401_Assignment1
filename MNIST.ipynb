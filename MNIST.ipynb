{
 "cells": [
  {
   "cell_type": "code",
   "execution_count": 3,
   "id": "93cf437f-ee75-4995-8899-f66cfb7d0be1",
   "metadata": {},
   "outputs": [],
   "source": [
    "import wandb\n",
    "import numpy as np\n",
    "import matplotlib.pyplot as plt\n",
    "from keras.datasets import mnist"
   ]
  },
  {
   "cell_type": "code",
   "execution_count": 2,
   "id": "f1f1a582-e9f0-4ff1-9621-79b355ebeb49",
   "metadata": {},
   "outputs": [
    {
     "name": "stderr",
     "output_type": "stream",
     "text": [
      "\u001b[34m\u001b[1mwandb\u001b[0m: Using wandb-core as the SDK backend.  Please refer to https://wandb.me/wandb-core for more information.\n",
      "\u001b[34m\u001b[1mwandb\u001b[0m: Currently logged in as: \u001b[33mvinyk-sd\u001b[0m (\u001b[33mvinyk-sd-indian-institute-of-technology-madras\u001b[0m) to \u001b[32mhttps://api.wandb.ai\u001b[0m. Use \u001b[1m`wandb login --relogin`\u001b[0m to force relogin\n"
     ]
    },
    {
     "data": {
      "text/plain": [
       "True"
      ]
     },
     "execution_count": 2,
     "metadata": {},
     "output_type": "execute_result"
    }
   ],
   "source": [
    "wandb.login()"
   ]
  },
  {
   "cell_type": "code",
   "execution_count": 4,
   "id": "d4849043-ee94-43b6-9b20-be9df9e1cf4e",
   "metadata": {},
   "outputs": [
    {
     "name": "stdout",
     "output_type": "stream",
     "text": [
      "Downloading data from https://storage.googleapis.com/tensorflow/tf-keras-datasets/mnist.npz\n",
      "\u001b[1m11490434/11490434\u001b[0m \u001b[32m━━━━━━━━━━━━━━━━━━━━\u001b[0m\u001b[37m\u001b[0m \u001b[1m3s\u001b[0m 0us/step\n"
     ]
    }
   ],
   "source": [
    "# Load dataset\n",
    "(X_train, y_train), (X_test, y_test) = mnist.load_data()\n",
    "\n",
    "# Normalize and reshape data\n",
    "X_train, X_test = X_train / 255.0, X_test / 255.0\n",
    "X_train = X_train.reshape(X_train.shape[0], -1)\n",
    "X_test = X_test.reshape(X_test.shape[0], -1)\n",
    "\n",
    "# One-hot encoding\n",
    "y_train_one_hot = np.eye(10)[y_train]\n",
    "y_test_one_hot = np.eye(10)[y_test]"
   ]
  },
  {
   "cell_type": "code",
   "execution_count": 5,
   "id": "10fabcc9-fe35-4fb8-a225-fdae9a46e427",
   "metadata": {},
   "outputs": [],
   "source": [
    "class NeuralNetwork:\n",
    "    def __init__(self, layers, activation=None, output_activation = 'softmax', weight_init=None):\n",
    "        \"\"\"\n",
    "        Initializes the neural network.\n",
    "        :param layers: List representing the number of neurons in each layer.\n",
    "        :param activation: Activation function for hidden layers ('relu', 'sigmoid', 'tanh').\n",
    "        :param output_activation: Activation function for the output layer ('softmax', 'sigmoid', or 'linear').\n",
    "        :param weight_init: Weight initialization method ('random', 'xavier').\n",
    "        \"\"\"\n",
    "        self.layers = layers\n",
    "        self.activation = activation\n",
    "        self.output_activation = output_activation  # Separate activation for output layer\n",
    "        self.weight_init = weight_init\n",
    "        self.weights, self.biases = self._initialize_weights()\n",
    "\n",
    "    def _initialize_weights(self):\n",
    "        \"\"\"Initializes weights and biases based on the selected method.\"\"\"\n",
    "        np.random.seed(42)\n",
    "        weights, biases = [], []\n",
    "\n",
    "        for i in range(len(self.layers) - 1):\n",
    "            if self.weight_init == \"xavier\":\n",
    "                limit = np.sqrt(6 / (self.layers[i] + self.layers[i+1]))\n",
    "                w = np.random.uniform(-limit, limit, (self.layers[i], self.layers[i+1]))\n",
    "            else:  # Default: Random small values\n",
    "                w = np.random.randn(self.layers[i], self.layers[i+1]) * 0.01\n",
    "            \n",
    "            b = np.zeros((1, self.layers[i+1]))\n",
    "            weights.append(w)\n",
    "            biases.append(b)\n",
    "        \n",
    "        return weights, biases\n",
    "\n",
    "    def _activation(self, x, func, derivative=False):\n",
    "        \"\"\"Applies the selected activation function.\"\"\"\n",
    "        if func == \"relu\":\n",
    "            return np.where(x > 0, 1, 0) if derivative else np.maximum(0, x)\n",
    "        elif func == \"tanh\":\n",
    "            t = np.tanh(x)\n",
    "            return 1 - t**2 if derivative else t\n",
    "        elif func == \"sigmoid\":\n",
    "            sig = 1 / (1 + np.exp(-x))\n",
    "            return sig * (1 - sig) if derivative else sig\n",
    "        elif func == \"softmax\":\n",
    "            exp_x = np.exp(x - np.max(x, axis=1, keepdims=True))  # Stability trick\n",
    "            return exp_x / np.sum(exp_x, axis=1, keepdims=True)\n",
    "        else:  # Linear (no activation)\n",
    "            return x\n",
    "\n",
    "    def forward(self, X):\n",
    "        \"\"\"Performs forward propagation.\"\"\"\n",
    "        activations, zs = [X], []\n",
    "\n",
    "        for i, (w, b) in enumerate(zip(self.weights, self.biases)):\n",
    "            z = np.dot(activations[-1], w) + b\n",
    "            zs.append(z)\n",
    "\n",
    "            # Use different activation for last layer\n",
    "            if i == len(self.weights) - 1:\n",
    "                activations.append(self._activation(z, self.output_activation))\n",
    "            else:\n",
    "                activations.append(self._activation(z, self.activation))\n",
    "        \n",
    "        return activations, zs\n",
    "\n",
    "    def backward(self, y_true, activations, zs, learning_rate):\n",
    "        \"\"\"Performs backpropagation and computes gradients.\"\"\"\n",
    "        grads_w, grads_b = [], []\n",
    "        m = y_true.shape[0]\n",
    "        \n",
    "        # Compute loss gradient (assuming MSE loss for now)\n",
    "        dA = activations[-1] - y_true  \n",
    "\n",
    "        for i in reversed(range(len(self.weights))):\n",
    "            activation_func = self.output_activation if i == len(self.weights) - 1 else self.activation\n",
    "            dz = dA * self._activation(zs[i], activation_func, derivative=True)\n",
    "            dw = np.dot(activations[i].T, dz) / m\n",
    "            db = np.sum(dz, axis=0, keepdims=True) / m\n",
    "            dA = np.dot(dz, self.weights[i].T)\n",
    "\n",
    "            grads_w.insert(0, dw)\n",
    "            grads_b.insert(0, db)\n",
    "\n",
    "        return grads_w, grads_b\n"
   ]
  },
  {
   "cell_type": "code",
   "execution_count": 6,
   "id": "cbd22c81-6a71-4548-b1fb-99846c68bac0",
   "metadata": {},
   "outputs": [],
   "source": [
    "# Optimizers\n",
    "class Optimizer:\n",
    "    def __init__(self, method= None, lr=None, beta=0.9, beta2=0.999, epsilon=1e-8):\n",
    "        self.method = method\n",
    "        self.lr = lr\n",
    "        self.beta = beta  # Used for momentum-based optimizers\n",
    "        self.beta2 = beta2  # Used for RMSprop, Adam, Nadam\n",
    "        self.epsilon = epsilon  # Prevents division by zero\n",
    "        self.m_w = None  # First moment vector for weights\n",
    "        self.v_w = None  # Second moment vector for weights\n",
    "        self.m_b = None  # First moment vector for biases\n",
    "        self.v_b = None  # Second moment vector for biases\n",
    "        self.t = 0  # Time step for bias correction\n",
    "\n",
    "    def update(self, weights, biases, grads_w, grads_b):\n",
    "        if self.method == \"sgd\":\n",
    "            weights = [w - self.lr * dw for w, dw in zip(weights, grads_w)]\n",
    "            biases = [b - self.lr * db for b, db in zip(biases, grads_b)]\n",
    "\n",
    "        elif self.method in [\"momentum\", \"nesterov\"]:\n",
    "            if self.m_w is None:  # Initialize momentum terms\n",
    "                self.m_w = [np.zeros_like(w) for w in weights]\n",
    "                self.m_b = [np.zeros_like(b) for b in biases]\n",
    "\n",
    "            for i in range(len(weights)):\n",
    "                if self.method == \"nesterov\":\n",
    "                    # Look-ahead step\n",
    "                    look_ahead_w = weights[i] - self.beta * self.m_w[i]\n",
    "                    look_ahead_b = biases[i] - self.beta * self.m_b[i]\n",
    "\n",
    "                    # Compute gradients at look-ahead position\n",
    "                    self.m_w[i] = self.beta * self.m_w[i] + self.lr * grads_w[i]\n",
    "                    self.m_b[i] = self.beta * self.m_b[i] + self.lr * grads_b[i]\n",
    "\n",
    "                    weights[i] = look_ahead_w - self.m_w[i]\n",
    "                    biases[i] = look_ahead_b - self.m_b[i]\n",
    "\n",
    "                else:  # Normal momentum\n",
    "                    self.m_w[i] = self.beta * self.m_w[i] + self.lr * grads_w[i]\n",
    "                    self.m_b[i] = self.beta * self.m_b[i] + self.lr * grads_b[i]\n",
    "                    weights[i] -= self.m_w[i]\n",
    "                    biases[i] -= self.m_b[i]\n",
    "\n",
    "        elif self.method in [\"rmsprop\", \"adam\", \"nadam\"]:\n",
    "            if self.m_w is None:  # Initialize moment estimates\n",
    "                self.m_w = [np.zeros_like(w) for w in weights]\n",
    "                self.v_w = [np.zeros_like(w) for w in weights]\n",
    "                self.m_b = [np.zeros_like(b) for b in biases]\n",
    "                self.v_b = [np.zeros_like(b) for b in biases]\n",
    "\n",
    "            self.t += 1  # Update time step\n",
    "\n",
    "            for i in range(len(weights)):\n",
    "                if self.method == \"rmsprop\":\n",
    "                    # Update second moment estimate (squared gradient)\n",
    "                    self.v_w[i] = self.beta2 * self.v_w[i] + (1 - self.beta2) * grads_w[i] ** 2\n",
    "                    self.v_b[i] = self.beta2 * self.v_b[i] + (1 - self.beta2) * grads_b[i] ** 2\n",
    "\n",
    "                    # Update weights and biases\n",
    "                    weights[i] -= self.lr * grads_w[i] / (np.sqrt(self.v_w[i]) + self.epsilon)\n",
    "                    biases[i] -= self.lr * grads_b[i] / (np.sqrt(self.v_b[i]) + self.epsilon)\n",
    "\n",
    "                elif self.method in [\"adam\", \"nadam\"]:\n",
    "                    # Compute biased first moment estimate\n",
    "                    self.m_w[i] = self.beta * self.m_w[i] + (1 - self.beta) * grads_w[i]\n",
    "                    self.m_b[i] = self.beta * self.m_b[i] + (1 - self.beta) * grads_b[i]\n",
    "\n",
    "                    # Compute biased second moment estimate\n",
    "                    self.v_w[i] = self.beta2 * self.v_w[i] + (1 - self.beta2) * (grads_w[i] ** 2)\n",
    "                    self.v_b[i] = self.beta2 * self.v_b[i] + (1 - self.beta2) * (grads_b[i] ** 2)\n",
    "\n",
    "                    # Bias correction\n",
    "                    m_hat_w = self.m_w[i] / (1 - self.beta ** self.t)\n",
    "                    v_hat_w = self.v_w[i] / (1 - self.beta2 ** self.t)\n",
    "                    m_hat_b = self.m_b[i] / (1 - self.beta ** self.t)\n",
    "                    v_hat_b = self.v_b[i] / (1 - self.beta2 ** self.t)\n",
    "\n",
    "                    if self.method == \"adam\":\n",
    "                        # Adam update rule\n",
    "                        weights[i] -= self.lr * m_hat_w / (np.sqrt(v_hat_w) + self.epsilon)\n",
    "                        biases[i] -= self.lr * m_hat_b / (np.sqrt(v_hat_b) + self.epsilon)\n",
    "\n",
    "                    elif self.method == \"nadam\":\n",
    "                        # Nadam additional momentum correction\n",
    "                        nadam_m_w = self.beta * m_hat_w + (1 - self.beta) * grads_w[i] / (1 - self.beta ** self.t)\n",
    "                        nadam_m_b = self.beta * m_hat_b + (1 - self.beta) * grads_b[i] / (1 - self.beta ** self.t)\n",
    "\n",
    "                        weights[i] -= self.lr * nadam_m_w / (np.sqrt(v_hat_w) + self.epsilon)\n",
    "                        biases[i] -= self.lr * nadam_m_b / (np.sqrt(v_hat_b) + self.epsilon)\n",
    "\n",
    "        return weights, biases"
   ]
  },
  {
   "cell_type": "code",
   "execution_count": 7,
   "id": "f602a5e4-03ce-48cf-84a3-0c9bd3746178",
   "metadata": {},
   "outputs": [],
   "source": [
    "def train():\n",
    "    wandb.init(project=\"Assignment1_Attempt3\")\n",
    "    config = wandb.config  # Get hyperparameters\n",
    "    run_name = f\"hl_{config.hidden_layers}_bs_{config.batch_size}_ac_{config.activation}_e_{config.epochs}\"\n",
    "    print(run_name)\n",
    "    wandb.run.name = run_name\n",
    "\n",
    "    # Extract hyperparameters from WandB\n",
    "    layers = [784] + [config.hidden_size] * config.hidden_layers + [10]\n",
    "    activation = config.activation\n",
    "    weight_init = config.weight_init\n",
    "    learning_rate = config.learning_rate\n",
    "    batch_size = config.batch_size\n",
    "    optimizer = config.optimizer\n",
    "    epochs = config.epochs\n",
    "\n",
    "\n",
    "    # Initialize Neural Network\n",
    "    model = NeuralNetwork(layers, activation=activation, weight_init=weight_init)\n",
    "    optimizer = Optimizer(method=optimizer, lr=learning_rate)\n",
    "\n",
    "    for epoch in range(epochs):\n",
    "        num_batches = len(X_train) // batch_size\n",
    "        train_loss, train_acc = 0, 0\n",
    "\n",
    "        for i in range(num_batches):\n",
    "            start, end = i * batch_size, (i + 1) * batch_size\n",
    "            X_batch, y_batch = X_train[start:end], y_train_one_hot[start:end]\n",
    "\n",
    "            # Forward propagation\n",
    "            activations, zs = model.forward(X_batch)\n",
    "            preds = np.argmax(activations[-1], axis=1)\n",
    "            y_true_labels = np.argmax(y_batch, axis=1)\n",
    "\n",
    "            # Compute loss and accuracy\n",
    "            batch_loss = np.mean((activations[-1] - y_batch) ** 2)\n",
    "            batch_acc = np.mean(preds == y_true_labels)\n",
    "\n",
    "            train_loss += batch_loss\n",
    "            train_acc += batch_acc\n",
    "\n",
    "            # Backpropagation\n",
    "            grads_w, grads_b = model.backward(y_batch, activations, zs, learning_rate)\n",
    "            model.weights, model.biases = optimizer.update(model.weights, model.biases, grads_w, grads_b)\n",
    "\n",
    "        # Average loss and accuracy\n",
    "        train_loss /= num_batches\n",
    "        train_acc /= num_batches\n",
    "\n",
    "        # Validation phase\n",
    "        val_activations, _ = model.forward(X_test)\n",
    "        val_preds = np.argmax(val_activations[-1], axis=1)\n",
    "        val_true_labels = np.argmax(y_test_one_hot, axis=1)\n",
    "\n",
    "        val_loss = np.mean((val_activations[-1] - y_test_one_hot) ** 2)\n",
    "        val_acc = np.mean(val_preds == val_true_labels)\n",
    "\n",
    "        # Log metrics to WandB\n",
    "        wandb.log({\n",
    "            \"epoch\": epoch + 1,\n",
    "            \"train_loss\": train_loss,\n",
    "            \"val_loss\": val_loss,\n",
    "            \"train_accuracy\": train_acc,\n",
    "            \"val_accuracy\": val_acc\n",
    "        })\n",
    "\n",
    "        print(f\"Epoch {epoch+1}: Train Loss={train_loss:.4f}, Train Acc={train_acc:.4f}, Val Loss={val_loss:.4f}, Val Acc={val_acc:.4f}\")\n"
   ]
  },
  {
   "cell_type": "code",
   "execution_count": 8,
   "id": "55fc7937-3e15-4c5f-92fb-0f8857dc430e",
   "metadata": {},
   "outputs": [],
   "source": [
    "sweep_config = {\n",
    "    'method': 'bayes',  # Bayesian optimization for efficiency\n",
    "    'metric': {'name': 'val_loss', 'goal': 'minimize'},  # Optimize for lowest validation loss\n",
    "    'parameters': {\n",
    "        'epochs': {'values': [5, 10, 15]},\n",
    "        'hidden_layers': {'values': [3, 4, 5]},\n",
    "        'hidden_size': {'values': [32, 64, 128]},\n",
    "        'weight_decay': {'values': [0, 0.0005, 0.5]},\n",
    "        'learning_rate': {'values': [1e-3, 1e-4]},\n",
    "        'optimizer': {'values': ['sgd', 'momentum', 'nesterov', 'rmsprop', 'adam', 'nadam']},\n",
    "        'batch_size': {'values': [16, 32, 64]},\n",
    "        'weight_init': {'values': ['random', 'xavier']},\n",
    "        'activation': {'values': ['sigmoid', 'tanh', 'relu']},  # <--- Added missing comma\n",
    "        'epsilon': {'values': [0.8, 0.9, 0.95]}\n",
    "    }\n",
    "}"
   ]
  },
  {
   "cell_type": "code",
   "execution_count": 9,
   "id": "ef62fead-3d5e-48b9-84b0-3e76d61243b0",
   "metadata": {},
   "outputs": [
    {
     "name": "stdout",
     "output_type": "stream",
     "text": [
      "Create sweep with ID: cs09wxtb\n",
      "Sweep URL: https://wandb.ai/vinyk-sd-indian-institute-of-technology-madras/Assignment_Attempt3/sweeps/cs09wxtb\n"
     ]
    },
    {
     "name": "stderr",
     "output_type": "stream",
     "text": [
      "\u001b[34m\u001b[1mwandb\u001b[0m: Agent Starting Run: id4x9yv6 with config:\n",
      "\u001b[34m\u001b[1mwandb\u001b[0m: \tactivation: sigmoid\n",
      "\u001b[34m\u001b[1mwandb\u001b[0m: \tbatch_size: 32\n",
      "\u001b[34m\u001b[1mwandb\u001b[0m: \tepochs: 15\n",
      "\u001b[34m\u001b[1mwandb\u001b[0m: \tepsilon: 0.9\n",
      "\u001b[34m\u001b[1mwandb\u001b[0m: \thidden_layers: 4\n",
      "\u001b[34m\u001b[1mwandb\u001b[0m: \thidden_size: 128\n",
      "\u001b[34m\u001b[1mwandb\u001b[0m: \tlearning_rate: 0.0001\n",
      "\u001b[34m\u001b[1mwandb\u001b[0m: \toptimizer: rmsprop\n",
      "\u001b[34m\u001b[1mwandb\u001b[0m: \tweight_decay: 0.0005\n",
      "\u001b[34m\u001b[1mwandb\u001b[0m: \tweight_init: random\n"
     ]
    },
    {
     "data": {
      "text/html": [
       "Ignoring project 'Assignment1_Attempt3' when running a sweep."
      ],
      "text/plain": [
       "<IPython.core.display.HTML object>"
      ]
     },
     "metadata": {},
     "output_type": "display_data"
    },
    {
     "data": {
      "text/html": [
       "Tracking run with wandb version 0.19.7"
      ],
      "text/plain": [
       "<IPython.core.display.HTML object>"
      ]
     },
     "metadata": {},
     "output_type": "display_data"
    },
    {
     "data": {
      "text/html": [
       "Run data is saved locally in <code>/home/tenet/wandb/run-20250317_075234-id4x9yv6</code>"
      ],
      "text/plain": [
       "<IPython.core.display.HTML object>"
      ]
     },
     "metadata": {},
     "output_type": "display_data"
    },
    {
     "data": {
      "text/html": [
       "Syncing run <strong><a href='https://wandb.ai/vinyk-sd-indian-institute-of-technology-madras/Assignment_Attempt3/runs/id4x9yv6' target=\"_blank\">fiery-sweep-1</a></strong> to <a href='https://wandb.ai/vinyk-sd-indian-institute-of-technology-madras/Assignment_Attempt3' target=\"_blank\">Weights & Biases</a> (<a href='https://wandb.me/developer-guide' target=\"_blank\">docs</a>)<br>Sweep page: <a href='https://wandb.ai/vinyk-sd-indian-institute-of-technology-madras/Assignment_Attempt3/sweeps/cs09wxtb' target=\"_blank\">https://wandb.ai/vinyk-sd-indian-institute-of-technology-madras/Assignment_Attempt3/sweeps/cs09wxtb</a>"
      ],
      "text/plain": [
       "<IPython.core.display.HTML object>"
      ]
     },
     "metadata": {},
     "output_type": "display_data"
    },
    {
     "data": {
      "text/html": [
       " View project at <a href='https://wandb.ai/vinyk-sd-indian-institute-of-technology-madras/Assignment_Attempt3' target=\"_blank\">https://wandb.ai/vinyk-sd-indian-institute-of-technology-madras/Assignment_Attempt3</a>"
      ],
      "text/plain": [
       "<IPython.core.display.HTML object>"
      ]
     },
     "metadata": {},
     "output_type": "display_data"
    },
    {
     "data": {
      "text/html": [
       " View sweep at <a href='https://wandb.ai/vinyk-sd-indian-institute-of-technology-madras/Assignment_Attempt3/sweeps/cs09wxtb' target=\"_blank\">https://wandb.ai/vinyk-sd-indian-institute-of-technology-madras/Assignment_Attempt3/sweeps/cs09wxtb</a>"
      ],
      "text/plain": [
       "<IPython.core.display.HTML object>"
      ]
     },
     "metadata": {},
     "output_type": "display_data"
    },
    {
     "data": {
      "text/html": [
       " View run at <a href='https://wandb.ai/vinyk-sd-indian-institute-of-technology-madras/Assignment_Attempt3/runs/id4x9yv6' target=\"_blank\">https://wandb.ai/vinyk-sd-indian-institute-of-technology-madras/Assignment_Attempt3/runs/id4x9yv6</a>"
      ],
      "text/plain": [
       "<IPython.core.display.HTML object>"
      ]
     },
     "metadata": {},
     "output_type": "display_data"
    },
    {
     "name": "stdout",
     "output_type": "stream",
     "text": [
      "hl_4_bs_32_ac_sigmoid_e_15\n",
      "Epoch 1: Train Loss=0.0872, Train Acc=0.1508, Val Loss=0.0833, Val Acc=0.2102\n",
      "Epoch 2: Train Loss=0.0832, Train Acc=0.2084, Val Loss=0.0835, Val Acc=0.2105\n",
      "Epoch 3: Train Loss=0.0832, Train Acc=0.2072, Val Loss=0.0820, Val Acc=0.2166\n",
      "Epoch 4: Train Loss=0.0818, Train Acc=0.2095, Val Loss=0.0815, Val Acc=0.2235\n",
      "Epoch 5: Train Loss=0.0812, Train Acc=0.2267, Val Loss=0.0804, Val Acc=0.2571\n",
      "Epoch 6: Train Loss=0.0765, Train Acc=0.2828, Val Loss=0.0738, Val Acc=0.3001\n",
      "Epoch 7: Train Loss=0.0730, Train Acc=0.3075, Val Loss=0.0718, Val Acc=0.3319\n",
      "Epoch 8: Train Loss=0.0707, Train Acc=0.3562, Val Loss=0.0694, Val Acc=0.3766\n",
      "Epoch 9: Train Loss=0.0685, Train Acc=0.3725, Val Loss=0.0677, Val Acc=0.3790\n",
      "Epoch 10: Train Loss=0.0672, Train Acc=0.3734, Val Loss=0.0668, Val Acc=0.3752\n",
      "Epoch 11: Train Loss=0.0665, Train Acc=0.3715, Val Loss=0.0663, Val Acc=0.3737\n",
      "Epoch 12: Train Loss=0.0661, Train Acc=0.3705, Val Loss=0.0661, Val Acc=0.3702\n",
      "Epoch 13: Train Loss=0.0655, Train Acc=0.3719, Val Loss=0.0651, Val Acc=0.3760\n",
      "Epoch 14: Train Loss=0.0645, Train Acc=0.3796, Val Loss=0.0641, Val Acc=0.3848\n",
      "Epoch 15: Train Loss=0.0638, Train Acc=0.3837, Val Loss=0.0635, Val Acc=0.3894\n"
     ]
    },
    {
     "data": {
      "text/html": [],
      "text/plain": [
       "<IPython.core.display.HTML object>"
      ]
     },
     "metadata": {},
     "output_type": "display_data"
    },
    {
     "data": {
      "text/html": [
       "<br>    <style><br>        .wandb-row {<br>            display: flex;<br>            flex-direction: row;<br>            flex-wrap: wrap;<br>            justify-content: flex-start;<br>            width: 100%;<br>        }<br>        .wandb-col {<br>            display: flex;<br>            flex-direction: column;<br>            flex-basis: 100%;<br>            flex: 1;<br>            padding: 10px;<br>        }<br>    </style><br><div class=\"wandb-row\"><div class=\"wandb-col\"><h3>Run history:</h3><br/><table class=\"wandb\"><tr><td>epoch</td><td>▁▁▂▃▃▃▄▅▅▅▆▇▇▇█</td></tr><tr><td>train_accuracy</td><td>▁▃▃▃▃▅▆▇███████</td></tr><tr><td>train_loss</td><td>█▇▇▆▆▅▄▃▂▂▂▂▂▁▁</td></tr><tr><td>val_accuracy</td><td>▁▁▁▂▃▅▆▇█▇▇▇▇██</td></tr><tr><td>val_loss</td><td>██▇▇▇▅▄▃▂▂▂▂▂▁▁</td></tr></table><br/></div><div class=\"wandb-col\"><h3>Run summary:</h3><br/><table class=\"wandb\"><tr><td>epoch</td><td>15</td></tr><tr><td>train_accuracy</td><td>0.38375</td></tr><tr><td>train_loss</td><td>0.06384</td></tr><tr><td>val_accuracy</td><td>0.3894</td></tr><tr><td>val_loss</td><td>0.06353</td></tr></table><br/></div></div>"
      ],
      "text/plain": [
       "<IPython.core.display.HTML object>"
      ]
     },
     "metadata": {},
     "output_type": "display_data"
    },
    {
     "data": {
      "text/html": [
       " View run <strong style=\"color:#cdcd00\">hl_4_bs_32_ac_sigmoid_e_15</strong> at: <a href='https://wandb.ai/vinyk-sd-indian-institute-of-technology-madras/Assignment_Attempt3/runs/id4x9yv6' target=\"_blank\">https://wandb.ai/vinyk-sd-indian-institute-of-technology-madras/Assignment_Attempt3/runs/id4x9yv6</a><br> View project at: <a href='https://wandb.ai/vinyk-sd-indian-institute-of-technology-madras/Assignment_Attempt3' target=\"_blank\">https://wandb.ai/vinyk-sd-indian-institute-of-technology-madras/Assignment_Attempt3</a><br>Synced 5 W&B file(s), 0 media file(s), 0 artifact file(s) and 0 other file(s)"
      ],
      "text/plain": [
       "<IPython.core.display.HTML object>"
      ]
     },
     "metadata": {},
     "output_type": "display_data"
    },
    {
     "data": {
      "text/html": [
       "Find logs at: <code>./wandb/run-20250317_075234-id4x9yv6/logs</code>"
      ],
      "text/plain": [
       "<IPython.core.display.HTML object>"
      ]
     },
     "metadata": {},
     "output_type": "display_data"
    },
    {
     "name": "stderr",
     "output_type": "stream",
     "text": [
      "\u001b[34m\u001b[1mwandb\u001b[0m: Agent Starting Run: taix6a4y with config:\n",
      "\u001b[34m\u001b[1mwandb\u001b[0m: \tactivation: relu\n",
      "\u001b[34m\u001b[1mwandb\u001b[0m: \tbatch_size: 16\n",
      "\u001b[34m\u001b[1mwandb\u001b[0m: \tepochs: 10\n",
      "\u001b[34m\u001b[1mwandb\u001b[0m: \tepsilon: 0.8\n",
      "\u001b[34m\u001b[1mwandb\u001b[0m: \thidden_layers: 5\n",
      "\u001b[34m\u001b[1mwandb\u001b[0m: \thidden_size: 64\n",
      "\u001b[34m\u001b[1mwandb\u001b[0m: \tlearning_rate: 0.001\n",
      "\u001b[34m\u001b[1mwandb\u001b[0m: \toptimizer: momentum\n",
      "\u001b[34m\u001b[1mwandb\u001b[0m: \tweight_decay: 0\n",
      "\u001b[34m\u001b[1mwandb\u001b[0m: \tweight_init: xavier\n"
     ]
    },
    {
     "data": {
      "text/html": [
       "Ignoring project 'Assignment1_Attempt3' when running a sweep."
      ],
      "text/plain": [
       "<IPython.core.display.HTML object>"
      ]
     },
     "metadata": {},
     "output_type": "display_data"
    },
    {
     "data": {
      "text/html": [
       "Tracking run with wandb version 0.19.7"
      ],
      "text/plain": [
       "<IPython.core.display.HTML object>"
      ]
     },
     "metadata": {},
     "output_type": "display_data"
    },
    {
     "data": {
      "text/html": [
       "Run data is saved locally in <code>/home/tenet/wandb/run-20250317_075400-taix6a4y</code>"
      ],
      "text/plain": [
       "<IPython.core.display.HTML object>"
      ]
     },
     "metadata": {},
     "output_type": "display_data"
    },
    {
     "data": {
      "text/html": [
       "Syncing run <strong><a href='https://wandb.ai/vinyk-sd-indian-institute-of-technology-madras/Assignment_Attempt3/runs/taix6a4y' target=\"_blank\">drawn-sweep-2</a></strong> to <a href='https://wandb.ai/vinyk-sd-indian-institute-of-technology-madras/Assignment_Attempt3' target=\"_blank\">Weights & Biases</a> (<a href='https://wandb.me/developer-guide' target=\"_blank\">docs</a>)<br>Sweep page: <a href='https://wandb.ai/vinyk-sd-indian-institute-of-technology-madras/Assignment_Attempt3/sweeps/cs09wxtb' target=\"_blank\">https://wandb.ai/vinyk-sd-indian-institute-of-technology-madras/Assignment_Attempt3/sweeps/cs09wxtb</a>"
      ],
      "text/plain": [
       "<IPython.core.display.HTML object>"
      ]
     },
     "metadata": {},
     "output_type": "display_data"
    },
    {
     "data": {
      "text/html": [
       " View project at <a href='https://wandb.ai/vinyk-sd-indian-institute-of-technology-madras/Assignment_Attempt3' target=\"_blank\">https://wandb.ai/vinyk-sd-indian-institute-of-technology-madras/Assignment_Attempt3</a>"
      ],
      "text/plain": [
       "<IPython.core.display.HTML object>"
      ]
     },
     "metadata": {},
     "output_type": "display_data"
    },
    {
     "data": {
      "text/html": [
       " View sweep at <a href='https://wandb.ai/vinyk-sd-indian-institute-of-technology-madras/Assignment_Attempt3/sweeps/cs09wxtb' target=\"_blank\">https://wandb.ai/vinyk-sd-indian-institute-of-technology-madras/Assignment_Attempt3/sweeps/cs09wxtb</a>"
      ],
      "text/plain": [
       "<IPython.core.display.HTML object>"
      ]
     },
     "metadata": {},
     "output_type": "display_data"
    },
    {
     "data": {
      "text/html": [
       " View run at <a href='https://wandb.ai/vinyk-sd-indian-institute-of-technology-madras/Assignment_Attempt3/runs/taix6a4y' target=\"_blank\">https://wandb.ai/vinyk-sd-indian-institute-of-technology-madras/Assignment_Attempt3/runs/taix6a4y</a>"
      ],
      "text/plain": [
       "<IPython.core.display.HTML object>"
      ]
     },
     "metadata": {},
     "output_type": "display_data"
    },
    {
     "name": "stdout",
     "output_type": "stream",
     "text": [
      "hl_5_bs_16_ac_relu_e_10\n",
      "Epoch 1: Train Loss=0.0814, Train Acc=0.2194, Val Loss=0.0653, Val Acc=0.4816\n",
      "Epoch 2: Train Loss=0.0336, Train Acc=0.7598, Val Loss=0.0221, Val Acc=0.8466\n",
      "Epoch 3: Train Loss=0.0169, Train Acc=0.8861, Val Loss=0.0217, Val Acc=0.8486\n",
      "Epoch 4: Train Loss=nan, Train Acc=0.5283, Val Loss=nan, Val Acc=0.0980\n",
      "Epoch 5: Train Loss=nan, Train Acc=0.0987, Val Loss=nan, Val Acc=0.0980\n",
      "Epoch 6: Train Loss=nan, Train Acc=0.0987, Val Loss=nan, Val Acc=0.0980\n",
      "Epoch 7: Train Loss=nan, Train Acc=0.0987, Val Loss=nan, Val Acc=0.0980\n",
      "Epoch 8: Train Loss=nan, Train Acc=0.0987, Val Loss=nan, Val Acc=0.0980\n",
      "Epoch 9: Train Loss=nan, Train Acc=0.0987, Val Loss=nan, Val Acc=0.0980\n",
      "Epoch 10: Train Loss=nan, Train Acc=0.0987, Val Loss=nan, Val Acc=0.0980\n"
     ]
    },
    {
     "data": {
      "text/html": [],
      "text/plain": [
       "<IPython.core.display.HTML object>"
      ]
     },
     "metadata": {},
     "output_type": "display_data"
    },
    {
     "data": {
      "text/html": [
       "<br>    <style><br>        .wandb-row {<br>            display: flex;<br>            flex-direction: row;<br>            flex-wrap: wrap;<br>            justify-content: flex-start;<br>            width: 100%;<br>        }<br>        .wandb-col {<br>            display: flex;<br>            flex-direction: column;<br>            flex-basis: 100%;<br>            flex: 1;<br>            padding: 10px;<br>        }<br>    </style><br><div class=\"wandb-row\"><div class=\"wandb-col\"><h3>Run history:</h3><br/><table class=\"wandb\"><tr><td>epoch</td><td>▁▂▃▃▄▅▆▆▇█</td></tr><tr><td>train_accuracy</td><td>▂▇█▅▁▁▁▁▁▁</td></tr><tr><td>train_loss</td><td>█▃▁       </td></tr><tr><td>val_accuracy</td><td>▅██▁▁▁▁▁▁▁</td></tr><tr><td>val_loss</td><td>█▁▁       </td></tr></table><br/></div><div class=\"wandb-col\"><h3>Run summary:</h3><br/><table class=\"wandb\"><tr><td>epoch</td><td>10</td></tr><tr><td>train_accuracy</td><td>0.09872</td></tr><tr><td>train_loss</td><td>nan</td></tr><tr><td>val_accuracy</td><td>0.098</td></tr><tr><td>val_loss</td><td>nan</td></tr></table><br/></div></div>"
      ],
      "text/plain": [
       "<IPython.core.display.HTML object>"
      ]
     },
     "metadata": {},
     "output_type": "display_data"
    },
    {
     "data": {
      "text/html": [
       " View run <strong style=\"color:#cdcd00\">hl_5_bs_16_ac_relu_e_10</strong> at: <a href='https://wandb.ai/vinyk-sd-indian-institute-of-technology-madras/Assignment_Attempt3/runs/taix6a4y' target=\"_blank\">https://wandb.ai/vinyk-sd-indian-institute-of-technology-madras/Assignment_Attempt3/runs/taix6a4y</a><br> View project at: <a href='https://wandb.ai/vinyk-sd-indian-institute-of-technology-madras/Assignment_Attempt3' target=\"_blank\">https://wandb.ai/vinyk-sd-indian-institute-of-technology-madras/Assignment_Attempt3</a><br>Synced 5 W&B file(s), 0 media file(s), 0 artifact file(s) and 0 other file(s)"
      ],
      "text/plain": [
       "<IPython.core.display.HTML object>"
      ]
     },
     "metadata": {},
     "output_type": "display_data"
    },
    {
     "data": {
      "text/html": [
       "Find logs at: <code>./wandb/run-20250317_075400-taix6a4y/logs</code>"
      ],
      "text/plain": [
       "<IPython.core.display.HTML object>"
      ]
     },
     "metadata": {},
     "output_type": "display_data"
    },
    {
     "name": "stderr",
     "output_type": "stream",
     "text": [
      "\u001b[34m\u001b[1mwandb\u001b[0m: Sweep Agent: Waiting for job.\n",
      "\u001b[34m\u001b[1mwandb\u001b[0m: Job received.\n",
      "\u001b[34m\u001b[1mwandb\u001b[0m: Agent Starting Run: of9et4nr with config:\n",
      "\u001b[34m\u001b[1mwandb\u001b[0m: \tactivation: tanh\n",
      "\u001b[34m\u001b[1mwandb\u001b[0m: \tbatch_size: 32\n",
      "\u001b[34m\u001b[1mwandb\u001b[0m: \tepochs: 5\n",
      "\u001b[34m\u001b[1mwandb\u001b[0m: \tepsilon: 0.95\n",
      "\u001b[34m\u001b[1mwandb\u001b[0m: \thidden_layers: 3\n",
      "\u001b[34m\u001b[1mwandb\u001b[0m: \thidden_size: 128\n",
      "\u001b[34m\u001b[1mwandb\u001b[0m: \tlearning_rate: 0.001\n",
      "\u001b[34m\u001b[1mwandb\u001b[0m: \toptimizer: rmsprop\n",
      "\u001b[34m\u001b[1mwandb\u001b[0m: \tweight_decay: 0\n",
      "\u001b[34m\u001b[1mwandb\u001b[0m: \tweight_init: xavier\n"
     ]
    },
    {
     "data": {
      "text/html": [
       "Ignoring project 'Assignment1_Attempt3' when running a sweep."
      ],
      "text/plain": [
       "<IPython.core.display.HTML object>"
      ]
     },
     "metadata": {},
     "output_type": "display_data"
    },
    {
     "data": {
      "text/html": [
       "creating run (0.9s)"
      ],
      "text/plain": [
       "<IPython.core.display.HTML object>"
      ]
     },
     "metadata": {},
     "output_type": "display_data"
    },
    {
     "data": {
      "text/html": [
       "Tracking run with wandb version 0.19.7"
      ],
      "text/plain": [
       "<IPython.core.display.HTML object>"
      ]
     },
     "metadata": {},
     "output_type": "display_data"
    },
    {
     "data": {
      "text/html": [
       "Run data is saved locally in <code>/home/tenet/wandb/run-20250317_075449-of9et4nr</code>"
      ],
      "text/plain": [
       "<IPython.core.display.HTML object>"
      ]
     },
     "metadata": {},
     "output_type": "display_data"
    },
    {
     "data": {
      "text/html": [
       "Syncing run <strong><a href='https://wandb.ai/vinyk-sd-indian-institute-of-technology-madras/Assignment_Attempt3/runs/of9et4nr' target=\"_blank\">crimson-sweep-3</a></strong> to <a href='https://wandb.ai/vinyk-sd-indian-institute-of-technology-madras/Assignment_Attempt3' target=\"_blank\">Weights & Biases</a> (<a href='https://wandb.me/developer-guide' target=\"_blank\">docs</a>)<br>Sweep page: <a href='https://wandb.ai/vinyk-sd-indian-institute-of-technology-madras/Assignment_Attempt3/sweeps/cs09wxtb' target=\"_blank\">https://wandb.ai/vinyk-sd-indian-institute-of-technology-madras/Assignment_Attempt3/sweeps/cs09wxtb</a>"
      ],
      "text/plain": [
       "<IPython.core.display.HTML object>"
      ]
     },
     "metadata": {},
     "output_type": "display_data"
    },
    {
     "data": {
      "text/html": [
       " View project at <a href='https://wandb.ai/vinyk-sd-indian-institute-of-technology-madras/Assignment_Attempt3' target=\"_blank\">https://wandb.ai/vinyk-sd-indian-institute-of-technology-madras/Assignment_Attempt3</a>"
      ],
      "text/plain": [
       "<IPython.core.display.HTML object>"
      ]
     },
     "metadata": {},
     "output_type": "display_data"
    },
    {
     "data": {
      "text/html": [
       " View sweep at <a href='https://wandb.ai/vinyk-sd-indian-institute-of-technology-madras/Assignment_Attempt3/sweeps/cs09wxtb' target=\"_blank\">https://wandb.ai/vinyk-sd-indian-institute-of-technology-madras/Assignment_Attempt3/sweeps/cs09wxtb</a>"
      ],
      "text/plain": [
       "<IPython.core.display.HTML object>"
      ]
     },
     "metadata": {},
     "output_type": "display_data"
    },
    {
     "data": {
      "text/html": [
       " View run at <a href='https://wandb.ai/vinyk-sd-indian-institute-of-technology-madras/Assignment_Attempt3/runs/of9et4nr' target=\"_blank\">https://wandb.ai/vinyk-sd-indian-institute-of-technology-madras/Assignment_Attempt3/runs/of9et4nr</a>"
      ],
      "text/plain": [
       "<IPython.core.display.HTML object>"
      ]
     },
     "metadata": {},
     "output_type": "display_data"
    },
    {
     "name": "stdout",
     "output_type": "stream",
     "text": [
      "hl_3_bs_32_ac_tanh_e_5\n",
      "Epoch 1: Train Loss=0.0195, Train Acc=0.8504, Val Loss=0.0088, Val Acc=0.9417\n",
      "Epoch 2: Train Loss=0.0065, Train Acc=0.9566, Val Loss=0.0060, Val Acc=0.9611\n",
      "Epoch 3: Train Loss=0.0050, Train Acc=0.9667, Val Loss=0.0054, Val Acc=0.9648\n",
      "Epoch 4: Train Loss=0.0041, Train Acc=0.9725, Val Loss=0.0055, Val Acc=0.9645\n",
      "Epoch 5: Train Loss=0.0035, Train Acc=0.9770, Val Loss=0.0058, Val Acc=0.9622\n"
     ]
    },
    {
     "data": {
      "text/html": [],
      "text/plain": [
       "<IPython.core.display.HTML object>"
      ]
     },
     "metadata": {},
     "output_type": "display_data"
    },
    {
     "data": {
      "text/html": [
       "<br>    <style><br>        .wandb-row {<br>            display: flex;<br>            flex-direction: row;<br>            flex-wrap: wrap;<br>            justify-content: flex-start;<br>            width: 100%;<br>        }<br>        .wandb-col {<br>            display: flex;<br>            flex-direction: column;<br>            flex-basis: 100%;<br>            flex: 1;<br>            padding: 10px;<br>        }<br>    </style><br><div class=\"wandb-row\"><div class=\"wandb-col\"><h3>Run history:</h3><br/><table class=\"wandb\"><tr><td>epoch</td><td>▁▃▅▆█</td></tr><tr><td>train_accuracy</td><td>▁▇▇██</td></tr><tr><td>train_loss</td><td>█▂▂▁▁</td></tr><tr><td>val_accuracy</td><td>▁▇██▇</td></tr><tr><td>val_loss</td><td>█▂▁▁▂</td></tr></table><br/></div><div class=\"wandb-col\"><h3>Run summary:</h3><br/><table class=\"wandb\"><tr><td>epoch</td><td>5</td></tr><tr><td>train_accuracy</td><td>0.97698</td></tr><tr><td>train_loss</td><td>0.00346</td></tr><tr><td>val_accuracy</td><td>0.9622</td></tr><tr><td>val_loss</td><td>0.00581</td></tr></table><br/></div></div>"
      ],
      "text/plain": [
       "<IPython.core.display.HTML object>"
      ]
     },
     "metadata": {},
     "output_type": "display_data"
    },
    {
     "data": {
      "text/html": [
       " View run <strong style=\"color:#cdcd00\">hl_3_bs_32_ac_tanh_e_5</strong> at: <a href='https://wandb.ai/vinyk-sd-indian-institute-of-technology-madras/Assignment_Attempt3/runs/of9et4nr' target=\"_blank\">https://wandb.ai/vinyk-sd-indian-institute-of-technology-madras/Assignment_Attempt3/runs/of9et4nr</a><br> View project at: <a href='https://wandb.ai/vinyk-sd-indian-institute-of-technology-madras/Assignment_Attempt3' target=\"_blank\">https://wandb.ai/vinyk-sd-indian-institute-of-technology-madras/Assignment_Attempt3</a><br>Synced 5 W&B file(s), 0 media file(s), 0 artifact file(s) and 0 other file(s)"
      ],
      "text/plain": [
       "<IPython.core.display.HTML object>"
      ]
     },
     "metadata": {},
     "output_type": "display_data"
    },
    {
     "data": {
      "text/html": [
       "Find logs at: <code>./wandb/run-20250317_075449-of9et4nr/logs</code>"
      ],
      "text/plain": [
       "<IPython.core.display.HTML object>"
      ]
     },
     "metadata": {},
     "output_type": "display_data"
    },
    {
     "name": "stderr",
     "output_type": "stream",
     "text": [
      "\u001b[34m\u001b[1mwandb\u001b[0m: Agent Starting Run: xso09yca with config:\n",
      "\u001b[34m\u001b[1mwandb\u001b[0m: \tactivation: tanh\n",
      "\u001b[34m\u001b[1mwandb\u001b[0m: \tbatch_size: 64\n",
      "\u001b[34m\u001b[1mwandb\u001b[0m: \tepochs: 10\n",
      "\u001b[34m\u001b[1mwandb\u001b[0m: \tepsilon: 0.8\n",
      "\u001b[34m\u001b[1mwandb\u001b[0m: \thidden_layers: 5\n",
      "\u001b[34m\u001b[1mwandb\u001b[0m: \thidden_size: 64\n",
      "\u001b[34m\u001b[1mwandb\u001b[0m: \tlearning_rate: 0.001\n",
      "\u001b[34m\u001b[1mwandb\u001b[0m: \toptimizer: sgd\n",
      "\u001b[34m\u001b[1mwandb\u001b[0m: \tweight_decay: 0.0005\n",
      "\u001b[34m\u001b[1mwandb\u001b[0m: \tweight_init: xavier\n"
     ]
    },
    {
     "data": {
      "text/html": [
       "Ignoring project 'Assignment1_Attempt3' when running a sweep."
      ],
      "text/plain": [
       "<IPython.core.display.HTML object>"
      ]
     },
     "metadata": {},
     "output_type": "display_data"
    },
    {
     "data": {
      "text/html": [
       "creating run (1.9s)"
      ],
      "text/plain": [
       "<IPython.core.display.HTML object>"
      ]
     },
     "metadata": {},
     "output_type": "display_data"
    },
    {
     "data": {
      "text/html": [
       "Tracking run with wandb version 0.19.7"
      ],
      "text/plain": [
       "<IPython.core.display.HTML object>"
      ]
     },
     "metadata": {},
     "output_type": "display_data"
    },
    {
     "data": {
      "text/html": [
       "Run data is saved locally in <code>/home/tenet/wandb/run-20250317_075517-xso09yca</code>"
      ],
      "text/plain": [
       "<IPython.core.display.HTML object>"
      ]
     },
     "metadata": {},
     "output_type": "display_data"
    },
    {
     "data": {
      "text/html": [
       "Syncing run <strong><a href='https://wandb.ai/vinyk-sd-indian-institute-of-technology-madras/Assignment_Attempt3/runs/xso09yca' target=\"_blank\">crisp-sweep-4</a></strong> to <a href='https://wandb.ai/vinyk-sd-indian-institute-of-technology-madras/Assignment_Attempt3' target=\"_blank\">Weights & Biases</a> (<a href='https://wandb.me/developer-guide' target=\"_blank\">docs</a>)<br>Sweep page: <a href='https://wandb.ai/vinyk-sd-indian-institute-of-technology-madras/Assignment_Attempt3/sweeps/cs09wxtb' target=\"_blank\">https://wandb.ai/vinyk-sd-indian-institute-of-technology-madras/Assignment_Attempt3/sweeps/cs09wxtb</a>"
      ],
      "text/plain": [
       "<IPython.core.display.HTML object>"
      ]
     },
     "metadata": {},
     "output_type": "display_data"
    },
    {
     "data": {
      "text/html": [
       " View project at <a href='https://wandb.ai/vinyk-sd-indian-institute-of-technology-madras/Assignment_Attempt3' target=\"_blank\">https://wandb.ai/vinyk-sd-indian-institute-of-technology-madras/Assignment_Attempt3</a>"
      ],
      "text/plain": [
       "<IPython.core.display.HTML object>"
      ]
     },
     "metadata": {},
     "output_type": "display_data"
    },
    {
     "data": {
      "text/html": [
       " View sweep at <a href='https://wandb.ai/vinyk-sd-indian-institute-of-technology-madras/Assignment_Attempt3/sweeps/cs09wxtb' target=\"_blank\">https://wandb.ai/vinyk-sd-indian-institute-of-technology-madras/Assignment_Attempt3/sweeps/cs09wxtb</a>"
      ],
      "text/plain": [
       "<IPython.core.display.HTML object>"
      ]
     },
     "metadata": {},
     "output_type": "display_data"
    },
    {
     "data": {
      "text/html": [
       " View run at <a href='https://wandb.ai/vinyk-sd-indian-institute-of-technology-madras/Assignment_Attempt3/runs/xso09yca' target=\"_blank\">https://wandb.ai/vinyk-sd-indian-institute-of-technology-madras/Assignment_Attempt3/runs/xso09yca</a>"
      ],
      "text/plain": [
       "<IPython.core.display.HTML object>"
      ]
     },
     "metadata": {},
     "output_type": "display_data"
    },
    {
     "name": "stdout",
     "output_type": "stream",
     "text": [
      "hl_5_bs_64_ac_tanh_e_10\n",
      "Epoch 1: Train Loss=0.0900, Train Acc=0.1088, Val Loss=0.0886, Val Acc=0.1687\n",
      "Epoch 2: Train Loss=0.0875, Train Acc=0.2330, Val Loss=0.0860, Val Acc=0.3043\n",
      "Epoch 3: Train Loss=0.0848, Train Acc=0.3485, Val Loss=0.0830, Val Acc=0.3889\n",
      "Epoch 4: Train Loss=0.0815, Train Acc=0.4076, Val Loss=0.0793, Val Acc=0.4266\n",
      "Epoch 5: Train Loss=0.0775, Train Acc=0.4345, Val Loss=0.0750, Val Acc=0.4412\n",
      "Epoch 6: Train Loss=0.0729, Train Acc=0.4500, Val Loss=0.0703, Val Acc=0.4568\n",
      "Epoch 7: Train Loss=0.0684, Train Acc=0.4656, Val Loss=0.0660, Val Acc=0.4745\n",
      "Epoch 8: Train Loss=0.0643, Train Acc=0.4865, Val Loss=0.0623, Val Acc=0.4972\n",
      "Epoch 9: Train Loss=0.0609, Train Acc=0.5155, Val Loss=0.0590, Val Acc=0.5308\n",
      "Epoch 10: Train Loss=0.0578, Train Acc=0.5479, Val Loss=0.0560, Val Acc=0.5650\n"
     ]
    },
    {
     "data": {
      "text/html": [],
      "text/plain": [
       "<IPython.core.display.HTML object>"
      ]
     },
     "metadata": {},
     "output_type": "display_data"
    },
    {
     "data": {
      "text/html": [
       "<br>    <style><br>        .wandb-row {<br>            display: flex;<br>            flex-direction: row;<br>            flex-wrap: wrap;<br>            justify-content: flex-start;<br>            width: 100%;<br>        }<br>        .wandb-col {<br>            display: flex;<br>            flex-direction: column;<br>            flex-basis: 100%;<br>            flex: 1;<br>            padding: 10px;<br>        }<br>    </style><br><div class=\"wandb-row\"><div class=\"wandb-col\"><h3>Run history:</h3><br/><table class=\"wandb\"><tr><td>epoch</td><td>▁▂▃▃▄▅▆▆▇█</td></tr><tr><td>train_accuracy</td><td>▁▃▅▆▆▆▇▇▇█</td></tr><tr><td>train_loss</td><td>█▇▇▆▅▄▃▂▂▁</td></tr><tr><td>val_accuracy</td><td>▁▃▅▆▆▆▆▇▇█</td></tr><tr><td>val_loss</td><td>█▇▇▆▅▄▃▂▂▁</td></tr></table><br/></div><div class=\"wandb-col\"><h3>Run summary:</h3><br/><table class=\"wandb\"><tr><td>epoch</td><td>10</td></tr><tr><td>train_accuracy</td><td>0.54789</td></tr><tr><td>train_loss</td><td>0.05781</td></tr><tr><td>val_accuracy</td><td>0.565</td></tr><tr><td>val_loss</td><td>0.05597</td></tr></table><br/></div></div>"
      ],
      "text/plain": [
       "<IPython.core.display.HTML object>"
      ]
     },
     "metadata": {},
     "output_type": "display_data"
    },
    {
     "data": {
      "text/html": [
       " View run <strong style=\"color:#cdcd00\">hl_5_bs_64_ac_tanh_e_10</strong> at: <a href='https://wandb.ai/vinyk-sd-indian-institute-of-technology-madras/Assignment_Attempt3/runs/xso09yca' target=\"_blank\">https://wandb.ai/vinyk-sd-indian-institute-of-technology-madras/Assignment_Attempt3/runs/xso09yca</a><br> View project at: <a href='https://wandb.ai/vinyk-sd-indian-institute-of-technology-madras/Assignment_Attempt3' target=\"_blank\">https://wandb.ai/vinyk-sd-indian-institute-of-technology-madras/Assignment_Attempt3</a><br>Synced 5 W&B file(s), 0 media file(s), 0 artifact file(s) and 0 other file(s)"
      ],
      "text/plain": [
       "<IPython.core.display.HTML object>"
      ]
     },
     "metadata": {},
     "output_type": "display_data"
    },
    {
     "data": {
      "text/html": [
       "Find logs at: <code>./wandb/run-20250317_075517-xso09yca/logs</code>"
      ],
      "text/plain": [
       "<IPython.core.display.HTML object>"
      ]
     },
     "metadata": {},
     "output_type": "display_data"
    },
    {
     "name": "stderr",
     "output_type": "stream",
     "text": [
      "\u001b[34m\u001b[1mwandb\u001b[0m: Agent Starting Run: imwhddz1 with config:\n",
      "\u001b[34m\u001b[1mwandb\u001b[0m: \tactivation: relu\n",
      "\u001b[34m\u001b[1mwandb\u001b[0m: \tbatch_size: 64\n",
      "\u001b[34m\u001b[1mwandb\u001b[0m: \tepochs: 10\n",
      "\u001b[34m\u001b[1mwandb\u001b[0m: \tepsilon: 0.95\n",
      "\u001b[34m\u001b[1mwandb\u001b[0m: \thidden_layers: 3\n",
      "\u001b[34m\u001b[1mwandb\u001b[0m: \thidden_size: 128\n",
      "\u001b[34m\u001b[1mwandb\u001b[0m: \tlearning_rate: 0.0001\n",
      "\u001b[34m\u001b[1mwandb\u001b[0m: \toptimizer: nesterov\n",
      "\u001b[34m\u001b[1mwandb\u001b[0m: \tweight_decay: 0.0005\n",
      "\u001b[34m\u001b[1mwandb\u001b[0m: \tweight_init: xavier\n"
     ]
    },
    {
     "data": {
      "text/html": [
       "Ignoring project 'Assignment1_Attempt3' when running a sweep."
      ],
      "text/plain": [
       "<IPython.core.display.HTML object>"
      ]
     },
     "metadata": {},
     "output_type": "display_data"
    },
    {
     "data": {
      "text/html": [
       "Tracking run with wandb version 0.19.7"
      ],
      "text/plain": [
       "<IPython.core.display.HTML object>"
      ]
     },
     "metadata": {},
     "output_type": "display_data"
    },
    {
     "data": {
      "text/html": [
       "Run data is saved locally in <code>/home/tenet/wandb/run-20250317_075540-imwhddz1</code>"
      ],
      "text/plain": [
       "<IPython.core.display.HTML object>"
      ]
     },
     "metadata": {},
     "output_type": "display_data"
    },
    {
     "data": {
      "text/html": [
       "Syncing run <strong><a href='https://wandb.ai/vinyk-sd-indian-institute-of-technology-madras/Assignment_Attempt3/runs/imwhddz1' target=\"_blank\">golden-sweep-5</a></strong> to <a href='https://wandb.ai/vinyk-sd-indian-institute-of-technology-madras/Assignment_Attempt3' target=\"_blank\">Weights & Biases</a> (<a href='https://wandb.me/developer-guide' target=\"_blank\">docs</a>)<br>Sweep page: <a href='https://wandb.ai/vinyk-sd-indian-institute-of-technology-madras/Assignment_Attempt3/sweeps/cs09wxtb' target=\"_blank\">https://wandb.ai/vinyk-sd-indian-institute-of-technology-madras/Assignment_Attempt3/sweeps/cs09wxtb</a>"
      ],
      "text/plain": [
       "<IPython.core.display.HTML object>"
      ]
     },
     "metadata": {},
     "output_type": "display_data"
    },
    {
     "data": {
      "text/html": [
       " View project at <a href='https://wandb.ai/vinyk-sd-indian-institute-of-technology-madras/Assignment_Attempt3' target=\"_blank\">https://wandb.ai/vinyk-sd-indian-institute-of-technology-madras/Assignment_Attempt3</a>"
      ],
      "text/plain": [
       "<IPython.core.display.HTML object>"
      ]
     },
     "metadata": {},
     "output_type": "display_data"
    },
    {
     "data": {
      "text/html": [
       " View sweep at <a href='https://wandb.ai/vinyk-sd-indian-institute-of-technology-madras/Assignment_Attempt3/sweeps/cs09wxtb' target=\"_blank\">https://wandb.ai/vinyk-sd-indian-institute-of-technology-madras/Assignment_Attempt3/sweeps/cs09wxtb</a>"
      ],
      "text/plain": [
       "<IPython.core.display.HTML object>"
      ]
     },
     "metadata": {},
     "output_type": "display_data"
    },
    {
     "data": {
      "text/html": [
       " View run at <a href='https://wandb.ai/vinyk-sd-indian-institute-of-technology-madras/Assignment_Attempt3/runs/imwhddz1' target=\"_blank\">https://wandb.ai/vinyk-sd-indian-institute-of-technology-madras/Assignment_Attempt3/runs/imwhddz1</a>"
      ],
      "text/plain": [
       "<IPython.core.display.HTML object>"
      ]
     },
     "metadata": {},
     "output_type": "display_data"
    },
    {
     "name": "stdout",
     "output_type": "stream",
     "text": [
      "hl_3_bs_64_ac_relu_e_10\n",
      "Epoch 1: Train Loss=0.0894, Train Acc=0.1392, Val Loss=0.0889, Val Acc=0.1791\n",
      "Epoch 2: Train Loss=0.0884, Train Acc=0.2414, Val Loss=0.0878, Val Acc=0.2933\n",
      "Epoch 3: Train Loss=0.0871, Train Acc=0.3405, Val Loss=0.0863, Val Acc=0.3753\n",
      "Epoch 4: Train Loss=0.0852, Train Acc=0.3911, Val Loss=0.0838, Val Acc=0.3918\n",
      "Epoch 5: Train Loss=0.0820, Train Acc=0.3827, Val Loss=0.0800, Val Acc=0.3815\n",
      "Epoch 6: Train Loss=0.0778, Train Acc=0.4212, Val Loss=0.0754, Val Acc=0.4428\n",
      "Epoch 7: Train Loss=0.0723, Train Acc=0.4614, Val Loss=0.0690, Val Acc=0.4661\n",
      "Epoch 8: Train Loss=0.0653, Train Acc=0.4907, Val Loss=0.0616, Val Acc=0.5111\n",
      "Epoch 9: Train Loss=0.0572, Train Acc=0.5796, Val Loss=0.0540, Val Acc=0.6234\n",
      "Epoch 10: Train Loss=0.0525, Train Acc=0.6274, Val Loss=0.0597, Val Acc=0.5360\n"
     ]
    },
    {
     "data": {
      "text/html": [],
      "text/plain": [
       "<IPython.core.display.HTML object>"
      ]
     },
     "metadata": {},
     "output_type": "display_data"
    },
    {
     "data": {
      "text/html": [
       "<br>    <style><br>        .wandb-row {<br>            display: flex;<br>            flex-direction: row;<br>            flex-wrap: wrap;<br>            justify-content: flex-start;<br>            width: 100%;<br>        }<br>        .wandb-col {<br>            display: flex;<br>            flex-direction: column;<br>            flex-basis: 100%;<br>            flex: 1;<br>            padding: 10px;<br>        }<br>    </style><br><div class=\"wandb-row\"><div class=\"wandb-col\"><h3>Run history:</h3><br/><table class=\"wandb\"><tr><td>epoch</td><td>▁▂▃▃▄▅▆▆▇█</td></tr><tr><td>train_accuracy</td><td>▁▂▄▅▄▅▆▆▇█</td></tr><tr><td>train_loss</td><td>███▇▇▆▅▃▂▁</td></tr><tr><td>val_accuracy</td><td>▁▃▄▄▄▅▆▆█▇</td></tr><tr><td>val_loss</td><td>██▇▇▆▅▄▃▁▂</td></tr></table><br/></div><div class=\"wandb-col\"><h3>Run summary:</h3><br/><table class=\"wandb\"><tr><td>epoch</td><td>10</td></tr><tr><td>train_accuracy</td><td>0.62743</td></tr><tr><td>train_loss</td><td>0.0525</td></tr><tr><td>val_accuracy</td><td>0.536</td></tr><tr><td>val_loss</td><td>0.05974</td></tr></table><br/></div></div>"
      ],
      "text/plain": [
       "<IPython.core.display.HTML object>"
      ]
     },
     "metadata": {},
     "output_type": "display_data"
    },
    {
     "data": {
      "text/html": [
       " View run <strong style=\"color:#cdcd00\">hl_3_bs_64_ac_relu_e_10</strong> at: <a href='https://wandb.ai/vinyk-sd-indian-institute-of-technology-madras/Assignment_Attempt3/runs/imwhddz1' target=\"_blank\">https://wandb.ai/vinyk-sd-indian-institute-of-technology-madras/Assignment_Attempt3/runs/imwhddz1</a><br> View project at: <a href='https://wandb.ai/vinyk-sd-indian-institute-of-technology-madras/Assignment_Attempt3' target=\"_blank\">https://wandb.ai/vinyk-sd-indian-institute-of-technology-madras/Assignment_Attempt3</a><br>Synced 5 W&B file(s), 0 media file(s), 0 artifact file(s) and 0 other file(s)"
      ],
      "text/plain": [
       "<IPython.core.display.HTML object>"
      ]
     },
     "metadata": {},
     "output_type": "display_data"
    },
    {
     "data": {
      "text/html": [
       "Find logs at: <code>./wandb/run-20250317_075540-imwhddz1/logs</code>"
      ],
      "text/plain": [
       "<IPython.core.display.HTML object>"
      ]
     },
     "metadata": {},
     "output_type": "display_data"
    },
    {
     "name": "stderr",
     "output_type": "stream",
     "text": [
      "\u001b[34m\u001b[1mwandb\u001b[0m: Agent Starting Run: 8exbhmm8 with config:\n",
      "\u001b[34m\u001b[1mwandb\u001b[0m: \tactivation: tanh\n",
      "\u001b[34m\u001b[1mwandb\u001b[0m: \tbatch_size: 64\n",
      "\u001b[34m\u001b[1mwandb\u001b[0m: \tepochs: 15\n",
      "\u001b[34m\u001b[1mwandb\u001b[0m: \tepsilon: 0.9\n",
      "\u001b[34m\u001b[1mwandb\u001b[0m: \thidden_layers: 4\n",
      "\u001b[34m\u001b[1mwandb\u001b[0m: \thidden_size: 64\n",
      "\u001b[34m\u001b[1mwandb\u001b[0m: \tlearning_rate: 0.001\n",
      "\u001b[34m\u001b[1mwandb\u001b[0m: \toptimizer: momentum\n",
      "\u001b[34m\u001b[1mwandb\u001b[0m: \tweight_decay: 0\n",
      "\u001b[34m\u001b[1mwandb\u001b[0m: \tweight_init: random\n"
     ]
    },
    {
     "data": {
      "text/html": [
       "Ignoring project 'Assignment1_Attempt3' when running a sweep."
      ],
      "text/plain": [
       "<IPython.core.display.HTML object>"
      ]
     },
     "metadata": {},
     "output_type": "display_data"
    },
    {
     "data": {
      "text/html": [
       "Tracking run with wandb version 0.19.7"
      ],
      "text/plain": [
       "<IPython.core.display.HTML object>"
      ]
     },
     "metadata": {},
     "output_type": "display_data"
    },
    {
     "data": {
      "text/html": [
       "Run data is saved locally in <code>/home/tenet/wandb/run-20250317_075618-8exbhmm8</code>"
      ],
      "text/plain": [
       "<IPython.core.display.HTML object>"
      ]
     },
     "metadata": {},
     "output_type": "display_data"
    },
    {
     "data": {
      "text/html": [
       "Syncing run <strong><a href='https://wandb.ai/vinyk-sd-indian-institute-of-technology-madras/Assignment_Attempt3/runs/8exbhmm8' target=\"_blank\">solar-sweep-6</a></strong> to <a href='https://wandb.ai/vinyk-sd-indian-institute-of-technology-madras/Assignment_Attempt3' target=\"_blank\">Weights & Biases</a> (<a href='https://wandb.me/developer-guide' target=\"_blank\">docs</a>)<br>Sweep page: <a href='https://wandb.ai/vinyk-sd-indian-institute-of-technology-madras/Assignment_Attempt3/sweeps/cs09wxtb' target=\"_blank\">https://wandb.ai/vinyk-sd-indian-institute-of-technology-madras/Assignment_Attempt3/sweeps/cs09wxtb</a>"
      ],
      "text/plain": [
       "<IPython.core.display.HTML object>"
      ]
     },
     "metadata": {},
     "output_type": "display_data"
    },
    {
     "data": {
      "text/html": [
       " View project at <a href='https://wandb.ai/vinyk-sd-indian-institute-of-technology-madras/Assignment_Attempt3' target=\"_blank\">https://wandb.ai/vinyk-sd-indian-institute-of-technology-madras/Assignment_Attempt3</a>"
      ],
      "text/plain": [
       "<IPython.core.display.HTML object>"
      ]
     },
     "metadata": {},
     "output_type": "display_data"
    },
    {
     "data": {
      "text/html": [
       " View sweep at <a href='https://wandb.ai/vinyk-sd-indian-institute-of-technology-madras/Assignment_Attempt3/sweeps/cs09wxtb' target=\"_blank\">https://wandb.ai/vinyk-sd-indian-institute-of-technology-madras/Assignment_Attempt3/sweeps/cs09wxtb</a>"
      ],
      "text/plain": [
       "<IPython.core.display.HTML object>"
      ]
     },
     "metadata": {},
     "output_type": "display_data"
    },
    {
     "data": {
      "text/html": [
       " View run at <a href='https://wandb.ai/vinyk-sd-indian-institute-of-technology-madras/Assignment_Attempt3/runs/8exbhmm8' target=\"_blank\">https://wandb.ai/vinyk-sd-indian-institute-of-technology-madras/Assignment_Attempt3/runs/8exbhmm8</a>"
      ],
      "text/plain": [
       "<IPython.core.display.HTML object>"
      ]
     },
     "metadata": {},
     "output_type": "display_data"
    },
    {
     "name": "stdout",
     "output_type": "stream",
     "text": [
      "hl_4_bs_64_ac_tanh_e_15\n",
      "Epoch 1: Train Loss=0.0900, Train Acc=0.1123, Val Loss=0.0900, Val Acc=0.1135\n",
      "Epoch 2: Train Loss=0.0900, Train Acc=0.1124, Val Loss=0.0900, Val Acc=0.1135\n",
      "Epoch 3: Train Loss=0.0900, Train Acc=0.1124, Val Loss=0.0900, Val Acc=0.1135\n",
      "Epoch 4: Train Loss=0.0900, Train Acc=0.1124, Val Loss=0.0900, Val Acc=0.1135\n",
      "Epoch 5: Train Loss=0.0900, Train Acc=0.1124, Val Loss=0.0900, Val Acc=0.1135\n",
      "Epoch 6: Train Loss=0.0900, Train Acc=0.1124, Val Loss=0.0900, Val Acc=0.1135\n",
      "Epoch 7: Train Loss=0.0900, Train Acc=0.1124, Val Loss=0.0900, Val Acc=0.1135\n",
      "Epoch 8: Train Loss=0.0900, Train Acc=0.1124, Val Loss=0.0900, Val Acc=0.1135\n",
      "Epoch 9: Train Loss=0.0900, Train Acc=0.1124, Val Loss=0.0900, Val Acc=0.1135\n",
      "Epoch 10: Train Loss=0.0900, Train Acc=0.1124, Val Loss=0.0900, Val Acc=0.1135\n",
      "Epoch 11: Train Loss=0.0900, Train Acc=0.1124, Val Loss=0.0900, Val Acc=0.1135\n",
      "Epoch 12: Train Loss=0.0900, Train Acc=0.1124, Val Loss=0.0900, Val Acc=0.1135\n",
      "Epoch 13: Train Loss=0.0900, Train Acc=0.1124, Val Loss=0.0900, Val Acc=0.1135\n",
      "Epoch 14: Train Loss=0.0900, Train Acc=0.1124, Val Loss=0.0900, Val Acc=0.1135\n",
      "Epoch 15: Train Loss=0.0900, Train Acc=0.1124, Val Loss=0.0900, Val Acc=0.1135\n"
     ]
    },
    {
     "data": {
      "text/html": [],
      "text/plain": [
       "<IPython.core.display.HTML object>"
      ]
     },
     "metadata": {},
     "output_type": "display_data"
    },
    {
     "data": {
      "text/html": [
       "<br>    <style><br>        .wandb-row {<br>            display: flex;<br>            flex-direction: row;<br>            flex-wrap: wrap;<br>            justify-content: flex-start;<br>            width: 100%;<br>        }<br>        .wandb-col {<br>            display: flex;<br>            flex-direction: column;<br>            flex-basis: 100%;<br>            flex: 1;<br>            padding: 10px;<br>        }<br>    </style><br><div class=\"wandb-row\"><div class=\"wandb-col\"><h3>Run history:</h3><br/><table class=\"wandb\"><tr><td>epoch</td><td>▁▁▂▃▃▃▄▅▅▅▆▇▇▇█</td></tr><tr><td>train_accuracy</td><td>▁██████████████</td></tr><tr><td>train_loss</td><td>█▇▆▅▄▃▃▂▂▂▂▁▁▁▁</td></tr><tr><td>val_accuracy</td><td>▁▁▁▁▁▁▁▁▁▁▁▁▁▁▁</td></tr><tr><td>val_loss</td><td>█▇▆▅▄▃▃▃▂▂▂▁▁▁▁</td></tr></table><br/></div><div class=\"wandb-col\"><h3>Run summary:</h3><br/><table class=\"wandb\"><tr><td>epoch</td><td>15</td></tr><tr><td>train_accuracy</td><td>0.11238</td></tr><tr><td>train_loss</td><td>0.08997</td></tr><tr><td>val_accuracy</td><td>0.1135</td></tr><tr><td>val_loss</td><td>0.08997</td></tr></table><br/></div></div>"
      ],
      "text/plain": [
       "<IPython.core.display.HTML object>"
      ]
     },
     "metadata": {},
     "output_type": "display_data"
    },
    {
     "data": {
      "text/html": [
       " View run <strong style=\"color:#cdcd00\">hl_4_bs_64_ac_tanh_e_15</strong> at: <a href='https://wandb.ai/vinyk-sd-indian-institute-of-technology-madras/Assignment_Attempt3/runs/8exbhmm8' target=\"_blank\">https://wandb.ai/vinyk-sd-indian-institute-of-technology-madras/Assignment_Attempt3/runs/8exbhmm8</a><br> View project at: <a href='https://wandb.ai/vinyk-sd-indian-institute-of-technology-madras/Assignment_Attempt3' target=\"_blank\">https://wandb.ai/vinyk-sd-indian-institute-of-technology-madras/Assignment_Attempt3</a><br>Synced 5 W&B file(s), 0 media file(s), 0 artifact file(s) and 0 other file(s)"
      ],
      "text/plain": [
       "<IPython.core.display.HTML object>"
      ]
     },
     "metadata": {},
     "output_type": "display_data"
    },
    {
     "data": {
      "text/html": [
       "Find logs at: <code>./wandb/run-20250317_075618-8exbhmm8/logs</code>"
      ],
      "text/plain": [
       "<IPython.core.display.HTML object>"
      ]
     },
     "metadata": {},
     "output_type": "display_data"
    },
    {
     "name": "stderr",
     "output_type": "stream",
     "text": [
      "\u001b[34m\u001b[1mwandb\u001b[0m: Agent Starting Run: 8pmz21nv with config:\n",
      "\u001b[34m\u001b[1mwandb\u001b[0m: \tactivation: sigmoid\n",
      "\u001b[34m\u001b[1mwandb\u001b[0m: \tbatch_size: 32\n",
      "\u001b[34m\u001b[1mwandb\u001b[0m: \tepochs: 15\n",
      "\u001b[34m\u001b[1mwandb\u001b[0m: \tepsilon: 0.8\n",
      "\u001b[34m\u001b[1mwandb\u001b[0m: \thidden_layers: 3\n",
      "\u001b[34m\u001b[1mwandb\u001b[0m: \thidden_size: 32\n",
      "\u001b[34m\u001b[1mwandb\u001b[0m: \tlearning_rate: 0.001\n",
      "\u001b[34m\u001b[1mwandb\u001b[0m: \toptimizer: sgd\n",
      "\u001b[34m\u001b[1mwandb\u001b[0m: \tweight_decay: 0.5\n",
      "\u001b[34m\u001b[1mwandb\u001b[0m: \tweight_init: xavier\n"
     ]
    },
    {
     "data": {
      "text/html": [
       "Ignoring project 'Assignment1_Attempt3' when running a sweep."
      ],
      "text/plain": [
       "<IPython.core.display.HTML object>"
      ]
     },
     "metadata": {},
     "output_type": "display_data"
    },
    {
     "data": {
      "text/html": [
       "Tracking run with wandb version 0.19.7"
      ],
      "text/plain": [
       "<IPython.core.display.HTML object>"
      ]
     },
     "metadata": {},
     "output_type": "display_data"
    },
    {
     "data": {
      "text/html": [
       "Run data is saved locally in <code>/home/tenet/wandb/run-20250317_075641-8pmz21nv</code>"
      ],
      "text/plain": [
       "<IPython.core.display.HTML object>"
      ]
     },
     "metadata": {},
     "output_type": "display_data"
    },
    {
     "data": {
      "text/html": [
       "Syncing run <strong><a href='https://wandb.ai/vinyk-sd-indian-institute-of-technology-madras/Assignment_Attempt3/runs/8pmz21nv' target=\"_blank\">morning-sweep-7</a></strong> to <a href='https://wandb.ai/vinyk-sd-indian-institute-of-technology-madras/Assignment_Attempt3' target=\"_blank\">Weights & Biases</a> (<a href='https://wandb.me/developer-guide' target=\"_blank\">docs</a>)<br>Sweep page: <a href='https://wandb.ai/vinyk-sd-indian-institute-of-technology-madras/Assignment_Attempt3/sweeps/cs09wxtb' target=\"_blank\">https://wandb.ai/vinyk-sd-indian-institute-of-technology-madras/Assignment_Attempt3/sweeps/cs09wxtb</a>"
      ],
      "text/plain": [
       "<IPython.core.display.HTML object>"
      ]
     },
     "metadata": {},
     "output_type": "display_data"
    },
    {
     "data": {
      "text/html": [
       " View project at <a href='https://wandb.ai/vinyk-sd-indian-institute-of-technology-madras/Assignment_Attempt3' target=\"_blank\">https://wandb.ai/vinyk-sd-indian-institute-of-technology-madras/Assignment_Attempt3</a>"
      ],
      "text/plain": [
       "<IPython.core.display.HTML object>"
      ]
     },
     "metadata": {},
     "output_type": "display_data"
    },
    {
     "data": {
      "text/html": [
       " View sweep at <a href='https://wandb.ai/vinyk-sd-indian-institute-of-technology-madras/Assignment_Attempt3/sweeps/cs09wxtb' target=\"_blank\">https://wandb.ai/vinyk-sd-indian-institute-of-technology-madras/Assignment_Attempt3/sweeps/cs09wxtb</a>"
      ],
      "text/plain": [
       "<IPython.core.display.HTML object>"
      ]
     },
     "metadata": {},
     "output_type": "display_data"
    },
    {
     "data": {
      "text/html": [
       " View run at <a href='https://wandb.ai/vinyk-sd-indian-institute-of-technology-madras/Assignment_Attempt3/runs/8pmz21nv' target=\"_blank\">https://wandb.ai/vinyk-sd-indian-institute-of-technology-madras/Assignment_Attempt3/runs/8pmz21nv</a>"
      ],
      "text/plain": [
       "<IPython.core.display.HTML object>"
      ]
     },
     "metadata": {},
     "output_type": "display_data"
    },
    {
     "name": "stdout",
     "output_type": "stream",
     "text": [
      "hl_3_bs_32_ac_sigmoid_e_15\n",
      "Epoch 1: Train Loss=0.0948, Train Acc=0.0987, Val Loss=0.0929, Val Acc=0.0980\n",
      "Epoch 2: Train Loss=0.0923, Train Acc=0.0987, Val Loss=0.0919, Val Acc=0.0980\n",
      "Epoch 3: Train Loss=0.0916, Train Acc=0.0987, Val Loss=0.0914, Val Acc=0.0980\n",
      "Epoch 4: Train Loss=0.0912, Train Acc=0.0987, Val Loss=0.0911, Val Acc=0.0979\n",
      "Epoch 5: Train Loss=0.0910, Train Acc=0.1008, Val Loss=0.0909, Val Acc=0.1047\n",
      "Epoch 6: Train Loss=0.0908, Train Acc=0.1120, Val Loss=0.0907, Val Acc=0.1143\n",
      "Epoch 7: Train Loss=0.0906, Train Acc=0.1148, Val Loss=0.0906, Val Acc=0.1126\n",
      "Epoch 8: Train Loss=0.0905, Train Acc=0.1090, Val Loss=0.0904, Val Acc=0.0990\n",
      "Epoch 9: Train Loss=0.0904, Train Acc=0.0871, Val Loss=0.0904, Val Acc=0.1042\n",
      "Epoch 10: Train Loss=0.0903, Train Acc=0.1118, Val Loss=0.0903, Val Acc=0.1135\n",
      "Epoch 11: Train Loss=0.0902, Train Acc=0.1124, Val Loss=0.0902, Val Acc=0.1135\n",
      "Epoch 12: Train Loss=0.0902, Train Acc=0.1124, Val Loss=0.0901, Val Acc=0.1135\n",
      "Epoch 13: Train Loss=0.0901, Train Acc=0.1124, Val Loss=0.0901, Val Acc=0.1135\n",
      "Epoch 14: Train Loss=0.0901, Train Acc=0.1124, Val Loss=0.0901, Val Acc=0.1135\n",
      "Epoch 15: Train Loss=0.0901, Train Acc=0.1124, Val Loss=0.0900, Val Acc=0.1135\n"
     ]
    },
    {
     "data": {
      "text/html": [],
      "text/plain": [
       "<IPython.core.display.HTML object>"
      ]
     },
     "metadata": {},
     "output_type": "display_data"
    },
    {
     "data": {
      "text/html": [
       "<br>    <style><br>        .wandb-row {<br>            display: flex;<br>            flex-direction: row;<br>            flex-wrap: wrap;<br>            justify-content: flex-start;<br>            width: 100%;<br>        }<br>        .wandb-col {<br>            display: flex;<br>            flex-direction: column;<br>            flex-basis: 100%;<br>            flex: 1;<br>            padding: 10px;<br>        }<br>    </style><br><div class=\"wandb-row\"><div class=\"wandb-col\"><h3>Run history:</h3><br/><table class=\"wandb\"><tr><td>epoch</td><td>▁▁▂▃▃▃▄▅▅▅▆▇▇▇█</td></tr><tr><td>train_accuracy</td><td>▄▄▄▄▄▇█▇▁▇▇▇▇▇▇</td></tr><tr><td>train_loss</td><td>█▄▃▃▂▂▂▂▂▁▁▁▁▁▁</td></tr><tr><td>val_accuracy</td><td>▁▁▁▁▄█▇▁▄██████</td></tr><tr><td>val_loss</td><td>█▅▄▄▃▃▂▂▂▂▁▁▁▁▁</td></tr></table><br/></div><div class=\"wandb-col\"><h3>Run summary:</h3><br/><table class=\"wandb\"><tr><td>epoch</td><td>15</td></tr><tr><td>train_accuracy</td><td>0.11237</td></tr><tr><td>train_loss</td><td>0.09006</td></tr><tr><td>val_accuracy</td><td>0.1135</td></tr><tr><td>val_loss</td><td>0.09004</td></tr></table><br/></div></div>"
      ],
      "text/plain": [
       "<IPython.core.display.HTML object>"
      ]
     },
     "metadata": {},
     "output_type": "display_data"
    },
    {
     "data": {
      "text/html": [
       " View run <strong style=\"color:#cdcd00\">hl_3_bs_32_ac_sigmoid_e_15</strong> at: <a href='https://wandb.ai/vinyk-sd-indian-institute-of-technology-madras/Assignment_Attempt3/runs/8pmz21nv' target=\"_blank\">https://wandb.ai/vinyk-sd-indian-institute-of-technology-madras/Assignment_Attempt3/runs/8pmz21nv</a><br> View project at: <a href='https://wandb.ai/vinyk-sd-indian-institute-of-technology-madras/Assignment_Attempt3' target=\"_blank\">https://wandb.ai/vinyk-sd-indian-institute-of-technology-madras/Assignment_Attempt3</a><br>Synced 5 W&B file(s), 0 media file(s), 0 artifact file(s) and 0 other file(s)"
      ],
      "text/plain": [
       "<IPython.core.display.HTML object>"
      ]
     },
     "metadata": {},
     "output_type": "display_data"
    },
    {
     "data": {
      "text/html": [
       "Find logs at: <code>./wandb/run-20250317_075641-8pmz21nv/logs</code>"
      ],
      "text/plain": [
       "<IPython.core.display.HTML object>"
      ]
     },
     "metadata": {},
     "output_type": "display_data"
    },
    {
     "name": "stderr",
     "output_type": "stream",
     "text": [
      "\u001b[34m\u001b[1mwandb\u001b[0m: Agent Starting Run: 52ipmv06 with config:\n",
      "\u001b[34m\u001b[1mwandb\u001b[0m: \tactivation: tanh\n",
      "\u001b[34m\u001b[1mwandb\u001b[0m: \tbatch_size: 32\n",
      "\u001b[34m\u001b[1mwandb\u001b[0m: \tepochs: 5\n",
      "\u001b[34m\u001b[1mwandb\u001b[0m: \tepsilon: 0.8\n",
      "\u001b[34m\u001b[1mwandb\u001b[0m: \thidden_layers: 5\n",
      "\u001b[34m\u001b[1mwandb\u001b[0m: \thidden_size: 64\n",
      "\u001b[34m\u001b[1mwandb\u001b[0m: \tlearning_rate: 0.001\n",
      "\u001b[34m\u001b[1mwandb\u001b[0m: \toptimizer: sgd\n",
      "\u001b[34m\u001b[1mwandb\u001b[0m: \tweight_decay: 0.0005\n",
      "\u001b[34m\u001b[1mwandb\u001b[0m: \tweight_init: xavier\n"
     ]
    },
    {
     "data": {
      "text/html": [
       "Ignoring project 'Assignment1_Attempt3' when running a sweep."
      ],
      "text/plain": [
       "<IPython.core.display.HTML object>"
      ]
     },
     "metadata": {},
     "output_type": "display_data"
    },
    {
     "data": {
      "text/html": [
       "creating run (0.9s)"
      ],
      "text/plain": [
       "<IPython.core.display.HTML object>"
      ]
     },
     "metadata": {},
     "output_type": "display_data"
    },
    {
     "data": {
      "text/html": [
       "Tracking run with wandb version 0.19.7"
      ],
      "text/plain": [
       "<IPython.core.display.HTML object>"
      ]
     },
     "metadata": {},
     "output_type": "display_data"
    },
    {
     "data": {
      "text/html": [
       "Run data is saved locally in <code>/home/tenet/wandb/run-20250317_075703-52ipmv06</code>"
      ],
      "text/plain": [
       "<IPython.core.display.HTML object>"
      ]
     },
     "metadata": {},
     "output_type": "display_data"
    },
    {
     "data": {
      "text/html": [
       "Syncing run <strong><a href='https://wandb.ai/vinyk-sd-indian-institute-of-technology-madras/Assignment_Attempt3/runs/52ipmv06' target=\"_blank\">fanciful-sweep-8</a></strong> to <a href='https://wandb.ai/vinyk-sd-indian-institute-of-technology-madras/Assignment_Attempt3' target=\"_blank\">Weights & Biases</a> (<a href='https://wandb.me/developer-guide' target=\"_blank\">docs</a>)<br>Sweep page: <a href='https://wandb.ai/vinyk-sd-indian-institute-of-technology-madras/Assignment_Attempt3/sweeps/cs09wxtb' target=\"_blank\">https://wandb.ai/vinyk-sd-indian-institute-of-technology-madras/Assignment_Attempt3/sweeps/cs09wxtb</a>"
      ],
      "text/plain": [
       "<IPython.core.display.HTML object>"
      ]
     },
     "metadata": {},
     "output_type": "display_data"
    },
    {
     "data": {
      "text/html": [
       " View project at <a href='https://wandb.ai/vinyk-sd-indian-institute-of-technology-madras/Assignment_Attempt3' target=\"_blank\">https://wandb.ai/vinyk-sd-indian-institute-of-technology-madras/Assignment_Attempt3</a>"
      ],
      "text/plain": [
       "<IPython.core.display.HTML object>"
      ]
     },
     "metadata": {},
     "output_type": "display_data"
    },
    {
     "data": {
      "text/html": [
       " View sweep at <a href='https://wandb.ai/vinyk-sd-indian-institute-of-technology-madras/Assignment_Attempt3/sweeps/cs09wxtb' target=\"_blank\">https://wandb.ai/vinyk-sd-indian-institute-of-technology-madras/Assignment_Attempt3/sweeps/cs09wxtb</a>"
      ],
      "text/plain": [
       "<IPython.core.display.HTML object>"
      ]
     },
     "metadata": {},
     "output_type": "display_data"
    },
    {
     "data": {
      "text/html": [
       " View run at <a href='https://wandb.ai/vinyk-sd-indian-institute-of-technology-madras/Assignment_Attempt3/runs/52ipmv06' target=\"_blank\">https://wandb.ai/vinyk-sd-indian-institute-of-technology-madras/Assignment_Attempt3/runs/52ipmv06</a>"
      ],
      "text/plain": [
       "<IPython.core.display.HTML object>"
      ]
     },
     "metadata": {},
     "output_type": "display_data"
    },
    {
     "name": "stdout",
     "output_type": "stream",
     "text": [
      "hl_5_bs_32_ac_tanh_e_5\n",
      "Epoch 1: Train Loss=0.0888, Train Acc=0.1724, Val Loss=0.0860, Val Acc=0.3046\n",
      "Epoch 2: Train Loss=0.0831, Train Acc=0.3778, Val Loss=0.0793, Val Acc=0.4273\n",
      "Epoch 3: Train Loss=0.0752, Train Acc=0.4420, Val Loss=0.0703, Val Acc=0.4565\n",
      "Epoch 4: Train Loss=0.0663, Train Acc=0.4768, Val Loss=0.0623, Val Acc=0.4981\n",
      "Epoch 5: Train Loss=0.0594, Train Acc=0.5317, Val Loss=0.0560, Val Acc=0.5638\n"
     ]
    },
    {
     "data": {
      "text/html": [],
      "text/plain": [
       "<IPython.core.display.HTML object>"
      ]
     },
     "metadata": {},
     "output_type": "display_data"
    },
    {
     "data": {
      "text/html": [
       "<br>    <style><br>        .wandb-row {<br>            display: flex;<br>            flex-direction: row;<br>            flex-wrap: wrap;<br>            justify-content: flex-start;<br>            width: 100%;<br>        }<br>        .wandb-col {<br>            display: flex;<br>            flex-direction: column;<br>            flex-basis: 100%;<br>            flex: 1;<br>            padding: 10px;<br>        }<br>    </style><br><div class=\"wandb-row\"><div class=\"wandb-col\"><h3>Run history:</h3><br/><table class=\"wandb\"><tr><td>epoch</td><td>▁▃▅▆█</td></tr><tr><td>train_accuracy</td><td>▁▅▆▇█</td></tr><tr><td>train_loss</td><td>█▇▅▃▁</td></tr><tr><td>val_accuracy</td><td>▁▄▅▆█</td></tr><tr><td>val_loss</td><td>█▆▄▂▁</td></tr></table><br/></div><div class=\"wandb-col\"><h3>Run summary:</h3><br/><table class=\"wandb\"><tr><td>epoch</td><td>5</td></tr><tr><td>train_accuracy</td><td>0.53172</td></tr><tr><td>train_loss</td><td>0.05935</td></tr><tr><td>val_accuracy</td><td>0.5638</td></tr><tr><td>val_loss</td><td>0.05599</td></tr></table><br/></div></div>"
      ],
      "text/plain": [
       "<IPython.core.display.HTML object>"
      ]
     },
     "metadata": {},
     "output_type": "display_data"
    },
    {
     "data": {
      "text/html": [
       " View run <strong style=\"color:#cdcd00\">hl_5_bs_32_ac_tanh_e_5</strong> at: <a href='https://wandb.ai/vinyk-sd-indian-institute-of-technology-madras/Assignment_Attempt3/runs/52ipmv06' target=\"_blank\">https://wandb.ai/vinyk-sd-indian-institute-of-technology-madras/Assignment_Attempt3/runs/52ipmv06</a><br> View project at: <a href='https://wandb.ai/vinyk-sd-indian-institute-of-technology-madras/Assignment_Attempt3' target=\"_blank\">https://wandb.ai/vinyk-sd-indian-institute-of-technology-madras/Assignment_Attempt3</a><br>Synced 5 W&B file(s), 0 media file(s), 0 artifact file(s) and 0 other file(s)"
      ],
      "text/plain": [
       "<IPython.core.display.HTML object>"
      ]
     },
     "metadata": {},
     "output_type": "display_data"
    },
    {
     "data": {
      "text/html": [
       "Find logs at: <code>./wandb/run-20250317_075703-52ipmv06/logs</code>"
      ],
      "text/plain": [
       "<IPython.core.display.HTML object>"
      ]
     },
     "metadata": {},
     "output_type": "display_data"
    },
    {
     "name": "stderr",
     "output_type": "stream",
     "text": [
      "\u001b[34m\u001b[1mwandb\u001b[0m: Agent Starting Run: b6xqil1m with config:\n",
      "\u001b[34m\u001b[1mwandb\u001b[0m: \tactivation: tanh\n",
      "\u001b[34m\u001b[1mwandb\u001b[0m: \tbatch_size: 64\n",
      "\u001b[34m\u001b[1mwandb\u001b[0m: \tepochs: 10\n",
      "\u001b[34m\u001b[1mwandb\u001b[0m: \tepsilon: 0.95\n",
      "\u001b[34m\u001b[1mwandb\u001b[0m: \thidden_layers: 4\n",
      "\u001b[34m\u001b[1mwandb\u001b[0m: \thidden_size: 64\n",
      "\u001b[34m\u001b[1mwandb\u001b[0m: \tlearning_rate: 0.001\n",
      "\u001b[34m\u001b[1mwandb\u001b[0m: \toptimizer: nadam\n",
      "\u001b[34m\u001b[1mwandb\u001b[0m: \tweight_decay: 0.0005\n",
      "\u001b[34m\u001b[1mwandb\u001b[0m: \tweight_init: xavier\n"
     ]
    },
    {
     "data": {
      "text/html": [
       "Ignoring project 'Assignment1_Attempt3' when running a sweep."
      ],
      "text/plain": [
       "<IPython.core.display.HTML object>"
      ]
     },
     "metadata": {},
     "output_type": "display_data"
    },
    {
     "data": {
      "text/html": [
       "Tracking run with wandb version 0.19.7"
      ],
      "text/plain": [
       "<IPython.core.display.HTML object>"
      ]
     },
     "metadata": {},
     "output_type": "display_data"
    },
    {
     "data": {
      "text/html": [
       "Run data is saved locally in <code>/home/tenet/wandb/run-20250317_075725-b6xqil1m</code>"
      ],
      "text/plain": [
       "<IPython.core.display.HTML object>"
      ]
     },
     "metadata": {},
     "output_type": "display_data"
    },
    {
     "data": {
      "text/html": [
       "Syncing run <strong><a href='https://wandb.ai/vinyk-sd-indian-institute-of-technology-madras/Assignment_Attempt3/runs/b6xqil1m' target=\"_blank\">bright-sweep-9</a></strong> to <a href='https://wandb.ai/vinyk-sd-indian-institute-of-technology-madras/Assignment_Attempt3' target=\"_blank\">Weights & Biases</a> (<a href='https://wandb.me/developer-guide' target=\"_blank\">docs</a>)<br>Sweep page: <a href='https://wandb.ai/vinyk-sd-indian-institute-of-technology-madras/Assignment_Attempt3/sweeps/cs09wxtb' target=\"_blank\">https://wandb.ai/vinyk-sd-indian-institute-of-technology-madras/Assignment_Attempt3/sweeps/cs09wxtb</a>"
      ],
      "text/plain": [
       "<IPython.core.display.HTML object>"
      ]
     },
     "metadata": {},
     "output_type": "display_data"
    },
    {
     "data": {
      "text/html": [
       " View project at <a href='https://wandb.ai/vinyk-sd-indian-institute-of-technology-madras/Assignment_Attempt3' target=\"_blank\">https://wandb.ai/vinyk-sd-indian-institute-of-technology-madras/Assignment_Attempt3</a>"
      ],
      "text/plain": [
       "<IPython.core.display.HTML object>"
      ]
     },
     "metadata": {},
     "output_type": "display_data"
    },
    {
     "data": {
      "text/html": [
       " View sweep at <a href='https://wandb.ai/vinyk-sd-indian-institute-of-technology-madras/Assignment_Attempt3/sweeps/cs09wxtb' target=\"_blank\">https://wandb.ai/vinyk-sd-indian-institute-of-technology-madras/Assignment_Attempt3/sweeps/cs09wxtb</a>"
      ],
      "text/plain": [
       "<IPython.core.display.HTML object>"
      ]
     },
     "metadata": {},
     "output_type": "display_data"
    },
    {
     "data": {
      "text/html": [
       " View run at <a href='https://wandb.ai/vinyk-sd-indian-institute-of-technology-madras/Assignment_Attempt3/runs/b6xqil1m' target=\"_blank\">https://wandb.ai/vinyk-sd-indian-institute-of-technology-madras/Assignment_Attempt3/runs/b6xqil1m</a>"
      ],
      "text/plain": [
       "<IPython.core.display.HTML object>"
      ]
     },
     "metadata": {},
     "output_type": "display_data"
    },
    {
     "name": "stdout",
     "output_type": "stream",
     "text": [
      "hl_4_bs_64_ac_tanh_e_10\n",
      "Epoch 1: Train Loss=0.0146, Train Acc=0.9019, Val Loss=0.0090, Val Acc=0.9390\n",
      "Epoch 2: Train Loss=0.0078, Train Acc=0.9483, Val Loss=0.0076, Val Acc=0.9495\n",
      "Epoch 3: Train Loss=0.0060, Train Acc=0.9602, Val Loss=0.0072, Val Acc=0.9522\n",
      "Epoch 4: Train Loss=0.0049, Train Acc=0.9671, Val Loss=0.0068, Val Acc=0.9565\n",
      "Epoch 5: Train Loss=0.0043, Train Acc=0.9713, Val Loss=0.0056, Val Acc=0.9632\n",
      "Epoch 6: Train Loss=0.0039, Train Acc=0.9737, Val Loss=0.0074, Val Acc=0.9536\n",
      "Epoch 7: Train Loss=0.0037, Train Acc=0.9744, Val Loss=0.0055, Val Acc=0.9646\n",
      "Epoch 8: Train Loss=0.0033, Train Acc=0.9773, Val Loss=0.0058, Val Acc=0.9624\n",
      "Epoch 9: Train Loss=0.0031, Train Acc=0.9788, Val Loss=0.0067, Val Acc=0.9566\n",
      "Epoch 10: Train Loss=0.0030, Train Acc=0.9790, Val Loss=0.0056, Val Acc=0.9639\n"
     ]
    },
    {
     "data": {
      "text/html": [],
      "text/plain": [
       "<IPython.core.display.HTML object>"
      ]
     },
     "metadata": {},
     "output_type": "display_data"
    },
    {
     "data": {
      "text/html": [
       "<br>    <style><br>        .wandb-row {<br>            display: flex;<br>            flex-direction: row;<br>            flex-wrap: wrap;<br>            justify-content: flex-start;<br>            width: 100%;<br>        }<br>        .wandb-col {<br>            display: flex;<br>            flex-direction: column;<br>            flex-basis: 100%;<br>            flex: 1;<br>            padding: 10px;<br>        }<br>    </style><br><div class=\"wandb-row\"><div class=\"wandb-col\"><h3>Run history:</h3><br/><table class=\"wandb\"><tr><td>epoch</td><td>▁▂▃▃▄▅▆▆▇█</td></tr><tr><td>train_accuracy</td><td>▁▅▆▇▇█████</td></tr><tr><td>train_loss</td><td>█▄▃▂▂▂▁▁▁▁</td></tr><tr><td>val_accuracy</td><td>▁▄▅▆█▅█▇▆█</td></tr><tr><td>val_loss</td><td>█▅▄▄▁▅▁▂▃▁</td></tr></table><br/></div><div class=\"wandb-col\"><h3>Run summary:</h3><br/><table class=\"wandb\"><tr><td>epoch</td><td>10</td></tr><tr><td>train_accuracy</td><td>0.97902</td></tr><tr><td>train_loss</td><td>0.00305</td></tr><tr><td>val_accuracy</td><td>0.9639</td></tr><tr><td>val_loss</td><td>0.00561</td></tr></table><br/></div></div>"
      ],
      "text/plain": [
       "<IPython.core.display.HTML object>"
      ]
     },
     "metadata": {},
     "output_type": "display_data"
    },
    {
     "data": {
      "text/html": [
       " View run <strong style=\"color:#cdcd00\">hl_4_bs_64_ac_tanh_e_10</strong> at: <a href='https://wandb.ai/vinyk-sd-indian-institute-of-technology-madras/Assignment_Attempt3/runs/b6xqil1m' target=\"_blank\">https://wandb.ai/vinyk-sd-indian-institute-of-technology-madras/Assignment_Attempt3/runs/b6xqil1m</a><br> View project at: <a href='https://wandb.ai/vinyk-sd-indian-institute-of-technology-madras/Assignment_Attempt3' target=\"_blank\">https://wandb.ai/vinyk-sd-indian-institute-of-technology-madras/Assignment_Attempt3</a><br>Synced 5 W&B file(s), 0 media file(s), 0 artifact file(s) and 0 other file(s)"
      ],
      "text/plain": [
       "<IPython.core.display.HTML object>"
      ]
     },
     "metadata": {},
     "output_type": "display_data"
    },
    {
     "data": {
      "text/html": [
       "Find logs at: <code>./wandb/run-20250317_075725-b6xqil1m/logs</code>"
      ],
      "text/plain": [
       "<IPython.core.display.HTML object>"
      ]
     },
     "metadata": {},
     "output_type": "display_data"
    },
    {
     "name": "stderr",
     "output_type": "stream",
     "text": [
      "\u001b[34m\u001b[1mwandb\u001b[0m: Agent Starting Run: in5a5e69 with config:\n",
      "\u001b[34m\u001b[1mwandb\u001b[0m: \tactivation: tanh\n",
      "\u001b[34m\u001b[1mwandb\u001b[0m: \tbatch_size: 64\n",
      "\u001b[34m\u001b[1mwandb\u001b[0m: \tepochs: 5\n",
      "\u001b[34m\u001b[1mwandb\u001b[0m: \tepsilon: 0.95\n",
      "\u001b[34m\u001b[1mwandb\u001b[0m: \thidden_layers: 4\n",
      "\u001b[34m\u001b[1mwandb\u001b[0m: \thidden_size: 128\n",
      "\u001b[34m\u001b[1mwandb\u001b[0m: \tlearning_rate: 0.001\n",
      "\u001b[34m\u001b[1mwandb\u001b[0m: \toptimizer: adam\n",
      "\u001b[34m\u001b[1mwandb\u001b[0m: \tweight_decay: 0\n",
      "\u001b[34m\u001b[1mwandb\u001b[0m: \tweight_init: xavier\n"
     ]
    },
    {
     "data": {
      "text/html": [
       "Ignoring project 'Assignment1_Attempt3' when running a sweep."
      ],
      "text/plain": [
       "<IPython.core.display.HTML object>"
      ]
     },
     "metadata": {},
     "output_type": "display_data"
    },
    {
     "data": {
      "text/html": [
       "Tracking run with wandb version 0.19.7"
      ],
      "text/plain": [
       "<IPython.core.display.HTML object>"
      ]
     },
     "metadata": {},
     "output_type": "display_data"
    },
    {
     "data": {
      "text/html": [
       "Run data is saved locally in <code>/home/tenet/wandb/run-20250317_075759-in5a5e69</code>"
      ],
      "text/plain": [
       "<IPython.core.display.HTML object>"
      ]
     },
     "metadata": {},
     "output_type": "display_data"
    },
    {
     "data": {
      "text/html": [
       "Syncing run <strong><a href='https://wandb.ai/vinyk-sd-indian-institute-of-technology-madras/Assignment_Attempt3/runs/in5a5e69' target=\"_blank\">fearless-sweep-10</a></strong> to <a href='https://wandb.ai/vinyk-sd-indian-institute-of-technology-madras/Assignment_Attempt3' target=\"_blank\">Weights & Biases</a> (<a href='https://wandb.me/developer-guide' target=\"_blank\">docs</a>)<br>Sweep page: <a href='https://wandb.ai/vinyk-sd-indian-institute-of-technology-madras/Assignment_Attempt3/sweeps/cs09wxtb' target=\"_blank\">https://wandb.ai/vinyk-sd-indian-institute-of-technology-madras/Assignment_Attempt3/sweeps/cs09wxtb</a>"
      ],
      "text/plain": [
       "<IPython.core.display.HTML object>"
      ]
     },
     "metadata": {},
     "output_type": "display_data"
    },
    {
     "data": {
      "text/html": [
       " View project at <a href='https://wandb.ai/vinyk-sd-indian-institute-of-technology-madras/Assignment_Attempt3' target=\"_blank\">https://wandb.ai/vinyk-sd-indian-institute-of-technology-madras/Assignment_Attempt3</a>"
      ],
      "text/plain": [
       "<IPython.core.display.HTML object>"
      ]
     },
     "metadata": {},
     "output_type": "display_data"
    },
    {
     "data": {
      "text/html": [
       " View sweep at <a href='https://wandb.ai/vinyk-sd-indian-institute-of-technology-madras/Assignment_Attempt3/sweeps/cs09wxtb' target=\"_blank\">https://wandb.ai/vinyk-sd-indian-institute-of-technology-madras/Assignment_Attempt3/sweeps/cs09wxtb</a>"
      ],
      "text/plain": [
       "<IPython.core.display.HTML object>"
      ]
     },
     "metadata": {},
     "output_type": "display_data"
    },
    {
     "data": {
      "text/html": [
       " View run at <a href='https://wandb.ai/vinyk-sd-indian-institute-of-technology-madras/Assignment_Attempt3/runs/in5a5e69' target=\"_blank\">https://wandb.ai/vinyk-sd-indian-institute-of-technology-madras/Assignment_Attempt3/runs/in5a5e69</a>"
      ],
      "text/plain": [
       "<IPython.core.display.HTML object>"
      ]
     },
     "metadata": {},
     "output_type": "display_data"
    },
    {
     "name": "stdout",
     "output_type": "stream",
     "text": [
      "hl_4_bs_64_ac_tanh_e_5\n",
      "Epoch 1: Train Loss=0.0146, Train Acc=0.9010, Val Loss=0.0105, Val Acc=0.9309\n",
      "Epoch 2: Train Loss=0.0078, Train Acc=0.9480, Val Loss=0.0078, Val Acc=0.9494\n",
      "Epoch 3: Train Loss=0.0061, Train Acc=0.9586, Val Loss=0.0069, Val Acc=0.9565\n",
      "Epoch 4: Train Loss=0.0051, Train Acc=0.9663, Val Loss=0.0063, Val Acc=0.9586\n",
      "Epoch 5: Train Loss=0.0042, Train Acc=0.9712, Val Loss=0.0061, Val Acc=0.9617\n"
     ]
    },
    {
     "data": {
      "text/html": [],
      "text/plain": [
       "<IPython.core.display.HTML object>"
      ]
     },
     "metadata": {},
     "output_type": "display_data"
    },
    {
     "data": {
      "text/html": [
       "<br>    <style><br>        .wandb-row {<br>            display: flex;<br>            flex-direction: row;<br>            flex-wrap: wrap;<br>            justify-content: flex-start;<br>            width: 100%;<br>        }<br>        .wandb-col {<br>            display: flex;<br>            flex-direction: column;<br>            flex-basis: 100%;<br>            flex: 1;<br>            padding: 10px;<br>        }<br>    </style><br><div class=\"wandb-row\"><div class=\"wandb-col\"><h3>Run history:</h3><br/><table class=\"wandb\"><tr><td>epoch</td><td>▁▃▅▆█</td></tr><tr><td>train_accuracy</td><td>▁▆▇██</td></tr><tr><td>train_loss</td><td>█▃▂▂▁</td></tr><tr><td>val_accuracy</td><td>▁▅▇▇█</td></tr><tr><td>val_loss</td><td>█▄▂▁▁</td></tr></table><br/></div><div class=\"wandb-col\"><h3>Run summary:</h3><br/><table class=\"wandb\"><tr><td>epoch</td><td>5</td></tr><tr><td>train_accuracy</td><td>0.97123</td></tr><tr><td>train_loss</td><td>0.00424</td></tr><tr><td>val_accuracy</td><td>0.9617</td></tr><tr><td>val_loss</td><td>0.00612</td></tr></table><br/></div></div>"
      ],
      "text/plain": [
       "<IPython.core.display.HTML object>"
      ]
     },
     "metadata": {},
     "output_type": "display_data"
    },
    {
     "data": {
      "text/html": [
       " View run <strong style=\"color:#cdcd00\">hl_4_bs_64_ac_tanh_e_5</strong> at: <a href='https://wandb.ai/vinyk-sd-indian-institute-of-technology-madras/Assignment_Attempt3/runs/in5a5e69' target=\"_blank\">https://wandb.ai/vinyk-sd-indian-institute-of-technology-madras/Assignment_Attempt3/runs/in5a5e69</a><br> View project at: <a href='https://wandb.ai/vinyk-sd-indian-institute-of-technology-madras/Assignment_Attempt3' target=\"_blank\">https://wandb.ai/vinyk-sd-indian-institute-of-technology-madras/Assignment_Attempt3</a><br>Synced 5 W&B file(s), 0 media file(s), 0 artifact file(s) and 0 other file(s)"
      ],
      "text/plain": [
       "<IPython.core.display.HTML object>"
      ]
     },
     "metadata": {},
     "output_type": "display_data"
    },
    {
     "data": {
      "text/html": [
       "Find logs at: <code>./wandb/run-20250317_075759-in5a5e69/logs</code>"
      ],
      "text/plain": [
       "<IPython.core.display.HTML object>"
      ]
     },
     "metadata": {},
     "output_type": "display_data"
    },
    {
     "name": "stderr",
     "output_type": "stream",
     "text": [
      "\u001b[34m\u001b[1mwandb\u001b[0m: Sweep Agent: Waiting for job.\n",
      "\u001b[34m\u001b[1mwandb\u001b[0m: Job received.\n",
      "\u001b[34m\u001b[1mwandb\u001b[0m: Agent Starting Run: 7zt0cnxf with config:\n",
      "\u001b[34m\u001b[1mwandb\u001b[0m: \tactivation: tanh\n",
      "\u001b[34m\u001b[1mwandb\u001b[0m: \tbatch_size: 64\n",
      "\u001b[34m\u001b[1mwandb\u001b[0m: \tepochs: 5\n",
      "\u001b[34m\u001b[1mwandb\u001b[0m: \tepsilon: 0.95\n",
      "\u001b[34m\u001b[1mwandb\u001b[0m: \thidden_layers: 3\n",
      "\u001b[34m\u001b[1mwandb\u001b[0m: \thidden_size: 128\n",
      "\u001b[34m\u001b[1mwandb\u001b[0m: \tlearning_rate: 0.0001\n",
      "\u001b[34m\u001b[1mwandb\u001b[0m: \toptimizer: nadam\n",
      "\u001b[34m\u001b[1mwandb\u001b[0m: \tweight_decay: 0.5\n",
      "\u001b[34m\u001b[1mwandb\u001b[0m: \tweight_init: xavier\n"
     ]
    },
    {
     "data": {
      "text/html": [
       "Ignoring project 'Assignment1_Attempt3' when running a sweep."
      ],
      "text/plain": [
       "<IPython.core.display.HTML object>"
      ]
     },
     "metadata": {},
     "output_type": "display_data"
    },
    {
     "data": {
      "text/html": [
       "Tracking run with wandb version 0.19.7"
      ],
      "text/plain": [
       "<IPython.core.display.HTML object>"
      ]
     },
     "metadata": {},
     "output_type": "display_data"
    },
    {
     "data": {
      "text/html": [
       "Run data is saved locally in <code>/home/tenet/wandb/run-20250317_075836-7zt0cnxf</code>"
      ],
      "text/plain": [
       "<IPython.core.display.HTML object>"
      ]
     },
     "metadata": {},
     "output_type": "display_data"
    },
    {
     "data": {
      "text/html": [
       "Syncing run <strong><a href='https://wandb.ai/vinyk-sd-indian-institute-of-technology-madras/Assignment_Attempt3/runs/7zt0cnxf' target=\"_blank\">deep-sweep-11</a></strong> to <a href='https://wandb.ai/vinyk-sd-indian-institute-of-technology-madras/Assignment_Attempt3' target=\"_blank\">Weights & Biases</a> (<a href='https://wandb.me/developer-guide' target=\"_blank\">docs</a>)<br>Sweep page: <a href='https://wandb.ai/vinyk-sd-indian-institute-of-technology-madras/Assignment_Attempt3/sweeps/cs09wxtb' target=\"_blank\">https://wandb.ai/vinyk-sd-indian-institute-of-technology-madras/Assignment_Attempt3/sweeps/cs09wxtb</a>"
      ],
      "text/plain": [
       "<IPython.core.display.HTML object>"
      ]
     },
     "metadata": {},
     "output_type": "display_data"
    },
    {
     "data": {
      "text/html": [
       " View project at <a href='https://wandb.ai/vinyk-sd-indian-institute-of-technology-madras/Assignment_Attempt3' target=\"_blank\">https://wandb.ai/vinyk-sd-indian-institute-of-technology-madras/Assignment_Attempt3</a>"
      ],
      "text/plain": [
       "<IPython.core.display.HTML object>"
      ]
     },
     "metadata": {},
     "output_type": "display_data"
    },
    {
     "data": {
      "text/html": [
       " View sweep at <a href='https://wandb.ai/vinyk-sd-indian-institute-of-technology-madras/Assignment_Attempt3/sweeps/cs09wxtb' target=\"_blank\">https://wandb.ai/vinyk-sd-indian-institute-of-technology-madras/Assignment_Attempt3/sweeps/cs09wxtb</a>"
      ],
      "text/plain": [
       "<IPython.core.display.HTML object>"
      ]
     },
     "metadata": {},
     "output_type": "display_data"
    },
    {
     "data": {
      "text/html": [
       " View run at <a href='https://wandb.ai/vinyk-sd-indian-institute-of-technology-madras/Assignment_Attempt3/runs/7zt0cnxf' target=\"_blank\">https://wandb.ai/vinyk-sd-indian-institute-of-technology-madras/Assignment_Attempt3/runs/7zt0cnxf</a>"
      ],
      "text/plain": [
       "<IPython.core.display.HTML object>"
      ]
     },
     "metadata": {},
     "output_type": "display_data"
    },
    {
     "name": "stdout",
     "output_type": "stream",
     "text": [
      "hl_3_bs_64_ac_tanh_e_5\n",
      "Epoch 1: Train Loss=0.0268, Train Acc=0.8179, Val Loss=0.0144, Val Acc=0.9059\n",
      "Epoch 2: Train Loss=0.0135, Train Acc=0.9099, Val Loss=0.0121, Val Acc=0.9200\n",
      "Epoch 3: Train Loss=0.0115, Train Acc=0.9234, Val Loss=0.0108, Val Acc=0.9279\n",
      "Epoch 4: Train Loss=0.0102, Train Acc=0.9327, Val Loss=0.0100, Val Acc=0.9343\n",
      "Epoch 5: Train Loss=0.0092, Train Acc=0.9392, Val Loss=0.0093, Val Acc=0.9387\n"
     ]
    },
    {
     "data": {
      "text/html": [],
      "text/plain": [
       "<IPython.core.display.HTML object>"
      ]
     },
     "metadata": {},
     "output_type": "display_data"
    },
    {
     "data": {
      "text/html": [
       "<br>    <style><br>        .wandb-row {<br>            display: flex;<br>            flex-direction: row;<br>            flex-wrap: wrap;<br>            justify-content: flex-start;<br>            width: 100%;<br>        }<br>        .wandb-col {<br>            display: flex;<br>            flex-direction: column;<br>            flex-basis: 100%;<br>            flex: 1;<br>            padding: 10px;<br>        }<br>    </style><br><div class=\"wandb-row\"><div class=\"wandb-col\"><h3>Run history:</h3><br/><table class=\"wandb\"><tr><td>epoch</td><td>▁▃▅▆█</td></tr><tr><td>train_accuracy</td><td>▁▆▇██</td></tr><tr><td>train_loss</td><td>█▃▂▁▁</td></tr><tr><td>val_accuracy</td><td>▁▄▆▇█</td></tr><tr><td>val_loss</td><td>█▅▃▂▁</td></tr></table><br/></div><div class=\"wandb-col\"><h3>Run summary:</h3><br/><table class=\"wandb\"><tr><td>epoch</td><td>5</td></tr><tr><td>train_accuracy</td><td>0.93922</td></tr><tr><td>train_loss</td><td>0.00921</td></tr><tr><td>val_accuracy</td><td>0.9387</td></tr><tr><td>val_loss</td><td>0.00931</td></tr></table><br/></div></div>"
      ],
      "text/plain": [
       "<IPython.core.display.HTML object>"
      ]
     },
     "metadata": {},
     "output_type": "display_data"
    },
    {
     "data": {
      "text/html": [
       " View run <strong style=\"color:#cdcd00\">hl_3_bs_64_ac_tanh_e_5</strong> at: <a href='https://wandb.ai/vinyk-sd-indian-institute-of-technology-madras/Assignment_Attempt3/runs/7zt0cnxf' target=\"_blank\">https://wandb.ai/vinyk-sd-indian-institute-of-technology-madras/Assignment_Attempt3/runs/7zt0cnxf</a><br> View project at: <a href='https://wandb.ai/vinyk-sd-indian-institute-of-technology-madras/Assignment_Attempt3' target=\"_blank\">https://wandb.ai/vinyk-sd-indian-institute-of-technology-madras/Assignment_Attempt3</a><br>Synced 5 W&B file(s), 0 media file(s), 0 artifact file(s) and 0 other file(s)"
      ],
      "text/plain": [
       "<IPython.core.display.HTML object>"
      ]
     },
     "metadata": {},
     "output_type": "display_data"
    },
    {
     "data": {
      "text/html": [
       "Find logs at: <code>./wandb/run-20250317_075836-7zt0cnxf/logs</code>"
      ],
      "text/plain": [
       "<IPython.core.display.HTML object>"
      ]
     },
     "metadata": {},
     "output_type": "display_data"
    },
    {
     "name": "stderr",
     "output_type": "stream",
     "text": [
      "\u001b[34m\u001b[1mwandb\u001b[0m: Agent Starting Run: srahms1a with config:\n",
      "\u001b[34m\u001b[1mwandb\u001b[0m: \tactivation: relu\n",
      "\u001b[34m\u001b[1mwandb\u001b[0m: \tbatch_size: 64\n",
      "\u001b[34m\u001b[1mwandb\u001b[0m: \tepochs: 5\n",
      "\u001b[34m\u001b[1mwandb\u001b[0m: \tepsilon: 0.95\n",
      "\u001b[34m\u001b[1mwandb\u001b[0m: \thidden_layers: 3\n",
      "\u001b[34m\u001b[1mwandb\u001b[0m: \thidden_size: 64\n",
      "\u001b[34m\u001b[1mwandb\u001b[0m: \tlearning_rate: 0.001\n",
      "\u001b[34m\u001b[1mwandb\u001b[0m: \toptimizer: adam\n",
      "\u001b[34m\u001b[1mwandb\u001b[0m: \tweight_decay: 0.5\n",
      "\u001b[34m\u001b[1mwandb\u001b[0m: \tweight_init: xavier\n"
     ]
    },
    {
     "data": {
      "text/html": [
       "Ignoring project 'Assignment1_Attempt3' when running a sweep."
      ],
      "text/plain": [
       "<IPython.core.display.HTML object>"
      ]
     },
     "metadata": {},
     "output_type": "display_data"
    },
    {
     "data": {
      "text/html": [
       "creating run (0.9s)"
      ],
      "text/plain": [
       "<IPython.core.display.HTML object>"
      ]
     },
     "metadata": {},
     "output_type": "display_data"
    },
    {
     "data": {
      "text/html": [
       "Tracking run with wandb version 0.19.7"
      ],
      "text/plain": [
       "<IPython.core.display.HTML object>"
      ]
     },
     "metadata": {},
     "output_type": "display_data"
    },
    {
     "data": {
      "text/html": [
       "Run data is saved locally in <code>/home/tenet/wandb/run-20250317_075905-srahms1a</code>"
      ],
      "text/plain": [
       "<IPython.core.display.HTML object>"
      ]
     },
     "metadata": {},
     "output_type": "display_data"
    },
    {
     "data": {
      "text/html": [
       "Syncing run <strong><a href='https://wandb.ai/vinyk-sd-indian-institute-of-technology-madras/Assignment_Attempt3/runs/srahms1a' target=\"_blank\">visionary-sweep-12</a></strong> to <a href='https://wandb.ai/vinyk-sd-indian-institute-of-technology-madras/Assignment_Attempt3' target=\"_blank\">Weights & Biases</a> (<a href='https://wandb.me/developer-guide' target=\"_blank\">docs</a>)<br>Sweep page: <a href='https://wandb.ai/vinyk-sd-indian-institute-of-technology-madras/Assignment_Attempt3/sweeps/cs09wxtb' target=\"_blank\">https://wandb.ai/vinyk-sd-indian-institute-of-technology-madras/Assignment_Attempt3/sweeps/cs09wxtb</a>"
      ],
      "text/plain": [
       "<IPython.core.display.HTML object>"
      ]
     },
     "metadata": {},
     "output_type": "display_data"
    },
    {
     "data": {
      "text/html": [
       " View project at <a href='https://wandb.ai/vinyk-sd-indian-institute-of-technology-madras/Assignment_Attempt3' target=\"_blank\">https://wandb.ai/vinyk-sd-indian-institute-of-technology-madras/Assignment_Attempt3</a>"
      ],
      "text/plain": [
       "<IPython.core.display.HTML object>"
      ]
     },
     "metadata": {},
     "output_type": "display_data"
    },
    {
     "data": {
      "text/html": [
       " View sweep at <a href='https://wandb.ai/vinyk-sd-indian-institute-of-technology-madras/Assignment_Attempt3/sweeps/cs09wxtb' target=\"_blank\">https://wandb.ai/vinyk-sd-indian-institute-of-technology-madras/Assignment_Attempt3/sweeps/cs09wxtb</a>"
      ],
      "text/plain": [
       "<IPython.core.display.HTML object>"
      ]
     },
     "metadata": {},
     "output_type": "display_data"
    },
    {
     "data": {
      "text/html": [
       " View run at <a href='https://wandb.ai/vinyk-sd-indian-institute-of-technology-madras/Assignment_Attempt3/runs/srahms1a' target=\"_blank\">https://wandb.ai/vinyk-sd-indian-institute-of-technology-madras/Assignment_Attempt3/runs/srahms1a</a>"
      ],
      "text/plain": [
       "<IPython.core.display.HTML object>"
      ]
     },
     "metadata": {},
     "output_type": "display_data"
    },
    {
     "name": "stdout",
     "output_type": "stream",
     "text": [
      "hl_3_bs_64_ac_relu_e_5\n",
      "Epoch 1: Train Loss=0.0184, Train Acc=0.8752, Val Loss=0.0115, Val Acc=0.9242\n",
      "Epoch 2: Train Loss=0.0659, Train Acc=0.6554, Val Loss=0.1794, Val Acc=0.1032\n",
      "Epoch 3: Train Loss=0.1802, Train Acc=0.0989, Val Loss=0.1808, Val Acc=0.0958\n",
      "Epoch 4: Train Loss=0.1801, Train Acc=0.0994, Val Loss=0.1808, Val Acc=0.0958\n",
      "Epoch 5: Train Loss=0.1801, Train Acc=0.0994, Val Loss=0.1773, Val Acc=0.1135\n"
     ]
    },
    {
     "data": {
      "text/html": [],
      "text/plain": [
       "<IPython.core.display.HTML object>"
      ]
     },
     "metadata": {},
     "output_type": "display_data"
    },
    {
     "data": {
      "text/html": [
       "<br>    <style><br>        .wandb-row {<br>            display: flex;<br>            flex-direction: row;<br>            flex-wrap: wrap;<br>            justify-content: flex-start;<br>            width: 100%;<br>        }<br>        .wandb-col {<br>            display: flex;<br>            flex-direction: column;<br>            flex-basis: 100%;<br>            flex: 1;<br>            padding: 10px;<br>        }<br>    </style><br><div class=\"wandb-row\"><div class=\"wandb-col\"><h3>Run history:</h3><br/><table class=\"wandb\"><tr><td>epoch</td><td>▁▃▅▆█</td></tr><tr><td>train_accuracy</td><td>█▆▁▁▁</td></tr><tr><td>train_loss</td><td>▁▃███</td></tr><tr><td>val_accuracy</td><td>█▁▁▁▁</td></tr><tr><td>val_loss</td><td>▁████</td></tr></table><br/></div><div class=\"wandb-col\"><h3>Run summary:</h3><br/><table class=\"wandb\"><tr><td>epoch</td><td>5</td></tr><tr><td>train_accuracy</td><td>0.09942</td></tr><tr><td>train_loss</td><td>0.18012</td></tr><tr><td>val_accuracy</td><td>0.1135</td></tr><tr><td>val_loss</td><td>0.1773</td></tr></table><br/></div></div>"
      ],
      "text/plain": [
       "<IPython.core.display.HTML object>"
      ]
     },
     "metadata": {},
     "output_type": "display_data"
    },
    {
     "data": {
      "text/html": [
       " View run <strong style=\"color:#cdcd00\">hl_3_bs_64_ac_relu_e_5</strong> at: <a href='https://wandb.ai/vinyk-sd-indian-institute-of-technology-madras/Assignment_Attempt3/runs/srahms1a' target=\"_blank\">https://wandb.ai/vinyk-sd-indian-institute-of-technology-madras/Assignment_Attempt3/runs/srahms1a</a><br> View project at: <a href='https://wandb.ai/vinyk-sd-indian-institute-of-technology-madras/Assignment_Attempt3' target=\"_blank\">https://wandb.ai/vinyk-sd-indian-institute-of-technology-madras/Assignment_Attempt3</a><br>Synced 5 W&B file(s), 0 media file(s), 0 artifact file(s) and 0 other file(s)"
      ],
      "text/plain": [
       "<IPython.core.display.HTML object>"
      ]
     },
     "metadata": {},
     "output_type": "display_data"
    },
    {
     "data": {
      "text/html": [
       "Find logs at: <code>./wandb/run-20250317_075905-srahms1a/logs</code>"
      ],
      "text/plain": [
       "<IPython.core.display.HTML object>"
      ]
     },
     "metadata": {},
     "output_type": "display_data"
    },
    {
     "name": "stderr",
     "output_type": "stream",
     "text": [
      "\u001b[34m\u001b[1mwandb\u001b[0m: Agent Starting Run: 82eu02iv with config:\n",
      "\u001b[34m\u001b[1mwandb\u001b[0m: \tactivation: tanh\n",
      "\u001b[34m\u001b[1mwandb\u001b[0m: \tbatch_size: 64\n",
      "\u001b[34m\u001b[1mwandb\u001b[0m: \tepochs: 5\n",
      "\u001b[34m\u001b[1mwandb\u001b[0m: \tepsilon: 0.95\n",
      "\u001b[34m\u001b[1mwandb\u001b[0m: \thidden_layers: 4\n",
      "\u001b[34m\u001b[1mwandb\u001b[0m: \thidden_size: 128\n",
      "\u001b[34m\u001b[1mwandb\u001b[0m: \tlearning_rate: 0.0001\n",
      "\u001b[34m\u001b[1mwandb\u001b[0m: \toptimizer: rmsprop\n",
      "\u001b[34m\u001b[1mwandb\u001b[0m: \tweight_decay: 0.0005\n",
      "\u001b[34m\u001b[1mwandb\u001b[0m: \tweight_init: xavier\n"
     ]
    },
    {
     "data": {
      "text/html": [
       "Ignoring project 'Assignment1_Attempt3' when running a sweep."
      ],
      "text/plain": [
       "<IPython.core.display.HTML object>"
      ]
     },
     "metadata": {},
     "output_type": "display_data"
    },
    {
     "data": {
      "text/html": [
       "Tracking run with wandb version 0.19.7"
      ],
      "text/plain": [
       "<IPython.core.display.HTML object>"
      ]
     },
     "metadata": {},
     "output_type": "display_data"
    },
    {
     "data": {
      "text/html": [
       "Run data is saved locally in <code>/home/tenet/wandb/run-20250317_075922-82eu02iv</code>"
      ],
      "text/plain": [
       "<IPython.core.display.HTML object>"
      ]
     },
     "metadata": {},
     "output_type": "display_data"
    },
    {
     "data": {
      "text/html": [
       "Syncing run <strong><a href='https://wandb.ai/vinyk-sd-indian-institute-of-technology-madras/Assignment_Attempt3/runs/82eu02iv' target=\"_blank\">dandy-sweep-13</a></strong> to <a href='https://wandb.ai/vinyk-sd-indian-institute-of-technology-madras/Assignment_Attempt3' target=\"_blank\">Weights & Biases</a> (<a href='https://wandb.me/developer-guide' target=\"_blank\">docs</a>)<br>Sweep page: <a href='https://wandb.ai/vinyk-sd-indian-institute-of-technology-madras/Assignment_Attempt3/sweeps/cs09wxtb' target=\"_blank\">https://wandb.ai/vinyk-sd-indian-institute-of-technology-madras/Assignment_Attempt3/sweeps/cs09wxtb</a>"
      ],
      "text/plain": [
       "<IPython.core.display.HTML object>"
      ]
     },
     "metadata": {},
     "output_type": "display_data"
    },
    {
     "data": {
      "text/html": [
       " View project at <a href='https://wandb.ai/vinyk-sd-indian-institute-of-technology-madras/Assignment_Attempt3' target=\"_blank\">https://wandb.ai/vinyk-sd-indian-institute-of-technology-madras/Assignment_Attempt3</a>"
      ],
      "text/plain": [
       "<IPython.core.display.HTML object>"
      ]
     },
     "metadata": {},
     "output_type": "display_data"
    },
    {
     "data": {
      "text/html": [
       " View sweep at <a href='https://wandb.ai/vinyk-sd-indian-institute-of-technology-madras/Assignment_Attempt3/sweeps/cs09wxtb' target=\"_blank\">https://wandb.ai/vinyk-sd-indian-institute-of-technology-madras/Assignment_Attempt3/sweeps/cs09wxtb</a>"
      ],
      "text/plain": [
       "<IPython.core.display.HTML object>"
      ]
     },
     "metadata": {},
     "output_type": "display_data"
    },
    {
     "data": {
      "text/html": [
       " View run at <a href='https://wandb.ai/vinyk-sd-indian-institute-of-technology-madras/Assignment_Attempt3/runs/82eu02iv' target=\"_blank\">https://wandb.ai/vinyk-sd-indian-institute-of-technology-madras/Assignment_Attempt3/runs/82eu02iv</a>"
      ],
      "text/plain": [
       "<IPython.core.display.HTML object>"
      ]
     },
     "metadata": {},
     "output_type": "display_data"
    },
    {
     "name": "stdout",
     "output_type": "stream",
     "text": [
      "hl_4_bs_64_ac_tanh_e_5\n",
      "Epoch 1: Train Loss=0.0151, Train Acc=0.8985, Val Loss=0.0116, Val Acc=0.9210\n",
      "Epoch 2: Train Loss=0.0106, Train Acc=0.9295, Val Loss=0.0100, Val Acc=0.9330\n",
      "Epoch 3: Train Loss=0.0092, Train Acc=0.9389, Val Loss=0.0091, Val Acc=0.9391\n",
      "Epoch 4: Train Loss=0.0082, Train Acc=0.9449, Val Loss=0.0084, Val Acc=0.9433\n",
      "Epoch 5: Train Loss=0.0075, Train Acc=0.9496, Val Loss=0.0079, Val Acc=0.9480\n"
     ]
    },
    {
     "data": {
      "text/html": [],
      "text/plain": [
       "<IPython.core.display.HTML object>"
      ]
     },
     "metadata": {},
     "output_type": "display_data"
    },
    {
     "data": {
      "text/html": [
       "<br>    <style><br>        .wandb-row {<br>            display: flex;<br>            flex-direction: row;<br>            flex-wrap: wrap;<br>            justify-content: flex-start;<br>            width: 100%;<br>        }<br>        .wandb-col {<br>            display: flex;<br>            flex-direction: column;<br>            flex-basis: 100%;<br>            flex: 1;<br>            padding: 10px;<br>        }<br>    </style><br><div class=\"wandb-row\"><div class=\"wandb-col\"><h3>Run history:</h3><br/><table class=\"wandb\"><tr><td>epoch</td><td>▁▃▅▆█</td></tr><tr><td>train_accuracy</td><td>▁▅▇▇█</td></tr><tr><td>train_loss</td><td>█▄▃▂▁</td></tr><tr><td>val_accuracy</td><td>▁▄▆▇█</td></tr><tr><td>val_loss</td><td>█▅▃▂▁</td></tr></table><br/></div><div class=\"wandb-col\"><h3>Run summary:</h3><br/><table class=\"wandb\"><tr><td>epoch</td><td>5</td></tr><tr><td>train_accuracy</td><td>0.94957</td></tr><tr><td>train_loss</td><td>0.00752</td></tr><tr><td>val_accuracy</td><td>0.948</td></tr><tr><td>val_loss</td><td>0.00793</td></tr></table><br/></div></div>"
      ],
      "text/plain": [
       "<IPython.core.display.HTML object>"
      ]
     },
     "metadata": {},
     "output_type": "display_data"
    },
    {
     "data": {
      "text/html": [
       " View run <strong style=\"color:#cdcd00\">hl_4_bs_64_ac_tanh_e_5</strong> at: <a href='https://wandb.ai/vinyk-sd-indian-institute-of-technology-madras/Assignment_Attempt3/runs/82eu02iv' target=\"_blank\">https://wandb.ai/vinyk-sd-indian-institute-of-technology-madras/Assignment_Attempt3/runs/82eu02iv</a><br> View project at: <a href='https://wandb.ai/vinyk-sd-indian-institute-of-technology-madras/Assignment_Attempt3' target=\"_blank\">https://wandb.ai/vinyk-sd-indian-institute-of-technology-madras/Assignment_Attempt3</a><br>Synced 5 W&B file(s), 0 media file(s), 0 artifact file(s) and 0 other file(s)"
      ],
      "text/plain": [
       "<IPython.core.display.HTML object>"
      ]
     },
     "metadata": {},
     "output_type": "display_data"
    },
    {
     "data": {
      "text/html": [
       "Find logs at: <code>./wandb/run-20250317_075922-82eu02iv/logs</code>"
      ],
      "text/plain": [
       "<IPython.core.display.HTML object>"
      ]
     },
     "metadata": {},
     "output_type": "display_data"
    },
    {
     "name": "stderr",
     "output_type": "stream",
     "text": [
      "\u001b[34m\u001b[1mwandb\u001b[0m: Sweep Agent: Waiting for job.\n",
      "\u001b[34m\u001b[1mwandb\u001b[0m: Job received.\n",
      "\u001b[34m\u001b[1mwandb\u001b[0m: Agent Starting Run: a4ismiyj with config:\n",
      "\u001b[34m\u001b[1mwandb\u001b[0m: \tactivation: sigmoid\n",
      "\u001b[34m\u001b[1mwandb\u001b[0m: \tbatch_size: 64\n",
      "\u001b[34m\u001b[1mwandb\u001b[0m: \tepochs: 10\n",
      "\u001b[34m\u001b[1mwandb\u001b[0m: \tepsilon: 0.95\n",
      "\u001b[34m\u001b[1mwandb\u001b[0m: \thidden_layers: 4\n",
      "\u001b[34m\u001b[1mwandb\u001b[0m: \thidden_size: 128\n",
      "\u001b[34m\u001b[1mwandb\u001b[0m: \tlearning_rate: 0.001\n",
      "\u001b[34m\u001b[1mwandb\u001b[0m: \toptimizer: nadam\n",
      "\u001b[34m\u001b[1mwandb\u001b[0m: \tweight_decay: 0\n",
      "\u001b[34m\u001b[1mwandb\u001b[0m: \tweight_init: xavier\n"
     ]
    },
    {
     "data": {
      "text/html": [
       "Ignoring project 'Assignment1_Attempt3' when running a sweep."
      ],
      "text/plain": [
       "<IPython.core.display.HTML object>"
      ]
     },
     "metadata": {},
     "output_type": "display_data"
    },
    {
     "data": {
      "text/html": [
       "Tracking run with wandb version 0.19.7"
      ],
      "text/plain": [
       "<IPython.core.display.HTML object>"
      ]
     },
     "metadata": {},
     "output_type": "display_data"
    },
    {
     "data": {
      "text/html": [
       "Run data is saved locally in <code>/home/tenet/wandb/run-20250317_075953-a4ismiyj</code>"
      ],
      "text/plain": [
       "<IPython.core.display.HTML object>"
      ]
     },
     "metadata": {},
     "output_type": "display_data"
    },
    {
     "data": {
      "text/html": [
       "Syncing run <strong><a href='https://wandb.ai/vinyk-sd-indian-institute-of-technology-madras/Assignment_Attempt3/runs/a4ismiyj' target=\"_blank\">cool-sweep-14</a></strong> to <a href='https://wandb.ai/vinyk-sd-indian-institute-of-technology-madras/Assignment_Attempt3' target=\"_blank\">Weights & Biases</a> (<a href='https://wandb.me/developer-guide' target=\"_blank\">docs</a>)<br>Sweep page: <a href='https://wandb.ai/vinyk-sd-indian-institute-of-technology-madras/Assignment_Attempt3/sweeps/cs09wxtb' target=\"_blank\">https://wandb.ai/vinyk-sd-indian-institute-of-technology-madras/Assignment_Attempt3/sweeps/cs09wxtb</a>"
      ],
      "text/plain": [
       "<IPython.core.display.HTML object>"
      ]
     },
     "metadata": {},
     "output_type": "display_data"
    },
    {
     "data": {
      "text/html": [
       " View project at <a href='https://wandb.ai/vinyk-sd-indian-institute-of-technology-madras/Assignment_Attempt3' target=\"_blank\">https://wandb.ai/vinyk-sd-indian-institute-of-technology-madras/Assignment_Attempt3</a>"
      ],
      "text/plain": [
       "<IPython.core.display.HTML object>"
      ]
     },
     "metadata": {},
     "output_type": "display_data"
    },
    {
     "data": {
      "text/html": [
       " View sweep at <a href='https://wandb.ai/vinyk-sd-indian-institute-of-technology-madras/Assignment_Attempt3/sweeps/cs09wxtb' target=\"_blank\">https://wandb.ai/vinyk-sd-indian-institute-of-technology-madras/Assignment_Attempt3/sweeps/cs09wxtb</a>"
      ],
      "text/plain": [
       "<IPython.core.display.HTML object>"
      ]
     },
     "metadata": {},
     "output_type": "display_data"
    },
    {
     "data": {
      "text/html": [
       " View run at <a href='https://wandb.ai/vinyk-sd-indian-institute-of-technology-madras/Assignment_Attempt3/runs/a4ismiyj' target=\"_blank\">https://wandb.ai/vinyk-sd-indian-institute-of-technology-madras/Assignment_Attempt3/runs/a4ismiyj</a>"
      ],
      "text/plain": [
       "<IPython.core.display.HTML object>"
      ]
     },
     "metadata": {},
     "output_type": "display_data"
    },
    {
     "name": "stdout",
     "output_type": "stream",
     "text": [
      "hl_4_bs_64_ac_sigmoid_e_10\n",
      "Epoch 1: Train Loss=0.0415, Train Acc=0.7141, Val Loss=0.0258, Val Acc=0.8767\n",
      "Epoch 2: Train Loss=0.0460, Train Acc=0.6445, Val Loss=0.0356, Val Acc=0.7742\n",
      "Epoch 3: Train Loss=0.0348, Train Acc=0.7336, Val Loss=0.0312, Val Acc=0.7832\n",
      "Epoch 4: Train Loss=0.0267, Train Acc=0.8092, Val Loss=0.0233, Val Acc=0.8190\n",
      "Epoch 5: Train Loss=0.0209, Train Acc=0.8457, Val Loss=0.0202, Val Acc=0.8872\n",
      "Epoch 6: Train Loss=0.0154, Train Acc=0.9087, Val Loss=0.0179, Val Acc=0.8905\n",
      "Epoch 7: Train Loss=0.0138, Train Acc=0.9133, Val Loss=0.0148, Val Acc=0.9065\n",
      "Epoch 8: Train Loss=0.0124, Train Acc=0.9196, Val Loss=0.0127, Val Acc=0.9195\n",
      "Epoch 9: Train Loss=0.0114, Train Acc=0.9239, Val Loss=0.0115, Val Acc=0.9255\n",
      "Epoch 10: Train Loss=0.0106, Train Acc=0.9283, Val Loss=0.0118, Val Acc=0.9230\n"
     ]
    },
    {
     "data": {
      "text/html": [],
      "text/plain": [
       "<IPython.core.display.HTML object>"
      ]
     },
     "metadata": {},
     "output_type": "display_data"
    },
    {
     "data": {
      "text/html": [
       "<br>    <style><br>        .wandb-row {<br>            display: flex;<br>            flex-direction: row;<br>            flex-wrap: wrap;<br>            justify-content: flex-start;<br>            width: 100%;<br>        }<br>        .wandb-col {<br>            display: flex;<br>            flex-direction: column;<br>            flex-basis: 100%;<br>            flex: 1;<br>            padding: 10px;<br>        }<br>    </style><br><div class=\"wandb-row\"><div class=\"wandb-col\"><h3>Run history:</h3><br/><table class=\"wandb\"><tr><td>epoch</td><td>▁▂▃▃▄▅▆▆▇█</td></tr><tr><td>train_accuracy</td><td>▃▁▃▅▆█████</td></tr><tr><td>train_loss</td><td>▇█▆▄▃▂▂▁▁▁</td></tr><tr><td>val_accuracy</td><td>▆▁▁▃▆▆▇███</td></tr><tr><td>val_loss</td><td>▅█▇▄▄▃▂▁▁▁</td></tr></table><br/></div><div class=\"wandb-col\"><h3>Run summary:</h3><br/><table class=\"wandb\"><tr><td>epoch</td><td>10</td></tr><tr><td>train_accuracy</td><td>0.92826</td></tr><tr><td>train_loss</td><td>0.01065</td></tr><tr><td>val_accuracy</td><td>0.923</td></tr><tr><td>val_loss</td><td>0.01175</td></tr></table><br/></div></div>"
      ],
      "text/plain": [
       "<IPython.core.display.HTML object>"
      ]
     },
     "metadata": {},
     "output_type": "display_data"
    },
    {
     "data": {
      "text/html": [
       " View run <strong style=\"color:#cdcd00\">hl_4_bs_64_ac_sigmoid_e_10</strong> at: <a href='https://wandb.ai/vinyk-sd-indian-institute-of-technology-madras/Assignment_Attempt3/runs/a4ismiyj' target=\"_blank\">https://wandb.ai/vinyk-sd-indian-institute-of-technology-madras/Assignment_Attempt3/runs/a4ismiyj</a><br> View project at: <a href='https://wandb.ai/vinyk-sd-indian-institute-of-technology-madras/Assignment_Attempt3' target=\"_blank\">https://wandb.ai/vinyk-sd-indian-institute-of-technology-madras/Assignment_Attempt3</a><br>Synced 5 W&B file(s), 0 media file(s), 0 artifact file(s) and 0 other file(s)"
      ],
      "text/plain": [
       "<IPython.core.display.HTML object>"
      ]
     },
     "metadata": {},
     "output_type": "display_data"
    },
    {
     "data": {
      "text/html": [
       "Find logs at: <code>./wandb/run-20250317_075953-a4ismiyj/logs</code>"
      ],
      "text/plain": [
       "<IPython.core.display.HTML object>"
      ]
     },
     "metadata": {},
     "output_type": "display_data"
    },
    {
     "name": "stderr",
     "output_type": "stream",
     "text": [
      "\u001b[34m\u001b[1mwandb\u001b[0m: Agent Starting Run: 7cbkazr1 with config:\n",
      "\u001b[34m\u001b[1mwandb\u001b[0m: \tactivation: sigmoid\n",
      "\u001b[34m\u001b[1mwandb\u001b[0m: \tbatch_size: 64\n",
      "\u001b[34m\u001b[1mwandb\u001b[0m: \tepochs: 15\n",
      "\u001b[34m\u001b[1mwandb\u001b[0m: \tepsilon: 0.95\n",
      "\u001b[34m\u001b[1mwandb\u001b[0m: \thidden_layers: 4\n",
      "\u001b[34m\u001b[1mwandb\u001b[0m: \thidden_size: 128\n",
      "\u001b[34m\u001b[1mwandb\u001b[0m: \tlearning_rate: 0.001\n",
      "\u001b[34m\u001b[1mwandb\u001b[0m: \toptimizer: rmsprop\n",
      "\u001b[34m\u001b[1mwandb\u001b[0m: \tweight_decay: 0\n",
      "\u001b[34m\u001b[1mwandb\u001b[0m: \tweight_init: xavier\n"
     ]
    },
    {
     "data": {
      "text/html": [
       "Ignoring project 'Assignment1_Attempt3' when running a sweep."
      ],
      "text/plain": [
       "<IPython.core.display.HTML object>"
      ]
     },
     "metadata": {},
     "output_type": "display_data"
    },
    {
     "data": {
      "text/html": [
       "creating run (0.9s)"
      ],
      "text/plain": [
       "<IPython.core.display.HTML object>"
      ]
     },
     "metadata": {},
     "output_type": "display_data"
    },
    {
     "data": {
      "text/html": [
       "Tracking run with wandb version 0.19.7"
      ],
      "text/plain": [
       "<IPython.core.display.HTML object>"
      ]
     },
     "metadata": {},
     "output_type": "display_data"
    },
    {
     "data": {
      "text/html": [
       "Run data is saved locally in <code>/home/tenet/wandb/run-20250317_080055-7cbkazr1</code>"
      ],
      "text/plain": [
       "<IPython.core.display.HTML object>"
      ]
     },
     "metadata": {},
     "output_type": "display_data"
    },
    {
     "data": {
      "text/html": [
       "Syncing run <strong><a href='https://wandb.ai/vinyk-sd-indian-institute-of-technology-madras/Assignment_Attempt3/runs/7cbkazr1' target=\"_blank\">copper-sweep-15</a></strong> to <a href='https://wandb.ai/vinyk-sd-indian-institute-of-technology-madras/Assignment_Attempt3' target=\"_blank\">Weights & Biases</a> (<a href='https://wandb.me/developer-guide' target=\"_blank\">docs</a>)<br>Sweep page: <a href='https://wandb.ai/vinyk-sd-indian-institute-of-technology-madras/Assignment_Attempt3/sweeps/cs09wxtb' target=\"_blank\">https://wandb.ai/vinyk-sd-indian-institute-of-technology-madras/Assignment_Attempt3/sweeps/cs09wxtb</a>"
      ],
      "text/plain": [
       "<IPython.core.display.HTML object>"
      ]
     },
     "metadata": {},
     "output_type": "display_data"
    },
    {
     "data": {
      "text/html": [
       " View project at <a href='https://wandb.ai/vinyk-sd-indian-institute-of-technology-madras/Assignment_Attempt3' target=\"_blank\">https://wandb.ai/vinyk-sd-indian-institute-of-technology-madras/Assignment_Attempt3</a>"
      ],
      "text/plain": [
       "<IPython.core.display.HTML object>"
      ]
     },
     "metadata": {},
     "output_type": "display_data"
    },
    {
     "data": {
      "text/html": [
       " View sweep at <a href='https://wandb.ai/vinyk-sd-indian-institute-of-technology-madras/Assignment_Attempt3/sweeps/cs09wxtb' target=\"_blank\">https://wandb.ai/vinyk-sd-indian-institute-of-technology-madras/Assignment_Attempt3/sweeps/cs09wxtb</a>"
      ],
      "text/plain": [
       "<IPython.core.display.HTML object>"
      ]
     },
     "metadata": {},
     "output_type": "display_data"
    },
    {
     "data": {
      "text/html": [
       " View run at <a href='https://wandb.ai/vinyk-sd-indian-institute-of-technology-madras/Assignment_Attempt3/runs/7cbkazr1' target=\"_blank\">https://wandb.ai/vinyk-sd-indian-institute-of-technology-madras/Assignment_Attempt3/runs/7cbkazr1</a>"
      ],
      "text/plain": [
       "<IPython.core.display.HTML object>"
      ]
     },
     "metadata": {},
     "output_type": "display_data"
    },
    {
     "name": "stdout",
     "output_type": "stream",
     "text": [
      "hl_4_bs_64_ac_sigmoid_e_15\n",
      "Epoch 1: Train Loss=0.0337, Train Acc=0.7276, Val Loss=0.0144, Val Acc=0.9057\n",
      "Epoch 2: Train Loss=0.0109, Train Acc=0.9274, Val Loss=0.0093, Val Acc=0.9393\n",
      "Epoch 3: Train Loss=0.0084, Train Acc=0.9432, Val Loss=0.0082, Val Acc=0.9473\n",
      "Epoch 4: Train Loss=0.0072, Train Acc=0.9505, Val Loss=0.0075, Val Acc=0.9511\n",
      "Epoch 5: Train Loss=0.0064, Train Acc=0.9554, Val Loss=0.0076, Val Acc=0.9501\n",
      "Epoch 6: Train Loss=0.0060, Train Acc=0.9575, Val Loss=0.0077, Val Acc=0.9489\n",
      "Epoch 7: Train Loss=0.0057, Train Acc=0.9594, Val Loss=0.0081, Val Acc=0.9480\n",
      "Epoch 8: Train Loss=0.0054, Train Acc=0.9613, Val Loss=0.0072, Val Acc=0.9529\n",
      "Epoch 9: Train Loss=0.0051, Train Acc=0.9636, Val Loss=0.0073, Val Acc=0.9528\n",
      "Epoch 10: Train Loss=0.0049, Train Acc=0.9641, Val Loss=0.0073, Val Acc=0.9531\n",
      "Epoch 11: Train Loss=0.0047, Train Acc=0.9655, Val Loss=0.0068, Val Acc=0.9566\n",
      "Epoch 12: Train Loss=0.0046, Train Acc=0.9665, Val Loss=0.0065, Val Acc=0.9560\n",
      "Epoch 13: Train Loss=0.0045, Train Acc=0.9673, Val Loss=0.0063, Val Acc=0.9600\n",
      "Epoch 14: Train Loss=0.0044, Train Acc=0.9683, Val Loss=0.0069, Val Acc=0.9583\n",
      "Epoch 15: Train Loss=0.0045, Train Acc=0.9673, Val Loss=0.0062, Val Acc=0.9615\n"
     ]
    },
    {
     "data": {
      "text/html": [],
      "text/plain": [
       "<IPython.core.display.HTML object>"
      ]
     },
     "metadata": {},
     "output_type": "display_data"
    },
    {
     "data": {
      "text/html": [
       "<br>    <style><br>        .wandb-row {<br>            display: flex;<br>            flex-direction: row;<br>            flex-wrap: wrap;<br>            justify-content: flex-start;<br>            width: 100%;<br>        }<br>        .wandb-col {<br>            display: flex;<br>            flex-direction: column;<br>            flex-basis: 100%;<br>            flex: 1;<br>            padding: 10px;<br>        }<br>    </style><br><div class=\"wandb-row\"><div class=\"wandb-col\"><h3>Run history:</h3><br/><table class=\"wandb\"><tr><td>epoch</td><td>▁▁▂▃▃▃▄▅▅▅▆▇▇▇█</td></tr><tr><td>train_accuracy</td><td>▁▇▇▇███████████</td></tr><tr><td>train_loss</td><td>█▃▂▂▁▁▁▁▁▁▁▁▁▁▁</td></tr><tr><td>val_accuracy</td><td>▁▅▆▇▇▆▆▇▇▇▇▇███</td></tr><tr><td>val_loss</td><td>█▄▃▂▂▂▃▂▂▂▂▁▁▂▁</td></tr></table><br/></div><div class=\"wandb-col\"><h3>Run summary:</h3><br/><table class=\"wandb\"><tr><td>epoch</td><td>15</td></tr><tr><td>train_accuracy</td><td>0.96732</td></tr><tr><td>train_loss</td><td>0.00447</td></tr><tr><td>val_accuracy</td><td>0.9615</td></tr><tr><td>val_loss</td><td>0.00616</td></tr></table><br/></div></div>"
      ],
      "text/plain": [
       "<IPython.core.display.HTML object>"
      ]
     },
     "metadata": {},
     "output_type": "display_data"
    },
    {
     "data": {
      "text/html": [
       " View run <strong style=\"color:#cdcd00\">hl_4_bs_64_ac_sigmoid_e_15</strong> at: <a href='https://wandb.ai/vinyk-sd-indian-institute-of-technology-madras/Assignment_Attempt3/runs/7cbkazr1' target=\"_blank\">https://wandb.ai/vinyk-sd-indian-institute-of-technology-madras/Assignment_Attempt3/runs/7cbkazr1</a><br> View project at: <a href='https://wandb.ai/vinyk-sd-indian-institute-of-technology-madras/Assignment_Attempt3' target=\"_blank\">https://wandb.ai/vinyk-sd-indian-institute-of-technology-madras/Assignment_Attempt3</a><br>Synced 5 W&B file(s), 0 media file(s), 0 artifact file(s) and 0 other file(s)"
      ],
      "text/plain": [
       "<IPython.core.display.HTML object>"
      ]
     },
     "metadata": {},
     "output_type": "display_data"
    },
    {
     "data": {
      "text/html": [
       "Find logs at: <code>./wandb/run-20250317_080055-7cbkazr1/logs</code>"
      ],
      "text/plain": [
       "<IPython.core.display.HTML object>"
      ]
     },
     "metadata": {},
     "output_type": "display_data"
    },
    {
     "name": "stderr",
     "output_type": "stream",
     "text": [
      "\u001b[34m\u001b[1mwandb\u001b[0m: Agent Starting Run: mgntl0lu with config:\n",
      "\u001b[34m\u001b[1mwandb\u001b[0m: \tactivation: sigmoid\n",
      "\u001b[34m\u001b[1mwandb\u001b[0m: \tbatch_size: 64\n",
      "\u001b[34m\u001b[1mwandb\u001b[0m: \tepochs: 10\n",
      "\u001b[34m\u001b[1mwandb\u001b[0m: \tepsilon: 0.95\n",
      "\u001b[34m\u001b[1mwandb\u001b[0m: \thidden_layers: 4\n",
      "\u001b[34m\u001b[1mwandb\u001b[0m: \thidden_size: 128\n",
      "\u001b[34m\u001b[1mwandb\u001b[0m: \tlearning_rate: 0.0001\n",
      "\u001b[34m\u001b[1mwandb\u001b[0m: \toptimizer: adam\n",
      "\u001b[34m\u001b[1mwandb\u001b[0m: \tweight_decay: 0.0005\n",
      "\u001b[34m\u001b[1mwandb\u001b[0m: \tweight_init: xavier\n"
     ]
    },
    {
     "data": {
      "text/html": [
       "Ignoring project 'Assignment1_Attempt3' when running a sweep."
      ],
      "text/plain": [
       "<IPython.core.display.HTML object>"
      ]
     },
     "metadata": {},
     "output_type": "display_data"
    },
    {
     "data": {
      "text/html": [
       "Tracking run with wandb version 0.19.7"
      ],
      "text/plain": [
       "<IPython.core.display.HTML object>"
      ]
     },
     "metadata": {},
     "output_type": "display_data"
    },
    {
     "data": {
      "text/html": [
       "Run data is saved locally in <code>/home/tenet/wandb/run-20250317_080200-mgntl0lu</code>"
      ],
      "text/plain": [
       "<IPython.core.display.HTML object>"
      ]
     },
     "metadata": {},
     "output_type": "display_data"
    },
    {
     "data": {
      "text/html": [
       "Syncing run <strong><a href='https://wandb.ai/vinyk-sd-indian-institute-of-technology-madras/Assignment_Attempt3/runs/mgntl0lu' target=\"_blank\">crimson-sweep-16</a></strong> to <a href='https://wandb.ai/vinyk-sd-indian-institute-of-technology-madras/Assignment_Attempt3' target=\"_blank\">Weights & Biases</a> (<a href='https://wandb.me/developer-guide' target=\"_blank\">docs</a>)<br>Sweep page: <a href='https://wandb.ai/vinyk-sd-indian-institute-of-technology-madras/Assignment_Attempt3/sweeps/cs09wxtb' target=\"_blank\">https://wandb.ai/vinyk-sd-indian-institute-of-technology-madras/Assignment_Attempt3/sweeps/cs09wxtb</a>"
      ],
      "text/plain": [
       "<IPython.core.display.HTML object>"
      ]
     },
     "metadata": {},
     "output_type": "display_data"
    },
    {
     "data": {
      "text/html": [
       " View project at <a href='https://wandb.ai/vinyk-sd-indian-institute-of-technology-madras/Assignment_Attempt3' target=\"_blank\">https://wandb.ai/vinyk-sd-indian-institute-of-technology-madras/Assignment_Attempt3</a>"
      ],
      "text/plain": [
       "<IPython.core.display.HTML object>"
      ]
     },
     "metadata": {},
     "output_type": "display_data"
    },
    {
     "data": {
      "text/html": [
       " View sweep at <a href='https://wandb.ai/vinyk-sd-indian-institute-of-technology-madras/Assignment_Attempt3/sweeps/cs09wxtb' target=\"_blank\">https://wandb.ai/vinyk-sd-indian-institute-of-technology-madras/Assignment_Attempt3/sweeps/cs09wxtb</a>"
      ],
      "text/plain": [
       "<IPython.core.display.HTML object>"
      ]
     },
     "metadata": {},
     "output_type": "display_data"
    },
    {
     "data": {
      "text/html": [
       " View run at <a href='https://wandb.ai/vinyk-sd-indian-institute-of-technology-madras/Assignment_Attempt3/runs/mgntl0lu' target=\"_blank\">https://wandb.ai/vinyk-sd-indian-institute-of-technology-madras/Assignment_Attempt3/runs/mgntl0lu</a>"
      ],
      "text/plain": [
       "<IPython.core.display.HTML object>"
      ]
     },
     "metadata": {},
     "output_type": "display_data"
    },
    {
     "name": "stdout",
     "output_type": "stream",
     "text": [
      "hl_4_bs_64_ac_sigmoid_e_10\n",
      "Epoch 1: Train Loss=0.0857, Train Acc=0.2247, Val Loss=0.0724, Val Acc=0.3928\n",
      "Epoch 2: Train Loss=0.0600, Train Acc=0.5198, Val Loss=0.0510, Val Acc=0.6374\n",
      "Epoch 3: Train Loss=0.0475, Train Acc=0.7007, Val Loss=0.0449, Val Acc=0.7402\n",
      "Epoch 4: Train Loss=0.0441, Train Acc=0.7499, Val Loss=0.0429, Val Acc=0.7768\n",
      "Epoch 5: Train Loss=0.0417, Train Acc=0.7731, Val Loss=0.0400, Val Acc=0.7949\n",
      "Epoch 6: Train Loss=0.0389, Train Acc=0.7943, Val Loss=0.0372, Val Acc=0.8082\n",
      "Epoch 7: Train Loss=0.0365, Train Acc=0.8075, Val Loss=0.0350, Val Acc=0.8158\n",
      "Epoch 8: Train Loss=0.0337, Train Acc=0.8173, Val Loss=0.0320, Val Acc=0.8228\n",
      "Epoch 9: Train Loss=0.0309, Train Acc=0.8238, Val Loss=0.0294, Val Acc=0.8280\n",
      "Epoch 10: Train Loss=0.0287, Train Acc=0.8296, Val Loss=0.0277, Val Acc=0.8331\n"
     ]
    },
    {
     "data": {
      "text/html": [],
      "text/plain": [
       "<IPython.core.display.HTML object>"
      ]
     },
     "metadata": {},
     "output_type": "display_data"
    },
    {
     "data": {
      "text/html": [
       "<br>    <style><br>        .wandb-row {<br>            display: flex;<br>            flex-direction: row;<br>            flex-wrap: wrap;<br>            justify-content: flex-start;<br>            width: 100%;<br>        }<br>        .wandb-col {<br>            display: flex;<br>            flex-direction: column;<br>            flex-basis: 100%;<br>            flex: 1;<br>            padding: 10px;<br>        }<br>    </style><br><div class=\"wandb-row\"><div class=\"wandb-col\"><h3>Run history:</h3><br/><table class=\"wandb\"><tr><td>epoch</td><td>▁▂▃▃▄▅▆▆▇█</td></tr><tr><td>train_accuracy</td><td>▁▄▇▇▇█████</td></tr><tr><td>train_loss</td><td>█▅▃▃▃▂▂▂▁▁</td></tr><tr><td>val_accuracy</td><td>▁▅▇▇▇█████</td></tr><tr><td>val_loss</td><td>█▅▄▃▃▂▂▂▁▁</td></tr></table><br/></div><div class=\"wandb-col\"><h3>Run summary:</h3><br/><table class=\"wandb\"><tr><td>epoch</td><td>10</td></tr><tr><td>train_accuracy</td><td>0.82961</td></tr><tr><td>train_loss</td><td>0.0287</td></tr><tr><td>val_accuracy</td><td>0.8331</td></tr><tr><td>val_loss</td><td>0.02771</td></tr></table><br/></div></div>"
      ],
      "text/plain": [
       "<IPython.core.display.HTML object>"
      ]
     },
     "metadata": {},
     "output_type": "display_data"
    },
    {
     "data": {
      "text/html": [
       " View run <strong style=\"color:#cdcd00\">hl_4_bs_64_ac_sigmoid_e_10</strong> at: <a href='https://wandb.ai/vinyk-sd-indian-institute-of-technology-madras/Assignment_Attempt3/runs/mgntl0lu' target=\"_blank\">https://wandb.ai/vinyk-sd-indian-institute-of-technology-madras/Assignment_Attempt3/runs/mgntl0lu</a><br> View project at: <a href='https://wandb.ai/vinyk-sd-indian-institute-of-technology-madras/Assignment_Attempt3' target=\"_blank\">https://wandb.ai/vinyk-sd-indian-institute-of-technology-madras/Assignment_Attempt3</a><br>Synced 5 W&B file(s), 0 media file(s), 0 artifact file(s) and 0 other file(s)"
      ],
      "text/plain": [
       "<IPython.core.display.HTML object>"
      ]
     },
     "metadata": {},
     "output_type": "display_data"
    },
    {
     "data": {
      "text/html": [
       "Find logs at: <code>./wandb/run-20250317_080200-mgntl0lu/logs</code>"
      ],
      "text/plain": [
       "<IPython.core.display.HTML object>"
      ]
     },
     "metadata": {},
     "output_type": "display_data"
    },
    {
     "name": "stderr",
     "output_type": "stream",
     "text": [
      "\u001b[34m\u001b[1mwandb\u001b[0m: Agent Starting Run: ndi36d48 with config:\n",
      "\u001b[34m\u001b[1mwandb\u001b[0m: \tactivation: relu\n",
      "\u001b[34m\u001b[1mwandb\u001b[0m: \tbatch_size: 64\n",
      "\u001b[34m\u001b[1mwandb\u001b[0m: \tepochs: 5\n",
      "\u001b[34m\u001b[1mwandb\u001b[0m: \tepsilon: 0.95\n",
      "\u001b[34m\u001b[1mwandb\u001b[0m: \thidden_layers: 3\n",
      "\u001b[34m\u001b[1mwandb\u001b[0m: \thidden_size: 128\n",
      "\u001b[34m\u001b[1mwandb\u001b[0m: \tlearning_rate: 0.0001\n",
      "\u001b[34m\u001b[1mwandb\u001b[0m: \toptimizer: nadam\n",
      "\u001b[34m\u001b[1mwandb\u001b[0m: \tweight_decay: 0.0005\n",
      "\u001b[34m\u001b[1mwandb\u001b[0m: \tweight_init: xavier\n"
     ]
    },
    {
     "data": {
      "text/html": [
       "Ignoring project 'Assignment1_Attempt3' when running a sweep."
      ],
      "text/plain": [
       "<IPython.core.display.HTML object>"
      ]
     },
     "metadata": {},
     "output_type": "display_data"
    },
    {
     "data": {
      "text/html": [
       "Tracking run with wandb version 0.19.7"
      ],
      "text/plain": [
       "<IPython.core.display.HTML object>"
      ]
     },
     "metadata": {},
     "output_type": "display_data"
    },
    {
     "data": {
      "text/html": [
       "Run data is saved locally in <code>/home/tenet/wandb/run-20250317_080254-ndi36d48</code>"
      ],
      "text/plain": [
       "<IPython.core.display.HTML object>"
      ]
     },
     "metadata": {},
     "output_type": "display_data"
    },
    {
     "data": {
      "text/html": [
       "Syncing run <strong><a href='https://wandb.ai/vinyk-sd-indian-institute-of-technology-madras/Assignment_Attempt3/runs/ndi36d48' target=\"_blank\">worldly-sweep-17</a></strong> to <a href='https://wandb.ai/vinyk-sd-indian-institute-of-technology-madras/Assignment_Attempt3' target=\"_blank\">Weights & Biases</a> (<a href='https://wandb.me/developer-guide' target=\"_blank\">docs</a>)<br>Sweep page: <a href='https://wandb.ai/vinyk-sd-indian-institute-of-technology-madras/Assignment_Attempt3/sweeps/cs09wxtb' target=\"_blank\">https://wandb.ai/vinyk-sd-indian-institute-of-technology-madras/Assignment_Attempt3/sweeps/cs09wxtb</a>"
      ],
      "text/plain": [
       "<IPython.core.display.HTML object>"
      ]
     },
     "metadata": {},
     "output_type": "display_data"
    },
    {
     "data": {
      "text/html": [
       " View project at <a href='https://wandb.ai/vinyk-sd-indian-institute-of-technology-madras/Assignment_Attempt3' target=\"_blank\">https://wandb.ai/vinyk-sd-indian-institute-of-technology-madras/Assignment_Attempt3</a>"
      ],
      "text/plain": [
       "<IPython.core.display.HTML object>"
      ]
     },
     "metadata": {},
     "output_type": "display_data"
    },
    {
     "data": {
      "text/html": [
       " View sweep at <a href='https://wandb.ai/vinyk-sd-indian-institute-of-technology-madras/Assignment_Attempt3/sweeps/cs09wxtb' target=\"_blank\">https://wandb.ai/vinyk-sd-indian-institute-of-technology-madras/Assignment_Attempt3/sweeps/cs09wxtb</a>"
      ],
      "text/plain": [
       "<IPython.core.display.HTML object>"
      ]
     },
     "metadata": {},
     "output_type": "display_data"
    },
    {
     "data": {
      "text/html": [
       " View run at <a href='https://wandb.ai/vinyk-sd-indian-institute-of-technology-madras/Assignment_Attempt3/runs/ndi36d48' target=\"_blank\">https://wandb.ai/vinyk-sd-indian-institute-of-technology-madras/Assignment_Attempt3/runs/ndi36d48</a>"
      ],
      "text/plain": [
       "<IPython.core.display.HTML object>"
      ]
     },
     "metadata": {},
     "output_type": "display_data"
    },
    {
     "name": "stdout",
     "output_type": "stream",
     "text": [
      "hl_3_bs_64_ac_relu_e_5\n",
      "Epoch 1: Train Loss=0.0321, Train Acc=0.7808, Val Loss=0.0359, Val Acc=0.7499\n",
      "Epoch 2: Train Loss=0.0190, Train Acc=0.8729, Val Loss=0.0220, Val Acc=0.8530\n",
      "Epoch 3: Train Loss=0.0180, Train Acc=0.8806, Val Loss=0.0206, Val Acc=0.8632\n",
      "Epoch 4: Train Loss=0.0180, Train Acc=0.8819, Val Loss=0.0195, Val Acc=0.8714\n",
      "Epoch 5: Train Loss=0.0177, Train Acc=0.8840, Val Loss=0.0186, Val Acc=0.8791\n"
     ]
    },
    {
     "data": {
      "text/html": [],
      "text/plain": [
       "<IPython.core.display.HTML object>"
      ]
     },
     "metadata": {},
     "output_type": "display_data"
    },
    {
     "data": {
      "text/html": [
       "<br>    <style><br>        .wandb-row {<br>            display: flex;<br>            flex-direction: row;<br>            flex-wrap: wrap;<br>            justify-content: flex-start;<br>            width: 100%;<br>        }<br>        .wandb-col {<br>            display: flex;<br>            flex-direction: column;<br>            flex-basis: 100%;<br>            flex: 1;<br>            padding: 10px;<br>        }<br>    </style><br><div class=\"wandb-row\"><div class=\"wandb-col\"><h3>Run history:</h3><br/><table class=\"wandb\"><tr><td>epoch</td><td>▁▃▅▆█</td></tr><tr><td>train_accuracy</td><td>▁▇███</td></tr><tr><td>train_loss</td><td>█▂▁▁▁</td></tr><tr><td>val_accuracy</td><td>▁▇▇██</td></tr><tr><td>val_loss</td><td>█▂▂▁▁</td></tr></table><br/></div><div class=\"wandb-col\"><h3>Run summary:</h3><br/><table class=\"wandb\"><tr><td>epoch</td><td>5</td></tr><tr><td>train_accuracy</td><td>0.88399</td></tr><tr><td>train_loss</td><td>0.01772</td></tr><tr><td>val_accuracy</td><td>0.8791</td></tr><tr><td>val_loss</td><td>0.01862</td></tr></table><br/></div></div>"
      ],
      "text/plain": [
       "<IPython.core.display.HTML object>"
      ]
     },
     "metadata": {},
     "output_type": "display_data"
    },
    {
     "data": {
      "text/html": [
       " View run <strong style=\"color:#cdcd00\">hl_3_bs_64_ac_relu_e_5</strong> at: <a href='https://wandb.ai/vinyk-sd-indian-institute-of-technology-madras/Assignment_Attempt3/runs/ndi36d48' target=\"_blank\">https://wandb.ai/vinyk-sd-indian-institute-of-technology-madras/Assignment_Attempt3/runs/ndi36d48</a><br> View project at: <a href='https://wandb.ai/vinyk-sd-indian-institute-of-technology-madras/Assignment_Attempt3' target=\"_blank\">https://wandb.ai/vinyk-sd-indian-institute-of-technology-madras/Assignment_Attempt3</a><br>Synced 5 W&B file(s), 0 media file(s), 0 artifact file(s) and 0 other file(s)"
      ],
      "text/plain": [
       "<IPython.core.display.HTML object>"
      ]
     },
     "metadata": {},
     "output_type": "display_data"
    },
    {
     "data": {
      "text/html": [
       "Find logs at: <code>./wandb/run-20250317_080254-ndi36d48/logs</code>"
      ],
      "text/plain": [
       "<IPython.core.display.HTML object>"
      ]
     },
     "metadata": {},
     "output_type": "display_data"
    },
    {
     "name": "stderr",
     "output_type": "stream",
     "text": [
      "\u001b[34m\u001b[1mwandb\u001b[0m: Agent Starting Run: 5iov0ch7 with config:\n",
      "\u001b[34m\u001b[1mwandb\u001b[0m: \tactivation: sigmoid\n",
      "\u001b[34m\u001b[1mwandb\u001b[0m: \tbatch_size: 32\n",
      "\u001b[34m\u001b[1mwandb\u001b[0m: \tepochs: 10\n",
      "\u001b[34m\u001b[1mwandb\u001b[0m: \tepsilon: 0.95\n",
      "\u001b[34m\u001b[1mwandb\u001b[0m: \thidden_layers: 3\n",
      "\u001b[34m\u001b[1mwandb\u001b[0m: \thidden_size: 128\n",
      "\u001b[34m\u001b[1mwandb\u001b[0m: \tlearning_rate: 0.001\n",
      "\u001b[34m\u001b[1mwandb\u001b[0m: \toptimizer: adam\n",
      "\u001b[34m\u001b[1mwandb\u001b[0m: \tweight_decay: 0\n",
      "\u001b[34m\u001b[1mwandb\u001b[0m: \tweight_init: xavier\n"
     ]
    },
    {
     "data": {
      "text/html": [
       "Ignoring project 'Assignment1_Attempt3' when running a sweep."
      ],
      "text/plain": [
       "<IPython.core.display.HTML object>"
      ]
     },
     "metadata": {},
     "output_type": "display_data"
    },
    {
     "data": {
      "text/html": [
       "Tracking run with wandb version 0.19.7"
      ],
      "text/plain": [
       "<IPython.core.display.HTML object>"
      ]
     },
     "metadata": {},
     "output_type": "display_data"
    },
    {
     "data": {
      "text/html": [
       "Run data is saved locally in <code>/home/tenet/wandb/run-20250317_080322-5iov0ch7</code>"
      ],
      "text/plain": [
       "<IPython.core.display.HTML object>"
      ]
     },
     "metadata": {},
     "output_type": "display_data"
    },
    {
     "data": {
      "text/html": [
       "Syncing run <strong><a href='https://wandb.ai/vinyk-sd-indian-institute-of-technology-madras/Assignment_Attempt3/runs/5iov0ch7' target=\"_blank\">wobbly-sweep-18</a></strong> to <a href='https://wandb.ai/vinyk-sd-indian-institute-of-technology-madras/Assignment_Attempt3' target=\"_blank\">Weights & Biases</a> (<a href='https://wandb.me/developer-guide' target=\"_blank\">docs</a>)<br>Sweep page: <a href='https://wandb.ai/vinyk-sd-indian-institute-of-technology-madras/Assignment_Attempt3/sweeps/cs09wxtb' target=\"_blank\">https://wandb.ai/vinyk-sd-indian-institute-of-technology-madras/Assignment_Attempt3/sweeps/cs09wxtb</a>"
      ],
      "text/plain": [
       "<IPython.core.display.HTML object>"
      ]
     },
     "metadata": {},
     "output_type": "display_data"
    },
    {
     "data": {
      "text/html": [
       " View project at <a href='https://wandb.ai/vinyk-sd-indian-institute-of-technology-madras/Assignment_Attempt3' target=\"_blank\">https://wandb.ai/vinyk-sd-indian-institute-of-technology-madras/Assignment_Attempt3</a>"
      ],
      "text/plain": [
       "<IPython.core.display.HTML object>"
      ]
     },
     "metadata": {},
     "output_type": "display_data"
    },
    {
     "data": {
      "text/html": [
       " View sweep at <a href='https://wandb.ai/vinyk-sd-indian-institute-of-technology-madras/Assignment_Attempt3/sweeps/cs09wxtb' target=\"_blank\">https://wandb.ai/vinyk-sd-indian-institute-of-technology-madras/Assignment_Attempt3/sweeps/cs09wxtb</a>"
      ],
      "text/plain": [
       "<IPython.core.display.HTML object>"
      ]
     },
     "metadata": {},
     "output_type": "display_data"
    },
    {
     "data": {
      "text/html": [
       " View run at <a href='https://wandb.ai/vinyk-sd-indian-institute-of-technology-madras/Assignment_Attempt3/runs/5iov0ch7' target=\"_blank\">https://wandb.ai/vinyk-sd-indian-institute-of-technology-madras/Assignment_Attempt3/runs/5iov0ch7</a>"
      ],
      "text/plain": [
       "<IPython.core.display.HTML object>"
      ]
     },
     "metadata": {},
     "output_type": "display_data"
    },
    {
     "name": "stdout",
     "output_type": "stream",
     "text": [
      "hl_3_bs_32_ac_sigmoid_e_10\n",
      "Epoch 1: Train Loss=0.0354, Train Acc=0.7557, Val Loss=0.0292, Val Acc=0.8075\n",
      "Epoch 2: Train Loss=0.0246, Train Acc=0.8217, Val Loss=0.0244, Val Acc=0.8270\n",
      "Epoch 3: Train Loss=0.0198, Train Acc=0.8576, Val Loss=0.0142, Val Acc=0.9160\n",
      "Epoch 4: Train Loss=0.0135, Train Acc=0.9135, Val Loss=0.0131, Val Acc=0.9169\n",
      "Epoch 5: Train Loss=0.0121, Train Acc=0.9192, Val Loss=0.0121, Val Acc=0.9208\n",
      "Epoch 6: Train Loss=0.0114, Train Acc=0.9224, Val Loss=0.0113, Val Acc=0.9255\n",
      "Epoch 7: Train Loss=0.0107, Train Acc=0.9266, Val Loss=0.0111, Val Acc=0.9286\n",
      "Epoch 8: Train Loss=0.0104, Train Acc=0.9294, Val Loss=0.0115, Val Acc=0.9241\n",
      "Epoch 9: Train Loss=0.0102, Train Acc=0.9305, Val Loss=0.0117, Val Acc=0.9258\n",
      "Epoch 10: Train Loss=0.0102, Train Acc=0.9297, Val Loss=0.0111, Val Acc=0.9273\n"
     ]
    },
    {
     "data": {
      "text/html": [],
      "text/plain": [
       "<IPython.core.display.HTML object>"
      ]
     },
     "metadata": {},
     "output_type": "display_data"
    },
    {
     "data": {
      "text/html": [
       "<br>    <style><br>        .wandb-row {<br>            display: flex;<br>            flex-direction: row;<br>            flex-wrap: wrap;<br>            justify-content: flex-start;<br>            width: 100%;<br>        }<br>        .wandb-col {<br>            display: flex;<br>            flex-direction: column;<br>            flex-basis: 100%;<br>            flex: 1;<br>            padding: 10px;<br>        }<br>    </style><br><div class=\"wandb-row\"><div class=\"wandb-col\"><h3>Run history:</h3><br/><table class=\"wandb\"><tr><td>epoch</td><td>▁▂▃▃▄▅▆▆▇█</td></tr><tr><td>train_accuracy</td><td>▁▄▅▇██████</td></tr><tr><td>train_loss</td><td>█▅▄▂▂▁▁▁▁▁</td></tr><tr><td>val_accuracy</td><td>▁▂▇▇██████</td></tr><tr><td>val_loss</td><td>█▆▂▂▁▁▁▁▁▁</td></tr></table><br/></div><div class=\"wandb-col\"><h3>Run summary:</h3><br/><table class=\"wandb\"><tr><td>epoch</td><td>10</td></tr><tr><td>train_accuracy</td><td>0.9297</td></tr><tr><td>train_loss</td><td>0.0102</td></tr><tr><td>val_accuracy</td><td>0.9273</td></tr><tr><td>val_loss</td><td>0.01108</td></tr></table><br/></div></div>"
      ],
      "text/plain": [
       "<IPython.core.display.HTML object>"
      ]
     },
     "metadata": {},
     "output_type": "display_data"
    },
    {
     "data": {
      "text/html": [
       " View run <strong style=\"color:#cdcd00\">hl_3_bs_32_ac_sigmoid_e_10</strong> at: <a href='https://wandb.ai/vinyk-sd-indian-institute-of-technology-madras/Assignment_Attempt3/runs/5iov0ch7' target=\"_blank\">https://wandb.ai/vinyk-sd-indian-institute-of-technology-madras/Assignment_Attempt3/runs/5iov0ch7</a><br> View project at: <a href='https://wandb.ai/vinyk-sd-indian-institute-of-technology-madras/Assignment_Attempt3' target=\"_blank\">https://wandb.ai/vinyk-sd-indian-institute-of-technology-madras/Assignment_Attempt3</a><br>Synced 5 W&B file(s), 0 media file(s), 0 artifact file(s) and 0 other file(s)"
      ],
      "text/plain": [
       "<IPython.core.display.HTML object>"
      ]
     },
     "metadata": {},
     "output_type": "display_data"
    },
    {
     "data": {
      "text/html": [
       "Find logs at: <code>./wandb/run-20250317_080322-5iov0ch7/logs</code>"
      ],
      "text/plain": [
       "<IPython.core.display.HTML object>"
      ]
     },
     "metadata": {},
     "output_type": "display_data"
    },
    {
     "name": "stderr",
     "output_type": "stream",
     "text": [
      "\u001b[34m\u001b[1mwandb\u001b[0m: Agent Starting Run: 0tsrgh18 with config:\n",
      "\u001b[34m\u001b[1mwandb\u001b[0m: \tactivation: tanh\n",
      "\u001b[34m\u001b[1mwandb\u001b[0m: \tbatch_size: 64\n",
      "\u001b[34m\u001b[1mwandb\u001b[0m: \tepochs: 5\n",
      "\u001b[34m\u001b[1mwandb\u001b[0m: \tepsilon: 0.95\n",
      "\u001b[34m\u001b[1mwandb\u001b[0m: \thidden_layers: 3\n",
      "\u001b[34m\u001b[1mwandb\u001b[0m: \thidden_size: 128\n",
      "\u001b[34m\u001b[1mwandb\u001b[0m: \tlearning_rate: 0.0001\n",
      "\u001b[34m\u001b[1mwandb\u001b[0m: \toptimizer: adam\n",
      "\u001b[34m\u001b[1mwandb\u001b[0m: \tweight_decay: 0.0005\n",
      "\u001b[34m\u001b[1mwandb\u001b[0m: \tweight_init: random\n"
     ]
    },
    {
     "data": {
      "text/html": [
       "Ignoring project 'Assignment1_Attempt3' when running a sweep."
      ],
      "text/plain": [
       "<IPython.core.display.HTML object>"
      ]
     },
     "metadata": {},
     "output_type": "display_data"
    },
    {
     "data": {
      "text/html": [
       "creating run (0.9s)"
      ],
      "text/plain": [
       "<IPython.core.display.HTML object>"
      ]
     },
     "metadata": {},
     "output_type": "display_data"
    },
    {
     "data": {
      "text/html": [
       "Tracking run with wandb version 0.19.7"
      ],
      "text/plain": [
       "<IPython.core.display.HTML object>"
      ]
     },
     "metadata": {},
     "output_type": "display_data"
    },
    {
     "data": {
      "text/html": [
       "Run data is saved locally in <code>/home/tenet/wandb/run-20250317_080439-0tsrgh18</code>"
      ],
      "text/plain": [
       "<IPython.core.display.HTML object>"
      ]
     },
     "metadata": {},
     "output_type": "display_data"
    },
    {
     "data": {
      "text/html": [
       "Syncing run <strong><a href='https://wandb.ai/vinyk-sd-indian-institute-of-technology-madras/Assignment_Attempt3/runs/0tsrgh18' target=\"_blank\">eternal-sweep-19</a></strong> to <a href='https://wandb.ai/vinyk-sd-indian-institute-of-technology-madras/Assignment_Attempt3' target=\"_blank\">Weights & Biases</a> (<a href='https://wandb.me/developer-guide' target=\"_blank\">docs</a>)<br>Sweep page: <a href='https://wandb.ai/vinyk-sd-indian-institute-of-technology-madras/Assignment_Attempt3/sweeps/cs09wxtb' target=\"_blank\">https://wandb.ai/vinyk-sd-indian-institute-of-technology-madras/Assignment_Attempt3/sweeps/cs09wxtb</a>"
      ],
      "text/plain": [
       "<IPython.core.display.HTML object>"
      ]
     },
     "metadata": {},
     "output_type": "display_data"
    },
    {
     "data": {
      "text/html": [
       " View project at <a href='https://wandb.ai/vinyk-sd-indian-institute-of-technology-madras/Assignment_Attempt3' target=\"_blank\">https://wandb.ai/vinyk-sd-indian-institute-of-technology-madras/Assignment_Attempt3</a>"
      ],
      "text/plain": [
       "<IPython.core.display.HTML object>"
      ]
     },
     "metadata": {},
     "output_type": "display_data"
    },
    {
     "data": {
      "text/html": [
       " View sweep at <a href='https://wandb.ai/vinyk-sd-indian-institute-of-technology-madras/Assignment_Attempt3/sweeps/cs09wxtb' target=\"_blank\">https://wandb.ai/vinyk-sd-indian-institute-of-technology-madras/Assignment_Attempt3/sweeps/cs09wxtb</a>"
      ],
      "text/plain": [
       "<IPython.core.display.HTML object>"
      ]
     },
     "metadata": {},
     "output_type": "display_data"
    },
    {
     "data": {
      "text/html": [
       " View run at <a href='https://wandb.ai/vinyk-sd-indian-institute-of-technology-madras/Assignment_Attempt3/runs/0tsrgh18' target=\"_blank\">https://wandb.ai/vinyk-sd-indian-institute-of-technology-madras/Assignment_Attempt3/runs/0tsrgh18</a>"
      ],
      "text/plain": [
       "<IPython.core.display.HTML object>"
      ]
     },
     "metadata": {},
     "output_type": "display_data"
    },
    {
     "name": "stdout",
     "output_type": "stream",
     "text": [
      "hl_3_bs_64_ac_tanh_e_5\n",
      "Epoch 1: Train Loss=0.0586, Train Acc=0.5612, Val Loss=0.0402, Val Acc=0.7272\n",
      "Epoch 2: Train Loss=0.0327, Train Acc=0.7788, Val Loss=0.0273, Val Acc=0.8138\n",
      "Epoch 3: Train Loss=0.0237, Train Acc=0.8427, Val Loss=0.0204, Val Acc=0.8649\n",
      "Epoch 4: Train Loss=0.0188, Train Acc=0.8738, Val Loss=0.0177, Val Acc=0.8820\n",
      "Epoch 5: Train Loss=0.0165, Train Acc=0.8894, Val Loss=0.0158, Val Acc=0.8957\n"
     ]
    },
    {
     "data": {
      "text/html": [],
      "text/plain": [
       "<IPython.core.display.HTML object>"
      ]
     },
     "metadata": {},
     "output_type": "display_data"
    },
    {
     "data": {
      "text/html": [
       "<br>    <style><br>        .wandb-row {<br>            display: flex;<br>            flex-direction: row;<br>            flex-wrap: wrap;<br>            justify-content: flex-start;<br>            width: 100%;<br>        }<br>        .wandb-col {<br>            display: flex;<br>            flex-direction: column;<br>            flex-basis: 100%;<br>            flex: 1;<br>            padding: 10px;<br>        }<br>    </style><br><div class=\"wandb-row\"><div class=\"wandb-col\"><h3>Run history:</h3><br/><table class=\"wandb\"><tr><td>epoch</td><td>▁▃▅▆█</td></tr><tr><td>train_accuracy</td><td>▁▆▇██</td></tr><tr><td>train_loss</td><td>█▄▂▁▁</td></tr><tr><td>val_accuracy</td><td>▁▅▇▇█</td></tr><tr><td>val_loss</td><td>█▄▂▂▁</td></tr></table><br/></div><div class=\"wandb-col\"><h3>Run summary:</h3><br/><table class=\"wandb\"><tr><td>epoch</td><td>5</td></tr><tr><td>train_accuracy</td><td>0.88937</td></tr><tr><td>train_loss</td><td>0.01648</td></tr><tr><td>val_accuracy</td><td>0.8957</td></tr><tr><td>val_loss</td><td>0.01585</td></tr></table><br/></div></div>"
      ],
      "text/plain": [
       "<IPython.core.display.HTML object>"
      ]
     },
     "metadata": {},
     "output_type": "display_data"
    },
    {
     "data": {
      "text/html": [
       " View run <strong style=\"color:#cdcd00\">hl_3_bs_64_ac_tanh_e_5</strong> at: <a href='https://wandb.ai/vinyk-sd-indian-institute-of-technology-madras/Assignment_Attempt3/runs/0tsrgh18' target=\"_blank\">https://wandb.ai/vinyk-sd-indian-institute-of-technology-madras/Assignment_Attempt3/runs/0tsrgh18</a><br> View project at: <a href='https://wandb.ai/vinyk-sd-indian-institute-of-technology-madras/Assignment_Attempt3' target=\"_blank\">https://wandb.ai/vinyk-sd-indian-institute-of-technology-madras/Assignment_Attempt3</a><br>Synced 5 W&B file(s), 0 media file(s), 0 artifact file(s) and 0 other file(s)"
      ],
      "text/plain": [
       "<IPython.core.display.HTML object>"
      ]
     },
     "metadata": {},
     "output_type": "display_data"
    },
    {
     "data": {
      "text/html": [
       "Find logs at: <code>./wandb/run-20250317_080439-0tsrgh18/logs</code>"
      ],
      "text/plain": [
       "<IPython.core.display.HTML object>"
      ]
     },
     "metadata": {},
     "output_type": "display_data"
    },
    {
     "name": "stderr",
     "output_type": "stream",
     "text": [
      "\u001b[34m\u001b[1mwandb\u001b[0m: Agent Starting Run: oy52tdvk with config:\n",
      "\u001b[34m\u001b[1mwandb\u001b[0m: \tactivation: sigmoid\n",
      "\u001b[34m\u001b[1mwandb\u001b[0m: \tbatch_size: 32\n",
      "\u001b[34m\u001b[1mwandb\u001b[0m: \tepochs: 5\n",
      "\u001b[34m\u001b[1mwandb\u001b[0m: \tepsilon: 0.95\n",
      "\u001b[34m\u001b[1mwandb\u001b[0m: \thidden_layers: 4\n",
      "\u001b[34m\u001b[1mwandb\u001b[0m: \thidden_size: 128\n",
      "\u001b[34m\u001b[1mwandb\u001b[0m: \tlearning_rate: 0.0001\n",
      "\u001b[34m\u001b[1mwandb\u001b[0m: \toptimizer: nadam\n",
      "\u001b[34m\u001b[1mwandb\u001b[0m: \tweight_decay: 0\n",
      "\u001b[34m\u001b[1mwandb\u001b[0m: \tweight_init: random\n"
     ]
    },
    {
     "data": {
      "text/html": [
       "Ignoring project 'Assignment1_Attempt3' when running a sweep."
      ],
      "text/plain": [
       "<IPython.core.display.HTML object>"
      ]
     },
     "metadata": {},
     "output_type": "display_data"
    },
    {
     "data": {
      "text/html": [
       "Tracking run with wandb version 0.19.7"
      ],
      "text/plain": [
       "<IPython.core.display.HTML object>"
      ]
     },
     "metadata": {},
     "output_type": "display_data"
    },
    {
     "data": {
      "text/html": [
       "Run data is saved locally in <code>/home/tenet/wandb/run-20250317_080506-oy52tdvk</code>"
      ],
      "text/plain": [
       "<IPython.core.display.HTML object>"
      ]
     },
     "metadata": {},
     "output_type": "display_data"
    },
    {
     "data": {
      "text/html": [
       "Syncing run <strong><a href='https://wandb.ai/vinyk-sd-indian-institute-of-technology-madras/Assignment_Attempt3/runs/oy52tdvk' target=\"_blank\">skilled-sweep-20</a></strong> to <a href='https://wandb.ai/vinyk-sd-indian-institute-of-technology-madras/Assignment_Attempt3' target=\"_blank\">Weights & Biases</a> (<a href='https://wandb.me/developer-guide' target=\"_blank\">docs</a>)<br>Sweep page: <a href='https://wandb.ai/vinyk-sd-indian-institute-of-technology-madras/Assignment_Attempt3/sweeps/cs09wxtb' target=\"_blank\">https://wandb.ai/vinyk-sd-indian-institute-of-technology-madras/Assignment_Attempt3/sweeps/cs09wxtb</a>"
      ],
      "text/plain": [
       "<IPython.core.display.HTML object>"
      ]
     },
     "metadata": {},
     "output_type": "display_data"
    },
    {
     "data": {
      "text/html": [
       " View project at <a href='https://wandb.ai/vinyk-sd-indian-institute-of-technology-madras/Assignment_Attempt3' target=\"_blank\">https://wandb.ai/vinyk-sd-indian-institute-of-technology-madras/Assignment_Attempt3</a>"
      ],
      "text/plain": [
       "<IPython.core.display.HTML object>"
      ]
     },
     "metadata": {},
     "output_type": "display_data"
    },
    {
     "data": {
      "text/html": [
       " View sweep at <a href='https://wandb.ai/vinyk-sd-indian-institute-of-technology-madras/Assignment_Attempt3/sweeps/cs09wxtb' target=\"_blank\">https://wandb.ai/vinyk-sd-indian-institute-of-technology-madras/Assignment_Attempt3/sweeps/cs09wxtb</a>"
      ],
      "text/plain": [
       "<IPython.core.display.HTML object>"
      ]
     },
     "metadata": {},
     "output_type": "display_data"
    },
    {
     "data": {
      "text/html": [
       " View run at <a href='https://wandb.ai/vinyk-sd-indian-institute-of-technology-madras/Assignment_Attempt3/runs/oy52tdvk' target=\"_blank\">https://wandb.ai/vinyk-sd-indian-institute-of-technology-madras/Assignment_Attempt3/runs/oy52tdvk</a>"
      ],
      "text/plain": [
       "<IPython.core.display.HTML object>"
      ]
     },
     "metadata": {},
     "output_type": "display_data"
    },
    {
     "name": "stdout",
     "output_type": "stream",
     "text": [
      "hl_4_bs_32_ac_sigmoid_e_5\n",
      "Epoch 1: Train Loss=0.0883, Train Acc=0.1383, Val Loss=0.0822, Val Acc=0.2086\n",
      "Epoch 2: Train Loss=0.0816, Train Acc=0.2183, Val Loss=0.0812, Val Acc=0.2253\n",
      "Epoch 3: Train Loss=0.0771, Train Acc=0.3072, Val Loss=0.0749, Val Acc=0.3262\n",
      "Epoch 4: Train Loss=0.0781, Train Acc=0.2730, Val Loss=0.0804, Val Acc=0.3032\n",
      "Epoch 5: Train Loss=0.0800, Train Acc=0.2547, Val Loss=0.0791, Val Acc=0.2098\n"
     ]
    },
    {
     "data": {
      "text/html": [],
      "text/plain": [
       "<IPython.core.display.HTML object>"
      ]
     },
     "metadata": {},
     "output_type": "display_data"
    },
    {
     "data": {
      "text/html": [
       "<br>    <style><br>        .wandb-row {<br>            display: flex;<br>            flex-direction: row;<br>            flex-wrap: wrap;<br>            justify-content: flex-start;<br>            width: 100%;<br>        }<br>        .wandb-col {<br>            display: flex;<br>            flex-direction: column;<br>            flex-basis: 100%;<br>            flex: 1;<br>            padding: 10px;<br>        }<br>    </style><br><div class=\"wandb-row\"><div class=\"wandb-col\"><h3>Run history:</h3><br/><table class=\"wandb\"><tr><td>epoch</td><td>▁▃▅▆█</td></tr><tr><td>train_accuracy</td><td>▁▄█▇▆</td></tr><tr><td>train_loss</td><td>█▄▁▂▃</td></tr><tr><td>val_accuracy</td><td>▁▂█▇▁</td></tr><tr><td>val_loss</td><td>█▇▁▆▅</td></tr></table><br/></div><div class=\"wandb-col\"><h3>Run summary:</h3><br/><table class=\"wandb\"><tr><td>epoch</td><td>5</td></tr><tr><td>train_accuracy</td><td>0.25467</td></tr><tr><td>train_loss</td><td>0.07996</td></tr><tr><td>val_accuracy</td><td>0.2098</td></tr><tr><td>val_loss</td><td>0.07912</td></tr></table><br/></div></div>"
      ],
      "text/plain": [
       "<IPython.core.display.HTML object>"
      ]
     },
     "metadata": {},
     "output_type": "display_data"
    },
    {
     "data": {
      "text/html": [
       " View run <strong style=\"color:#cdcd00\">hl_4_bs_32_ac_sigmoid_e_5</strong> at: <a href='https://wandb.ai/vinyk-sd-indian-institute-of-technology-madras/Assignment_Attempt3/runs/oy52tdvk' target=\"_blank\">https://wandb.ai/vinyk-sd-indian-institute-of-technology-madras/Assignment_Attempt3/runs/oy52tdvk</a><br> View project at: <a href='https://wandb.ai/vinyk-sd-indian-institute-of-technology-madras/Assignment_Attempt3' target=\"_blank\">https://wandb.ai/vinyk-sd-indian-institute-of-technology-madras/Assignment_Attempt3</a><br>Synced 5 W&B file(s), 0 media file(s), 0 artifact file(s) and 0 other file(s)"
      ],
      "text/plain": [
       "<IPython.core.display.HTML object>"
      ]
     },
     "metadata": {},
     "output_type": "display_data"
    },
    {
     "data": {
      "text/html": [
       "Find logs at: <code>./wandb/run-20250317_080506-oy52tdvk/logs</code>"
      ],
      "text/plain": [
       "<IPython.core.display.HTML object>"
      ]
     },
     "metadata": {},
     "output_type": "display_data"
    }
   ],
   "source": [
    "sweep_id = wandb.sweep(sweep_config, project=\"Assignment_Attempt3\")\n",
    "wandb.agent(sweep_id, train, count=20)  # Run 200 different hyperparameter combinations"
   ]
  },
  {
   "cell_type": "code",
   "execution_count": null,
   "id": "09be04b1-7385-46d7-bb6e-0475b042ab69",
   "metadata": {},
   "outputs": [],
   "source": []
  }
 ],
 "metadata": {
  "kernelspec": {
   "display_name": "Python 3 (ipykernel)",
   "language": "python",
   "name": "python3"
  },
  "language_info": {
   "codemirror_mode": {
    "name": "ipython",
    "version": 3
   },
   "file_extension": ".py",
   "mimetype": "text/x-python",
   "name": "python",
   "nbconvert_exporter": "python",
   "pygments_lexer": "ipython3",
   "version": "3.11.7"
  }
 },
 "nbformat": 4,
 "nbformat_minor": 5
}
