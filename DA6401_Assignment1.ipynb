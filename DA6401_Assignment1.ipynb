{
  "nbformat": 4,
  "nbformat_minor": 0,
  "metadata": {
    "colab": {
      "provenance": [],
      "authorship_tag": "ABX9TyNC3AbpM6AFhvfeBRO9tANp",
      "include_colab_link": true
    },
    "kernelspec": {
      "name": "python3",
      "display_name": "Python 3"
    },
    "language_info": {
      "name": "python"
    }
  },
  "cells": [
    {
      "cell_type": "markdown",
      "metadata": {
        "id": "view-in-github",
        "colab_type": "text"
      },
      "source": [
        "<a href=\"https://colab.research.google.com/github/vinyk/DA6401_Assignment1/blob/main/DA6401_Assignment1.ipynb\" target=\"_parent\"><img src=\"https://colab.research.google.com/assets/colab-badge.svg\" alt=\"Open In Colab\"/></a>"
      ]
    },
    {
      "cell_type": "code",
      "execution_count": 1,
      "metadata": {
        "id": "yWHa6zEH6XvB"
      },
      "outputs": [],
      "source": [
        "import wandb\n",
        "import numpy as np\n",
        "import matplotlib.pyplot as plt\n",
        "from keras.datasets import fashion_mnist"
      ]
    },
    {
      "cell_type": "code",
      "source": [
        "wandb.login()"
      ],
      "metadata": {
        "id": "rnyTofra7qv_",
        "colab": {
          "base_uri": "https://localhost:8080/",
          "height": 228
        },
        "outputId": "38e9fb03-cfec-4130-ae84-32c69d8ca263"
      },
      "execution_count": 2,
      "outputs": [
        {
          "output_type": "stream",
          "name": "stderr",
          "text": [
            "\u001b[34m\u001b[1mwandb\u001b[0m: Using wandb-core as the SDK backend.  Please refer to https://wandb.me/wandb-core for more information.\n"
          ]
        },
        {
          "output_type": "display_data",
          "data": {
            "text/plain": [
              "<IPython.core.display.Javascript object>"
            ],
            "application/javascript": [
              "\n",
              "        window._wandbApiKey = new Promise((resolve, reject) => {\n",
              "            function loadScript(url) {\n",
              "            return new Promise(function(resolve, reject) {\n",
              "                let newScript = document.createElement(\"script\");\n",
              "                newScript.onerror = reject;\n",
              "                newScript.onload = resolve;\n",
              "                document.body.appendChild(newScript);\n",
              "                newScript.src = url;\n",
              "            });\n",
              "            }\n",
              "            loadScript(\"https://cdn.jsdelivr.net/npm/postmate/build/postmate.min.js\").then(() => {\n",
              "            const iframe = document.createElement('iframe')\n",
              "            iframe.style.cssText = \"width:0;height:0;border:none\"\n",
              "            document.body.appendChild(iframe)\n",
              "            const handshake = new Postmate({\n",
              "                container: iframe,\n",
              "                url: 'https://wandb.ai/authorize'\n",
              "            });\n",
              "            const timeout = setTimeout(() => reject(\"Couldn't auto authenticate\"), 5000)\n",
              "            handshake.then(function(child) {\n",
              "                child.on('authorize', data => {\n",
              "                    clearTimeout(timeout)\n",
              "                    resolve(data)\n",
              "                });\n",
              "            });\n",
              "            })\n",
              "        });\n",
              "    "
            ]
          },
          "metadata": {}
        },
        {
          "output_type": "stream",
          "name": "stderr",
          "text": [
            "\u001b[34m\u001b[1mwandb\u001b[0m: Logging into wandb.ai. (Learn how to deploy a W&B server locally: https://wandb.me/wandb-server)\n",
            "\u001b[34m\u001b[1mwandb\u001b[0m: You can find your API key in your browser here: https://wandb.ai/authorize\n",
            "wandb: Paste an API key from your profile and hit enter:"
          ]
        },
        {
          "name": "stdout",
          "output_type": "stream",
          "text": [
            " ··········\n"
          ]
        },
        {
          "output_type": "stream",
          "name": "stderr",
          "text": [
            "\u001b[34m\u001b[1mwandb\u001b[0m: \u001b[33mWARNING\u001b[0m If you're specifying your api key in code, ensure this code is not shared publicly.\n",
            "\u001b[34m\u001b[1mwandb\u001b[0m: \u001b[33mWARNING\u001b[0m Consider setting the WANDB_API_KEY environment variable, or running `wandb login` from the command line.\n",
            "\u001b[34m\u001b[1mwandb\u001b[0m: No netrc file found, creating one.\n",
            "\u001b[34m\u001b[1mwandb\u001b[0m: Appending key for api.wandb.ai to your netrc file: /root/.netrc\n",
            "\u001b[34m\u001b[1mwandb\u001b[0m: Currently logged in as: \u001b[33mvinyk-sd\u001b[0m (\u001b[33mvinyk-sd-indian-institute-of-technology-madras\u001b[0m) to \u001b[32mhttps://api.wandb.ai\u001b[0m. Use \u001b[1m`wandb login --relogin`\u001b[0m to force relogin\n"
          ]
        },
        {
          "output_type": "execute_result",
          "data": {
            "text/plain": [
              "True"
            ]
          },
          "metadata": {},
          "execution_count": 2
        }
      ]
    },
    {
      "cell_type": "code",
      "source": [],
      "metadata": {
        "id": "he6Lqm9DSsLK"
      },
      "execution_count": null,
      "outputs": []
    },
    {
      "cell_type": "code",
      "source": [
        "# Load dataset\n",
        "(X_train, y_train), (X_test, y_test) = fashion_mnist.load_data()\n",
        "\n",
        "# Normalize and reshape data\n",
        "X_train, X_test = X_train / 255.0, X_test / 255.0\n",
        "X_train = X_train.reshape(X_train.shape[0], -1)\n",
        "X_test = X_test.reshape(X_test.shape[0], -1)\n",
        "\n",
        "# One-hot encoding\n",
        "y_train_one_hot = np.eye(10)[y_train]\n",
        "y_test_one_hot = np.eye(10)[y_test]"
      ],
      "metadata": {
        "id": "A_cDBF0IFU29",
        "colab": {
          "base_uri": "https://localhost:8080/"
        },
        "outputId": "2026fbf4-c2ef-4b69-e7f0-d28164a608af"
      },
      "execution_count": 3,
      "outputs": [
        {
          "output_type": "stream",
          "name": "stdout",
          "text": [
            "Downloading data from https://storage.googleapis.com/tensorflow/tf-keras-datasets/train-labels-idx1-ubyte.gz\n",
            "\u001b[1m29515/29515\u001b[0m \u001b[32m━━━━━━━━━━━━━━━━━━━━\u001b[0m\u001b[37m\u001b[0m \u001b[1m0s\u001b[0m 0us/step\n",
            "Downloading data from https://storage.googleapis.com/tensorflow/tf-keras-datasets/train-images-idx3-ubyte.gz\n",
            "\u001b[1m26421880/26421880\u001b[0m \u001b[32m━━━━━━━━━━━━━━━━━━━━\u001b[0m\u001b[37m\u001b[0m \u001b[1m0s\u001b[0m 0us/step\n",
            "Downloading data from https://storage.googleapis.com/tensorflow/tf-keras-datasets/t10k-labels-idx1-ubyte.gz\n",
            "\u001b[1m5148/5148\u001b[0m \u001b[32m━━━━━━━━━━━━━━━━━━━━\u001b[0m\u001b[37m\u001b[0m \u001b[1m0s\u001b[0m 0us/step\n",
            "Downloading data from https://storage.googleapis.com/tensorflow/tf-keras-datasets/t10k-images-idx3-ubyte.gz\n",
            "\u001b[1m4422102/4422102\u001b[0m \u001b[32m━━━━━━━━━━━━━━━━━━━━\u001b[0m\u001b[37m\u001b[0m \u001b[1m0s\u001b[0m 0us/step\n"
          ]
        }
      ]
    },
    {
      "cell_type": "code",
      "source": [
        "# Display one sample per class\n",
        "classes = [\"T-shirt\", \"Trouser\", \"Pullover\", \"Dress\", \"Coat\",\n",
        "           \"Sandal\", \"Shirt\", \"Sneaker\", \"Bag\", \"Ankle boot\"]\n",
        "fig, axes = plt.subplots(2, 5, figsize=(10, 5))\n",
        "for i, ax in enumerate(axes.flat):\n",
        "    sample_idx = np.where(y_train == i)[0][0]\n",
        "    ax.imshow(X_train[sample_idx].reshape(28, 28), cmap=\"gray\")\n",
        "    ax.set_title(classes[i])\n",
        "    ax.axis(\"off\")\n",
        "plt.show()\n",
        "\n",
        "# Log images to wandb\n",
        "# wandb.log({\"Fashion-MNIST Samples\": [wandb.Image(X_train[np.where(y_train == i)[0][0]].reshape(28, 28), caption=classes[i]) for i in range(10)]})"
      ],
      "metadata": {
        "id": "LjBh-ISsFU9L",
        "colab": {
          "base_uri": "https://localhost:8080/",
          "height": 402
        },
        "outputId": "e7f92c20-45a3-4552-ffb7-ca04980f81ef"
      },
      "execution_count": 4,
      "outputs": [
        {
          "output_type": "display_data",
          "data": {
            "text/plain": [
              "<Figure size 1000x500 with 10 Axes>"
            ],
            "image/png": "[encoded data removed]"
          },
          "metadata": {}
        }
      ]
    },
    {
      "cell_type": "code",
      "source": [
        "# Activation Functions\n",
        "def sigmoid(x, derivative=False):\n",
        "    sig = 1 / (1 + np.exp(-x))\n",
        "    return sig * (1 - sig) if derivative else sig\n",
        "\n",
        "def tanh(x, derivative=False):\n",
        "    t = np.tanh(x)\n",
        "    return 1 - t**2 if derivative else t\n",
        "\n",
        "def relu(x, derivative=False):\n",
        "    return np.where(x > 0, 1, 0) if derivative else np.maximum(0, x)\n",
        "\n",
        "\n",
        "# Weight Initialization\n",
        "def init_weights(layers, method=\"random\"):\n",
        "    np.random.seed(42)\n",
        "    weights = []\n",
        "    biases = []\n",
        "    for i in range(len(layers) - 1):\n",
        "        if method == \"Xavier\":\n",
        "            limit = np.sqrt(6 / (layers[i] + layers[i+1]))\n",
        "            w = np.random.uniform(-limit, limit, (layers[i], layers[i+1]))\n",
        "        else:\n",
        "            w = np.random.randn(layers[i], layers[i+1]) * 0.01\n",
        "        b = np.zeros((1, layers[i+1]))\n",
        "        weights.append(w)\n",
        "        biases.append(b)\n",
        "    return weights, biases\n",
        "\n",
        "\n",
        "# Forward Propagation\n",
        "def forward_propagation(X, weights, biases, activation=\"relu\"):\n",
        "    activations = [X]\n",
        "    zs = []\n",
        "    for w, b in zip(weights, biases):\n",
        "        z = np.dot(activations[-1], w) + b\n",
        "        zs.append(z)\n",
        "        activations.append(\n",
        "            relu(z) if activation == \"relu\" else tanh(z) if activation == \"tanh\" else sigmoid(z)\n",
        "        )\n",
        "    return activations, zs\n",
        "\n",
        "\n",
        "# Backpropagation\n",
        "def backward_propagation(y_true, activations, zs, weights, learning_rate, activation=\"relu\"):\n",
        "    grads_w, grads_b = [], []\n",
        "    m = y_true.shape[0]\n",
        "\n",
        "    # Compute loss gradient\n",
        "    dA = activations[-1] - y_true  # Cross-entropy derivative\n",
        "\n",
        "    for i in reversed(range(len(weights))):\n",
        "        dz = dA * (\n",
        "            relu(zs[i], derivative=True) if activation == \"relu\" else\n",
        "            tanh(zs[i], derivative=True) if activation == \"tanh\" else\n",
        "            sigmoid(zs[i], derivative=True)\n",
        "        )\n",
        "        dw = np.dot(activations[i].T, dz) / m\n",
        "        db = np.sum(dz, axis=0, keepdims=True) / m\n",
        "        dA = np.dot(dz, weights[i].T)\n",
        "\n",
        "        grads_w.insert(0, dw)\n",
        "        grads_b.insert(0, db)\n",
        "\n",
        "    return grads_w, grads_b\n",
        "\n",
        "\n",
        "# Optimizers\n",
        "class Optimizer:\n",
        "    def __init__(self, method=\"sgd\", lr=0.01, beta=0.9, beta2=0.999, epsilon=1e-8):\n",
        "        self.method = method\n",
        "        self.lr = lr\n",
        "        self.beta = beta\n",
        "        self.beta2 = beta2\n",
        "        self.epsilon = epsilon\n",
        "        self.m = None\n",
        "        self.v = None\n",
        "        self.t = 0\n",
        "\n",
        "    def update(self, weights, biases, grads_w, grads_b):\n",
        "        if self.method == \"sgd\":\n",
        "            return [w - self.lr * dw for w, dw in zip(weights, grads_w)], \\\n",
        "                   [b - self.lr * db for b, db in zip(biases, grads_b)]\n",
        "\n",
        "        if self.method in [\"momentum\", \"nesterov\"]:\n",
        "            if self.m is None:\n",
        "                self.m = [np.zeros_like(w) for w in weights]\n",
        "\n",
        "            for i in range(len(weights)):\n",
        "                self.m[i] = self.beta * self.m[i] + self.lr * grads_w[i]\n",
        "                weights[i] -= self.m[i] if self.method == \"momentum\" else self.beta * self.m[i] + self.lr * grads_w[i]\n",
        "\n",
        "        if self.method in [\"adam\", \"nadam\", \"rmsprop\"]:\n",
        "            if self.m is None:\n",
        "                self.m = [np.zeros_like(w) for w in weights]\n",
        "                self.v = [np.zeros_like(w) for w in weights]\n",
        "\n",
        "            self.t += 1\n",
        "            for i in range(len(weights)):\n",
        "                self.m[i] = self.beta * self.m[i] + (1 - self.beta) * grads_w[i]\n",
        "                self.v[i] = self.beta2 * self.v[i] + (1 - self.beta2) * (grads_w[i] ** 2)\n",
        "                m_hat = self.m[i] / (1 - self.beta**self.t)\n",
        "                v_hat = self.v[i] / (1 - self.beta2**self.t)\n",
        "                weights[i] -= self.lr * m_hat / (np.sqrt(v_hat) + self.epsilon)\n",
        "\n",
        "        return weights, biases\n",
        "\n",
        "\n",
        "# # Training\n",
        "# def train(X, y, layers, epochs=10, batch_size=32, optimizer=\"sgd\", activation=\"relu\"):\n",
        "#     weights, biases = init_weights(layers)\n",
        "#     opt = Optimizer(method=optimizer, lr=0.001)\n",
        "\n",
        "#     for epoch in range(epochs):\n",
        "#         for i in range(0, X.shape[0], batch_size):\n",
        "#             X_batch = X[i:i+batch_size]\n",
        "#             y_batch = y[i:i+batch_size]\n",
        "\n",
        "#             activations, zs = forward_propagation(X_batch, weights, biases, activation)\n",
        "#             grads_w, grads_b = backward_propagation(y_batch, activations, zs, weights, 0.001, activation)\n",
        "#             weights, biases = opt.update(weights, biases, grads_w, grads_b)\n",
        "\n",
        "#         # Logging to wandb\n",
        "#         loss = np.mean(-y_batch * np.log(activations[-1] + 1e-8))  # Cross-entropy\n",
        "#         wandb.log({\"epoch\": epoch + 1, \"loss\": loss})\n",
        "#         print(f\"Epoch {epoch+1}/{epochs}, Loss: {loss:.4f}\")"
      ],
      "metadata": {
        "id": "aoL79akuFeo6"
      },
      "execution_count": 5,
      "outputs": []
    },
    {
      "cell_type": "code",
      "source": [
        "# import time\n",
        "# def wandb_init():\n",
        "#   try:\n",
        "#      wandb.init(project=\"fashion-mnist-nn\")\n",
        "#      time.sleep(10)\n",
        "#   except:\n",
        "#      wandb.init(project=\"fashion-mnist-nn\")\n"
      ],
      "metadata": {
        "id": "vEAjPPY1GLdj"
      },
      "execution_count": null,
      "outputs": []
    },
    {
      "cell_type": "code",
      "source": [
        "def train():\n",
        "    # wandb_init()\n",
        "    wandb.init(project=\"fashion-mnist-nn\", entity = \"vinyk-sd-indian-institute-of-technology-madras\")\n",
        "    config = wandb.config  # Get hyperparameters\n",
        "\n",
        "    # Extract hyperparameters from config\n",
        "    epochs = config.epochs\n",
        "    hidden_layers = config.hidden_layers\n",
        "    hidden_size = config.hidden_size\n",
        "    weight_decay = config.weight_decay\n",
        "    learning_rate = config.learning_rate\n",
        "    optimizer = config.optimizer\n",
        "    batch_size = config.batch_size\n",
        "    weight_init = config.weight_init\n",
        "    activation = config.activation\n",
        "\n",
        "    # Initialize weights and biases\n",
        "    layers = [784, config.hidden_size, 10]  # Input layer, Hidden layer, Output layer\n",
        "    weights, biases = init_weights(layers, method=config.weight_init)\n",
        "\n",
        "    # Initialize optimizer\n",
        "    optimizer = Optimizer(method=optimizer, lr=config.learning_rate)\n",
        "\n",
        "    for epoch in range(epochs):\n",
        "        # Mini-batch gradient descent\n",
        "        num_batches = len(X_train) // batch_size\n",
        "        train_loss, train_acc = 0, 0\n",
        "\n",
        "        for i in range(num_batches):\n",
        "            start, end = i * batch_size, (i + 1) * batch_size\n",
        "            X_batch, y_batch = X_train[start:end], y_train_one_hot[start:end]\n",
        "\n",
        "            # Forward Propagation\n",
        "            activations, zs = forward_propagation(X_batch, weights, biases, activation)\n",
        "            preds = np.argmax(activations[-1], axis=1)\n",
        "            y_true_labels = np.argmax(y_batch, axis=1)\n",
        "\n",
        "            # Compute training loss and accuracy\n",
        "            batch_loss = np.mean((activations[-1] - y_batch) ** 2)  # Mean Squared Error\n",
        "            batch_acc = np.mean(preds == y_true_labels)\n",
        "\n",
        "            train_loss += batch_loss\n",
        "            train_acc += batch_acc\n",
        "\n",
        "            # Backpropagation\n",
        "            grads_w, grads_b = backward_propagation(y_batch, activations, zs, weights, config.learning_rate, activation)\n",
        "\n",
        "            # Update weights\n",
        "            weights, biases = optimizer.update(weights, biases, grads_w, grads_b)\n",
        "\n",
        "        train_loss /= num_batches\n",
        "        train_acc /= num_batches\n",
        "\n",
        "        # **Validation Phase**\n",
        "        val_activations, _ = forward_propagation(X_test, weights, biases, activation)\n",
        "        val_preds = np.argmax(val_activations[-1], axis=1)\n",
        "        val_true_labels = np.argmax(y_test_one_hot, axis=1)\n",
        "\n",
        "        val_loss = np.mean((val_activations[-1] - y_test_one_hot) ** 2)  # Mean Squared Error\n",
        "        val_acc = np.mean(val_preds == val_true_labels)\n",
        "\n",
        "        # **Log Metrics to wandb**\n",
        "        wandb.log({\n",
        "            \"epoch\": epoch + 1,\n",
        "            \"train_loss\": train_loss,\n",
        "            \"val_loss\": val_loss,\n",
        "            \"train_accuracy\": train_acc,\n",
        "            \"val_accuracy\": val_acc\n",
        "        })\n",
        "\n",
        "        # Print Progress\n",
        "        print(f\"Epoch {epoch+1}: Train Loss: {train_loss:.4f}, Train Acc: {train_acc:.4f}, Val Loss: {val_loss:.4f}, Val Acc: {val_acc:.4f}\")"
      ],
      "metadata": {
        "id": "iYaNBP28FmU0"
      },
      "execution_count": 11,
      "outputs": []
    },
    {
      "cell_type": "code",
      "source": [
        "sweep_config = {\n",
        "    'method': 'bayes',  # Bayesian optimization for efficiency\n",
        "    'metric': {'name': 'val_loss', 'goal': 'minimize'},  # Optimize for lowest validation loss\n",
        "    'parameters': {\n",
        "        'epochs': {'values': [5, 10]},\n",
        "        'hidden_layers': {'values': [3, 4, 5]},\n",
        "        'hidden_size': {'values': [32, 64, 128]},\n",
        "        'weight_decay': {'values': [0, 0.0005, 0.5]},\n",
        "        'learning_rate': {'values': [1e-3, 1e-4]},\n",
        "        'optimizer': {'values': ['sgd', 'momentum', 'nesterov', 'rmsprop', 'adam', 'nadam']},\n",
        "        'batch_size': {'values': [16, 32, 64]},\n",
        "        'weight_init': {'values': ['random', 'xavier']},\n",
        "        'activation': {'values': ['sigmoid', 'tanh', 'relu']}\n",
        "    }\n",
        "}"
      ],
      "metadata": {
        "id": "XK1o3HfmFvHN"
      },
      "execution_count": 12,
      "outputs": []
    },
    {
      "cell_type": "code",
      "source": [
        "sweep_id = wandb.sweep(sweep_config, project=\"fashion-mnist-nn\")\n",
        "wandb.agent(sweep_id, train, count=20)  # Runs 20 different hyperparameter combinations"
      ],
      "metadata": {
        "id": "FXUEiiErF11H",
        "colab": {
          "base_uri": "https://localhost:8080/",
          "height": 1000
        },
        "outputId": "c9a25d93-a0d7-45b9-e9ec-c41d4da5115c"
      },
      "execution_count": null,
      "outputs": [
        {
          "metadata": {
            "tags": null
          },
          "name": "stdout",
          "output_type": "stream",
          "text": [
            "Create sweep with ID: 93mly8pj\n",
            "Sweep URL: https://wandb.ai/vinyk-sd-indian-institute-of-technology-madras/fashion-mnist-nn/sweeps/93mly8pj\n"
          ]
        },
        {
          "metadata": {
            "tags": null
          },
          "name": "stderr",
          "output_type": "stream",
          "text": [
            "\u001b[34m\u001b[1mwandb\u001b[0m: Agent Starting Run: gnhf5wp8 with config:\n",
            "\u001b[34m\u001b[1mwandb\u001b[0m: \tactivation: relu\n",
            "\u001b[34m\u001b[1mwandb\u001b[0m: \tbatch_size: 32\n",
            "\u001b[34m\u001b[1mwandb\u001b[0m: \tepochs: 5\n",
            "\u001b[34m\u001b[1mwandb\u001b[0m: \thidden_layers: 5\n",
            "\u001b[34m\u001b[1mwandb\u001b[0m: \thidden_size: 64\n",
            "\u001b[34m\u001b[1mwandb\u001b[0m: \tlearning_rate: 0.0001\n",
            "\u001b[34m\u001b[1mwandb\u001b[0m: \toptimizer: sgd\n",
            "\u001b[34m\u001b[1mwandb\u001b[0m: \tweight_decay: 0\n",
            "\u001b[34m\u001b[1mwandb\u001b[0m: \tweight_init: xavier\n"
          ]
        },
        {
          "data": {
            "text/html": [
              "Ignoring project 'fashion-mnist-nn' when running a sweep."
            ],
            "text/plain": [
              "<IPython.core.display.HTML object>"
            ]
          },
          "metadata": {},
          "output_type": "display_data"
        },
        {
          "data": {
            "text/html": [
              "Ignoring entity 'vinyk-sd-indian-institute-of-technology-madras' when running a sweep."
            ],
            "text/plain": [
              "<IPython.core.display.HTML object>"
            ]
          },
          "metadata": {},
          "output_type": "display_data"
        },
        {
          "data": {
            "text/html": [
              "Tracking run with wandb version 0.19.7"
            ],
            "text/plain": [
              "<IPython.core.display.HTML object>"
            ]
          },
          "metadata": {},
          "output_type": "display_data"
        },
        {
          "data": {
            "text/html": [
              "Run data is saved locally in <code>/content/wandb/run-20250308_124509-gnhf5wp8</code>"
            ],
            "text/plain": [
              "<IPython.core.display.HTML object>"
            ]
          },
          "metadata": {},
          "output_type": "display_data"
        },
        {
          "data": {
            "text/html": [
              "Syncing run <strong><a href='https://wandb.ai/vinyk-sd-indian-institute-of-technology-madras/fashion-mnist-nn/runs/gnhf5wp8' target=\"_blank\">glad-sweep-1</a></strong> to <a href='https://wandb.ai/vinyk-sd-indian-institute-of-technology-madras/fashion-mnist-nn' target=\"_blank\">Weights & Biases</a> (<a href='https://wandb.me/developer-guide' target=\"_blank\">docs</a>)<br>Sweep page: <a href='https://wandb.ai/vinyk-sd-indian-institute-of-technology-madras/fashion-mnist-nn/sweeps/93mly8pj' target=\"_blank\">https://wandb.ai/vinyk-sd-indian-institute-of-technology-madras/fashion-mnist-nn/sweeps/93mly8pj</a>"
            ],
            "text/plain": [
              "<IPython.core.display.HTML object>"
            ]
          },
          "metadata": {},
          "output_type": "display_data"
        },
        {
          "data": {
            "text/html": [
              " View project at <a href='https://wandb.ai/vinyk-sd-indian-institute-of-technology-madras/fashion-mnist-nn' target=\"_blank\">https://wandb.ai/vinyk-sd-indian-institute-of-technology-madras/fashion-mnist-nn</a>"
            ],
            "text/plain": [
              "<IPython.core.display.HTML object>"
            ]
          },
          "metadata": {},
          "output_type": "display_data"
        },
        {
          "data": {
            "text/html": [
              " View sweep at <a href='https://wandb.ai/vinyk-sd-indian-institute-of-technology-madras/fashion-mnist-nn/sweeps/93mly8pj' target=\"_blank\">https://wandb.ai/vinyk-sd-indian-institute-of-technology-madras/fashion-mnist-nn/sweeps/93mly8pj</a>"
            ],
            "text/plain": [
              "<IPython.core.display.HTML object>"
            ]
          },
          "metadata": {},
          "output_type": "display_data"
        },
        {
          "data": {
            "text/html": [
              " View run at <a href='https://wandb.ai/vinyk-sd-indian-institute-of-technology-madras/fashion-mnist-nn/runs/gnhf5wp8' target=\"_blank\">https://wandb.ai/vinyk-sd-indian-institute-of-technology-madras/fashion-mnist-nn/runs/gnhf5wp8</a>"
            ],
            "text/plain": [
              "<IPython.core.display.HTML object>"
            ]
          },
          "metadata": {},
          "output_type": "display_data"
        },
        {
          "metadata": {
            "tags": null
          },
          "name": "stdout",
          "output_type": "stream",
          "text": [
            "Epoch 1: Train Loss: 0.0988, Train Acc: 0.1017, Val Loss: 0.0972, Val Acc: 0.1223\n",
            "Epoch 2: Train Loss: 0.0958, Train Acc: 0.1799, Val Loss: 0.0945, Val Acc: 0.2337\n",
            "Epoch 3: Train Loss: 0.0935, Train Acc: 0.3069, Val Loss: 0.0925, Val Acc: 0.3441\n",
            "Epoch 4: Train Loss: 0.0918, Train Acc: 0.3386, Val Loss: 0.0911, Val Acc: 0.3213\n",
            "Epoch 5: Train Loss: 0.0906, Train Acc: 0.3139, Val Loss: 0.0901, Val Acc: 0.3059\n"
          ]
        },
        {
          "data": {
            "text/html": [],
            "text/plain": [
              "<IPython.core.display.HTML object>"
            ]
          },
          "metadata": {},
          "output_type": "display_data"
        },
        {
          "data": {
            "text/html": [
              "<br>    <style><br>        .wandb-row {<br>            display: flex;<br>            flex-direction: row;<br>            flex-wrap: wrap;<br>            justify-content: flex-start;<br>            width: 100%;<br>        }<br>        .wandb-col {<br>            display: flex;<br>            flex-direction: column;<br>            flex-basis: 100%;<br>            flex: 1;<br>            padding: 10px;<br>        }<br>    </style><br><div class=\"wandb-row\"><div class=\"wandb-col\"><h3>Run history:</h3><br/><table class=\"wandb\"><tr><td>epoch</td><td>▁▃▅▆█</td></tr><tr><td>train_accuracy</td><td>▁▃▇█▇</td></tr><tr><td>train_loss</td><td>█▅▄▂▁</td></tr><tr><td>val_accuracy</td><td>▁▅█▇▇</td></tr><tr><td>val_loss</td><td>█▅▃▂▁</td></tr></table><br/></div><div class=\"wandb-col\"><h3>Run summary:</h3><br/><table class=\"wandb\"><tr><td>epoch</td><td>5</td></tr><tr><td>train_accuracy</td><td>0.31392</td></tr><tr><td>train_loss</td><td>0.09057</td></tr><tr><td>val_accuracy</td><td>0.3059</td></tr><tr><td>val_loss</td><td>0.0901</td></tr></table><br/></div></div>"
            ],
            "text/plain": [
              "<IPython.core.display.HTML object>"
            ]
          },
          "metadata": {},
          "output_type": "display_data"
        },
        {
          "data": {
            "text/html": [
              " View run <strong style=\"color:#cdcd00\">glad-sweep-1</strong> at: <a href='https://wandb.ai/vinyk-sd-indian-institute-of-technology-madras/fashion-mnist-nn/runs/gnhf5wp8' target=\"_blank\">https://wandb.ai/vinyk-sd-indian-institute-of-technology-madras/fashion-mnist-nn/runs/gnhf5wp8</a><br> View project at: <a href='https://wandb.ai/vinyk-sd-indian-institute-of-technology-madras/fashion-mnist-nn' target=\"_blank\">https://wandb.ai/vinyk-sd-indian-institute-of-technology-madras/fashion-mnist-nn</a><br>Synced 5 W&B file(s), 0 media file(s), 0 artifact file(s) and 0 other file(s)"
            ],
            "text/plain": [
              "<IPython.core.display.HTML object>"
            ]
          },
          "metadata": {},
          "output_type": "display_data"
        },
        {
          "data": {
            "text/html": [
              "Find logs at: <code>./wandb/run-20250308_124509-gnhf5wp8/logs</code>"
            ],
            "text/plain": [
              "<IPython.core.display.HTML object>"
            ]
          },
          "metadata": {},
          "output_type": "display_data"
        },
        {
          "metadata": {
            "tags": null
          },
          "name": "stderr",
          "output_type": "stream",
          "text": [
            "\u001b[34m\u001b[1mwandb\u001b[0m: Sweep Agent: Waiting for job.\n",
            "\u001b[34m\u001b[1mwandb\u001b[0m: Job received.\n",
            "\u001b[34m\u001b[1mwandb\u001b[0m: Agent Starting Run: 6aype742 with config:\n",
            "\u001b[34m\u001b[1mwandb\u001b[0m: \tactivation: sigmoid\n",
            "\u001b[34m\u001b[1mwandb\u001b[0m: \tbatch_size: 16\n",
            "\u001b[34m\u001b[1mwandb\u001b[0m: \tepochs: 10\n",
            "\u001b[34m\u001b[1mwandb\u001b[0m: \thidden_layers: 5\n",
            "\u001b[34m\u001b[1mwandb\u001b[0m: \thidden_size: 32\n",
            "\u001b[34m\u001b[1mwandb\u001b[0m: \tlearning_rate: 0.001\n",
            "\u001b[34m\u001b[1mwandb\u001b[0m: \toptimizer: nesterov\n",
            "\u001b[34m\u001b[1mwandb\u001b[0m: \tweight_decay: 0\n",
            "\u001b[34m\u001b[1mwandb\u001b[0m: \tweight_init: random\n"
          ]
        },
        {
          "data": {
            "text/html": [
              "Ignoring project 'fashion-mnist-nn' when running a sweep."
            ],
            "text/plain": [
              "<IPython.core.display.HTML object>"
            ]
          },
          "metadata": {},
          "output_type": "display_data"
        },
        {
          "data": {
            "text/html": [
              "Ignoring entity 'vinyk-sd-indian-institute-of-technology-madras' when running a sweep."
            ],
            "text/plain": [
              "<IPython.core.display.HTML object>"
            ]
          },
          "metadata": {},
          "output_type": "display_data"
        },
        {
          "data": {
            "text/html": [
              "Tracking run with wandb version 0.19.7"
            ],
            "text/plain": [
              "<IPython.core.display.HTML object>"
            ]
          },
          "metadata": {},
          "output_type": "display_data"
        },
        {
          "data": {
            "text/html": [
              "Run data is saved locally in <code>/content/wandb/run-20250308_124544-6aype742</code>"
            ],
            "text/plain": [
              "<IPython.core.display.HTML object>"
            ]
          },
          "metadata": {},
          "output_type": "display_data"
        },
        {
          "data": {
            "text/html": [
              "Syncing run <strong><a href='https://wandb.ai/vinyk-sd-indian-institute-of-technology-madras/fashion-mnist-nn/runs/6aype742' target=\"_blank\">amber-sweep-2</a></strong> to <a href='https://wandb.ai/vinyk-sd-indian-institute-of-technology-madras/fashion-mnist-nn' target=\"_blank\">Weights & Biases</a> (<a href='https://wandb.me/developer-guide' target=\"_blank\">docs</a>)<br>Sweep page: <a href='https://wandb.ai/vinyk-sd-indian-institute-of-technology-madras/fashion-mnist-nn/sweeps/93mly8pj' target=\"_blank\">https://wandb.ai/vinyk-sd-indian-institute-of-technology-madras/fashion-mnist-nn/sweeps/93mly8pj</a>"
            ],
            "text/plain": [
              "<IPython.core.display.HTML object>"
            ]
          },
          "metadata": {},
          "output_type": "display_data"
        },
        {
          "data": {
            "text/html": [
              " View project at <a href='https://wandb.ai/vinyk-sd-indian-institute-of-technology-madras/fashion-mnist-nn' target=\"_blank\">https://wandb.ai/vinyk-sd-indian-institute-of-technology-madras/fashion-mnist-nn</a>"
            ],
            "text/plain": [
              "<IPython.core.display.HTML object>"
            ]
          },
          "metadata": {},
          "output_type": "display_data"
        },
        {
          "data": {
            "text/html": [
              " View sweep at <a href='https://wandb.ai/vinyk-sd-indian-institute-of-technology-madras/fashion-mnist-nn/sweeps/93mly8pj' target=\"_blank\">https://wandb.ai/vinyk-sd-indian-institute-of-technology-madras/fashion-mnist-nn/sweeps/93mly8pj</a>"
            ],
            "text/plain": [
              "<IPython.core.display.HTML object>"
            ]
          },
          "metadata": {},
          "output_type": "display_data"
        },
        {
          "data": {
            "text/html": [
              " View run at <a href='https://wandb.ai/vinyk-sd-indian-institute-of-technology-madras/fashion-mnist-nn/runs/6aype742' target=\"_blank\">https://wandb.ai/vinyk-sd-indian-institute-of-technology-madras/fashion-mnist-nn/runs/6aype742</a>"
            ],
            "text/plain": [
              "<IPython.core.display.HTML object>"
            ]
          },
          "metadata": {},
          "output_type": "display_data"
        },
        {
          "metadata": {
            "tags": null
          },
          "name": "stdout",
          "output_type": "stream",
          "text": [
            "Epoch 1: Train Loss: 0.0945, Train Acc: 0.0999, Val Loss: 0.0904, Val Acc: 0.1000\n",
            "Epoch 2: Train Loss: 0.0903, Train Acc: 0.1144, Val Loss: 0.0902, Val Acc: 0.1216\n",
            "Epoch 3: Train Loss: 0.0898, Train Acc: 0.2029, Val Loss: 0.0893, Val Acc: 0.1988\n",
            "Epoch 4: Train Loss: 0.0880, Train Acc: 0.2095, Val Loss: 0.0862, Val Acc: 0.2219\n",
            "Epoch 5: Train Loss: 0.0835, Train Acc: 0.2388, Val Loss: 0.0807, Val Acc: 0.3124\n",
            "Epoch 6: Train Loss: 0.0779, Train Acc: 0.3518, Val Loss: 0.0751, Val Acc: 0.4057\n",
            "Epoch 7: Train Loss: 0.0724, Train Acc: 0.4395, Val Loss: 0.0700, Val Acc: 0.4771\n",
            "Epoch 8: Train Loss: 0.0676, Train Acc: 0.5096, Val Loss: 0.0654, Val Acc: 0.5421\n",
            "Epoch 9: Train Loss: 0.0632, Train Acc: 0.5584, Val Loss: 0.0612, Val Acc: 0.5703\n",
            "Epoch 10: Train Loss: 0.0589, Train Acc: 0.5873, Val Loss: 0.0571, Val Acc: 0.5993\n"
          ]
        },
        {
          "data": {
            "text/html": [],
            "text/plain": [
              "<IPython.core.display.HTML object>"
            ]
          },
          "metadata": {},
          "output_type": "display_data"
        },
        {
          "data": {
            "text/html": [
              "<br>    <style><br>        .wandb-row {<br>            display: flex;<br>            flex-direction: row;<br>            flex-wrap: wrap;<br>            justify-content: flex-start;<br>            width: 100%;<br>        }<br>        .wandb-col {<br>            display: flex;<br>            flex-direction: column;<br>            flex-basis: 100%;<br>            flex: 1;<br>            padding: 10px;<br>        }<br>    </style><br><div class=\"wandb-row\"><div class=\"wandb-col\"><h3>Run history:</h3><br/><table class=\"wandb\"><tr><td>epoch</td><td>▁▂▃▃▄▅▆▆▇█</td></tr><tr><td>train_accuracy</td><td>▁▁▂▃▃▅▆▇██</td></tr><tr><td>train_loss</td><td>█▇▇▇▆▅▄▃▂▁</td></tr><tr><td>val_accuracy</td><td>▁▁▂▃▄▅▆▇██</td></tr><tr><td>val_loss</td><td>███▇▆▅▄▃▂▁</td></tr></table><br/></div><div class=\"wandb-col\"><h3>Run summary:</h3><br/><table class=\"wandb\"><tr><td>epoch</td><td>10</td></tr><tr><td>train_accuracy</td><td>0.58725</td></tr><tr><td>train_loss</td><td>0.05892</td></tr><tr><td>val_accuracy</td><td>0.5993</td></tr><tr><td>val_loss</td><td>0.05711</td></tr></table><br/></div></div>"
            ],
            "text/plain": [
              "<IPython.core.display.HTML object>"
            ]
          },
          "metadata": {},
          "output_type": "display_data"
        },
        {
          "data": {
            "text/html": [
              " View run <strong style=\"color:#cdcd00\">amber-sweep-2</strong> at: <a href='https://wandb.ai/vinyk-sd-indian-institute-of-technology-madras/fashion-mnist-nn/runs/6aype742' target=\"_blank\">https://wandb.ai/vinyk-sd-indian-institute-of-technology-madras/fashion-mnist-nn/runs/6aype742</a><br> View project at: <a href='https://wandb.ai/vinyk-sd-indian-institute-of-technology-madras/fashion-mnist-nn' target=\"_blank\">https://wandb.ai/vinyk-sd-indian-institute-of-technology-madras/fashion-mnist-nn</a><br>Synced 5 W&B file(s), 0 media file(s), 0 artifact file(s) and 0 other file(s)"
            ],
            "text/plain": [
              "<IPython.core.display.HTML object>"
            ]
          },
          "metadata": {},
          "output_type": "display_data"
        },
        {
          "data": {
            "text/html": [
              "Find logs at: <code>./wandb/run-20250308_124544-6aype742/logs</code>"
            ],
            "text/plain": [
              "<IPython.core.display.HTML object>"
            ]
          },
          "metadata": {},
          "output_type": "display_data"
        },
        {
          "metadata": {
            "tags": null
          },
          "name": "stderr",
          "output_type": "stream",
          "text": [
            "\u001b[34m\u001b[1mwandb\u001b[0m: Agent Starting Run: mhsv7ewd with config:\n",
            "\u001b[34m\u001b[1mwandb\u001b[0m: \tactivation: tanh\n",
            "\u001b[34m\u001b[1mwandb\u001b[0m: \tbatch_size: 32\n",
            "\u001b[34m\u001b[1mwandb\u001b[0m: \tepochs: 10\n",
            "\u001b[34m\u001b[1mwandb\u001b[0m: \thidden_layers: 5\n",
            "\u001b[34m\u001b[1mwandb\u001b[0m: \thidden_size: 128\n",
            "\u001b[34m\u001b[1mwandb\u001b[0m: \tlearning_rate: 0.0001\n",
            "\u001b[34m\u001b[1mwandb\u001b[0m: \toptimizer: sgd\n",
            "\u001b[34m\u001b[1mwandb\u001b[0m: \tweight_decay: 0.0005\n",
            "\u001b[34m\u001b[1mwandb\u001b[0m: \tweight_init: xavier\n"
          ]
        },
        {
          "data": {
            "text/html": [
              "Ignoring project 'fashion-mnist-nn' when running a sweep."
            ],
            "text/plain": [
              "<IPython.core.display.HTML object>"
            ]
          },
          "metadata": {},
          "output_type": "display_data"
        },
        {
          "data": {
            "text/html": [
              "Ignoring entity 'vinyk-sd-indian-institute-of-technology-madras' when running a sweep."
            ],
            "text/plain": [
              "<IPython.core.display.HTML object>"
            ]
          },
          "metadata": {},
          "output_type": "display_data"
        },
        {
          "data": {
            "text/html": [
              "Tracking run with wandb version 0.19.7"
            ],
            "text/plain": [
              "<IPython.core.display.HTML object>"
            ]
          },
          "metadata": {},
          "output_type": "display_data"
        },
        {
          "data": {
            "text/html": [
              "Run data is saved locally in <code>/content/wandb/run-20250308_124635-mhsv7ewd</code>"
            ],
            "text/plain": [
              "<IPython.core.display.HTML object>"
            ]
          },
          "metadata": {},
          "output_type": "display_data"
        },
        {
          "data": {
            "text/html": [
              "Syncing run <strong><a href='https://wandb.ai/vinyk-sd-indian-institute-of-technology-madras/fashion-mnist-nn/runs/mhsv7ewd' target=\"_blank\">azure-sweep-3</a></strong> to <a href='https://wandb.ai/vinyk-sd-indian-institute-of-technology-madras/fashion-mnist-nn' target=\"_blank\">Weights & Biases</a> (<a href='https://wandb.me/developer-guide' target=\"_blank\">docs</a>)<br>Sweep page: <a href='https://wandb.ai/vinyk-sd-indian-institute-of-technology-madras/fashion-mnist-nn/sweeps/93mly8pj' target=\"_blank\">https://wandb.ai/vinyk-sd-indian-institute-of-technology-madras/fashion-mnist-nn/sweeps/93mly8pj</a>"
            ],
            "text/plain": [
              "<IPython.core.display.HTML object>"
            ]
          },
          "metadata": {},
          "output_type": "display_data"
        },
        {
          "data": {
            "text/html": [
              " View project at <a href='https://wandb.ai/vinyk-sd-indian-institute-of-technology-madras/fashion-mnist-nn' target=\"_blank\">https://wandb.ai/vinyk-sd-indian-institute-of-technology-madras/fashion-mnist-nn</a>"
            ],
            "text/plain": [
              "<IPython.core.display.HTML object>"
            ]
          },
          "metadata": {},
          "output_type": "display_data"
        },
        {
          "data": {
            "text/html": [
              " View sweep at <a href='https://wandb.ai/vinyk-sd-indian-institute-of-technology-madras/fashion-mnist-nn/sweeps/93mly8pj' target=\"_blank\">https://wandb.ai/vinyk-sd-indian-institute-of-technology-madras/fashion-mnist-nn/sweeps/93mly8pj</a>"
            ],
            "text/plain": [
              "<IPython.core.display.HTML object>"
            ]
          },
          "metadata": {},
          "output_type": "display_data"
        },
        {
          "data": {
            "text/html": [
              " View run at <a href='https://wandb.ai/vinyk-sd-indian-institute-of-technology-madras/fashion-mnist-nn/runs/mhsv7ewd' target=\"_blank\">https://wandb.ai/vinyk-sd-indian-institute-of-technology-madras/fashion-mnist-nn/runs/mhsv7ewd</a>"
            ],
            "text/plain": [
              "<IPython.core.display.HTML object>"
            ]
          },
          "metadata": {},
          "output_type": "display_data"
        },
        {
          "metadata": {
            "tags": null
          },
          "name": "stdout",
          "output_type": "stream",
          "text": [
            "Epoch 1: Train Loss: 0.0954, Train Acc: 0.2098, Val Loss: 0.0912, Val Acc: 0.3379\n",
            "Epoch 2: Train Loss: 0.0888, Train Acc: 0.4153, Val Loss: 0.0870, Val Acc: 0.4777\n",
            "Epoch 3: Train Loss: 0.0857, Train Acc: 0.5303, Val Loss: 0.0846, Val Acc: 0.5656\n",
            "Epoch 4: Train Loss: 0.0835, Train Acc: 0.5908, Val Loss: 0.0825, Val Acc: 0.5972\n",
            "Epoch 5: Train Loss: 0.0814, Train Acc: 0.6124, Val Loss: 0.0805, Val Acc: 0.6109\n",
            "Epoch 6: Train Loss: 0.0794, Train Acc: 0.6210, Val Loss: 0.0785, Val Acc: 0.6171\n",
            "Epoch 7: Train Loss: 0.0775, Train Acc: 0.6233, Val Loss: 0.0767, Val Acc: 0.6192\n",
            "Epoch 8: Train Loss: 0.0758, Train Acc: 0.6234, Val Loss: 0.0751, Val Acc: 0.6168\n",
            "Epoch 9: Train Loss: 0.0742, Train Acc: 0.6227, Val Loss: 0.0736, Val Acc: 0.6161\n",
            "Epoch 10: Train Loss: 0.0729, Train Acc: 0.6216, Val Loss: 0.0724, Val Acc: 0.6166\n"
          ]
        },
        {
          "data": {
            "text/html": [],
            "text/plain": [
              "<IPython.core.display.HTML object>"
            ]
          },
          "metadata": {},
          "output_type": "display_data"
        },
        {
          "data": {
            "text/html": [
              "<br>    <style><br>        .wandb-row {<br>            display: flex;<br>            flex-direction: row;<br>            flex-wrap: wrap;<br>            justify-content: flex-start;<br>            width: 100%;<br>        }<br>        .wandb-col {<br>            display: flex;<br>            flex-direction: column;<br>            flex-basis: 100%;<br>            flex: 1;<br>            padding: 10px;<br>        }<br>    </style><br><div class=\"wandb-row\"><div class=\"wandb-col\"><h3>Run history:</h3><br/><table class=\"wandb\"><tr><td>epoch</td><td>▁▂▃▃▄▅▆▆▇█</td></tr><tr><td>train_accuracy</td><td>▁▄▆▇██████</td></tr><tr><td>train_loss</td><td>█▆▅▄▄▃▂▂▁▁</td></tr><tr><td>val_accuracy</td><td>▁▄▇▇██████</td></tr><tr><td>val_loss</td><td>█▆▆▅▄▃▃▂▁▁</td></tr></table><br/></div><div class=\"wandb-col\"><h3>Run summary:</h3><br/><table class=\"wandb\"><tr><td>epoch</td><td>10</td></tr><tr><td>train_accuracy</td><td>0.62155</td></tr><tr><td>train_loss</td><td>0.07287</td></tr><tr><td>val_accuracy</td><td>0.6166</td></tr><tr><td>val_loss</td><td>0.07235</td></tr></table><br/></div></div>"
            ],
            "text/plain": [
              "<IPython.core.display.HTML object>"
            ]
          },
          "metadata": {},
          "output_type": "display_data"
        },
        {
          "data": {
            "text/html": [
              " View run <strong style=\"color:#cdcd00\">azure-sweep-3</strong> at: <a href='https://wandb.ai/vinyk-sd-indian-institute-of-technology-madras/fashion-mnist-nn/runs/mhsv7ewd' target=\"_blank\">https://wandb.ai/vinyk-sd-indian-institute-of-technology-madras/fashion-mnist-nn/runs/mhsv7ewd</a><br> View project at: <a href='https://wandb.ai/vinyk-sd-indian-institute-of-technology-madras/fashion-mnist-nn' target=\"_blank\">https://wandb.ai/vinyk-sd-indian-institute-of-technology-madras/fashion-mnist-nn</a><br>Synced 5 W&B file(s), 0 media file(s), 0 artifact file(s) and 0 other file(s)"
            ],
            "text/plain": [
              "<IPython.core.display.HTML object>"
            ]
          },
          "metadata": {},
          "output_type": "display_data"
        },
        {
          "data": {
            "text/html": [
              "Find logs at: <code>./wandb/run-20250308_124635-mhsv7ewd/logs</code>"
            ],
            "text/plain": [
              "<IPython.core.display.HTML object>"
            ]
          },
          "metadata": {},
          "output_type": "display_data"
        },
        {
          "metadata": {
            "tags": null
          },
          "name": "stderr",
          "output_type": "stream",
          "text": [
            "\u001b[34m\u001b[1mwandb\u001b[0m: Sweep Agent: Waiting for job.\n",
            "\u001b[34m\u001b[1mwandb\u001b[0m: Job received.\n",
            "\u001b[34m\u001b[1mwandb\u001b[0m: Agent Starting Run: 2lb736aw with config:\n",
            "\u001b[34m\u001b[1mwandb\u001b[0m: \tactivation: sigmoid\n",
            "\u001b[34m\u001b[1mwandb\u001b[0m: \tbatch_size: 64\n",
            "\u001b[34m\u001b[1mwandb\u001b[0m: \tepochs: 5\n",
            "\u001b[34m\u001b[1mwandb\u001b[0m: \thidden_layers: 5\n",
            "\u001b[34m\u001b[1mwandb\u001b[0m: \thidden_size: 32\n",
            "\u001b[34m\u001b[1mwandb\u001b[0m: \tlearning_rate: 0.001\n",
            "\u001b[34m\u001b[1mwandb\u001b[0m: \toptimizer: nadam\n",
            "\u001b[34m\u001b[1mwandb\u001b[0m: \tweight_decay: 0.5\n",
            "\u001b[34m\u001b[1mwandb\u001b[0m: \tweight_init: random\n"
          ]
        },
        {
          "data": {
            "text/html": [
              "Ignoring project 'fashion-mnist-nn' when running a sweep."
            ],
            "text/plain": [
              "<IPython.core.display.HTML object>"
            ]
          },
          "metadata": {},
          "output_type": "display_data"
        },
        {
          "data": {
            "text/html": [
              "Ignoring entity 'vinyk-sd-indian-institute-of-technology-madras' when running a sweep."
            ],
            "text/plain": [
              "<IPython.core.display.HTML object>"
            ]
          },
          "metadata": {},
          "output_type": "display_data"
        },
        {
          "data": {
            "text/html": [
              "Tracking run with wandb version 0.19.7"
            ],
            "text/plain": [
              "<IPython.core.display.HTML object>"
            ]
          },
          "metadata": {},
          "output_type": "display_data"
        },
        {
          "data": {
            "text/html": [
              "Run data is saved locally in <code>/content/wandb/run-20250308_124756-2lb736aw</code>"
            ],
            "text/plain": [
              "<IPython.core.display.HTML object>"
            ]
          },
          "metadata": {},
          "output_type": "display_data"
        },
        {
          "data": {
            "text/html": [
              "Syncing run <strong><a href='https://wandb.ai/vinyk-sd-indian-institute-of-technology-madras/fashion-mnist-nn/runs/2lb736aw' target=\"_blank\">misunderstood-sweep-4</a></strong> to <a href='https://wandb.ai/vinyk-sd-indian-institute-of-technology-madras/fashion-mnist-nn' target=\"_blank\">Weights & Biases</a> (<a href='https://wandb.me/developer-guide' target=\"_blank\">docs</a>)<br>Sweep page: <a href='https://wandb.ai/vinyk-sd-indian-institute-of-technology-madras/fashion-mnist-nn/sweeps/93mly8pj' target=\"_blank\">https://wandb.ai/vinyk-sd-indian-institute-of-technology-madras/fashion-mnist-nn/sweeps/93mly8pj</a>"
            ],
            "text/plain": [
              "<IPython.core.display.HTML object>"
            ]
          },
          "metadata": {},
          "output_type": "display_data"
        },
        {
          "data": {
            "text/html": [
              " View project at <a href='https://wandb.ai/vinyk-sd-indian-institute-of-technology-madras/fashion-mnist-nn' target=\"_blank\">https://wandb.ai/vinyk-sd-indian-institute-of-technology-madras/fashion-mnist-nn</a>"
            ],
            "text/plain": [
              "<IPython.core.display.HTML object>"
            ]
          },
          "metadata": {},
          "output_type": "display_data"
        },
        {
          "data": {
            "text/html": [
              " View sweep at <a href='https://wandb.ai/vinyk-sd-indian-institute-of-technology-madras/fashion-mnist-nn/sweeps/93mly8pj' target=\"_blank\">https://wandb.ai/vinyk-sd-indian-institute-of-technology-madras/fashion-mnist-nn/sweeps/93mly8pj</a>"
            ],
            "text/plain": [
              "<IPython.core.display.HTML object>"
            ]
          },
          "metadata": {},
          "output_type": "display_data"
        },
        {
          "data": {
            "text/html": [
              " View run at <a href='https://wandb.ai/vinyk-sd-indian-institute-of-technology-madras/fashion-mnist-nn/runs/2lb736aw' target=\"_blank\">https://wandb.ai/vinyk-sd-indian-institute-of-technology-madras/fashion-mnist-nn/runs/2lb736aw</a>"
            ],
            "text/plain": [
              "<IPython.core.display.HTML object>"
            ]
          },
          "metadata": {},
          "output_type": "display_data"
        },
        {
          "metadata": {
            "tags": null
          },
          "name": "stdout",
          "output_type": "stream",
          "text": [
            "Epoch 1: Train Loss: 0.0932, Train Acc: 0.1310, Val Loss: 0.0870, Val Acc: 0.1984\n",
            "Epoch 2: Train Loss: 0.0793, Train Acc: 0.3898, Val Loss: 0.0665, Val Acc: 0.6772\n",
            "Epoch 3: Train Loss: 0.0549, Train Acc: 0.7253, Val Loss: 0.0457, Val Acc: 0.7743\n",
            "Epoch 4: Train Loss: 0.0389, Train Acc: 0.7909, Val Loss: 0.0345, Val Acc: 0.7988\n",
            "Epoch 5: Train Loss: 0.0305, Train Acc: 0.8248, Val Loss: 0.0291, Val Acc: 0.8233\n"
          ]
        },
        {
          "data": {
            "text/html": [],
            "text/plain": [
              "<IPython.core.display.HTML object>"
            ]
          },
          "metadata": {},
          "output_type": "display_data"
        },
        {
          "data": {
            "text/html": [
              "<br>    <style><br>        .wandb-row {<br>            display: flex;<br>            flex-direction: row;<br>            flex-wrap: wrap;<br>            justify-content: flex-start;<br>            width: 100%;<br>        }<br>        .wandb-col {<br>            display: flex;<br>            flex-direction: column;<br>            flex-basis: 100%;<br>            flex: 1;<br>            padding: 10px;<br>        }<br>    </style><br><div class=\"wandb-row\"><div class=\"wandb-col\"><h3>Run history:</h3><br/><table class=\"wandb\"><tr><td>epoch</td><td>▁▃▅▆█</td></tr><tr><td>train_accuracy</td><td>▁▄▇██</td></tr><tr><td>train_loss</td><td>█▆▄▂▁</td></tr><tr><td>val_accuracy</td><td>▁▆▇██</td></tr><tr><td>val_loss</td><td>█▆▃▂▁</td></tr></table><br/></div><div class=\"wandb-col\"><h3>Run summary:</h3><br/><table class=\"wandb\"><tr><td>epoch</td><td>5</td></tr><tr><td>train_accuracy</td><td>0.82479</td></tr><tr><td>train_loss</td><td>0.03052</td></tr><tr><td>val_accuracy</td><td>0.8233</td></tr><tr><td>val_loss</td><td>0.0291</td></tr></table><br/></div></div>"
            ],
            "text/plain": [
              "<IPython.core.display.HTML object>"
            ]
          },
          "metadata": {},
          "output_type": "display_data"
        },
        {
          "data": {
            "text/html": [
              " View run <strong style=\"color:#cdcd00\">misunderstood-sweep-4</strong> at: <a href='https://wandb.ai/vinyk-sd-indian-institute-of-technology-madras/fashion-mnist-nn/runs/2lb736aw' target=\"_blank\">https://wandb.ai/vinyk-sd-indian-institute-of-technology-madras/fashion-mnist-nn/runs/2lb736aw</a><br> View project at: <a href='https://wandb.ai/vinyk-sd-indian-institute-of-technology-madras/fashion-mnist-nn' target=\"_blank\">https://wandb.ai/vinyk-sd-indian-institute-of-technology-madras/fashion-mnist-nn</a><br>Synced 5 W&B file(s), 0 media file(s), 0 artifact file(s) and 0 other file(s)"
            ],
            "text/plain": [
              "<IPython.core.display.HTML object>"
            ]
          },
          "metadata": {},
          "output_type": "display_data"
        },
        {
          "data": {
            "text/html": [
              "Find logs at: <code>./wandb/run-20250308_124756-2lb736aw/logs</code>"
            ],
            "text/plain": [
              "<IPython.core.display.HTML object>"
            ]
          },
          "metadata": {},
          "output_type": "display_data"
        },
        {
          "metadata": {
            "tags": null
          },
          "name": "stderr",
          "output_type": "stream",
          "text": [
            "\u001b[34m\u001b[1mwandb\u001b[0m: Agent Starting Run: mnd9xis5 with config:\n",
            "\u001b[34m\u001b[1mwandb\u001b[0m: \tactivation: tanh\n",
            "\u001b[34m\u001b[1mwandb\u001b[0m: \tbatch_size: 64\n",
            "\u001b[34m\u001b[1mwandb\u001b[0m: \tepochs: 10\n",
            "\u001b[34m\u001b[1mwandb\u001b[0m: \thidden_layers: 5\n",
            "\u001b[34m\u001b[1mwandb\u001b[0m: \thidden_size: 32\n",
            "\u001b[34m\u001b[1mwandb\u001b[0m: \tlearning_rate: 0.001\n",
            "\u001b[34m\u001b[1mwandb\u001b[0m: \toptimizer: nadam\n",
            "\u001b[34m\u001b[1mwandb\u001b[0m: \tweight_decay: 0.5\n",
            "\u001b[34m\u001b[1mwandb\u001b[0m: \tweight_init: random\n"
          ]
        },
        {
          "data": {
            "text/html": [
              "Ignoring project 'fashion-mnist-nn' when running a sweep."
            ],
            "text/plain": [
              "<IPython.core.display.HTML object>"
            ]
          },
          "metadata": {},
          "output_type": "display_data"
        },
        {
          "data": {
            "text/html": [
              "Ignoring entity 'vinyk-sd-indian-institute-of-technology-madras' when running a sweep."
            ],
            "text/plain": [
              "<IPython.core.display.HTML object>"
            ]
          },
          "metadata": {},
          "output_type": "display_data"
        },
        {
          "data": {
            "text/html": [
              "Tracking run with wandb version 0.19.7"
            ],
            "text/plain": [
              "<IPython.core.display.HTML object>"
            ]
          },
          "metadata": {},
          "output_type": "display_data"
        },
        {
          "data": {
            "text/html": [
              "Run data is saved locally in <code>/content/wandb/run-20250308_124813-mnd9xis5</code>"
            ],
            "text/plain": [
              "<IPython.core.display.HTML object>"
            ]
          },
          "metadata": {},
          "output_type": "display_data"
        },
        {
          "data": {
            "text/html": [
              "Syncing run <strong><a href='https://wandb.ai/vinyk-sd-indian-institute-of-technology-madras/fashion-mnist-nn/runs/mnd9xis5' target=\"_blank\">golden-sweep-5</a></strong> to <a href='https://wandb.ai/vinyk-sd-indian-institute-of-technology-madras/fashion-mnist-nn' target=\"_blank\">Weights & Biases</a> (<a href='https://wandb.me/developer-guide' target=\"_blank\">docs</a>)<br>Sweep page: <a href='https://wandb.ai/vinyk-sd-indian-institute-of-technology-madras/fashion-mnist-nn/sweeps/93mly8pj' target=\"_blank\">https://wandb.ai/vinyk-sd-indian-institute-of-technology-madras/fashion-mnist-nn/sweeps/93mly8pj</a>"
            ],
            "text/plain": [
              "<IPython.core.display.HTML object>"
            ]
          },
          "metadata": {},
          "output_type": "display_data"
        },
        {
          "data": {
            "text/html": [
              " View project at <a href='https://wandb.ai/vinyk-sd-indian-institute-of-technology-madras/fashion-mnist-nn' target=\"_blank\">https://wandb.ai/vinyk-sd-indian-institute-of-technology-madras/fashion-mnist-nn</a>"
            ],
            "text/plain": [
              "<IPython.core.display.HTML object>"
            ]
          },
          "metadata": {},
          "output_type": "display_data"
        },
        {
          "data": {
            "text/html": [
              " View sweep at <a href='https://wandb.ai/vinyk-sd-indian-institute-of-technology-madras/fashion-mnist-nn/sweeps/93mly8pj' target=\"_blank\">https://wandb.ai/vinyk-sd-indian-institute-of-technology-madras/fashion-mnist-nn/sweeps/93mly8pj</a>"
            ],
            "text/plain": [
              "<IPython.core.display.HTML object>"
            ]
          },
          "metadata": {},
          "output_type": "display_data"
        },
        {
          "data": {
            "text/html": [
              " View run at <a href='https://wandb.ai/vinyk-sd-indian-institute-of-technology-madras/fashion-mnist-nn/runs/mnd9xis5' target=\"_blank\">https://wandb.ai/vinyk-sd-indian-institute-of-technology-madras/fashion-mnist-nn/runs/mnd9xis5</a>"
            ],
            "text/plain": [
              "<IPython.core.display.HTML object>"
            ]
          },
          "metadata": {},
          "output_type": "display_data"
        },
        {
          "metadata": {
            "tags": null
          },
          "name": "stdout",
          "output_type": "stream",
          "text": [
            "Epoch 1: Train Loss: 0.0352, Train Acc: 0.7849, Val Loss: 0.0288, Val Acc: 0.8264\n",
            "Epoch 2: Train Loss: 0.0257, Train Acc: 0.8474, Val Loss: 0.0265, Val Acc: 0.8397\n",
            "Epoch 3: Train Loss: 0.0239, Train Acc: 0.8572, Val Loss: 0.0254, Val Acc: 0.8455\n",
            "Epoch 4: Train Loss: 0.0229, Train Acc: 0.8623, Val Loss: 0.0248, Val Acc: 0.8477\n",
            "Epoch 5: Train Loss: 0.0222, Train Acc: 0.8655, Val Loss: 0.0243, Val Acc: 0.8495\n",
            "Epoch 6: Train Loss: 0.0218, Train Acc: 0.8674, Val Loss: 0.0240, Val Acc: 0.8516\n",
            "Epoch 7: Train Loss: 0.0214, Train Acc: 0.8697, Val Loss: 0.0238, Val Acc: 0.8528\n",
            "Epoch 8: Train Loss: 0.0211, Train Acc: 0.8714, Val Loss: 0.0237, Val Acc: 0.8535\n",
            "Epoch 9: Train Loss: 0.0209, Train Acc: 0.8726, Val Loss: 0.0236, Val Acc: 0.8543\n",
            "Epoch 10: Train Loss: 0.0207, Train Acc: 0.8743, Val Loss: 0.0235, Val Acc: 0.8541\n"
          ]
        },
        {
          "data": {
            "text/html": [],
            "text/plain": [
              "<IPython.core.display.HTML object>"
            ]
          },
          "metadata": {},
          "output_type": "display_data"
        },
        {
          "data": {
            "text/html": [
              "<br>    <style><br>        .wandb-row {<br>            display: flex;<br>            flex-direction: row;<br>            flex-wrap: wrap;<br>            justify-content: flex-start;<br>            width: 100%;<br>        }<br>        .wandb-col {<br>            display: flex;<br>            flex-direction: column;<br>            flex-basis: 100%;<br>            flex: 1;<br>            padding: 10px;<br>        }<br>    </style><br><div class=\"wandb-row\"><div class=\"wandb-col\"><h3>Run history:</h3><br/><table class=\"wandb\"><tr><td>epoch</td><td>▁▂▃▃▄▅▆▆▇█</td></tr><tr><td>train_accuracy</td><td>▁▆▇▇▇▇████</td></tr><tr><td>train_loss</td><td>█▃▃▂▂▂▁▁▁▁</td></tr><tr><td>val_accuracy</td><td>▁▄▆▆▇▇████</td></tr><tr><td>val_loss</td><td>█▅▄▃▂▂▁▁▁▁</td></tr></table><br/></div><div class=\"wandb-col\"><h3>Run summary:</h3><br/><table class=\"wandb\"><tr><td>epoch</td><td>10</td></tr><tr><td>train_accuracy</td><td>0.8743</td></tr><tr><td>train_loss</td><td>0.02066</td></tr><tr><td>val_accuracy</td><td>0.8541</td></tr><tr><td>val_loss</td><td>0.02351</td></tr></table><br/></div></div>"
            ],
            "text/plain": [
              "<IPython.core.display.HTML object>"
            ]
          },
          "metadata": {},
          "output_type": "display_data"
        },
        {
          "data": {
            "text/html": [
              " View run <strong style=\"color:#cdcd00\">golden-sweep-5</strong> at: <a href='https://wandb.ai/vinyk-sd-indian-institute-of-technology-madras/fashion-mnist-nn/runs/mnd9xis5' target=\"_blank\">https://wandb.ai/vinyk-sd-indian-institute-of-technology-madras/fashion-mnist-nn/runs/mnd9xis5</a><br> View project at: <a href='https://wandb.ai/vinyk-sd-indian-institute-of-technology-madras/fashion-mnist-nn' target=\"_blank\">https://wandb.ai/vinyk-sd-indian-institute-of-technology-madras/fashion-mnist-nn</a><br>Synced 5 W&B file(s), 0 media file(s), 0 artifact file(s) and 0 other file(s)"
            ],
            "text/plain": [
              "<IPython.core.display.HTML object>"
            ]
          },
          "metadata": {},
          "output_type": "display_data"
        },
        {
          "data": {
            "text/html": [
              "Find logs at: <code>./wandb/run-20250308_124813-mnd9xis5/logs</code>"
            ],
            "text/plain": [
              "<IPython.core.display.HTML object>"
            ]
          },
          "metadata": {},
          "output_type": "display_data"
        },
        {
          "metadata": {
            "tags": null
          },
          "name": "stderr",
          "output_type": "stream",
          "text": [
            "\u001b[34m\u001b[1mwandb\u001b[0m: Agent Starting Run: nr83qeh6 with config:\n",
            "\u001b[34m\u001b[1mwandb\u001b[0m: \tactivation: sigmoid\n",
            "\u001b[34m\u001b[1mwandb\u001b[0m: \tbatch_size: 64\n",
            "\u001b[34m\u001b[1mwandb\u001b[0m: \tepochs: 10\n",
            "\u001b[34m\u001b[1mwandb\u001b[0m: \thidden_layers: 4\n",
            "\u001b[34m\u001b[1mwandb\u001b[0m: \thidden_size: 32\n",
            "\u001b[34m\u001b[1mwandb\u001b[0m: \tlearning_rate: 0.001\n",
            "\u001b[34m\u001b[1mwandb\u001b[0m: \toptimizer: nadam\n",
            "\u001b[34m\u001b[1mwandb\u001b[0m: \tweight_decay: 0.5\n",
            "\u001b[34m\u001b[1mwandb\u001b[0m: \tweight_init: random\n"
          ]
        },
        {
          "data": {
            "text/html": [
              "Ignoring project 'fashion-mnist-nn' when running a sweep."
            ],
            "text/plain": [
              "<IPython.core.display.HTML object>"
            ]
          },
          "metadata": {},
          "output_type": "display_data"
        },
        {
          "data": {
            "text/html": [
              "Ignoring entity 'vinyk-sd-indian-institute-of-technology-madras' when running a sweep."
            ],
            "text/plain": [
              "<IPython.core.display.HTML object>"
            ]
          },
          "metadata": {},
          "output_type": "display_data"
        },
        {
          "data": {
            "text/html": [
              "Tracking run with wandb version 0.19.7"
            ],
            "text/plain": [
              "<IPython.core.display.HTML object>"
            ]
          },
          "metadata": {},
          "output_type": "display_data"
        },
        {
          "data": {
            "text/html": [
              "Run data is saved locally in <code>/content/wandb/run-20250308_124843-nr83qeh6</code>"
            ],
            "text/plain": [
              "<IPython.core.display.HTML object>"
            ]
          },
          "metadata": {},
          "output_type": "display_data"
        },
        {
          "data": {
            "text/html": [
              "Syncing run <strong><a href='https://wandb.ai/vinyk-sd-indian-institute-of-technology-madras/fashion-mnist-nn/runs/nr83qeh6' target=\"_blank\">deft-sweep-6</a></strong> to <a href='https://wandb.ai/vinyk-sd-indian-institute-of-technology-madras/fashion-mnist-nn' target=\"_blank\">Weights & Biases</a> (<a href='https://wandb.me/developer-guide' target=\"_blank\">docs</a>)<br>Sweep page: <a href='https://wandb.ai/vinyk-sd-indian-institute-of-technology-madras/fashion-mnist-nn/sweeps/93mly8pj' target=\"_blank\">https://wandb.ai/vinyk-sd-indian-institute-of-technology-madras/fashion-mnist-nn/sweeps/93mly8pj</a>"
            ],
            "text/plain": [
              "<IPython.core.display.HTML object>"
            ]
          },
          "metadata": {},
          "output_type": "display_data"
        },
        {
          "data": {
            "text/html": [
              " View project at <a href='https://wandb.ai/vinyk-sd-indian-institute-of-technology-madras/fashion-mnist-nn' target=\"_blank\">https://wandb.ai/vinyk-sd-indian-institute-of-technology-madras/fashion-mnist-nn</a>"
            ],
            "text/plain": [
              "<IPython.core.display.HTML object>"
            ]
          },
          "metadata": {},
          "output_type": "display_data"
        },
        {
          "data": {
            "text/html": [
              " View sweep at <a href='https://wandb.ai/vinyk-sd-indian-institute-of-technology-madras/fashion-mnist-nn/sweeps/93mly8pj' target=\"_blank\">https://wandb.ai/vinyk-sd-indian-institute-of-technology-madras/fashion-mnist-nn/sweeps/93mly8pj</a>"
            ],
            "text/plain": [
              "<IPython.core.display.HTML object>"
            ]
          },
          "metadata": {},
          "output_type": "display_data"
        },
        {
          "data": {
            "text/html": [
              " View run at <a href='https://wandb.ai/vinyk-sd-indian-institute-of-technology-madras/fashion-mnist-nn/runs/nr83qeh6' target=\"_blank\">https://wandb.ai/vinyk-sd-indian-institute-of-technology-madras/fashion-mnist-nn/runs/nr83qeh6</a>"
            ],
            "text/plain": [
              "<IPython.core.display.HTML object>"
            ]
          },
          "metadata": {},
          "output_type": "display_data"
        },
        {
          "metadata": {
            "tags": null
          },
          "name": "stdout",
          "output_type": "stream",
          "text": [
            "Epoch 1: Train Loss: 0.0932, Train Acc: 0.1310, Val Loss: 0.0870, Val Acc: 0.1984\n",
            "Epoch 2: Train Loss: 0.0793, Train Acc: 0.3898, Val Loss: 0.0665, Val Acc: 0.6772\n",
            "Epoch 3: Train Loss: 0.0549, Train Acc: 0.7253, Val Loss: 0.0457, Val Acc: 0.7743\n",
            "Epoch 4: Train Loss: 0.0389, Train Acc: 0.7909, Val Loss: 0.0345, Val Acc: 0.7988\n",
            "Epoch 5: Train Loss: 0.0305, Train Acc: 0.8248, Val Loss: 0.0291, Val Acc: 0.8233\n",
            "Epoch 6: Train Loss: 0.0263, Train Acc: 0.8393, Val Loss: 0.0263, Val Acc: 0.8309\n",
            "Epoch 7: Train Loss: 0.0240, Train Acc: 0.8466, Val Loss: 0.0248, Val Acc: 0.8376\n",
            "Epoch 8: Train Loss: 0.0226, Train Acc: 0.8535, Val Loss: 0.0239, Val Acc: 0.8405\n",
            "Epoch 9: Train Loss: 0.0217, Train Acc: 0.8579, Val Loss: 0.0233, Val Acc: 0.8434\n",
            "Epoch 10: Train Loss: 0.0210, Train Acc: 0.8613, Val Loss: 0.0228, Val Acc: 0.8462\n"
          ]
        },
        {
          "data": {
            "text/html": [],
            "text/plain": [
              "<IPython.core.display.HTML object>"
            ]
          },
          "metadata": {},
          "output_type": "display_data"
        },
        {
          "data": {
            "text/html": [
              "<br>    <style><br>        .wandb-row {<br>            display: flex;<br>            flex-direction: row;<br>            flex-wrap: wrap;<br>            justify-content: flex-start;<br>            width: 100%;<br>        }<br>        .wandb-col {<br>            display: flex;<br>            flex-direction: column;<br>            flex-basis: 100%;<br>            flex: 1;<br>            padding: 10px;<br>        }<br>    </style><br><div class=\"wandb-row\"><div class=\"wandb-col\"><h3>Run history:</h3><br/><table class=\"wandb\"><tr><td>epoch</td><td>▁▂▃▃▄▅▆▆▇█</td></tr><tr><td>train_accuracy</td><td>▁▃▇▇██████</td></tr><tr><td>train_loss</td><td>█▇▄▃▂▂▁▁▁▁</td></tr><tr><td>val_accuracy</td><td>▁▆▇▇██████</td></tr><tr><td>val_loss</td><td>█▆▃▂▂▁▁▁▁▁</td></tr></table><br/></div><div class=\"wandb-col\"><h3>Run summary:</h3><br/><table class=\"wandb\"><tr><td>epoch</td><td>10</td></tr><tr><td>train_accuracy</td><td>0.86129</td></tr><tr><td>train_loss</td><td>0.02103</td></tr><tr><td>val_accuracy</td><td>0.8462</td></tr><tr><td>val_loss</td><td>0.02283</td></tr></table><br/></div></div>"
            ],
            "text/plain": [
              "<IPython.core.display.HTML object>"
            ]
          },
          "metadata": {},
          "output_type": "display_data"
        },
        {
          "data": {
            "text/html": [
              " View run <strong style=\"color:#cdcd00\">deft-sweep-6</strong> at: <a href='https://wandb.ai/vinyk-sd-indian-institute-of-technology-madras/fashion-mnist-nn/runs/nr83qeh6' target=\"_blank\">https://wandb.ai/vinyk-sd-indian-institute-of-technology-madras/fashion-mnist-nn/runs/nr83qeh6</a><br> View project at: <a href='https://wandb.ai/vinyk-sd-indian-institute-of-technology-madras/fashion-mnist-nn' target=\"_blank\">https://wandb.ai/vinyk-sd-indian-institute-of-technology-madras/fashion-mnist-nn</a><br>Synced 5 W&B file(s), 0 media file(s), 0 artifact file(s) and 0 other file(s)"
            ],
            "text/plain": [
              "<IPython.core.display.HTML object>"
            ]
          },
          "metadata": {},
          "output_type": "display_data"
        },
        {
          "data": {
            "text/html": [
              "Find logs at: <code>./wandb/run-20250308_124843-nr83qeh6/logs</code>"
            ],
            "text/plain": [
              "<IPython.core.display.HTML object>"
            ]
          },
          "metadata": {},
          "output_type": "display_data"
        },
        {
          "metadata": {
            "tags": null
          },
          "name": "stderr",
          "output_type": "stream",
          "text": [
            "\u001b[34m\u001b[1mwandb\u001b[0m: Agent Starting Run: 2htctq77 with config:\n",
            "\u001b[34m\u001b[1mwandb\u001b[0m: \tactivation: tanh\n",
            "\u001b[34m\u001b[1mwandb\u001b[0m: \tbatch_size: 64\n",
            "\u001b[34m\u001b[1mwandb\u001b[0m: \tepochs: 10\n",
            "\u001b[34m\u001b[1mwandb\u001b[0m: \thidden_layers: 4\n",
            "\u001b[34m\u001b[1mwandb\u001b[0m: \thidden_size: 64\n",
            "\u001b[34m\u001b[1mwandb\u001b[0m: \tlearning_rate: 0.001\n",
            "\u001b[34m\u001b[1mwandb\u001b[0m: \toptimizer: nadam\n",
            "\u001b[34m\u001b[1mwandb\u001b[0m: \tweight_decay: 0.0005\n",
            "\u001b[34m\u001b[1mwandb\u001b[0m: \tweight_init: random\n"
          ]
        },
        {
          "data": {
            "text/html": [
              "Ignoring project 'fashion-mnist-nn' when running a sweep."
            ],
            "text/plain": [
              "<IPython.core.display.HTML object>"
            ]
          },
          "metadata": {},
          "output_type": "display_data"
        },
        {
          "data": {
            "text/html": [
              "Ignoring entity 'vinyk-sd-indian-institute-of-technology-madras' when running a sweep."
            ],
            "text/plain": [
              "<IPython.core.display.HTML object>"
            ]
          },
          "metadata": {},
          "output_type": "display_data"
        },
        {
          "data": {
            "text/html": [
              "Tracking run with wandb version 0.19.7"
            ],
            "text/plain": [
              "<IPython.core.display.HTML object>"
            ]
          },
          "metadata": {},
          "output_type": "display_data"
        },
        {
          "data": {
            "text/html": [
              "Run data is saved locally in <code>/content/wandb/run-20250308_124918-2htctq77</code>"
            ],
            "text/plain": [
              "<IPython.core.display.HTML object>"
            ]
          },
          "metadata": {},
          "output_type": "display_data"
        },
        {
          "data": {
            "text/html": [
              "Syncing run <strong><a href='https://wandb.ai/vinyk-sd-indian-institute-of-technology-madras/fashion-mnist-nn/runs/2htctq77' target=\"_blank\">hardy-sweep-7</a></strong> to <a href='https://wandb.ai/vinyk-sd-indian-institute-of-technology-madras/fashion-mnist-nn' target=\"_blank\">Weights & Biases</a> (<a href='https://wandb.me/developer-guide' target=\"_blank\">docs</a>)<br>Sweep page: <a href='https://wandb.ai/vinyk-sd-indian-institute-of-technology-madras/fashion-mnist-nn/sweeps/93mly8pj' target=\"_blank\">https://wandb.ai/vinyk-sd-indian-institute-of-technology-madras/fashion-mnist-nn/sweeps/93mly8pj</a>"
            ],
            "text/plain": [
              "<IPython.core.display.HTML object>"
            ]
          },
          "metadata": {},
          "output_type": "display_data"
        },
        {
          "data": {
            "text/html": [
              " View project at <a href='https://wandb.ai/vinyk-sd-indian-institute-of-technology-madras/fashion-mnist-nn' target=\"_blank\">https://wandb.ai/vinyk-sd-indian-institute-of-technology-madras/fashion-mnist-nn</a>"
            ],
            "text/plain": [
              "<IPython.core.display.HTML object>"
            ]
          },
          "metadata": {},
          "output_type": "display_data"
        },
        {
          "data": {
            "text/html": [
              " View sweep at <a href='https://wandb.ai/vinyk-sd-indian-institute-of-technology-madras/fashion-mnist-nn/sweeps/93mly8pj' target=\"_blank\">https://wandb.ai/vinyk-sd-indian-institute-of-technology-madras/fashion-mnist-nn/sweeps/93mly8pj</a>"
            ],
            "text/plain": [
              "<IPython.core.display.HTML object>"
            ]
          },
          "metadata": {},
          "output_type": "display_data"
        },
        {
          "data": {
            "text/html": [
              " View run at <a href='https://wandb.ai/vinyk-sd-indian-institute-of-technology-madras/fashion-mnist-nn/runs/2htctq77' target=\"_blank\">https://wandb.ai/vinyk-sd-indian-institute-of-technology-madras/fashion-mnist-nn/runs/2htctq77</a>"
            ],
            "text/plain": [
              "<IPython.core.display.HTML object>"
            ]
          },
          "metadata": {},
          "output_type": "display_data"
        },
        {
          "metadata": {
            "tags": null
          },
          "name": "stdout",
          "output_type": "stream",
          "text": [
            "Epoch 1: Train Loss: 0.0329, Train Acc: 0.8014, Val Loss: 0.0285, Val Acc: 0.8276\n",
            "Epoch 2: Train Loss: 0.0248, Train Acc: 0.8540, Val Loss: 0.0258, Val Acc: 0.8459\n",
            "Epoch 3: Train Loss: 0.0229, Train Acc: 0.8653, Val Loss: 0.0245, Val Acc: 0.8544\n",
            "Epoch 4: Train Loss: 0.0217, Train Acc: 0.8725, Val Loss: 0.0237, Val Acc: 0.8587\n",
            "Epoch 5: Train Loss: 0.0209, Train Acc: 0.8774, Val Loss: 0.0233, Val Acc: 0.8608\n",
            "Epoch 6: Train Loss: 0.0203, Train Acc: 0.8810, Val Loss: 0.0231, Val Acc: 0.8626\n",
            "Epoch 7: Train Loss: 0.0198, Train Acc: 0.8841, Val Loss: 0.0229, Val Acc: 0.8633\n",
            "Epoch 8: Train Loss: 0.0194, Train Acc: 0.8866, Val Loss: 0.0227, Val Acc: 0.8648\n",
            "Epoch 9: Train Loss: 0.0191, Train Acc: 0.8885, Val Loss: 0.0225, Val Acc: 0.8647\n",
            "Epoch 10: Train Loss: 0.0188, Train Acc: 0.8903, Val Loss: 0.0224, Val Acc: 0.8657\n"
          ]
        },
        {
          "data": {
            "text/html": [],
            "text/plain": [
              "<IPython.core.display.HTML object>"
            ]
          },
          "metadata": {},
          "output_type": "display_data"
        },
        {
          "data": {
            "text/html": [
              "<br>    <style><br>        .wandb-row {<br>            display: flex;<br>            flex-direction: row;<br>            flex-wrap: wrap;<br>            justify-content: flex-start;<br>            width: 100%;<br>        }<br>        .wandb-col {<br>            display: flex;<br>            flex-direction: column;<br>            flex-basis: 100%;<br>            flex: 1;<br>            padding: 10px;<br>        }<br>    </style><br><div class=\"wandb-row\"><div class=\"wandb-col\"><h3>Run history:</h3><br/><table class=\"wandb\"><tr><td>epoch</td><td>▁▂▃▃▄▅▆▆▇█</td></tr><tr><td>train_accuracy</td><td>▁▅▆▇▇▇████</td></tr><tr><td>train_loss</td><td>█▄▃▂▂▂▂▁▁▁</td></tr><tr><td>val_accuracy</td><td>▁▄▆▇▇▇████</td></tr><tr><td>val_loss</td><td>█▅▃▃▂▂▂▁▁▁</td></tr></table><br/></div><div class=\"wandb-col\"><h3>Run summary:</h3><br/><table class=\"wandb\"><tr><td>epoch</td><td>10</td></tr><tr><td>train_accuracy</td><td>0.89026</td></tr><tr><td>train_loss</td><td>0.01879</td></tr><tr><td>val_accuracy</td><td>0.8657</td></tr><tr><td>val_loss</td><td>0.02237</td></tr></table><br/></div></div>"
            ],
            "text/plain": [
              "<IPython.core.display.HTML object>"
            ]
          },
          "metadata": {},
          "output_type": "display_data"
        },
        {
          "data": {
            "text/html": [
              " View run <strong style=\"color:#cdcd00\">hardy-sweep-7</strong> at: <a href='https://wandb.ai/vinyk-sd-indian-institute-of-technology-madras/fashion-mnist-nn/runs/2htctq77' target=\"_blank\">https://wandb.ai/vinyk-sd-indian-institute-of-technology-madras/fashion-mnist-nn/runs/2htctq77</a><br> View project at: <a href='https://wandb.ai/vinyk-sd-indian-institute-of-technology-madras/fashion-mnist-nn' target=\"_blank\">https://wandb.ai/vinyk-sd-indian-institute-of-technology-madras/fashion-mnist-nn</a><br>Synced 5 W&B file(s), 0 media file(s), 0 artifact file(s) and 0 other file(s)"
            ],
            "text/plain": [
              "<IPython.core.display.HTML object>"
            ]
          },
          "metadata": {},
          "output_type": "display_data"
        },
        {
          "data": {
            "text/html": [
              "Find logs at: <code>./wandb/run-20250308_124918-2htctq77/logs</code>"
            ],
            "text/plain": [
              "<IPython.core.display.HTML object>"
            ]
          },
          "metadata": {},
          "output_type": "display_data"
        },
        {
          "metadata": {
            "tags": null
          },
          "name": "stderr",
          "output_type": "stream",
          "text": [
            "\u001b[34m\u001b[1mwandb\u001b[0m: Sweep Agent: Waiting for job.\n",
            "\u001b[34m\u001b[1mwandb\u001b[0m: Job received.\n",
            "\u001b[34m\u001b[1mwandb\u001b[0m: Agent Starting Run: 0a6ja2kk with config:\n",
            "\u001b[34m\u001b[1mwandb\u001b[0m: \tactivation: tanh\n",
            "\u001b[34m\u001b[1mwandb\u001b[0m: \tbatch_size: 64\n",
            "\u001b[34m\u001b[1mwandb\u001b[0m: \tepochs: 10\n",
            "\u001b[34m\u001b[1mwandb\u001b[0m: \thidden_layers: 3\n",
            "\u001b[34m\u001b[1mwandb\u001b[0m: \thidden_size: 64\n",
            "\u001b[34m\u001b[1mwandb\u001b[0m: \tlearning_rate: 0.001\n",
            "\u001b[34m\u001b[1mwandb\u001b[0m: \toptimizer: nadam\n",
            "\u001b[34m\u001b[1mwandb\u001b[0m: \tweight_decay: 0.5\n",
            "\u001b[34m\u001b[1mwandb\u001b[0m: \tweight_init: random\n"
          ]
        },
        {
          "data": {
            "text/html": [
              "Ignoring project 'fashion-mnist-nn' when running a sweep."
            ],
            "text/plain": [
              "<IPython.core.display.HTML object>"
            ]
          },
          "metadata": {},
          "output_type": "display_data"
        },
        {
          "data": {
            "text/html": [
              "Ignoring entity 'vinyk-sd-indian-institute-of-technology-madras' when running a sweep."
            ],
            "text/plain": [
              "<IPython.core.display.HTML object>"
            ]
          },
          "metadata": {},
          "output_type": "display_data"
        },
        {
          "data": {
            "text/html": [
              "Tracking run with wandb version 0.19.7"
            ],
            "text/plain": [
              "<IPython.core.display.HTML object>"
            ]
          },
          "metadata": {},
          "output_type": "display_data"
        },
        {
          "data": {
            "text/html": [
              "Run data is saved locally in <code>/content/wandb/run-20250308_125019-0a6ja2kk</code>"
            ],
            "text/plain": [
              "<IPython.core.display.HTML object>"
            ]
          },
          "metadata": {},
          "output_type": "display_data"
        },
        {
          "data": {
            "text/html": [
              "Syncing run <strong><a href='https://wandb.ai/vinyk-sd-indian-institute-of-technology-madras/fashion-mnist-nn/runs/0a6ja2kk' target=\"_blank\">spring-sweep-8</a></strong> to <a href='https://wandb.ai/vinyk-sd-indian-institute-of-technology-madras/fashion-mnist-nn' target=\"_blank\">Weights & Biases</a> (<a href='https://wandb.me/developer-guide' target=\"_blank\">docs</a>)<br>Sweep page: <a href='https://wandb.ai/vinyk-sd-indian-institute-of-technology-madras/fashion-mnist-nn/sweeps/93mly8pj' target=\"_blank\">https://wandb.ai/vinyk-sd-indian-institute-of-technology-madras/fashion-mnist-nn/sweeps/93mly8pj</a>"
            ],
            "text/plain": [
              "<IPython.core.display.HTML object>"
            ]
          },
          "metadata": {},
          "output_type": "display_data"
        },
        {
          "data": {
            "text/html": [
              " View project at <a href='https://wandb.ai/vinyk-sd-indian-institute-of-technology-madras/fashion-mnist-nn' target=\"_blank\">https://wandb.ai/vinyk-sd-indian-institute-of-technology-madras/fashion-mnist-nn</a>"
            ],
            "text/plain": [
              "<IPython.core.display.HTML object>"
            ]
          },
          "metadata": {},
          "output_type": "display_data"
        },
        {
          "data": {
            "text/html": [
              " View sweep at <a href='https://wandb.ai/vinyk-sd-indian-institute-of-technology-madras/fashion-mnist-nn/sweeps/93mly8pj' target=\"_blank\">https://wandb.ai/vinyk-sd-indian-institute-of-technology-madras/fashion-mnist-nn/sweeps/93mly8pj</a>"
            ],
            "text/plain": [
              "<IPython.core.display.HTML object>"
            ]
          },
          "metadata": {},
          "output_type": "display_data"
        },
        {
          "data": {
            "text/html": [
              " View run at <a href='https://wandb.ai/vinyk-sd-indian-institute-of-technology-madras/fashion-mnist-nn/runs/0a6ja2kk' target=\"_blank\">https://wandb.ai/vinyk-sd-indian-institute-of-technology-madras/fashion-mnist-nn/runs/0a6ja2kk</a>"
            ],
            "text/plain": [
              "<IPython.core.display.HTML object>"
            ]
          },
          "metadata": {},
          "output_type": "display_data"
        },
        {
          "metadata": {
            "tags": null
          },
          "name": "stdout",
          "output_type": "stream",
          "text": [
            "Epoch 1: Train Loss: 0.0329, Train Acc: 0.8014, Val Loss: 0.0285, Val Acc: 0.8276\n",
            "Epoch 2: Train Loss: 0.0248, Train Acc: 0.8540, Val Loss: 0.0258, Val Acc: 0.8459\n",
            "Epoch 3: Train Loss: 0.0229, Train Acc: 0.8653, Val Loss: 0.0245, Val Acc: 0.8544\n",
            "Epoch 4: Train Loss: 0.0217, Train Acc: 0.8725, Val Loss: 0.0237, Val Acc: 0.8587\n",
            "Epoch 5: Train Loss: 0.0209, Train Acc: 0.8774, Val Loss: 0.0233, Val Acc: 0.8608\n",
            "Epoch 6: Train Loss: 0.0203, Train Acc: 0.8810, Val Loss: 0.0231, Val Acc: 0.8626\n",
            "Epoch 7: Train Loss: 0.0198, Train Acc: 0.8841, Val Loss: 0.0229, Val Acc: 0.8633\n",
            "Epoch 8: Train Loss: 0.0194, Train Acc: 0.8866, Val Loss: 0.0227, Val Acc: 0.8648\n",
            "Epoch 9: Train Loss: 0.0191, Train Acc: 0.8885, Val Loss: 0.0225, Val Acc: 0.8647\n",
            "Epoch 10: Train Loss: 0.0188, Train Acc: 0.8903, Val Loss: 0.0224, Val Acc: 0.8657\n"
          ]
        },
        {
          "data": {
            "text/html": [],
            "text/plain": [
              "<IPython.core.display.HTML object>"
            ]
          },
          "metadata": {},
          "output_type": "display_data"
        },
        {
          "data": {
            "text/html": [
              "<br>    <style><br>        .wandb-row {<br>            display: flex;<br>            flex-direction: row;<br>            flex-wrap: wrap;<br>            justify-content: flex-start;<br>            width: 100%;<br>        }<br>        .wandb-col {<br>            display: flex;<br>            flex-direction: column;<br>            flex-basis: 100%;<br>            flex: 1;<br>            padding: 10px;<br>        }<br>    </style><br><div class=\"wandb-row\"><div class=\"wandb-col\"><h3>Run history:</h3><br/><table class=\"wandb\"><tr><td>epoch</td><td>▁▂▃▃▄▅▆▆▇█</td></tr><tr><td>train_accuracy</td><td>▁▅▆▇▇▇████</td></tr><tr><td>train_loss</td><td>█▄▃▂▂▂▂▁▁▁</td></tr><tr><td>val_accuracy</td><td>▁▄▆▇▇▇████</td></tr><tr><td>val_loss</td><td>█▅▃▃▂▂▂▁▁▁</td></tr></table><br/></div><div class=\"wandb-col\"><h3>Run summary:</h3><br/><table class=\"wandb\"><tr><td>epoch</td><td>10</td></tr><tr><td>train_accuracy</td><td>0.89026</td></tr><tr><td>train_loss</td><td>0.01879</td></tr><tr><td>val_accuracy</td><td>0.8657</td></tr><tr><td>val_loss</td><td>0.02237</td></tr></table><br/></div></div>"
            ],
            "text/plain": [
              "<IPython.core.display.HTML object>"
            ]
          },
          "metadata": {},
          "output_type": "display_data"
        },
        {
          "data": {
            "text/html": [
              " View run <strong style=\"color:#cdcd00\">spring-sweep-8</strong> at: <a href='https://wandb.ai/vinyk-sd-indian-institute-of-technology-madras/fashion-mnist-nn/runs/0a6ja2kk' target=\"_blank\">https://wandb.ai/vinyk-sd-indian-institute-of-technology-madras/fashion-mnist-nn/runs/0a6ja2kk</a><br> View project at: <a href='https://wandb.ai/vinyk-sd-indian-institute-of-technology-madras/fashion-mnist-nn' target=\"_blank\">https://wandb.ai/vinyk-sd-indian-institute-of-technology-madras/fashion-mnist-nn</a><br>Synced 5 W&B file(s), 0 media file(s), 0 artifact file(s) and 0 other file(s)"
            ],
            "text/plain": [
              "<IPython.core.display.HTML object>"
            ]
          },
          "metadata": {},
          "output_type": "display_data"
        },
        {
          "data": {
            "text/html": [
              "Find logs at: <code>./wandb/run-20250308_125019-0a6ja2kk/logs</code>"
            ],
            "text/plain": [
              "<IPython.core.display.HTML object>"
            ]
          },
          "metadata": {},
          "output_type": "display_data"
        },
        {
          "metadata": {
            "tags": null
          },
          "name": "stderr",
          "output_type": "stream",
          "text": [
            "\u001b[34m\u001b[1mwandb\u001b[0m: Agent Starting Run: zngzv311 with config:\n",
            "\u001b[34m\u001b[1mwandb\u001b[0m: \tactivation: tanh\n",
            "\u001b[34m\u001b[1mwandb\u001b[0m: \tbatch_size: 32\n",
            "\u001b[34m\u001b[1mwandb\u001b[0m: \tepochs: 10\n",
            "\u001b[34m\u001b[1mwandb\u001b[0m: \thidden_layers: 5\n",
            "\u001b[34m\u001b[1mwandb\u001b[0m: \thidden_size: 64\n",
            "\u001b[34m\u001b[1mwandb\u001b[0m: \tlearning_rate: 0.001\n",
            "\u001b[34m\u001b[1mwandb\u001b[0m: \toptimizer: nadam\n",
            "\u001b[34m\u001b[1mwandb\u001b[0m: \tweight_decay: 0.5\n",
            "\u001b[34m\u001b[1mwandb\u001b[0m: \tweight_init: random\n"
          ]
        },
        {
          "data": {
            "text/html": [
              "Ignoring project 'fashion-mnist-nn' when running a sweep."
            ],
            "text/plain": [
              "<IPython.core.display.HTML object>"
            ]
          },
          "metadata": {},
          "output_type": "display_data"
        },
        {
          "data": {
            "text/html": [
              "Ignoring entity 'vinyk-sd-indian-institute-of-technology-madras' when running a sweep."
            ],
            "text/plain": [
              "<IPython.core.display.HTML object>"
            ]
          },
          "metadata": {},
          "output_type": "display_data"
        },
        {
          "data": {
            "text/html": [
              "Tracking run with wandb version 0.19.7"
            ],
            "text/plain": [
              "<IPython.core.display.HTML object>"
            ]
          },
          "metadata": {},
          "output_type": "display_data"
        },
        {
          "data": {
            "text/html": [
              "Run data is saved locally in <code>/content/wandb/run-20250308_125110-zngzv311</code>"
            ],
            "text/plain": [
              "<IPython.core.display.HTML object>"
            ]
          },
          "metadata": {},
          "output_type": "display_data"
        },
        {
          "data": {
            "text/html": [
              "Syncing run <strong><a href='https://wandb.ai/vinyk-sd-indian-institute-of-technology-madras/fashion-mnist-nn/runs/zngzv311' target=\"_blank\">peach-sweep-9</a></strong> to <a href='https://wandb.ai/vinyk-sd-indian-institute-of-technology-madras/fashion-mnist-nn' target=\"_blank\">Weights & Biases</a> (<a href='https://wandb.me/developer-guide' target=\"_blank\">docs</a>)<br>Sweep page: <a href='https://wandb.ai/vinyk-sd-indian-institute-of-technology-madras/fashion-mnist-nn/sweeps/93mly8pj' target=\"_blank\">https://wandb.ai/vinyk-sd-indian-institute-of-technology-madras/fashion-mnist-nn/sweeps/93mly8pj</a>"
            ],
            "text/plain": [
              "<IPython.core.display.HTML object>"
            ]
          },
          "metadata": {},
          "output_type": "display_data"
        },
        {
          "data": {
            "text/html": [
              " View project at <a href='https://wandb.ai/vinyk-sd-indian-institute-of-technology-madras/fashion-mnist-nn' target=\"_blank\">https://wandb.ai/vinyk-sd-indian-institute-of-technology-madras/fashion-mnist-nn</a>"
            ],
            "text/plain": [
              "<IPython.core.display.HTML object>"
            ]
          },
          "metadata": {},
          "output_type": "display_data"
        },
        {
          "data": {
            "text/html": [
              " View sweep at <a href='https://wandb.ai/vinyk-sd-indian-institute-of-technology-madras/fashion-mnist-nn/sweeps/93mly8pj' target=\"_blank\">https://wandb.ai/vinyk-sd-indian-institute-of-technology-madras/fashion-mnist-nn/sweeps/93mly8pj</a>"
            ],
            "text/plain": [
              "<IPython.core.display.HTML object>"
            ]
          },
          "metadata": {},
          "output_type": "display_data"
        },
        {
          "data": {
            "text/html": [
              " View run at <a href='https://wandb.ai/vinyk-sd-indian-institute-of-technology-madras/fashion-mnist-nn/runs/zngzv311' target=\"_blank\">https://wandb.ai/vinyk-sd-indian-institute-of-technology-madras/fashion-mnist-nn/runs/zngzv311</a>"
            ],
            "text/plain": [
              "<IPython.core.display.HTML object>"
            ]
          },
          "metadata": {},
          "output_type": "display_data"
        },
        {
          "metadata": {
            "tags": null
          },
          "name": "stdout",
          "output_type": "stream",
          "text": [
            "Epoch 1: Train Loss: 0.0308, Train Acc: 0.8157, Val Loss: 0.0271, Val Acc: 0.8332\n",
            "Epoch 2: Train Loss: 0.0238, Train Acc: 0.8585, Val Loss: 0.0254, Val Acc: 0.8460\n",
            "Epoch 3: Train Loss: 0.0221, Train Acc: 0.8693, Val Loss: 0.0244, Val Acc: 0.8504\n",
            "Epoch 4: Train Loss: 0.0211, Train Acc: 0.8752, Val Loss: 0.0238, Val Acc: 0.8550\n",
            "Epoch 5: Train Loss: 0.0204, Train Acc: 0.8794, Val Loss: 0.0235, Val Acc: 0.8583\n",
            "Epoch 6: Train Loss: 0.0198, Train Acc: 0.8826, Val Loss: 0.0233, Val Acc: 0.8604\n",
            "Epoch 7: Train Loss: 0.0194, Train Acc: 0.8861, Val Loss: 0.0232, Val Acc: 0.8607\n",
            "Epoch 8: Train Loss: 0.0190, Train Acc: 0.8889, Val Loss: 0.0230, Val Acc: 0.8612\n",
            "Epoch 9: Train Loss: 0.0187, Train Acc: 0.8912, Val Loss: 0.0228, Val Acc: 0.8625\n",
            "Epoch 10: Train Loss: 0.0185, Train Acc: 0.8934, Val Loss: 0.0226, Val Acc: 0.8628\n"
          ]
        },
        {
          "data": {
            "text/html": [],
            "text/plain": [
              "<IPython.core.display.HTML object>"
            ]
          },
          "metadata": {},
          "output_type": "display_data"
        },
        {
          "data": {
            "text/html": [
              "<br>    <style><br>        .wandb-row {<br>            display: flex;<br>            flex-direction: row;<br>            flex-wrap: wrap;<br>            justify-content: flex-start;<br>            width: 100%;<br>        }<br>        .wandb-col {<br>            display: flex;<br>            flex-direction: column;<br>            flex-basis: 100%;<br>            flex: 1;<br>            padding: 10px;<br>        }<br>    </style><br><div class=\"wandb-row\"><div class=\"wandb-col\"><h3>Run history:</h3><br/><table class=\"wandb\"><tr><td>epoch</td><td>▁▂▃▃▄▅▆▆▇█</td></tr><tr><td>train_accuracy</td><td>▁▅▆▆▇▇▇███</td></tr><tr><td>train_loss</td><td>█▄▃▃▂▂▂▁▁▁</td></tr><tr><td>val_accuracy</td><td>▁▄▅▆▇▇████</td></tr><tr><td>val_loss</td><td>█▅▄▃▂▂▂▂▁▁</td></tr></table><br/></div><div class=\"wandb-col\"><h3>Run summary:</h3><br/><table class=\"wandb\"><tr><td>epoch</td><td>10</td></tr><tr><td>train_accuracy</td><td>0.89337</td></tr><tr><td>train_loss</td><td>0.01846</td></tr><tr><td>val_accuracy</td><td>0.8628</td></tr><tr><td>val_loss</td><td>0.02263</td></tr></table><br/></div></div>"
            ],
            "text/plain": [
              "<IPython.core.display.HTML object>"
            ]
          },
          "metadata": {},
          "output_type": "display_data"
        },
        {
          "data": {
            "text/html": [
              " View run <strong style=\"color:#cdcd00\">peach-sweep-9</strong> at: <a href='https://wandb.ai/vinyk-sd-indian-institute-of-technology-madras/fashion-mnist-nn/runs/zngzv311' target=\"_blank\">https://wandb.ai/vinyk-sd-indian-institute-of-technology-madras/fashion-mnist-nn/runs/zngzv311</a><br> View project at: <a href='https://wandb.ai/vinyk-sd-indian-institute-of-technology-madras/fashion-mnist-nn' target=\"_blank\">https://wandb.ai/vinyk-sd-indian-institute-of-technology-madras/fashion-mnist-nn</a><br>Synced 5 W&B file(s), 0 media file(s), 0 artifact file(s) and 0 other file(s)"
            ],
            "text/plain": [
              "<IPython.core.display.HTML object>"
            ]
          },
          "metadata": {},
          "output_type": "display_data"
        },
        {
          "data": {
            "text/html": [
              "Find logs at: <code>./wandb/run-20250308_125110-zngzv311/logs</code>"
            ],
            "text/plain": [
              "<IPython.core.display.HTML object>"
            ]
          },
          "metadata": {},
          "output_type": "display_data"
        },
        {
          "metadata": {
            "tags": null
          },
          "name": "stderr",
          "output_type": "stream",
          "text": [
            "\u001b[34m\u001b[1mwandb\u001b[0m: Agent Starting Run: 2w7lbkay with config:\n",
            "\u001b[34m\u001b[1mwandb\u001b[0m: \tactivation: tanh\n",
            "\u001b[34m\u001b[1mwandb\u001b[0m: \tbatch_size: 64\n",
            "\u001b[34m\u001b[1mwandb\u001b[0m: \tepochs: 10\n",
            "\u001b[34m\u001b[1mwandb\u001b[0m: \thidden_layers: 3\n",
            "\u001b[34m\u001b[1mwandb\u001b[0m: \thidden_size: 64\n",
            "\u001b[34m\u001b[1mwandb\u001b[0m: \tlearning_rate: 0.001\n",
            "\u001b[34m\u001b[1mwandb\u001b[0m: \toptimizer: nadam\n",
            "\u001b[34m\u001b[1mwandb\u001b[0m: \tweight_decay: 0.5\n",
            "\u001b[34m\u001b[1mwandb\u001b[0m: \tweight_init: random\n"
          ]
        },
        {
          "data": {
            "text/html": [
              "Ignoring project 'fashion-mnist-nn' when running a sweep."
            ],
            "text/plain": [
              "<IPython.core.display.HTML object>"
            ]
          },
          "metadata": {},
          "output_type": "display_data"
        },
        {
          "data": {
            "text/html": [
              "Ignoring entity 'vinyk-sd-indian-institute-of-technology-madras' when running a sweep."
            ],
            "text/plain": [
              "<IPython.core.display.HTML object>"
            ]
          },
          "metadata": {},
          "output_type": "display_data"
        },
        {
          "data": {
            "text/html": [
              "Tracking run with wandb version 0.19.7"
            ],
            "text/plain": [
              "<IPython.core.display.HTML object>"
            ]
          },
          "metadata": {},
          "output_type": "display_data"
        },
        {
          "data": {
            "text/html": [
              "Run data is saved locally in <code>/content/wandb/run-20250308_125216-2w7lbkay</code>"
            ],
            "text/plain": [
              "<IPython.core.display.HTML object>"
            ]
          },
          "metadata": {},
          "output_type": "display_data"
        },
        {
          "data": {
            "text/html": [
              "Syncing run <strong><a href='https://wandb.ai/vinyk-sd-indian-institute-of-technology-madras/fashion-mnist-nn/runs/2w7lbkay' target=\"_blank\">balmy-sweep-10</a></strong> to <a href='https://wandb.ai/vinyk-sd-indian-institute-of-technology-madras/fashion-mnist-nn' target=\"_blank\">Weights & Biases</a> (<a href='https://wandb.me/developer-guide' target=\"_blank\">docs</a>)<br>Sweep page: <a href='https://wandb.ai/vinyk-sd-indian-institute-of-technology-madras/fashion-mnist-nn/sweeps/93mly8pj' target=\"_blank\">https://wandb.ai/vinyk-sd-indian-institute-of-technology-madras/fashion-mnist-nn/sweeps/93mly8pj</a>"
            ],
            "text/plain": [
              "<IPython.core.display.HTML object>"
            ]
          },
          "metadata": {},
          "output_type": "display_data"
        },
        {
          "data": {
            "text/html": [
              " View project at <a href='https://wandb.ai/vinyk-sd-indian-institute-of-technology-madras/fashion-mnist-nn' target=\"_blank\">https://wandb.ai/vinyk-sd-indian-institute-of-technology-madras/fashion-mnist-nn</a>"
            ],
            "text/plain": [
              "<IPython.core.display.HTML object>"
            ]
          },
          "metadata": {},
          "output_type": "display_data"
        },
        {
          "data": {
            "text/html": [
              " View sweep at <a href='https://wandb.ai/vinyk-sd-indian-institute-of-technology-madras/fashion-mnist-nn/sweeps/93mly8pj' target=\"_blank\">https://wandb.ai/vinyk-sd-indian-institute-of-technology-madras/fashion-mnist-nn/sweeps/93mly8pj</a>"
            ],
            "text/plain": [
              "<IPython.core.display.HTML object>"
            ]
          },
          "metadata": {},
          "output_type": "display_data"
        },
        {
          "data": {
            "text/html": [
              " View run at <a href='https://wandb.ai/vinyk-sd-indian-institute-of-technology-madras/fashion-mnist-nn/runs/2w7lbkay' target=\"_blank\">https://wandb.ai/vinyk-sd-indian-institute-of-technology-madras/fashion-mnist-nn/runs/2w7lbkay</a>"
            ],
            "text/plain": [
              "<IPython.core.display.HTML object>"
            ]
          },
          "metadata": {},
          "output_type": "display_data"
        },
        {
          "output_type": "stream",
          "name": "stdout",
          "text": [
            "Epoch 1: Train Loss: 0.0329, Train Acc: 0.8014, Val Loss: 0.0285, Val Acc: 0.8276\n",
            "Epoch 2: Train Loss: 0.0248, Train Acc: 0.8540, Val Loss: 0.0258, Val Acc: 0.8459\n",
            "Epoch 3: Train Loss: 0.0229, Train Acc: 0.8653, Val Loss: 0.0245, Val Acc: 0.8544\n",
            "Epoch 4: Train Loss: 0.0217, Train Acc: 0.8725, Val Loss: 0.0237, Val Acc: 0.8587\n",
            "Epoch 5: Train Loss: 0.0209, Train Acc: 0.8774, Val Loss: 0.0233, Val Acc: 0.8608\n",
            "Epoch 6: Train Loss: 0.0203, Train Acc: 0.8810, Val Loss: 0.0231, Val Acc: 0.8626\n",
            "Epoch 7: Train Loss: 0.0198, Train Acc: 0.8841, Val Loss: 0.0229, Val Acc: 0.8633\n",
            "Epoch 8: Train Loss: 0.0194, Train Acc: 0.8866, Val Loss: 0.0227, Val Acc: 0.8648\n",
            "Epoch 9: Train Loss: 0.0191, Train Acc: 0.8885, Val Loss: 0.0225, Val Acc: 0.8647\n",
            "Epoch 10: Train Loss: 0.0188, Train Acc: 0.8903, Val Loss: 0.0224, Val Acc: 0.8657\n"
          ]
        },
        {
          "output_type": "display_data",
          "data": {
            "text/plain": [
              "<IPython.core.display.HTML object>"
            ],
            "text/html": []
          },
          "metadata": {}
        },
        {
          "output_type": "display_data",
          "data": {
            "text/plain": [
              "<IPython.core.display.HTML object>"
            ],
            "text/html": [
              "<br>    <style><br>        .wandb-row {<br>            display: flex;<br>            flex-direction: row;<br>            flex-wrap: wrap;<br>            justify-content: flex-start;<br>            width: 100%;<br>        }<br>        .wandb-col {<br>            display: flex;<br>            flex-direction: column;<br>            flex-basis: 100%;<br>            flex: 1;<br>            padding: 10px;<br>        }<br>    </style><br><div class=\"wandb-row\"><div class=\"wandb-col\"><h3>Run history:</h3><br/><table class=\"wandb\"><tr><td>epoch</td><td>▁▂▃▃▄▅▆▆▇█</td></tr><tr><td>train_accuracy</td><td>▁▅▆▇▇▇████</td></tr><tr><td>train_loss</td><td>█▄▃▂▂▂▂▁▁▁</td></tr><tr><td>val_accuracy</td><td>▁▄▆▇▇▇████</td></tr><tr><td>val_loss</td><td>█▅▃▃▂▂▂▁▁▁</td></tr></table><br/></div><div class=\"wandb-col\"><h3>Run summary:</h3><br/><table class=\"wandb\"><tr><td>epoch</td><td>10</td></tr><tr><td>train_accuracy</td><td>0.89026</td></tr><tr><td>train_loss</td><td>0.01879</td></tr><tr><td>val_accuracy</td><td>0.8657</td></tr><tr><td>val_loss</td><td>0.02237</td></tr></table><br/></div></div>"
            ]
          },
          "metadata": {}
        },
        {
          "output_type": "display_data",
          "data": {
            "text/plain": [
              "<IPython.core.display.HTML object>"
            ],
            "text/html": [
              " View run <strong style=\"color:#cdcd00\">balmy-sweep-10</strong> at: <a href='https://wandb.ai/vinyk-sd-indian-institute-of-technology-madras/fashion-mnist-nn/runs/2w7lbkay' target=\"_blank\">https://wandb.ai/vinyk-sd-indian-institute-of-technology-madras/fashion-mnist-nn/runs/2w7lbkay</a><br> View project at: <a href='https://wandb.ai/vinyk-sd-indian-institute-of-technology-madras/fashion-mnist-nn' target=\"_blank\">https://wandb.ai/vinyk-sd-indian-institute-of-technology-madras/fashion-mnist-nn</a><br>Synced 5 W&B file(s), 0 media file(s), 0 artifact file(s) and 0 other file(s)"
            ]
          },
          "metadata": {}
        },
        {
          "output_type": "display_data",
          "data": {
            "text/plain": [
              "<IPython.core.display.HTML object>"
            ],
            "text/html": [
              "Find logs at: <code>./wandb/run-20250308_125216-2w7lbkay/logs</code>"
            ]
          },
          "metadata": {}
        },
        {
          "output_type": "stream",
          "name": "stderr",
          "text": [
            "\u001b[34m\u001b[1mwandb\u001b[0m: Agent Starting Run: j2x9in51 with config:\n",
            "\u001b[34m\u001b[1mwandb\u001b[0m: \tactivation: sigmoid\n",
            "\u001b[34m\u001b[1mwandb\u001b[0m: \tbatch_size: 64\n",
            "\u001b[34m\u001b[1mwandb\u001b[0m: \tepochs: 10\n",
            "\u001b[34m\u001b[1mwandb\u001b[0m: \thidden_layers: 3\n",
            "\u001b[34m\u001b[1mwandb\u001b[0m: \thidden_size: 128\n",
            "\u001b[34m\u001b[1mwandb\u001b[0m: \tlearning_rate: 0.001\n",
            "\u001b[34m\u001b[1mwandb\u001b[0m: \toptimizer: adam\n",
            "\u001b[34m\u001b[1mwandb\u001b[0m: \tweight_decay: 0.5\n",
            "\u001b[34m\u001b[1mwandb\u001b[0m: \tweight_init: random\n"
          ]
        },
        {
          "output_type": "display_data",
          "data": {
            "text/plain": [
              "<IPython.core.display.HTML object>"
            ],
            "text/html": [
              "Ignoring project 'fashion-mnist-nn' when running a sweep."
            ]
          },
          "metadata": {}
        },
        {
          "output_type": "display_data",
          "data": {
            "text/plain": [
              "<IPython.core.display.HTML object>"
            ],
            "text/html": [
              "Ignoring entity 'vinyk-sd-indian-institute-of-technology-madras' when running a sweep."
            ]
          },
          "metadata": {}
        },
        {
          "output_type": "display_data",
          "data": {
            "text/plain": [
              "<IPython.core.display.HTML object>"
            ],
            "text/html": [
              "Tracking run with wandb version 0.19.7"
            ]
          },
          "metadata": {}
        },
        {
          "output_type": "display_data",
          "data": {
            "text/plain": [
              "<IPython.core.display.HTML object>"
            ],
            "text/html": [
              "Run data is saved locally in <code>/content/wandb/run-20250308_125307-j2x9in51</code>"
            ]
          },
          "metadata": {}
        },
        {
          "output_type": "display_data",
          "data": {
            "text/plain": [
              "<IPython.core.display.HTML object>"
            ],
            "text/html": [
              "Syncing run <strong><a href='https://wandb.ai/vinyk-sd-indian-institute-of-technology-madras/fashion-mnist-nn/runs/j2x9in51' target=\"_blank\">spring-sweep-11</a></strong> to <a href='https://wandb.ai/vinyk-sd-indian-institute-of-technology-madras/fashion-mnist-nn' target=\"_blank\">Weights & Biases</a> (<a href='https://wandb.me/developer-guide' target=\"_blank\">docs</a>)<br>Sweep page: <a href='https://wandb.ai/vinyk-sd-indian-institute-of-technology-madras/fashion-mnist-nn/sweeps/93mly8pj' target=\"_blank\">https://wandb.ai/vinyk-sd-indian-institute-of-technology-madras/fashion-mnist-nn/sweeps/93mly8pj</a>"
            ]
          },
          "metadata": {}
        },
        {
          "output_type": "display_data",
          "data": {
            "text/plain": [
              "<IPython.core.display.HTML object>"
            ],
            "text/html": [
              " View project at <a href='https://wandb.ai/vinyk-sd-indian-institute-of-technology-madras/fashion-mnist-nn' target=\"_blank\">https://wandb.ai/vinyk-sd-indian-institute-of-technology-madras/fashion-mnist-nn</a>"
            ]
          },
          "metadata": {}
        },
        {
          "output_type": "display_data",
          "data": {
            "text/plain": [
              "<IPython.core.display.HTML object>"
            ],
            "text/html": [
              " View sweep at <a href='https://wandb.ai/vinyk-sd-indian-institute-of-technology-madras/fashion-mnist-nn/sweeps/93mly8pj' target=\"_blank\">https://wandb.ai/vinyk-sd-indian-institute-of-technology-madras/fashion-mnist-nn/sweeps/93mly8pj</a>"
            ]
          },
          "metadata": {}
        },
        {
          "output_type": "display_data",
          "data": {
            "text/plain": [
              "<IPython.core.display.HTML object>"
            ],
            "text/html": [
              " View run at <a href='https://wandb.ai/vinyk-sd-indian-institute-of-technology-madras/fashion-mnist-nn/runs/j2x9in51' target=\"_blank\">https://wandb.ai/vinyk-sd-indian-institute-of-technology-madras/fashion-mnist-nn/runs/j2x9in51</a>"
            ]
          },
          "metadata": {}
        },
        {
          "output_type": "stream",
          "name": "stdout",
          "text": [
            "Epoch 1: Train Loss: 0.0550, Train Acc: 0.6111, Val Loss: 0.0307, Val Acc: 0.8019\n",
            "Epoch 2: Train Loss: 0.0255, Train Acc: 0.8343, Val Loss: 0.0243, Val Acc: 0.8364\n",
            "Epoch 3: Train Loss: 0.0217, Train Acc: 0.8541, Val Loss: 0.0225, Val Acc: 0.8464\n",
            "Epoch 4: Train Loss: 0.0201, Train Acc: 0.8655, Val Loss: 0.0216, Val Acc: 0.8534\n",
            "Epoch 5: Train Loss: 0.0190, Train Acc: 0.8730, Val Loss: 0.0208, Val Acc: 0.8574\n",
            "Epoch 6: Train Loss: 0.0182, Train Acc: 0.8782, Val Loss: 0.0203, Val Acc: 0.8604\n",
            "Epoch 7: Train Loss: 0.0175, Train Acc: 0.8830, Val Loss: 0.0198, Val Acc: 0.8640\n",
            "Epoch 8: Train Loss: 0.0170, Train Acc: 0.8869, Val Loss: 0.0194, Val Acc: 0.8669\n",
            "Epoch 9: Train Loss: 0.0165, Train Acc: 0.8902, Val Loss: 0.0190, Val Acc: 0.8680\n",
            "Epoch 10: Train Loss: 0.0160, Train Acc: 0.8938, Val Loss: 0.0188, Val Acc: 0.8699\n"
          ]
        },
        {
          "output_type": "display_data",
          "data": {
            "text/plain": [
              "<IPython.core.display.HTML object>"
            ],
            "text/html": []
          },
          "metadata": {}
        },
        {
          "output_type": "display_data",
          "data": {
            "text/plain": [
              "<IPython.core.display.HTML object>"
            ],
            "text/html": [
              "<br>    <style><br>        .wandb-row {<br>            display: flex;<br>            flex-direction: row;<br>            flex-wrap: wrap;<br>            justify-content: flex-start;<br>            width: 100%;<br>        }<br>        .wandb-col {<br>            display: flex;<br>            flex-direction: column;<br>            flex-basis: 100%;<br>            flex: 1;<br>            padding: 10px;<br>        }<br>    </style><br><div class=\"wandb-row\"><div class=\"wandb-col\"><h3>Run history:</h3><br/><table class=\"wandb\"><tr><td>epoch</td><td>▁▂▃▃▄▅▆▆▇█</td></tr><tr><td>train_accuracy</td><td>▁▇▇▇▇█████</td></tr><tr><td>train_loss</td><td>█▃▂▂▂▁▁▁▁▁</td></tr><tr><td>val_accuracy</td><td>▁▅▆▆▇▇▇███</td></tr><tr><td>val_loss</td><td>█▄▃▃▂▂▂▁▁▁</td></tr></table><br/></div><div class=\"wandb-col\"><h3>Run summary:</h3><br/><table class=\"wandb\"><tr><td>epoch</td><td>10</td></tr><tr><td>train_accuracy</td><td>0.89376</td></tr><tr><td>train_loss</td><td>0.01604</td></tr><tr><td>val_accuracy</td><td>0.8699</td></tr><tr><td>val_loss</td><td>0.01878</td></tr></table><br/></div></div>"
            ]
          },
          "metadata": {}
        },
        {
          "output_type": "display_data",
          "data": {
            "text/plain": [
              "<IPython.core.display.HTML object>"
            ],
            "text/html": [
              " View run <strong style=\"color:#cdcd00\">spring-sweep-11</strong> at: <a href='https://wandb.ai/vinyk-sd-indian-institute-of-technology-madras/fashion-mnist-nn/runs/j2x9in51' target=\"_blank\">https://wandb.ai/vinyk-sd-indian-institute-of-technology-madras/fashion-mnist-nn/runs/j2x9in51</a><br> View project at: <a href='https://wandb.ai/vinyk-sd-indian-institute-of-technology-madras/fashion-mnist-nn' target=\"_blank\">https://wandb.ai/vinyk-sd-indian-institute-of-technology-madras/fashion-mnist-nn</a><br>Synced 5 W&B file(s), 0 media file(s), 0 artifact file(s) and 0 other file(s)"
            ]
          },
          "metadata": {}
        },
        {
          "output_type": "display_data",
          "data": {
            "text/plain": [
              "<IPython.core.display.HTML object>"
            ],
            "text/html": [
              "Find logs at: <code>./wandb/run-20250308_125307-j2x9in51/logs</code>"
            ]
          },
          "metadata": {}
        },
        {
          "output_type": "stream",
          "name": "stderr",
          "text": [
            "\u001b[34m\u001b[1mwandb\u001b[0m: Agent Starting Run: tzrxm9ab with config:\n",
            "\u001b[34m\u001b[1mwandb\u001b[0m: \tactivation: tanh\n",
            "\u001b[34m\u001b[1mwandb\u001b[0m: \tbatch_size: 64\n",
            "\u001b[34m\u001b[1mwandb\u001b[0m: \tepochs: 10\n",
            "\u001b[34m\u001b[1mwandb\u001b[0m: \thidden_layers: 5\n",
            "\u001b[34m\u001b[1mwandb\u001b[0m: \thidden_size: 128\n",
            "\u001b[34m\u001b[1mwandb\u001b[0m: \tlearning_rate: 0.001\n",
            "\u001b[34m\u001b[1mwandb\u001b[0m: \toptimizer: nadam\n",
            "\u001b[34m\u001b[1mwandb\u001b[0m: \tweight_decay: 0.0005\n",
            "\u001b[34m\u001b[1mwandb\u001b[0m: \tweight_init: random\n"
          ]
        },
        {
          "output_type": "display_data",
          "data": {
            "text/plain": [
              "<IPython.core.display.HTML object>"
            ],
            "text/html": [
              "Ignoring project 'fashion-mnist-nn' when running a sweep."
            ]
          },
          "metadata": {}
        },
        {
          "output_type": "display_data",
          "data": {
            "text/plain": [
              "<IPython.core.display.HTML object>"
            ],
            "text/html": [
              "Ignoring entity 'vinyk-sd-indian-institute-of-technology-madras' when running a sweep."
            ]
          },
          "metadata": {}
        },
        {
          "output_type": "display_data",
          "data": {
            "text/plain": [
              "<IPython.core.display.HTML object>"
            ],
            "text/html": [
              "Tracking run with wandb version 0.19.7"
            ]
          },
          "metadata": {}
        },
        {
          "output_type": "display_data",
          "data": {
            "text/plain": [
              "<IPython.core.display.HTML object>"
            ],
            "text/html": [
              "Run data is saved locally in <code>/content/wandb/run-20250308_125414-tzrxm9ab</code>"
            ]
          },
          "metadata": {}
        },
        {
          "output_type": "display_data",
          "data": {
            "text/plain": [
              "<IPython.core.display.HTML object>"
            ],
            "text/html": [
              "Syncing run <strong><a href='https://wandb.ai/vinyk-sd-indian-institute-of-technology-madras/fashion-mnist-nn/runs/tzrxm9ab' target=\"_blank\">earthy-sweep-12</a></strong> to <a href='https://wandb.ai/vinyk-sd-indian-institute-of-technology-madras/fashion-mnist-nn' target=\"_blank\">Weights & Biases</a> (<a href='https://wandb.me/developer-guide' target=\"_blank\">docs</a>)<br>Sweep page: <a href='https://wandb.ai/vinyk-sd-indian-institute-of-technology-madras/fashion-mnist-nn/sweeps/93mly8pj' target=\"_blank\">https://wandb.ai/vinyk-sd-indian-institute-of-technology-madras/fashion-mnist-nn/sweeps/93mly8pj</a>"
            ]
          },
          "metadata": {}
        },
        {
          "output_type": "display_data",
          "data": {
            "text/plain": [
              "<IPython.core.display.HTML object>"
            ],
            "text/html": [
              " View project at <a href='https://wandb.ai/vinyk-sd-indian-institute-of-technology-madras/fashion-mnist-nn' target=\"_blank\">https://wandb.ai/vinyk-sd-indian-institute-of-technology-madras/fashion-mnist-nn</a>"
            ]
          },
          "metadata": {}
        },
        {
          "output_type": "display_data",
          "data": {
            "text/plain": [
              "<IPython.core.display.HTML object>"
            ],
            "text/html": [
              " View sweep at <a href='https://wandb.ai/vinyk-sd-indian-institute-of-technology-madras/fashion-mnist-nn/sweeps/93mly8pj' target=\"_blank\">https://wandb.ai/vinyk-sd-indian-institute-of-technology-madras/fashion-mnist-nn/sweeps/93mly8pj</a>"
            ]
          },
          "metadata": {}
        },
        {
          "output_type": "display_data",
          "data": {
            "text/plain": [
              "<IPython.core.display.HTML object>"
            ],
            "text/html": [
              " View run at <a href='https://wandb.ai/vinyk-sd-indian-institute-of-technology-madras/fashion-mnist-nn/runs/tzrxm9ab' target=\"_blank\">https://wandb.ai/vinyk-sd-indian-institute-of-technology-madras/fashion-mnist-nn/runs/tzrxm9ab</a>"
            ]
          },
          "metadata": {}
        },
        {
          "output_type": "stream",
          "name": "stdout",
          "text": [
            "Epoch 1: Train Loss: 0.0321, Train Acc: 0.8130, Val Loss: 0.0281, Val Acc: 0.8325\n",
            "Epoch 2: Train Loss: 0.0241, Train Acc: 0.8588, Val Loss: 0.0265, Val Acc: 0.8439\n",
            "Epoch 3: Train Loss: 0.0219, Train Acc: 0.8714, Val Loss: 0.0256, Val Acc: 0.8513\n",
            "Epoch 4: Train Loss: 0.0206, Train Acc: 0.8791, Val Loss: 0.0248, Val Acc: 0.8565\n",
            "Epoch 5: Train Loss: 0.0198, Train Acc: 0.8844, Val Loss: 0.0243, Val Acc: 0.8595\n",
            "Epoch 6: Train Loss: 0.0191, Train Acc: 0.8890, Val Loss: 0.0239, Val Acc: 0.8631\n",
            "Epoch 7: Train Loss: 0.0186, Train Acc: 0.8925, Val Loss: 0.0236, Val Acc: 0.8661\n",
            "Epoch 8: Train Loss: 0.0182, Train Acc: 0.8959, Val Loss: 0.0234, Val Acc: 0.8682\n",
            "Epoch 9: Train Loss: 0.0178, Train Acc: 0.8987, Val Loss: 0.0233, Val Acc: 0.8695\n",
            "Epoch 10: Train Loss: 0.0175, Train Acc: 0.9013, Val Loss: 0.0231, Val Acc: 0.8700\n"
          ]
        },
        {
          "output_type": "display_data",
          "data": {
            "text/plain": [
              "<IPython.core.display.HTML object>"
            ],
            "text/html": []
          },
          "metadata": {}
        },
        {
          "output_type": "display_data",
          "data": {
            "text/plain": [
              "<IPython.core.display.HTML object>"
            ],
            "text/html": [
              "<br>    <style><br>        .wandb-row {<br>            display: flex;<br>            flex-direction: row;<br>            flex-wrap: wrap;<br>            justify-content: flex-start;<br>            width: 100%;<br>        }<br>        .wandb-col {<br>            display: flex;<br>            flex-direction: column;<br>            flex-basis: 100%;<br>            flex: 1;<br>            padding: 10px;<br>        }<br>    </style><br><div class=\"wandb-row\"><div class=\"wandb-col\"><h3>Run history:</h3><br/><table class=\"wandb\"><tr><td>epoch</td><td>▁▂▃▃▄▅▆▆▇█</td></tr><tr><td>train_accuracy</td><td>▁▅▆▆▇▇▇███</td></tr><tr><td>train_loss</td><td>█▄▃▃▂▂▂▁▁▁</td></tr><tr><td>val_accuracy</td><td>▁▃▅▅▆▇▇███</td></tr><tr><td>val_loss</td><td>█▆▄▃▃▂▂▁▁▁</td></tr></table><br/></div><div class=\"wandb-col\"><h3>Run summary:</h3><br/><table class=\"wandb\"><tr><td>epoch</td><td>10</td></tr><tr><td>train_accuracy</td><td>0.90128</td></tr><tr><td>train_loss</td><td>0.01745</td></tr><tr><td>val_accuracy</td><td>0.87</td></tr><tr><td>val_loss</td><td>0.02312</td></tr></table><br/></div></div>"
            ]
          },
          "metadata": {}
        },
        {
          "output_type": "display_data",
          "data": {
            "text/plain": [
              "<IPython.core.display.HTML object>"
            ],
            "text/html": [
              " View run <strong style=\"color:#cdcd00\">earthy-sweep-12</strong> at: <a href='https://wandb.ai/vinyk-sd-indian-institute-of-technology-madras/fashion-mnist-nn/runs/tzrxm9ab' target=\"_blank\">https://wandb.ai/vinyk-sd-indian-institute-of-technology-madras/fashion-mnist-nn/runs/tzrxm9ab</a><br> View project at: <a href='https://wandb.ai/vinyk-sd-indian-institute-of-technology-madras/fashion-mnist-nn' target=\"_blank\">https://wandb.ai/vinyk-sd-indian-institute-of-technology-madras/fashion-mnist-nn</a><br>Synced 5 W&B file(s), 0 media file(s), 0 artifact file(s) and 0 other file(s)"
            ]
          },
          "metadata": {}
        },
        {
          "output_type": "display_data",
          "data": {
            "text/plain": [
              "<IPython.core.display.HTML object>"
            ],
            "text/html": [
              "Find logs at: <code>./wandb/run-20250308_125414-tzrxm9ab/logs</code>"
            ]
          },
          "metadata": {}
        },
        {
          "output_type": "stream",
          "name": "stderr",
          "text": [
            "\u001b[34m\u001b[1mwandb\u001b[0m: Agent Starting Run: f5jw7yce with config:\n",
            "\u001b[34m\u001b[1mwandb\u001b[0m: \tactivation: tanh\n",
            "\u001b[34m\u001b[1mwandb\u001b[0m: \tbatch_size: 64\n",
            "\u001b[34m\u001b[1mwandb\u001b[0m: \tepochs: 5\n",
            "\u001b[34m\u001b[1mwandb\u001b[0m: \thidden_layers: 3\n",
            "\u001b[34m\u001b[1mwandb\u001b[0m: \thidden_size: 64\n",
            "\u001b[34m\u001b[1mwandb\u001b[0m: \tlearning_rate: 0.001\n",
            "\u001b[34m\u001b[1mwandb\u001b[0m: \toptimizer: nadam\n",
            "\u001b[34m\u001b[1mwandb\u001b[0m: \tweight_decay: 0.5\n",
            "\u001b[34m\u001b[1mwandb\u001b[0m: \tweight_init: random\n"
          ]
        },
        {
          "output_type": "display_data",
          "data": {
            "text/plain": [
              "<IPython.core.display.HTML object>"
            ],
            "text/html": [
              "Ignoring project 'fashion-mnist-nn' when running a sweep."
            ]
          },
          "metadata": {}
        },
        {
          "output_type": "display_data",
          "data": {
            "text/plain": [
              "<IPython.core.display.HTML object>"
            ],
            "text/html": [
              "Ignoring entity 'vinyk-sd-indian-institute-of-technology-madras' when running a sweep."
            ]
          },
          "metadata": {}
        },
        {
          "output_type": "display_data",
          "data": {
            "text/plain": [
              "<IPython.core.display.HTML object>"
            ],
            "text/html": [
              "Tracking run with wandb version 0.19.7"
            ]
          },
          "metadata": {}
        },
        {
          "output_type": "display_data",
          "data": {
            "text/plain": [
              "<IPython.core.display.HTML object>"
            ],
            "text/html": [
              "Run data is saved locally in <code>/content/wandb/run-20250308_125530-f5jw7yce</code>"
            ]
          },
          "metadata": {}
        },
        {
          "output_type": "display_data",
          "data": {
            "text/plain": [
              "<IPython.core.display.HTML object>"
            ],
            "text/html": [
              "Syncing run <strong><a href='https://wandb.ai/vinyk-sd-indian-institute-of-technology-madras/fashion-mnist-nn/runs/f5jw7yce' target=\"_blank\">solar-sweep-13</a></strong> to <a href='https://wandb.ai/vinyk-sd-indian-institute-of-technology-madras/fashion-mnist-nn' target=\"_blank\">Weights & Biases</a> (<a href='https://wandb.me/developer-guide' target=\"_blank\">docs</a>)<br>Sweep page: <a href='https://wandb.ai/vinyk-sd-indian-institute-of-technology-madras/fashion-mnist-nn/sweeps/93mly8pj' target=\"_blank\">https://wandb.ai/vinyk-sd-indian-institute-of-technology-madras/fashion-mnist-nn/sweeps/93mly8pj</a>"
            ]
          },
          "metadata": {}
        },
        {
          "output_type": "display_data",
          "data": {
            "text/plain": [
              "<IPython.core.display.HTML object>"
            ],
            "text/html": [
              " View project at <a href='https://wandb.ai/vinyk-sd-indian-institute-of-technology-madras/fashion-mnist-nn' target=\"_blank\">https://wandb.ai/vinyk-sd-indian-institute-of-technology-madras/fashion-mnist-nn</a>"
            ]
          },
          "metadata": {}
        },
        {
          "output_type": "display_data",
          "data": {
            "text/plain": [
              "<IPython.core.display.HTML object>"
            ],
            "text/html": [
              " View sweep at <a href='https://wandb.ai/vinyk-sd-indian-institute-of-technology-madras/fashion-mnist-nn/sweeps/93mly8pj' target=\"_blank\">https://wandb.ai/vinyk-sd-indian-institute-of-technology-madras/fashion-mnist-nn/sweeps/93mly8pj</a>"
            ]
          },
          "metadata": {}
        },
        {
          "output_type": "display_data",
          "data": {
            "text/plain": [
              "<IPython.core.display.HTML object>"
            ],
            "text/html": [
              " View run at <a href='https://wandb.ai/vinyk-sd-indian-institute-of-technology-madras/fashion-mnist-nn/runs/f5jw7yce' target=\"_blank\">https://wandb.ai/vinyk-sd-indian-institute-of-technology-madras/fashion-mnist-nn/runs/f5jw7yce</a>"
            ]
          },
          "metadata": {}
        },
        {
          "output_type": "stream",
          "name": "stdout",
          "text": [
            "Epoch 1: Train Loss: 0.0329, Train Acc: 0.8014, Val Loss: 0.0285, Val Acc: 0.8276\n",
            "Epoch 2: Train Loss: 0.0248, Train Acc: 0.8540, Val Loss: 0.0258, Val Acc: 0.8459\n",
            "Epoch 3: Train Loss: 0.0229, Train Acc: 0.8653, Val Loss: 0.0245, Val Acc: 0.8544\n",
            "Epoch 4: Train Loss: 0.0217, Train Acc: 0.8725, Val Loss: 0.0237, Val Acc: 0.8587\n",
            "Epoch 5: Train Loss: 0.0209, Train Acc: 0.8774, Val Loss: 0.0233, Val Acc: 0.8608\n"
          ]
        },
        {
          "output_type": "display_data",
          "data": {
            "text/plain": [
              "<IPython.core.display.HTML object>"
            ],
            "text/html": []
          },
          "metadata": {}
        },
        {
          "output_type": "display_data",
          "data": {
            "text/plain": [
              "<IPython.core.display.HTML object>"
            ],
            "text/html": [
              "<br>    <style><br>        .wandb-row {<br>            display: flex;<br>            flex-direction: row;<br>            flex-wrap: wrap;<br>            justify-content: flex-start;<br>            width: 100%;<br>        }<br>        .wandb-col {<br>            display: flex;<br>            flex-direction: column;<br>            flex-basis: 100%;<br>            flex: 1;<br>            padding: 10px;<br>        }<br>    </style><br><div class=\"wandb-row\"><div class=\"wandb-col\"><h3>Run history:</h3><br/><table class=\"wandb\"><tr><td>epoch</td><td>▁▃▅▆█</td></tr><tr><td>train_accuracy</td><td>▁▆▇██</td></tr><tr><td>train_loss</td><td>█▃▂▁▁</td></tr><tr><td>val_accuracy</td><td>▁▅▇██</td></tr><tr><td>val_loss</td><td>█▄▃▂▁</td></tr></table><br/></div><div class=\"wandb-col\"><h3>Run summary:</h3><br/><table class=\"wandb\"><tr><td>epoch</td><td>5</td></tr><tr><td>train_accuracy</td><td>0.87742</td></tr><tr><td>train_loss</td><td>0.02089</td></tr><tr><td>val_accuracy</td><td>0.8608</td></tr><tr><td>val_loss</td><td>0.02335</td></tr></table><br/></div></div>"
            ]
          },
          "metadata": {}
        },
        {
          "output_type": "display_data",
          "data": {
            "text/plain": [
              "<IPython.core.display.HTML object>"
            ],
            "text/html": [
              " View run <strong style=\"color:#cdcd00\">solar-sweep-13</strong> at: <a href='https://wandb.ai/vinyk-sd-indian-institute-of-technology-madras/fashion-mnist-nn/runs/f5jw7yce' target=\"_blank\">https://wandb.ai/vinyk-sd-indian-institute-of-technology-madras/fashion-mnist-nn/runs/f5jw7yce</a><br> View project at: <a href='https://wandb.ai/vinyk-sd-indian-institute-of-technology-madras/fashion-mnist-nn' target=\"_blank\">https://wandb.ai/vinyk-sd-indian-institute-of-technology-madras/fashion-mnist-nn</a><br>Synced 5 W&B file(s), 0 media file(s), 0 artifact file(s) and 0 other file(s)"
            ]
          },
          "metadata": {}
        },
        {
          "output_type": "display_data",
          "data": {
            "text/plain": [
              "<IPython.core.display.HTML object>"
            ],
            "text/html": [
              "Find logs at: <code>./wandb/run-20250308_125530-f5jw7yce/logs</code>"
            ]
          },
          "metadata": {}
        },
        {
          "output_type": "stream",
          "name": "stderr",
          "text": [
            "\u001b[34m\u001b[1mwandb\u001b[0m: Sweep Agent: Waiting for job.\n",
            "\u001b[34m\u001b[1mwandb\u001b[0m: Job received.\n",
            "\u001b[34m\u001b[1mwandb\u001b[0m: Agent Starting Run: jds262a6 with config:\n",
            "\u001b[34m\u001b[1mwandb\u001b[0m: \tactivation: tanh\n",
            "\u001b[34m\u001b[1mwandb\u001b[0m: \tbatch_size: 64\n",
            "\u001b[34m\u001b[1mwandb\u001b[0m: \tepochs: 5\n",
            "\u001b[34m\u001b[1mwandb\u001b[0m: \thidden_layers: 4\n",
            "\u001b[34m\u001b[1mwandb\u001b[0m: \thidden_size: 128\n",
            "\u001b[34m\u001b[1mwandb\u001b[0m: \tlearning_rate: 0.001\n",
            "\u001b[34m\u001b[1mwandb\u001b[0m: \toptimizer: nadam\n",
            "\u001b[34m\u001b[1mwandb\u001b[0m: \tweight_decay: 0.5\n",
            "\u001b[34m\u001b[1mwandb\u001b[0m: \tweight_init: random\n"
          ]
        },
        {
          "output_type": "display_data",
          "data": {
            "text/plain": [
              "<IPython.core.display.HTML object>"
            ],
            "text/html": [
              "Ignoring project 'fashion-mnist-nn' when running a sweep."
            ]
          },
          "metadata": {}
        },
        {
          "output_type": "display_data",
          "data": {
            "text/plain": [
              "<IPython.core.display.HTML object>"
            ],
            "text/html": [
              "Ignoring entity 'vinyk-sd-indian-institute-of-technology-madras' when running a sweep."
            ]
          },
          "metadata": {}
        },
        {
          "output_type": "display_data",
          "data": {
            "text/plain": [
              "<IPython.core.display.HTML object>"
            ],
            "text/html": [
              "Tracking run with wandb version 0.19.7"
            ]
          },
          "metadata": {}
        },
        {
          "output_type": "display_data",
          "data": {
            "text/plain": [
              "<IPython.core.display.HTML object>"
            ],
            "text/html": [
              "Run data is saved locally in <code>/content/wandb/run-20250308_125610-jds262a6</code>"
            ]
          },
          "metadata": {}
        },
        {
          "output_type": "display_data",
          "data": {
            "text/plain": [
              "<IPython.core.display.HTML object>"
            ],
            "text/html": [
              "Syncing run <strong><a href='https://wandb.ai/vinyk-sd-indian-institute-of-technology-madras/fashion-mnist-nn/runs/jds262a6' target=\"_blank\">warm-sweep-14</a></strong> to <a href='https://wandb.ai/vinyk-sd-indian-institute-of-technology-madras/fashion-mnist-nn' target=\"_blank\">Weights & Biases</a> (<a href='https://wandb.me/developer-guide' target=\"_blank\">docs</a>)<br>Sweep page: <a href='https://wandb.ai/vinyk-sd-indian-institute-of-technology-madras/fashion-mnist-nn/sweeps/93mly8pj' target=\"_blank\">https://wandb.ai/vinyk-sd-indian-institute-of-technology-madras/fashion-mnist-nn/sweeps/93mly8pj</a>"
            ]
          },
          "metadata": {}
        },
        {
          "output_type": "display_data",
          "data": {
            "text/plain": [
              "<IPython.core.display.HTML object>"
            ],
            "text/html": [
              " View project at <a href='https://wandb.ai/vinyk-sd-indian-institute-of-technology-madras/fashion-mnist-nn' target=\"_blank\">https://wandb.ai/vinyk-sd-indian-institute-of-technology-madras/fashion-mnist-nn</a>"
            ]
          },
          "metadata": {}
        },
        {
          "output_type": "display_data",
          "data": {
            "text/plain": [
              "<IPython.core.display.HTML object>"
            ],
            "text/html": [
              " View sweep at <a href='https://wandb.ai/vinyk-sd-indian-institute-of-technology-madras/fashion-mnist-nn/sweeps/93mly8pj' target=\"_blank\">https://wandb.ai/vinyk-sd-indian-institute-of-technology-madras/fashion-mnist-nn/sweeps/93mly8pj</a>"
            ]
          },
          "metadata": {}
        },
        {
          "output_type": "display_data",
          "data": {
            "text/plain": [
              "<IPython.core.display.HTML object>"
            ],
            "text/html": [
              " View run at <a href='https://wandb.ai/vinyk-sd-indian-institute-of-technology-madras/fashion-mnist-nn/runs/jds262a6' target=\"_blank\">https://wandb.ai/vinyk-sd-indian-institute-of-technology-madras/fashion-mnist-nn/runs/jds262a6</a>"
            ]
          },
          "metadata": {}
        },
        {
          "output_type": "stream",
          "name": "stdout",
          "text": [
            "Epoch 1: Train Loss: 0.0321, Train Acc: 0.8130, Val Loss: 0.0281, Val Acc: 0.8325\n",
            "Epoch 2: Train Loss: 0.0241, Train Acc: 0.8588, Val Loss: 0.0265, Val Acc: 0.8439\n",
            "Epoch 3: Train Loss: 0.0219, Train Acc: 0.8714, Val Loss: 0.0256, Val Acc: 0.8513\n",
            "Epoch 4: Train Loss: 0.0206, Train Acc: 0.8791, Val Loss: 0.0248, Val Acc: 0.8565\n",
            "Epoch 5: Train Loss: 0.0198, Train Acc: 0.8844, Val Loss: 0.0243, Val Acc: 0.8595\n"
          ]
        },
        {
          "output_type": "display_data",
          "data": {
            "text/plain": [
              "<IPython.core.display.HTML object>"
            ],
            "text/html": []
          },
          "metadata": {}
        },
        {
          "output_type": "display_data",
          "data": {
            "text/plain": [
              "<IPython.core.display.HTML object>"
            ],
            "text/html": [
              "<br>    <style><br>        .wandb-row {<br>            display: flex;<br>            flex-direction: row;<br>            flex-wrap: wrap;<br>            justify-content: flex-start;<br>            width: 100%;<br>        }<br>        .wandb-col {<br>            display: flex;<br>            flex-direction: column;<br>            flex-basis: 100%;<br>            flex: 1;<br>            padding: 10px;<br>        }<br>    </style><br><div class=\"wandb-row\"><div class=\"wandb-col\"><h3>Run history:</h3><br/><table class=\"wandb\"><tr><td>epoch</td><td>▁▃▅▆█</td></tr><tr><td>train_accuracy</td><td>▁▅▇▇█</td></tr><tr><td>train_loss</td><td>█▃▂▁▁</td></tr><tr><td>val_accuracy</td><td>▁▄▆▇█</td></tr><tr><td>val_loss</td><td>█▅▃▂▁</td></tr></table><br/></div><div class=\"wandb-col\"><h3>Run summary:</h3><br/><table class=\"wandb\"><tr><td>epoch</td><td>5</td></tr><tr><td>train_accuracy</td><td>0.88442</td></tr><tr><td>train_loss</td><td>0.01978</td></tr><tr><td>val_accuracy</td><td>0.8595</td></tr><tr><td>val_loss</td><td>0.02427</td></tr></table><br/></div></div>"
            ]
          },
          "metadata": {}
        },
        {
          "output_type": "display_data",
          "data": {
            "text/plain": [
              "<IPython.core.display.HTML object>"
            ],
            "text/html": [
              " View run <strong style=\"color:#cdcd00\">warm-sweep-14</strong> at: <a href='https://wandb.ai/vinyk-sd-indian-institute-of-technology-madras/fashion-mnist-nn/runs/jds262a6' target=\"_blank\">https://wandb.ai/vinyk-sd-indian-institute-of-technology-madras/fashion-mnist-nn/runs/jds262a6</a><br> View project at: <a href='https://wandb.ai/vinyk-sd-indian-institute-of-technology-madras/fashion-mnist-nn' target=\"_blank\">https://wandb.ai/vinyk-sd-indian-institute-of-technology-madras/fashion-mnist-nn</a><br>Synced 5 W&B file(s), 0 media file(s), 0 artifact file(s) and 0 other file(s)"
            ]
          },
          "metadata": {}
        },
        {
          "output_type": "display_data",
          "data": {
            "text/plain": [
              "<IPython.core.display.HTML object>"
            ],
            "text/html": [
              "Find logs at: <code>./wandb/run-20250308_125610-jds262a6/logs</code>"
            ]
          },
          "metadata": {}
        },
        {
          "output_type": "stream",
          "name": "stderr",
          "text": [
            "\u001b[34m\u001b[1mwandb\u001b[0m: Agent Starting Run: 0473dbbs with config:\n",
            "\u001b[34m\u001b[1mwandb\u001b[0m: \tactivation: tanh\n",
            "\u001b[34m\u001b[1mwandb\u001b[0m: \tbatch_size: 64\n",
            "\u001b[34m\u001b[1mwandb\u001b[0m: \tepochs: 10\n",
            "\u001b[34m\u001b[1mwandb\u001b[0m: \thidden_layers: 5\n",
            "\u001b[34m\u001b[1mwandb\u001b[0m: \thidden_size: 64\n",
            "\u001b[34m\u001b[1mwandb\u001b[0m: \tlearning_rate: 0.001\n",
            "\u001b[34m\u001b[1mwandb\u001b[0m: \toptimizer: nadam\n",
            "\u001b[34m\u001b[1mwandb\u001b[0m: \tweight_decay: 0.5\n",
            "\u001b[34m\u001b[1mwandb\u001b[0m: \tweight_init: random\n"
          ]
        },
        {
          "output_type": "display_data",
          "data": {
            "text/plain": [
              "<IPython.core.display.HTML object>"
            ],
            "text/html": [
              "Ignoring project 'fashion-mnist-nn' when running a sweep."
            ]
          },
          "metadata": {}
        },
        {
          "output_type": "display_data",
          "data": {
            "text/plain": [
              "<IPython.core.display.HTML object>"
            ],
            "text/html": [
              "Ignoring entity 'vinyk-sd-indian-institute-of-technology-madras' when running a sweep."
            ]
          },
          "metadata": {}
        },
        {
          "output_type": "display_data",
          "data": {
            "text/plain": [
              "<IPython.core.display.HTML object>"
            ],
            "text/html": [
              "Tracking run with wandb version 0.19.7"
            ]
          },
          "metadata": {}
        },
        {
          "output_type": "display_data",
          "data": {
            "text/plain": [
              "<IPython.core.display.HTML object>"
            ],
            "text/html": [
              "Run data is saved locally in <code>/content/wandb/run-20250308_125656-0473dbbs</code>"
            ]
          },
          "metadata": {}
        },
        {
          "output_type": "display_data",
          "data": {
            "text/plain": [
              "<IPython.core.display.HTML object>"
            ],
            "text/html": [
              "Syncing run <strong><a href='https://wandb.ai/vinyk-sd-indian-institute-of-technology-madras/fashion-mnist-nn/runs/0473dbbs' target=\"_blank\">rural-sweep-15</a></strong> to <a href='https://wandb.ai/vinyk-sd-indian-institute-of-technology-madras/fashion-mnist-nn' target=\"_blank\">Weights & Biases</a> (<a href='https://wandb.me/developer-guide' target=\"_blank\">docs</a>)<br>Sweep page: <a href='https://wandb.ai/vinyk-sd-indian-institute-of-technology-madras/fashion-mnist-nn/sweeps/93mly8pj' target=\"_blank\">https://wandb.ai/vinyk-sd-indian-institute-of-technology-madras/fashion-mnist-nn/sweeps/93mly8pj</a>"
            ]
          },
          "metadata": {}
        },
        {
          "output_type": "display_data",
          "data": {
            "text/plain": [
              "<IPython.core.display.HTML object>"
            ],
            "text/html": [
              " View project at <a href='https://wandb.ai/vinyk-sd-indian-institute-of-technology-madras/fashion-mnist-nn' target=\"_blank\">https://wandb.ai/vinyk-sd-indian-institute-of-technology-madras/fashion-mnist-nn</a>"
            ]
          },
          "metadata": {}
        },
        {
          "output_type": "display_data",
          "data": {
            "text/plain": [
              "<IPython.core.display.HTML object>"
            ],
            "text/html": [
              " View sweep at <a href='https://wandb.ai/vinyk-sd-indian-institute-of-technology-madras/fashion-mnist-nn/sweeps/93mly8pj' target=\"_blank\">https://wandb.ai/vinyk-sd-indian-institute-of-technology-madras/fashion-mnist-nn/sweeps/93mly8pj</a>"
            ]
          },
          "metadata": {}
        },
        {
          "output_type": "display_data",
          "data": {
            "text/plain": [
              "<IPython.core.display.HTML object>"
            ],
            "text/html": [
              " View run at <a href='https://wandb.ai/vinyk-sd-indian-institute-of-technology-madras/fashion-mnist-nn/runs/0473dbbs' target=\"_blank\">https://wandb.ai/vinyk-sd-indian-institute-of-technology-madras/fashion-mnist-nn/runs/0473dbbs</a>"
            ]
          },
          "metadata": {}
        },
        {
          "output_type": "stream",
          "name": "stdout",
          "text": [
            "Epoch 1: Train Loss: 0.0329, Train Acc: 0.8014, Val Loss: 0.0285, Val Acc: 0.8276\n",
            "Epoch 2: Train Loss: 0.0248, Train Acc: 0.8540, Val Loss: 0.0258, Val Acc: 0.8459\n",
            "Epoch 3: Train Loss: 0.0229, Train Acc: 0.8653, Val Loss: 0.0245, Val Acc: 0.8544\n",
            "Epoch 4: Train Loss: 0.0217, Train Acc: 0.8725, Val Loss: 0.0237, Val Acc: 0.8587\n",
            "Epoch 5: Train Loss: 0.0209, Train Acc: 0.8774, Val Loss: 0.0233, Val Acc: 0.8608\n",
            "Epoch 6: Train Loss: 0.0203, Train Acc: 0.8810, Val Loss: 0.0231, Val Acc: 0.8626\n",
            "Epoch 7: Train Loss: 0.0198, Train Acc: 0.8841, Val Loss: 0.0229, Val Acc: 0.8633\n",
            "Epoch 8: Train Loss: 0.0194, Train Acc: 0.8866, Val Loss: 0.0227, Val Acc: 0.8648\n",
            "Epoch 9: Train Loss: 0.0191, Train Acc: 0.8885, Val Loss: 0.0225, Val Acc: 0.8647\n",
            "Epoch 10: Train Loss: 0.0188, Train Acc: 0.8903, Val Loss: 0.0224, Val Acc: 0.8657\n"
          ]
        },
        {
          "output_type": "display_data",
          "data": {
            "text/plain": [
              "<IPython.core.display.HTML object>"
            ],
            "text/html": []
          },
          "metadata": {}
        },
        {
          "output_type": "display_data",
          "data": {
            "text/plain": [
              "<IPython.core.display.HTML object>"
            ],
            "text/html": [
              "<br>    <style><br>        .wandb-row {<br>            display: flex;<br>            flex-direction: row;<br>            flex-wrap: wrap;<br>            justify-content: flex-start;<br>            width: 100%;<br>        }<br>        .wandb-col {<br>            display: flex;<br>            flex-direction: column;<br>            flex-basis: 100%;<br>            flex: 1;<br>            padding: 10px;<br>        }<br>    </style><br><div class=\"wandb-row\"><div class=\"wandb-col\"><h3>Run history:</h3><br/><table class=\"wandb\"><tr><td>epoch</td><td>▁▂▃▃▄▅▆▆▇█</td></tr><tr><td>train_accuracy</td><td>▁▅▆▇▇▇████</td></tr><tr><td>train_loss</td><td>█▄▃▂▂▂▂▁▁▁</td></tr><tr><td>val_accuracy</td><td>▁▄▆▇▇▇████</td></tr><tr><td>val_loss</td><td>█▅▃▃▂▂▂▁▁▁</td></tr></table><br/></div><div class=\"wandb-col\"><h3>Run summary:</h3><br/><table class=\"wandb\"><tr><td>epoch</td><td>10</td></tr><tr><td>train_accuracy</td><td>0.89026</td></tr><tr><td>train_loss</td><td>0.01879</td></tr><tr><td>val_accuracy</td><td>0.8657</td></tr><tr><td>val_loss</td><td>0.02237</td></tr></table><br/></div></div>"
            ]
          },
          "metadata": {}
        },
        {
          "output_type": "display_data",
          "data": {
            "text/plain": [
              "<IPython.core.display.HTML object>"
            ],
            "text/html": [
              " View run <strong style=\"color:#cdcd00\">rural-sweep-15</strong> at: <a href='https://wandb.ai/vinyk-sd-indian-institute-of-technology-madras/fashion-mnist-nn/runs/0473dbbs' target=\"_blank\">https://wandb.ai/vinyk-sd-indian-institute-of-technology-madras/fashion-mnist-nn/runs/0473dbbs</a><br> View project at: <a href='https://wandb.ai/vinyk-sd-indian-institute-of-technology-madras/fashion-mnist-nn' target=\"_blank\">https://wandb.ai/vinyk-sd-indian-institute-of-technology-madras/fashion-mnist-nn</a><br>Synced 5 W&B file(s), 0 media file(s), 0 artifact file(s) and 0 other file(s)"
            ]
          },
          "metadata": {}
        },
        {
          "output_type": "display_data",
          "data": {
            "text/plain": [
              "<IPython.core.display.HTML object>"
            ],
            "text/html": [
              "Find logs at: <code>./wandb/run-20250308_125656-0473dbbs/logs</code>"
            ]
          },
          "metadata": {}
        },
        {
          "output_type": "stream",
          "name": "stderr",
          "text": [
            "\u001b[34m\u001b[1mwandb\u001b[0m: Agent Starting Run: 2ldeij6j with config:\n",
            "\u001b[34m\u001b[1mwandb\u001b[0m: \tactivation: sigmoid\n",
            "\u001b[34m\u001b[1mwandb\u001b[0m: \tbatch_size: 64\n",
            "\u001b[34m\u001b[1mwandb\u001b[0m: \tepochs: 5\n",
            "\u001b[34m\u001b[1mwandb\u001b[0m: \thidden_layers: 3\n",
            "\u001b[34m\u001b[1mwandb\u001b[0m: \thidden_size: 128\n",
            "\u001b[34m\u001b[1mwandb\u001b[0m: \tlearning_rate: 0.001\n",
            "\u001b[34m\u001b[1mwandb\u001b[0m: \toptimizer: nadam\n",
            "\u001b[34m\u001b[1mwandb\u001b[0m: \tweight_decay: 0.5\n",
            "\u001b[34m\u001b[1mwandb\u001b[0m: \tweight_init: random\n"
          ]
        },
        {
          "output_type": "display_data",
          "data": {
            "text/plain": [
              "<IPython.core.display.HTML object>"
            ],
            "text/html": [
              "Ignoring project 'fashion-mnist-nn' when running a sweep."
            ]
          },
          "metadata": {}
        },
        {
          "output_type": "display_data",
          "data": {
            "text/plain": [
              "<IPython.core.display.HTML object>"
            ],
            "text/html": [
              "Ignoring entity 'vinyk-sd-indian-institute-of-technology-madras' when running a sweep."
            ]
          },
          "metadata": {}
        },
        {
          "output_type": "display_data",
          "data": {
            "text/plain": [
              "<IPython.core.display.HTML object>"
            ],
            "text/html": [
              "Tracking run with wandb version 0.19.7"
            ]
          },
          "metadata": {}
        },
        {
          "output_type": "display_data",
          "data": {
            "text/plain": [
              "<IPython.core.display.HTML object>"
            ],
            "text/html": [
              "Run data is saved locally in <code>/content/wandb/run-20250308_125747-2ldeij6j</code>"
            ]
          },
          "metadata": {}
        },
        {
          "output_type": "display_data",
          "data": {
            "text/plain": [
              "<IPython.core.display.HTML object>"
            ],
            "text/html": [
              "Syncing run <strong><a href='https://wandb.ai/vinyk-sd-indian-institute-of-technology-madras/fashion-mnist-nn/runs/2ldeij6j' target=\"_blank\">honest-sweep-16</a></strong> to <a href='https://wandb.ai/vinyk-sd-indian-institute-of-technology-madras/fashion-mnist-nn' target=\"_blank\">Weights & Biases</a> (<a href='https://wandb.me/developer-guide' target=\"_blank\">docs</a>)<br>Sweep page: <a href='https://wandb.ai/vinyk-sd-indian-institute-of-technology-madras/fashion-mnist-nn/sweeps/93mly8pj' target=\"_blank\">https://wandb.ai/vinyk-sd-indian-institute-of-technology-madras/fashion-mnist-nn/sweeps/93mly8pj</a>"
            ]
          },
          "metadata": {}
        },
        {
          "output_type": "display_data",
          "data": {
            "text/plain": [
              "<IPython.core.display.HTML object>"
            ],
            "text/html": [
              " View project at <a href='https://wandb.ai/vinyk-sd-indian-institute-of-technology-madras/fashion-mnist-nn' target=\"_blank\">https://wandb.ai/vinyk-sd-indian-institute-of-technology-madras/fashion-mnist-nn</a>"
            ]
          },
          "metadata": {}
        },
        {
          "output_type": "display_data",
          "data": {
            "text/plain": [
              "<IPython.core.display.HTML object>"
            ],
            "text/html": [
              " View sweep at <a href='https://wandb.ai/vinyk-sd-indian-institute-of-technology-madras/fashion-mnist-nn/sweeps/93mly8pj' target=\"_blank\">https://wandb.ai/vinyk-sd-indian-institute-of-technology-madras/fashion-mnist-nn/sweeps/93mly8pj</a>"
            ]
          },
          "metadata": {}
        },
        {
          "output_type": "display_data",
          "data": {
            "text/plain": [
              "<IPython.core.display.HTML object>"
            ],
            "text/html": [
              " View run at <a href='https://wandb.ai/vinyk-sd-indian-institute-of-technology-madras/fashion-mnist-nn/runs/2ldeij6j' target=\"_blank\">https://wandb.ai/vinyk-sd-indian-institute-of-technology-madras/fashion-mnist-nn/runs/2ldeij6j</a>"
            ]
          },
          "metadata": {}
        },
        {
          "output_type": "stream",
          "name": "stdout",
          "text": [
            "Epoch 1: Train Loss: 0.0550, Train Acc: 0.6111, Val Loss: 0.0307, Val Acc: 0.8019\n",
            "Epoch 2: Train Loss: 0.0255, Train Acc: 0.8343, Val Loss: 0.0243, Val Acc: 0.8364\n",
            "Epoch 3: Train Loss: 0.0217, Train Acc: 0.8541, Val Loss: 0.0225, Val Acc: 0.8464\n",
            "Epoch 4: Train Loss: 0.0201, Train Acc: 0.8655, Val Loss: 0.0216, Val Acc: 0.8534\n",
            "Epoch 5: Train Loss: 0.0190, Train Acc: 0.8730, Val Loss: 0.0208, Val Acc: 0.8574\n"
          ]
        },
        {
          "output_type": "display_data",
          "data": {
            "text/plain": [
              "<IPython.core.display.HTML object>"
            ],
            "text/html": []
          },
          "metadata": {}
        },
        {
          "output_type": "display_data",
          "data": {
            "text/plain": [
              "<IPython.core.display.HTML object>"
            ],
            "text/html": [
              "<br>    <style><br>        .wandb-row {<br>            display: flex;<br>            flex-direction: row;<br>            flex-wrap: wrap;<br>            justify-content: flex-start;<br>            width: 100%;<br>        }<br>        .wandb-col {<br>            display: flex;<br>            flex-direction: column;<br>            flex-basis: 100%;<br>            flex: 1;<br>            padding: 10px;<br>        }<br>    </style><br><div class=\"wandb-row\"><div class=\"wandb-col\"><h3>Run history:</h3><br/><table class=\"wandb\"><tr><td>epoch</td><td>▁▃▅▆█</td></tr><tr><td>train_accuracy</td><td>▁▇▇██</td></tr><tr><td>train_loss</td><td>█▂▂▁▁</td></tr><tr><td>val_accuracy</td><td>▁▅▇▇█</td></tr><tr><td>val_loss</td><td>█▃▂▂▁</td></tr></table><br/></div><div class=\"wandb-col\"><h3>Run summary:</h3><br/><table class=\"wandb\"><tr><td>epoch</td><td>5</td></tr><tr><td>train_accuracy</td><td>0.87297</td></tr><tr><td>train_loss</td><td>0.01903</td></tr><tr><td>val_accuracy</td><td>0.8574</td></tr><tr><td>val_loss</td><td>0.02084</td></tr></table><br/></div></div>"
            ]
          },
          "metadata": {}
        },
        {
          "output_type": "display_data",
          "data": {
            "text/plain": [
              "<IPython.core.display.HTML object>"
            ],
            "text/html": [
              " View run <strong style=\"color:#cdcd00\">honest-sweep-16</strong> at: <a href='https://wandb.ai/vinyk-sd-indian-institute-of-technology-madras/fashion-mnist-nn/runs/2ldeij6j' target=\"_blank\">https://wandb.ai/vinyk-sd-indian-institute-of-technology-madras/fashion-mnist-nn/runs/2ldeij6j</a><br> View project at: <a href='https://wandb.ai/vinyk-sd-indian-institute-of-technology-madras/fashion-mnist-nn' target=\"_blank\">https://wandb.ai/vinyk-sd-indian-institute-of-technology-madras/fashion-mnist-nn</a><br>Synced 5 W&B file(s), 0 media file(s), 0 artifact file(s) and 0 other file(s)"
            ]
          },
          "metadata": {}
        },
        {
          "output_type": "display_data",
          "data": {
            "text/plain": [
              "<IPython.core.display.HTML object>"
            ],
            "text/html": [
              "Find logs at: <code>./wandb/run-20250308_125747-2ldeij6j/logs</code>"
            ]
          },
          "metadata": {}
        },
        {
          "output_type": "stream",
          "name": "stderr",
          "text": [
            "\u001b[34m\u001b[1mwandb\u001b[0m: Agent Starting Run: 3hiuxz2z with config:\n",
            "\u001b[34m\u001b[1mwandb\u001b[0m: \tactivation: tanh\n",
            "\u001b[34m\u001b[1mwandb\u001b[0m: \tbatch_size: 64\n",
            "\u001b[34m\u001b[1mwandb\u001b[0m: \tepochs: 5\n",
            "\u001b[34m\u001b[1mwandb\u001b[0m: \thidden_layers: 5\n",
            "\u001b[34m\u001b[1mwandb\u001b[0m: \thidden_size: 128\n",
            "\u001b[34m\u001b[1mwandb\u001b[0m: \tlearning_rate: 0.001\n",
            "\u001b[34m\u001b[1mwandb\u001b[0m: \toptimizer: nadam\n",
            "\u001b[34m\u001b[1mwandb\u001b[0m: \tweight_decay: 0.5\n",
            "\u001b[34m\u001b[1mwandb\u001b[0m: \tweight_init: random\n"
          ]
        },
        {
          "output_type": "display_data",
          "data": {
            "text/plain": [
              "<IPython.core.display.HTML object>"
            ],
            "text/html": [
              "Ignoring project 'fashion-mnist-nn' when running a sweep."
            ]
          },
          "metadata": {}
        },
        {
          "output_type": "display_data",
          "data": {
            "text/plain": [
              "<IPython.core.display.HTML object>"
            ],
            "text/html": [
              "Ignoring entity 'vinyk-sd-indian-institute-of-technology-madras' when running a sweep."
            ]
          },
          "metadata": {}
        },
        {
          "output_type": "display_data",
          "data": {
            "text/plain": [
              "<IPython.core.display.HTML object>"
            ],
            "text/html": [
              "Tracking run with wandb version 0.19.7"
            ]
          },
          "metadata": {}
        },
        {
          "output_type": "display_data",
          "data": {
            "text/plain": [
              "<IPython.core.display.HTML object>"
            ],
            "text/html": [
              "Run data is saved locally in <code>/content/wandb/run-20250308_125828-3hiuxz2z</code>"
            ]
          },
          "metadata": {}
        },
        {
          "output_type": "display_data",
          "data": {
            "text/plain": [
              "<IPython.core.display.HTML object>"
            ],
            "text/html": [
              "Syncing run <strong><a href='https://wandb.ai/vinyk-sd-indian-institute-of-technology-madras/fashion-mnist-nn/runs/3hiuxz2z' target=\"_blank\">silvery-sweep-17</a></strong> to <a href='https://wandb.ai/vinyk-sd-indian-institute-of-technology-madras/fashion-mnist-nn' target=\"_blank\">Weights & Biases</a> (<a href='https://wandb.me/developer-guide' target=\"_blank\">docs</a>)<br>Sweep page: <a href='https://wandb.ai/vinyk-sd-indian-institute-of-technology-madras/fashion-mnist-nn/sweeps/93mly8pj' target=\"_blank\">https://wandb.ai/vinyk-sd-indian-institute-of-technology-madras/fashion-mnist-nn/sweeps/93mly8pj</a>"
            ]
          },
          "metadata": {}
        },
        {
          "output_type": "display_data",
          "data": {
            "text/plain": [
              "<IPython.core.display.HTML object>"
            ],
            "text/html": [
              " View project at <a href='https://wandb.ai/vinyk-sd-indian-institute-of-technology-madras/fashion-mnist-nn' target=\"_blank\">https://wandb.ai/vinyk-sd-indian-institute-of-technology-madras/fashion-mnist-nn</a>"
            ]
          },
          "metadata": {}
        },
        {
          "output_type": "display_data",
          "data": {
            "text/plain": [
              "<IPython.core.display.HTML object>"
            ],
            "text/html": [
              " View sweep at <a href='https://wandb.ai/vinyk-sd-indian-institute-of-technology-madras/fashion-mnist-nn/sweeps/93mly8pj' target=\"_blank\">https://wandb.ai/vinyk-sd-indian-institute-of-technology-madras/fashion-mnist-nn/sweeps/93mly8pj</a>"
            ]
          },
          "metadata": {}
        },
        {
          "output_type": "display_data",
          "data": {
            "text/plain": [
              "<IPython.core.display.HTML object>"
            ],
            "text/html": [
              " View run at <a href='https://wandb.ai/vinyk-sd-indian-institute-of-technology-madras/fashion-mnist-nn/runs/3hiuxz2z' target=\"_blank\">https://wandb.ai/vinyk-sd-indian-institute-of-technology-madras/fashion-mnist-nn/runs/3hiuxz2z</a>"
            ]
          },
          "metadata": {}
        },
        {
          "output_type": "stream",
          "name": "stdout",
          "text": [
            "Epoch 1: Train Loss: 0.0321, Train Acc: 0.8130, Val Loss: 0.0281, Val Acc: 0.8325\n",
            "Epoch 2: Train Loss: 0.0241, Train Acc: 0.8588, Val Loss: 0.0265, Val Acc: 0.8439\n",
            "Epoch 3: Train Loss: 0.0219, Train Acc: 0.8714, Val Loss: 0.0256, Val Acc: 0.8513\n",
            "Epoch 4: Train Loss: 0.0206, Train Acc: 0.8791, Val Loss: 0.0248, Val Acc: 0.8565\n",
            "Epoch 5: Train Loss: 0.0198, Train Acc: 0.8844, Val Loss: 0.0243, Val Acc: 0.8595\n"
          ]
        },
        {
          "output_type": "display_data",
          "data": {
            "text/plain": [
              "<IPython.core.display.HTML object>"
            ],
            "text/html": []
          },
          "metadata": {}
        },
        {
          "output_type": "display_data",
          "data": {
            "text/plain": [
              "<IPython.core.display.HTML object>"
            ],
            "text/html": [
              "<br>    <style><br>        .wandb-row {<br>            display: flex;<br>            flex-direction: row;<br>            flex-wrap: wrap;<br>            justify-content: flex-start;<br>            width: 100%;<br>        }<br>        .wandb-col {<br>            display: flex;<br>            flex-direction: column;<br>            flex-basis: 100%;<br>            flex: 1;<br>            padding: 10px;<br>        }<br>    </style><br><div class=\"wandb-row\"><div class=\"wandb-col\"><h3>Run history:</h3><br/><table class=\"wandb\"><tr><td>epoch</td><td>▁▃▅▆█</td></tr><tr><td>train_accuracy</td><td>▁▅▇▇█</td></tr><tr><td>train_loss</td><td>█▃▂▁▁</td></tr><tr><td>val_accuracy</td><td>▁▄▆▇█</td></tr><tr><td>val_loss</td><td>█▅▃▂▁</td></tr></table><br/></div><div class=\"wandb-col\"><h3>Run summary:</h3><br/><table class=\"wandb\"><tr><td>epoch</td><td>5</td></tr><tr><td>train_accuracy</td><td>0.88442</td></tr><tr><td>train_loss</td><td>0.01978</td></tr><tr><td>val_accuracy</td><td>0.8595</td></tr><tr><td>val_loss</td><td>0.02427</td></tr></table><br/></div></div>"
            ]
          },
          "metadata": {}
        },
        {
          "output_type": "display_data",
          "data": {
            "text/plain": [
              "<IPython.core.display.HTML object>"
            ],
            "text/html": [
              " View run <strong style=\"color:#cdcd00\">silvery-sweep-17</strong> at: <a href='https://wandb.ai/vinyk-sd-indian-institute-of-technology-madras/fashion-mnist-nn/runs/3hiuxz2z' target=\"_blank\">https://wandb.ai/vinyk-sd-indian-institute-of-technology-madras/fashion-mnist-nn/runs/3hiuxz2z</a><br> View project at: <a href='https://wandb.ai/vinyk-sd-indian-institute-of-technology-madras/fashion-mnist-nn' target=\"_blank\">https://wandb.ai/vinyk-sd-indian-institute-of-technology-madras/fashion-mnist-nn</a><br>Synced 5 W&B file(s), 0 media file(s), 0 artifact file(s) and 0 other file(s)"
            ]
          },
          "metadata": {}
        },
        {
          "output_type": "display_data",
          "data": {
            "text/plain": [
              "<IPython.core.display.HTML object>"
            ],
            "text/html": [
              "Find logs at: <code>./wandb/run-20250308_125828-3hiuxz2z/logs</code>"
            ]
          },
          "metadata": {}
        },
        {
          "output_type": "stream",
          "name": "stderr",
          "text": [
            "\u001b[34m\u001b[1mwandb\u001b[0m: Agent Starting Run: 8p2y4biy with config:\n",
            "\u001b[34m\u001b[1mwandb\u001b[0m: \tactivation: sigmoid\n",
            "\u001b[34m\u001b[1mwandb\u001b[0m: \tbatch_size: 64\n",
            "\u001b[34m\u001b[1mwandb\u001b[0m: \tepochs: 10\n",
            "\u001b[34m\u001b[1mwandb\u001b[0m: \thidden_layers: 3\n",
            "\u001b[34m\u001b[1mwandb\u001b[0m: \thidden_size: 64\n",
            "\u001b[34m\u001b[1mwandb\u001b[0m: \tlearning_rate: 0.001\n",
            "\u001b[34m\u001b[1mwandb\u001b[0m: \toptimizer: nadam\n",
            "\u001b[34m\u001b[1mwandb\u001b[0m: \tweight_decay: 0.5\n",
            "\u001b[34m\u001b[1mwandb\u001b[0m: \tweight_init: random\n"
          ]
        },
        {
          "output_type": "display_data",
          "data": {
            "text/plain": [
              "<IPython.core.display.HTML object>"
            ],
            "text/html": [
              "Ignoring project 'fashion-mnist-nn' when running a sweep."
            ]
          },
          "metadata": {}
        },
        {
          "output_type": "display_data",
          "data": {
            "text/plain": [
              "<IPython.core.display.HTML object>"
            ],
            "text/html": [
              "Ignoring entity 'vinyk-sd-indian-institute-of-technology-madras' when running a sweep."
            ]
          },
          "metadata": {}
        },
        {
          "output_type": "display_data",
          "data": {
            "text/plain": [
              "<IPython.core.display.HTML object>"
            ],
            "text/html": [
              "Tracking run with wandb version 0.19.7"
            ]
          },
          "metadata": {}
        },
        {
          "output_type": "display_data",
          "data": {
            "text/plain": [
              "<IPython.core.display.HTML object>"
            ],
            "text/html": [
              "Run data is saved locally in <code>/content/wandb/run-20250308_125914-8p2y4biy</code>"
            ]
          },
          "metadata": {}
        },
        {
          "output_type": "display_data",
          "data": {
            "text/plain": [
              "<IPython.core.display.HTML object>"
            ],
            "text/html": [
              "Syncing run <strong><a href='https://wandb.ai/vinyk-sd-indian-institute-of-technology-madras/fashion-mnist-nn/runs/8p2y4biy' target=\"_blank\">ruby-sweep-18</a></strong> to <a href='https://wandb.ai/vinyk-sd-indian-institute-of-technology-madras/fashion-mnist-nn' target=\"_blank\">Weights & Biases</a> (<a href='https://wandb.me/developer-guide' target=\"_blank\">docs</a>)<br>Sweep page: <a href='https://wandb.ai/vinyk-sd-indian-institute-of-technology-madras/fashion-mnist-nn/sweeps/93mly8pj' target=\"_blank\">https://wandb.ai/vinyk-sd-indian-institute-of-technology-madras/fashion-mnist-nn/sweeps/93mly8pj</a>"
            ]
          },
          "metadata": {}
        },
        {
          "output_type": "display_data",
          "data": {
            "text/plain": [
              "<IPython.core.display.HTML object>"
            ],
            "text/html": [
              " View project at <a href='https://wandb.ai/vinyk-sd-indian-institute-of-technology-madras/fashion-mnist-nn' target=\"_blank\">https://wandb.ai/vinyk-sd-indian-institute-of-technology-madras/fashion-mnist-nn</a>"
            ]
          },
          "metadata": {}
        },
        {
          "output_type": "display_data",
          "data": {
            "text/plain": [
              "<IPython.core.display.HTML object>"
            ],
            "text/html": [
              " View sweep at <a href='https://wandb.ai/vinyk-sd-indian-institute-of-technology-madras/fashion-mnist-nn/sweeps/93mly8pj' target=\"_blank\">https://wandb.ai/vinyk-sd-indian-institute-of-technology-madras/fashion-mnist-nn/sweeps/93mly8pj</a>"
            ]
          },
          "metadata": {}
        },
        {
          "output_type": "display_data",
          "data": {
            "text/plain": [
              "<IPython.core.display.HTML object>"
            ],
            "text/html": [
              " View run at <a href='https://wandb.ai/vinyk-sd-indian-institute-of-technology-madras/fashion-mnist-nn/runs/8p2y4biy' target=\"_blank\">https://wandb.ai/vinyk-sd-indian-institute-of-technology-madras/fashion-mnist-nn/runs/8p2y4biy</a>"
            ]
          },
          "metadata": {}
        },
        {
          "output_type": "stream",
          "name": "stdout",
          "text": [
            "Epoch 1: Train Loss: 0.0810, Train Acc: 0.3370, Val Loss: 0.0556, Val Acc: 0.6860\n",
            "Epoch 2: Train Loss: 0.0395, Train Acc: 0.7600, Val Loss: 0.0315, Val Acc: 0.8015\n",
            "Epoch 3: Train Loss: 0.0273, Train Acc: 0.8296, Val Loss: 0.0263, Val Acc: 0.8289\n",
            "Epoch 4: Train Loss: 0.0237, Train Acc: 0.8451, Val Loss: 0.0243, Val Acc: 0.8373\n",
            "Epoch 5: Train Loss: 0.0220, Train Acc: 0.8543, Val Loss: 0.0233, Val Acc: 0.8418\n",
            "Epoch 6: Train Loss: 0.0210, Train Acc: 0.8600, Val Loss: 0.0226, Val Acc: 0.8462\n",
            "Epoch 7: Train Loss: 0.0202, Train Acc: 0.8646, Val Loss: 0.0221, Val Acc: 0.8492\n",
            "Epoch 8: Train Loss: 0.0197, Train Acc: 0.8687, Val Loss: 0.0217, Val Acc: 0.8510\n",
            "Epoch 9: Train Loss: 0.0192, Train Acc: 0.8715, Val Loss: 0.0214, Val Acc: 0.8536\n",
            "Epoch 10: Train Loss: 0.0188, Train Acc: 0.8748, Val Loss: 0.0211, Val Acc: 0.8548\n"
          ]
        },
        {
          "output_type": "display_data",
          "data": {
            "text/plain": [
              "<IPython.core.display.HTML object>"
            ],
            "text/html": []
          },
          "metadata": {}
        },
        {
          "output_type": "display_data",
          "data": {
            "text/plain": [
              "<IPython.core.display.HTML object>"
            ],
            "text/html": [
              "<br>    <style><br>        .wandb-row {<br>            display: flex;<br>            flex-direction: row;<br>            flex-wrap: wrap;<br>            justify-content: flex-start;<br>            width: 100%;<br>        }<br>        .wandb-col {<br>            display: flex;<br>            flex-direction: column;<br>            flex-basis: 100%;<br>            flex: 1;<br>            padding: 10px;<br>        }<br>    </style><br><div class=\"wandb-row\"><div class=\"wandb-col\"><h3>Run history:</h3><br/><table class=\"wandb\"><tr><td>epoch</td><td>▁▂▃▃▄▅▆▆▇█</td></tr><tr><td>train_accuracy</td><td>▁▇▇███████</td></tr><tr><td>train_loss</td><td>█▃▂▂▁▁▁▁▁▁</td></tr><tr><td>val_accuracy</td><td>▁▆▇▇▇█████</td></tr><tr><td>val_loss</td><td>█▃▂▂▁▁▁▁▁▁</td></tr></table><br/></div><div class=\"wandb-col\"><h3>Run summary:</h3><br/><table class=\"wandb\"><tr><td>epoch</td><td>10</td></tr><tr><td>train_accuracy</td><td>0.8748</td></tr><tr><td>train_loss</td><td>0.01875</td></tr><tr><td>val_accuracy</td><td>0.8548</td></tr><tr><td>val_loss</td><td>0.02114</td></tr></table><br/></div></div>"
            ]
          },
          "metadata": {}
        },
        {
          "output_type": "display_data",
          "data": {
            "text/plain": [
              "<IPython.core.display.HTML object>"
            ],
            "text/html": [
              " View run <strong style=\"color:#cdcd00\">ruby-sweep-18</strong> at: <a href='https://wandb.ai/vinyk-sd-indian-institute-of-technology-madras/fashion-mnist-nn/runs/8p2y4biy' target=\"_blank\">https://wandb.ai/vinyk-sd-indian-institute-of-technology-madras/fashion-mnist-nn/runs/8p2y4biy</a><br> View project at: <a href='https://wandb.ai/vinyk-sd-indian-institute-of-technology-madras/fashion-mnist-nn' target=\"_blank\">https://wandb.ai/vinyk-sd-indian-institute-of-technology-madras/fashion-mnist-nn</a><br>Synced 5 W&B file(s), 0 media file(s), 0 artifact file(s) and 0 other file(s)"
            ]
          },
          "metadata": {}
        },
        {
          "output_type": "display_data",
          "data": {
            "text/plain": [
              "<IPython.core.display.HTML object>"
            ],
            "text/html": [
              "Find logs at: <code>./wandb/run-20250308_125914-8p2y4biy/logs</code>"
            ]
          },
          "metadata": {}
        },
        {
          "output_type": "stream",
          "name": "stderr",
          "text": [
            "\u001b[34m\u001b[1mwandb\u001b[0m: Agent Starting Run: rec8rcxw with config:\n",
            "\u001b[34m\u001b[1mwandb\u001b[0m: \tactivation: sigmoid\n",
            "\u001b[34m\u001b[1mwandb\u001b[0m: \tbatch_size: 32\n",
            "\u001b[34m\u001b[1mwandb\u001b[0m: \tepochs: 10\n",
            "\u001b[34m\u001b[1mwandb\u001b[0m: \thidden_layers: 3\n",
            "\u001b[34m\u001b[1mwandb\u001b[0m: \thidden_size: 128\n",
            "\u001b[34m\u001b[1mwandb\u001b[0m: \tlearning_rate: 0.001\n",
            "\u001b[34m\u001b[1mwandb\u001b[0m: \toptimizer: nadam\n",
            "\u001b[34m\u001b[1mwandb\u001b[0m: \tweight_decay: 0.5\n",
            "\u001b[34m\u001b[1mwandb\u001b[0m: \tweight_init: random\n"
          ]
        },
        {
          "output_type": "display_data",
          "data": {
            "text/plain": [
              "<IPython.core.display.HTML object>"
            ],
            "text/html": [
              "Ignoring project 'fashion-mnist-nn' when running a sweep."
            ]
          },
          "metadata": {}
        },
        {
          "output_type": "display_data",
          "data": {
            "text/plain": [
              "<IPython.core.display.HTML object>"
            ],
            "text/html": [
              "Ignoring entity 'vinyk-sd-indian-institute-of-technology-madras' when running a sweep."
            ]
          },
          "metadata": {}
        },
        {
          "output_type": "display_data",
          "data": {
            "text/plain": [
              "<IPython.core.display.HTML object>"
            ],
            "text/html": [
              "Tracking run with wandb version 0.19.7"
            ]
          },
          "metadata": {}
        },
        {
          "output_type": "display_data",
          "data": {
            "text/plain": [
              "<IPython.core.display.HTML object>"
            ],
            "text/html": [
              "Run data is saved locally in <code>/content/wandb/run-20250308_130000-rec8rcxw</code>"
            ]
          },
          "metadata": {}
        },
        {
          "output_type": "display_data",
          "data": {
            "text/plain": [
              "<IPython.core.display.HTML object>"
            ],
            "text/html": [
              "Syncing run <strong><a href='https://wandb.ai/vinyk-sd-indian-institute-of-technology-madras/fashion-mnist-nn/runs/rec8rcxw' target=\"_blank\">helpful-sweep-19</a></strong> to <a href='https://wandb.ai/vinyk-sd-indian-institute-of-technology-madras/fashion-mnist-nn' target=\"_blank\">Weights & Biases</a> (<a href='https://wandb.me/developer-guide' target=\"_blank\">docs</a>)<br>Sweep page: <a href='https://wandb.ai/vinyk-sd-indian-institute-of-technology-madras/fashion-mnist-nn/sweeps/93mly8pj' target=\"_blank\">https://wandb.ai/vinyk-sd-indian-institute-of-technology-madras/fashion-mnist-nn/sweeps/93mly8pj</a>"
            ]
          },
          "metadata": {}
        },
        {
          "output_type": "display_data",
          "data": {
            "text/plain": [
              "<IPython.core.display.HTML object>"
            ],
            "text/html": [
              " View project at <a href='https://wandb.ai/vinyk-sd-indian-institute-of-technology-madras/fashion-mnist-nn' target=\"_blank\">https://wandb.ai/vinyk-sd-indian-institute-of-technology-madras/fashion-mnist-nn</a>"
            ]
          },
          "metadata": {}
        },
        {
          "output_type": "display_data",
          "data": {
            "text/plain": [
              "<IPython.core.display.HTML object>"
            ],
            "text/html": [
              " View sweep at <a href='https://wandb.ai/vinyk-sd-indian-institute-of-technology-madras/fashion-mnist-nn/sweeps/93mly8pj' target=\"_blank\">https://wandb.ai/vinyk-sd-indian-institute-of-technology-madras/fashion-mnist-nn/sweeps/93mly8pj</a>"
            ]
          },
          "metadata": {}
        },
        {
          "output_type": "display_data",
          "data": {
            "text/plain": [
              "<IPython.core.display.HTML object>"
            ],
            "text/html": [
              " View run at <a href='https://wandb.ai/vinyk-sd-indian-institute-of-technology-madras/fashion-mnist-nn/runs/rec8rcxw' target=\"_blank\">https://wandb.ai/vinyk-sd-indian-institute-of-technology-madras/fashion-mnist-nn/runs/rec8rcxw</a>"
            ]
          },
          "metadata": {}
        },
        {
          "output_type": "stream",
          "name": "stdout",
          "text": [
            "Epoch 1: Train Loss: 0.0420, Train Acc: 0.7070, Val Loss: 0.0258, Val Acc: 0.8252\n",
            "Epoch 2: Train Loss: 0.0223, Train Acc: 0.8495, Val Loss: 0.0225, Val Acc: 0.8479\n",
            "Epoch 3: Train Loss: 0.0200, Train Acc: 0.8647, Val Loss: 0.0211, Val Acc: 0.8564\n",
            "Epoch 4: Train Loss: 0.0186, Train Acc: 0.8748, Val Loss: 0.0203, Val Acc: 0.8603\n",
            "Epoch 5: Train Loss: 0.0177, Train Acc: 0.8820, Val Loss: 0.0197, Val Acc: 0.8639\n",
            "Epoch 6: Train Loss: 0.0170, Train Acc: 0.8869, Val Loss: 0.0192, Val Acc: 0.8674\n",
            "Epoch 7: Train Loss: 0.0164, Train Acc: 0.8919, Val Loss: 0.0189, Val Acc: 0.8706\n",
            "Epoch 8: Train Loss: 0.0158, Train Acc: 0.8954, Val Loss: 0.0186, Val Acc: 0.8736\n",
            "Epoch 9: Train Loss: 0.0154, Train Acc: 0.8990, Val Loss: 0.0184, Val Acc: 0.8755\n",
            "Epoch 10: Train Loss: 0.0149, Train Acc: 0.9022, Val Loss: 0.0182, Val Acc: 0.8764\n"
          ]
        },
        {
          "output_type": "display_data",
          "data": {
            "text/plain": [
              "<IPython.core.display.HTML object>"
            ],
            "text/html": []
          },
          "metadata": {}
        },
        {
          "output_type": "display_data",
          "data": {
            "text/plain": [
              "<IPython.core.display.HTML object>"
            ],
            "text/html": [
              "<br>    <style><br>        .wandb-row {<br>            display: flex;<br>            flex-direction: row;<br>            flex-wrap: wrap;<br>            justify-content: flex-start;<br>            width: 100%;<br>        }<br>        .wandb-col {<br>            display: flex;<br>            flex-direction: column;<br>            flex-basis: 100%;<br>            flex: 1;<br>            padding: 10px;<br>        }<br>    </style><br><div class=\"wandb-row\"><div class=\"wandb-col\"><h3>Run history:</h3><br/><table class=\"wandb\"><tr><td>epoch</td><td>▁▂▃▃▄▅▆▆▇█</td></tr><tr><td>train_accuracy</td><td>▁▆▇▇▇▇████</td></tr><tr><td>train_loss</td><td>█▃▂▂▂▂▁▁▁▁</td></tr><tr><td>val_accuracy</td><td>▁▄▅▆▆▇▇███</td></tr><tr><td>val_loss</td><td>█▅▄▃▂▂▂▁▁▁</td></tr></table><br/></div><div class=\"wandb-col\"><h3>Run summary:</h3><br/><table class=\"wandb\"><tr><td>epoch</td><td>10</td></tr><tr><td>train_accuracy</td><td>0.90218</td></tr><tr><td>train_loss</td><td>0.01494</td></tr><tr><td>val_accuracy</td><td>0.8764</td></tr><tr><td>val_loss</td><td>0.01824</td></tr></table><br/></div></div>"
            ]
          },
          "metadata": {}
        },
        {
          "output_type": "display_data",
          "data": {
            "text/plain": [
              "<IPython.core.display.HTML object>"
            ],
            "text/html": [
              " View run <strong style=\"color:#cdcd00\">helpful-sweep-19</strong> at: <a href='https://wandb.ai/vinyk-sd-indian-institute-of-technology-madras/fashion-mnist-nn/runs/rec8rcxw' target=\"_blank\">https://wandb.ai/vinyk-sd-indian-institute-of-technology-madras/fashion-mnist-nn/runs/rec8rcxw</a><br> View project at: <a href='https://wandb.ai/vinyk-sd-indian-institute-of-technology-madras/fashion-mnist-nn' target=\"_blank\">https://wandb.ai/vinyk-sd-indian-institute-of-technology-madras/fashion-mnist-nn</a><br>Synced 5 W&B file(s), 0 media file(s), 0 artifact file(s) and 0 other file(s)"
            ]
          },
          "metadata": {}
        },
        {
          "output_type": "display_data",
          "data": {
            "text/plain": [
              "<IPython.core.display.HTML object>"
            ],
            "text/html": [
              "Find logs at: <code>./wandb/run-20250308_130000-rec8rcxw/logs</code>"
            ]
          },
          "metadata": {}
        },
        {
          "output_type": "stream",
          "name": "stderr",
          "text": [
            "\u001b[34m\u001b[1mwandb\u001b[0m: Agent Starting Run: xya0c9sd with config:\n",
            "\u001b[34m\u001b[1mwandb\u001b[0m: \tactivation: sigmoid\n",
            "\u001b[34m\u001b[1mwandb\u001b[0m: \tbatch_size: 32\n",
            "\u001b[34m\u001b[1mwandb\u001b[0m: \tepochs: 10\n",
            "\u001b[34m\u001b[1mwandb\u001b[0m: \thidden_layers: 3\n",
            "\u001b[34m\u001b[1mwandb\u001b[0m: \thidden_size: 128\n",
            "\u001b[34m\u001b[1mwandb\u001b[0m: \tlearning_rate: 0.001\n",
            "\u001b[34m\u001b[1mwandb\u001b[0m: \toptimizer: nadam\n",
            "\u001b[34m\u001b[1mwandb\u001b[0m: \tweight_decay: 0.5\n",
            "\u001b[34m\u001b[1mwandb\u001b[0m: \tweight_init: random\n"
          ]
        },
        {
          "output_type": "display_data",
          "data": {
            "text/plain": [
              "<IPython.core.display.HTML object>"
            ],
            "text/html": [
              "Ignoring project 'fashion-mnist-nn' when running a sweep."
            ]
          },
          "metadata": {}
        },
        {
          "output_type": "display_data",
          "data": {
            "text/plain": [
              "<IPython.core.display.HTML object>"
            ],
            "text/html": [
              "Ignoring entity 'vinyk-sd-indian-institute-of-technology-madras' when running a sweep."
            ]
          },
          "metadata": {}
        },
        {
          "output_type": "display_data",
          "data": {
            "text/plain": [
              "<IPython.core.display.HTML object>"
            ],
            "text/html": [
              "Tracking run with wandb version 0.19.7"
            ]
          },
          "metadata": {}
        },
        {
          "output_type": "display_data",
          "data": {
            "text/plain": [
              "<IPython.core.display.HTML object>"
            ],
            "text/html": [
              "Run data is saved locally in <code>/content/wandb/run-20250308_130126-xya0c9sd</code>"
            ]
          },
          "metadata": {}
        },
        {
          "output_type": "display_data",
          "data": {
            "text/plain": [
              "<IPython.core.display.HTML object>"
            ],
            "text/html": [
              "Syncing run <strong><a href='https://wandb.ai/vinyk-sd-indian-institute-of-technology-madras/fashion-mnist-nn/runs/xya0c9sd' target=\"_blank\">stellar-sweep-20</a></strong> to <a href='https://wandb.ai/vinyk-sd-indian-institute-of-technology-madras/fashion-mnist-nn' target=\"_blank\">Weights & Biases</a> (<a href='https://wandb.me/developer-guide' target=\"_blank\">docs</a>)<br>Sweep page: <a href='https://wandb.ai/vinyk-sd-indian-institute-of-technology-madras/fashion-mnist-nn/sweeps/93mly8pj' target=\"_blank\">https://wandb.ai/vinyk-sd-indian-institute-of-technology-madras/fashion-mnist-nn/sweeps/93mly8pj</a>"
            ]
          },
          "metadata": {}
        },
        {
          "output_type": "display_data",
          "data": {
            "text/plain": [
              "<IPython.core.display.HTML object>"
            ],
            "text/html": [
              " View project at <a href='https://wandb.ai/vinyk-sd-indian-institute-of-technology-madras/fashion-mnist-nn' target=\"_blank\">https://wandb.ai/vinyk-sd-indian-institute-of-technology-madras/fashion-mnist-nn</a>"
            ]
          },
          "metadata": {}
        },
        {
          "output_type": "display_data",
          "data": {
            "text/plain": [
              "<IPython.core.display.HTML object>"
            ],
            "text/html": [
              " View sweep at <a href='https://wandb.ai/vinyk-sd-indian-institute-of-technology-madras/fashion-mnist-nn/sweeps/93mly8pj' target=\"_blank\">https://wandb.ai/vinyk-sd-indian-institute-of-technology-madras/fashion-mnist-nn/sweeps/93mly8pj</a>"
            ]
          },
          "metadata": {}
        },
        {
          "output_type": "display_data",
          "data": {
            "text/plain": [
              "<IPython.core.display.HTML object>"
            ],
            "text/html": [
              " View run at <a href='https://wandb.ai/vinyk-sd-indian-institute-of-technology-madras/fashion-mnist-nn/runs/xya0c9sd' target=\"_blank\">https://wandb.ai/vinyk-sd-indian-institute-of-technology-madras/fashion-mnist-nn/runs/xya0c9sd</a>"
            ]
          },
          "metadata": {}
        },
        {
          "output_type": "stream",
          "name": "stdout",
          "text": [
            "Epoch 1: Train Loss: 0.0420, Train Acc: 0.7070, Val Loss: 0.0258, Val Acc: 0.8252\n",
            "Epoch 2: Train Loss: 0.0223, Train Acc: 0.8495, Val Loss: 0.0225, Val Acc: 0.8479\n",
            "Epoch 3: Train Loss: 0.0200, Train Acc: 0.8647, Val Loss: 0.0211, Val Acc: 0.8564\n"
          ]
        }
      ]
    },
    {
      "cell_type": "code",
      "source": [],
      "metadata": {
        "id": "P5YkR461x6Eg"
      },
      "execution_count": null,
      "outputs": []
    }
  ]
}