{
  "nbformat": 4,
  "nbformat_minor": 0,
  "metadata": {
    "colab": {
      "provenance": [],
      "authorship_tag": "ABX9TyMqbBFTCouBHVyVr3Formqm",
      "include_colab_link": true
    },
    "kernelspec": {
      "name": "python3",
      "display_name": "Python 3"
    },
    "language_info": {
      "name": "python"
    }
  },
  "cells": [
    {
      "cell_type": "markdown",
      "metadata": {
        "id": "view-in-github",
        "colab_type": "text"
      },
      "source": [
        "<a href=\"https://colab.research.google.com/github/vinyk/DA6401_Assignment1/blob/main/DA6401_Assignment1.ipynb\" target=\"_parent\"><img src=\"https://colab.research.google.com/assets/colab-badge.svg\" alt=\"Open In Colab\"/></a>"
      ]
    },
    {
      "cell_type": "code",
      "execution_count": 1,
      "metadata": {
        "id": "yWHa6zEH6XvB"
      },
      "outputs": [],
      "source": [
        "import wandb\n",
        "import numpy as np\n",
        "import matplotlib.pyplot as plt\n",
        "from keras.datasets import fashion_mnist"
      ]
    },
    {
      "cell_type": "code",
      "source": [
        "wandb.login()"
      ],
      "metadata": {
        "id": "rnyTofra7qv_",
        "colab": {
          "base_uri": "https://localhost:8080/",
          "height": 228
        },
        "outputId": "744c928e-62cd-49c3-d10e-2685497efbd0"
      },
      "execution_count": 2,
      "outputs": [
        {
          "output_type": "stream",
          "name": "stderr",
          "text": [
            "\u001b[34m\u001b[1mwandb\u001b[0m: Using wandb-core as the SDK backend.  Please refer to https://wandb.me/wandb-core for more information.\n"
          ]
        },
        {
          "output_type": "display_data",
          "data": {
            "text/plain": [
              "<IPython.core.display.Javascript object>"
            ],
            "application/javascript": [
              "\n",
              "        window._wandbApiKey = new Promise((resolve, reject) => {\n",
              "            function loadScript(url) {\n",
              "            return new Promise(function(resolve, reject) {\n",
              "                let newScript = document.createElement(\"script\");\n",
              "                newScript.onerror = reject;\n",
              "                newScript.onload = resolve;\n",
              "                document.body.appendChild(newScript);\n",
              "                newScript.src = url;\n",
              "            });\n",
              "            }\n",
              "            loadScript(\"https://cdn.jsdelivr.net/npm/postmate/build/postmate.min.js\").then(() => {\n",
              "            const iframe = document.createElement('iframe')\n",
              "            iframe.style.cssText = \"width:0;height:0;border:none\"\n",
              "            document.body.appendChild(iframe)\n",
              "            const handshake = new Postmate({\n",
              "                container: iframe,\n",
              "                url: 'https://wandb.ai/authorize'\n",
              "            });\n",
              "            const timeout = setTimeout(() => reject(\"Couldn't auto authenticate\"), 5000)\n",
              "            handshake.then(function(child) {\n",
              "                child.on('authorize', data => {\n",
              "                    clearTimeout(timeout)\n",
              "                    resolve(data)\n",
              "                });\n",
              "            });\n",
              "            })\n",
              "        });\n",
              "    "
            ]
          },
          "metadata": {}
        },
        {
          "output_type": "stream",
          "name": "stderr",
          "text": [
            "\u001b[34m\u001b[1mwandb\u001b[0m: Logging into wandb.ai. (Learn how to deploy a W&B server locally: https://wandb.me/wandb-server)\n",
            "\u001b[34m\u001b[1mwandb\u001b[0m: You can find your API key in your browser here: https://wandb.ai/authorize\n",
            "wandb: Paste an API key from your profile and hit enter:"
          ]
        },
        {
          "name": "stdout",
          "output_type": "stream",
          "text": [
            " ··········\n"
          ]
        },
        {
          "output_type": "stream",
          "name": "stderr",
          "text": [
            "\u001b[34m\u001b[1mwandb\u001b[0m: \u001b[33mWARNING\u001b[0m If you're specifying your api key in code, ensure this code is not shared publicly.\n",
            "\u001b[34m\u001b[1mwandb\u001b[0m: \u001b[33mWARNING\u001b[0m Consider setting the WANDB_API_KEY environment variable, or running `wandb login` from the command line.\n",
            "\u001b[34m\u001b[1mwandb\u001b[0m: No netrc file found, creating one.\n",
            "\u001b[34m\u001b[1mwandb\u001b[0m: Appending key for api.wandb.ai to your netrc file: /root/.netrc\n",
            "\u001b[34m\u001b[1mwandb\u001b[0m: Currently logged in as: \u001b[33mvinyk-sd\u001b[0m (\u001b[33mvinyk-sd-indian-institute-of-technology-madras\u001b[0m) to \u001b[32mhttps://api.wandb.ai\u001b[0m. Use \u001b[1m`wandb login --relogin`\u001b[0m to force relogin\n"
          ]
        },
        {
          "output_type": "execute_result",
          "data": {
            "text/plain": [
              "True"
            ]
          },
          "metadata": {},
          "execution_count": 2
        }
      ]
    },
    {
      "cell_type": "code",
      "source": [
        "# Load Fashion-MNIST dataset\n",
        "(train_images, train_labels), (test_images, test_labels) = fashion_mnist.load_data()\n",
        "\n",
        "# Class names for Fashion-MNIST\n",
        "class_names = [\n",
        "    \"T-shirt/top\", \"Trouser\", \"Pullover\", \"Dress\", \"Coat\",\n",
        "    \"Sandal\", \"Shirt\", \"Sneaker\", \"Bag\", \"Ankle boot\"\n",
        "]\n",
        "\n",
        "# Select one example per class\n",
        "sample_images = []\n",
        "sample_labels = []\n",
        "\n",
        "for class_idx in range(10):\n",
        "    idx = np.where(train_labels == class_idx)[0][0]  # Get the first occurrence of each class\n",
        "    sample_images.append(train_images[idx])\n",
        "    sample_labels.append(class_names[class_idx])\n",
        "\n",
        "# Plot the images in a 2x5 grid\n",
        "fig, axes = plt.subplots(2, 5, figsize=(10, 5))\n",
        "axes = axes.flatten()\n",
        "\n",
        "for i in range(10):\n",
        "    axes[i].imshow(sample_images[i], cmap=\"gray\")\n",
        "    axes[i].set_title(sample_labels[i])\n",
        "    axes[i].axis(\"off\")\n",
        "\n",
        "plt.tight_layout()\n",
        "plt.show()"
      ],
      "metadata": {
        "id": "oqHBcc-L8Gs8",
        "colab": {
          "base_uri": "https://localhost:8080/",
          "height": 612
        },
        "outputId": "3be4e145-a9e6-474f-800d-1f6d7816c716"
      },
      "execution_count": 3,
      "outputs": [
        {
          "output_type": "stream",
          "name": "stdout",
          "text": [
            "Downloading data from https://storage.googleapis.com/tensorflow/tf-keras-datasets/train-labels-idx1-ubyte.gz\n",
            "\u001b[1m29515/29515\u001b[0m \u001b[32m━━━━━━━━━━━━━━━━━━━━\u001b[0m\u001b[37m\u001b[0m \u001b[1m0s\u001b[0m 0us/step\n",
            "Downloading data from https://storage.googleapis.com/tensorflow/tf-keras-datasets/train-images-idx3-ubyte.gz\n",
            "\u001b[1m26421880/26421880\u001b[0m \u001b[32m━━━━━━━━━━━━━━━━━━━━\u001b[0m\u001b[37m\u001b[0m \u001b[1m0s\u001b[0m 0us/step\n",
            "Downloading data from https://storage.googleapis.com/tensorflow/tf-keras-datasets/t10k-labels-idx1-ubyte.gz\n",
            "\u001b[1m5148/5148\u001b[0m \u001b[32m━━━━━━━━━━━━━━━━━━━━\u001b[0m\u001b[37m\u001b[0m \u001b[1m0s\u001b[0m 0us/step\n",
            "Downloading data from https://storage.googleapis.com/tensorflow/tf-keras-datasets/t10k-images-idx3-ubyte.gz\n",
            "\u001b[1m4422102/4422102\u001b[0m \u001b[32m━━━━━━━━━━━━━━━━━━━━\u001b[0m\u001b[37m\u001b[0m \u001b[1m0s\u001b[0m 0us/step\n"
          ]
        },
        {
          "output_type": "display_data",
          "data": {
            "text/plain": [
              "<Figure size 1000x500 with 10 Axes>"
            ],
            "image/png": "[encoded data removed]"
          },
          "metadata": {}
        }
      ]
    },
    {
      "cell_type": "code",
      "source": [
        "import numpy as np\n",
        "\n",
        "class FeedforwardNN:\n",
        "    def __init__(self, input_size, hidden_layers, output_size,\n",
        "                 optimizer=\"sgd\", learning_rate=0.01, beta1=0.9, beta2=0.999,\n",
        "                 epsilon=1e-8, weight_decay=0, weight_init=\"random\", activation=\"relu\"):\n",
        "        \"\"\"\n",
        "        input_size: Number of input features\n",
        "        hidden_layers: List of neurons in each hidden layer\n",
        "        output_size: Number of output classes\n",
        "        optimizer: Optimization algorithm to use (\"sgd\", \"momentum\", \"nesterov\", \"rmsprop\", \"adam\", \"nadam\")\n",
        "        learning_rate: Learning rate for optimization\n",
        "        beta1, beta2: Momentum parameters (for Adam, Nadam, RMSprop, etc.)\n",
        "        epsilon: Small value to avoid division by zero\n",
        "        weight_decay: L2 regularization\n",
        "        weight_init: Weight initialization (\"random\" or \"xavier\")\n",
        "        activation: Activation function (\"sigmoid\", \"tanh\", \"relu\")\n",
        "        \"\"\"\n",
        "        self.layers = [input_size] + hidden_layers + [output_size]\n",
        "        self.learning_rate = learning_rate\n",
        "        self.beta1 = beta1\n",
        "        self.beta2 = beta2\n",
        "        self.epsilon = epsilon\n",
        "        self.optimizer = optimizer\n",
        "        self.weight_decay = weight_decay\n",
        "        self.activation = activation\n",
        "\n",
        "        # Initialize weights and biases\n",
        "        self.weights = {}\n",
        "        self.biases = {}\n",
        "        self.velocities = {}  # For momentum/NAG\n",
        "        self.squared_grads = {}  # For RMSprop/Adam\n",
        "        self.momentum_cache = {}  # For Adam/Nadam\n",
        "\n",
        "        for i in range(len(self.layers) - 1):\n",
        "            if weight_init == \"xavier\":\n",
        "                # Xavier initialization (for ReLU)\n",
        "                self.weights[i] = np.random.randn(self.layers[i], self.layers[i + 1]) * np.sqrt(2 / (self.layers[i] + self.layers[i + 1]))\n",
        "            else:\n",
        "                # Random initialization (scaled)\n",
        "                self.weights[i] = np.random.randn(self.layers[i], self.layers[i + 1]) * 0.01\n",
        "\n",
        "            self.biases[i] = np.zeros((1, self.layers[i + 1]))\n",
        "\n",
        "            # Initialize optimizer-specific parameters\n",
        "            self.velocities[i] = np.zeros_like(self.weights[i])  # Momentum\n",
        "            self.squared_grads[i] = np.zeros_like(self.weights[i])  # RMSprop, Adam\n",
        "            self.momentum_cache[i] = np.zeros_like(self.weights[i])  # Adam, Nadam\n",
        "\n",
        "    def activation_function(self, x):\n",
        "        if self.activation == \"sigmoid\":\n",
        "            return 1 / (1 + np.exp(-x))\n",
        "        elif self.activation == \"tanh\":\n",
        "            return np.tanh(x)\n",
        "        else:  # Default to ReLU\n",
        "            return np.maximum(0, x)\n",
        "\n",
        "    def activation_derivative(self, x):\n",
        "        if self.activation == \"sigmoid\":\n",
        "            return self.activation_function(x) * (1 - self.activation_function(x))\n",
        "        elif self.activation == \"tanh\":\n",
        "            return 1 - np.tanh(x) ** 2\n",
        "        else:  # Default to ReLU\n",
        "            return (x > 0).astype(float)\n",
        "\n",
        "    def softmax(self, x):\n",
        "        exp_x = np.exp(x - np.max(x, axis=1, keepdims=True))  # Prevent overflow\n",
        "        return exp_x / np.sum(exp_x, axis=1, keepdims=True)\n",
        "\n",
        "    def forward(self, X):\n",
        "        activations = {0: X}  # Store activations\n",
        "        for i in range(len(self.layers) - 2):\n",
        "            Z = np.dot(activations[i], self.weights[i]) + self.biases[i]\n",
        "            activations[i + 1] = self.activation_function(Z)\n",
        "\n",
        "        # Output layer (softmax)\n",
        "        Z_out = np.dot(activations[len(self.layers) - 2], self.weights[len(self.layers) - 2]) + self.biases[len(self.layers) - 2]\n",
        "        activations[len(self.layers) - 1] = self.softmax(Z_out)\n",
        "\n",
        "        return activations\n",
        "\n",
        "    def backward(self, X, Y, activations, batch_size, t):\n",
        "      grads = {}\n",
        "      L = len(self.layers) - 1  # Number of layers\n",
        "      m = X.shape[0]  # Batch size\n",
        "\n",
        "      # One-hot encode labels\n",
        "      Y_one_hot = np.eye(self.layers[-1])[Y]  # Shape (batch_size, num_classes)\n",
        "\n",
        "      # Compute softmax gradient for the output layer (L-th layer)\n",
        "      dZ = activations[L] - Y_one_hot  # Gradient for output layer\n",
        "      grads[L] = dZ  # Store gradient for the output layer\n",
        "\n",
        "      # Backpropagate through hidden layers\n",
        "      for i in reversed(range(L)):  # Loop through layers from L-1 to 0\n",
        "          # Compute gradients for weights and biases\n",
        "          if i == 0:\n",
        "              # For the first layer, activations[i] is the input data X\n",
        "              dW = np.dot(X.T, grads[i + 1]) / m + self.weight_decay * self.weights[i]  # L2 regularization\n",
        "          else:\n",
        "              dW = np.dot(activations[i].T, grads[i + 1]) / m + self.weight_decay * self.weights[i]  # L2 regularization\n",
        "          db = np.sum(grads[i + 1], axis=0, keepdims=True) / m\n",
        "\n",
        "          # Backpropagate the gradient to the previous layer\n",
        "          if i != L - 1:\n",
        "              grads[i] = np.dot(grads[i + 1], self.weights[i + 1].T) * self.activation_derivative(activations[i])\n",
        "\n",
        "          # Update weights and biases using the optimizer\n",
        "          self.update_weights(i, dW, db, t)\n",
        "\n",
        "\n",
        "    def update_weights(self, i, dW, db, t):\n",
        "        \"\"\"\n",
        "        Update weights and biases using the chosen optimizer.\n",
        "        \"\"\"\n",
        "        if self.optimizer == \"sgd\":\n",
        "            self.weights[i] -= self.learning_rate * dW\n",
        "            self.biases[i] -= self.learning_rate * db\n",
        "\n",
        "        elif self.optimizer == \"momentum\":\n",
        "            self.velocities[i] = self.beta1 * self.velocities[i] + (1 - self.beta1) * dW\n",
        "            self.weights[i] -= self.learning_rate * self.velocities[i]\n",
        "            self.biases[i] -= self.learning_rate * db\n",
        "\n",
        "        elif self.optimizer == \"nesterov\":\n",
        "            prev_v = self.velocities[i]\n",
        "            self.velocities[i] = self.beta1 * self.velocities[i] + (1 - self.beta1) * dW\n",
        "            self.weights[i] -= self.learning_rate * (self.beta1 * prev_v + (1 - self.beta1) * self.velocities[i])\n",
        "            self.biases[i] -= self.learning_rate * db\n",
        "\n",
        "        elif self.optimizer == \"rmsprop\":\n",
        "            self.squared_grads[i] = self.beta2 * self.squared_grads[i] + (1 - self.beta2) * (dW ** 2)\n",
        "            self.weights[i] -= self.learning_rate * dW / (np.sqrt(self.squared_grads[i]) + self.epsilon)\n",
        "            self.biases[i] -= self.learning_rate * db\n",
        "\n",
        "        elif self.optimizer == \"adam\":\n",
        "            self.momentum_cache[i] = self.beta1 * self.momentum_cache[i] + (1 - self.beta1) * dW\n",
        "            self.squared_grads[i] = self.beta2 * self.squared_grads[i] + (1 - self.beta2) * (dW ** 2)\n",
        "\n",
        "            m_hat = self.momentum_cache[i] / (1 - self.beta1 ** t)\n",
        "            v_hat = self.squared_grads[i] / (1 - self.beta2 ** t)\n",
        "\n",
        "            self.weights[i] -= self.learning_rate * m_hat / (np.sqrt(v_hat) + self.epsilon)\n",
        "            self.biases[i] -= self.learning_rate * db\n",
        "\n",
        "        elif self.optimizer == \"nadam\":\n",
        "            m_hat = (self.beta1 * self.momentum_cache[i] + (1 - self.beta1) * dW) / (1 - self.beta1 ** t)\n",
        "            v_hat = self.squared_grads[i] / (1 - self.beta2 ** t)\n",
        "\n",
        "            self.weights[i] -= self.learning_rate * (self.beta1 * m_hat + (1 - self.beta1) * dW) / (np.sqrt(v_hat) + self.epsilon)\n",
        "            self.biases[i] -= self.learning_rate * db\n",
        "\n",
        "    def compute_loss(self, Y_true, Y_pred):\n",
        "        m = Y_true.shape[0]\n",
        "        Y_one_hot = np.eye(self.layers[-1])[Y_true]\n",
        "        loss = -np.sum(Y_one_hot * np.log(Y_pred + 1e-9)) / m\n",
        "        return loss\n",
        "\n",
        "    def train(self, X_train, Y_train, epochs, batch_size):\n",
        "        for epoch in range(epochs):\n",
        "            for batch_start in range(0, X_train.shape[0], batch_size):\n",
        "                X_batch = X_train[batch_start: batch_start + batch_size]\n",
        "                Y_batch = Y_train[batch_start: batch_start + batch_size]\n",
        "\n",
        "                activations = self.forward(X_batch)\n",
        "                self.backward(X_batch, Y_batch, activations, batch_size, epoch + 1)\n",
        "\n",
        "            loss = self.compute_loss(Y_train, self.forward(X_train)[len(self.layers) - 1])\n",
        "            print(f\"Epoch {epoch+1}/{epochs}, Loss: {loss:.4f}\")\n"
      ],
      "metadata": {
        "id": "GFtqM2d2PMiF"
      },
      "execution_count": 27,
      "outputs": []
    },
    {
      "cell_type": "code",
      "source": [
        "sweep_config = {\n",
        "    \"method\": \"bayes\",  # Bayesian search for efficiency (can also use \"grid\" or \"random\")\n",
        "    \"metric\": {\"name\": \"val_accuracy\", \"goal\": \"maximize\"},\n",
        "    \"parameters\": {\n",
        "        \"epochs\": {\"values\": [5, 10]},\n",
        "        \"num_hidden_layers\": {\"values\": [3, 4, 5]},\n",
        "        \"hidden_layer_size\": {\"values\": [32, 64, 128]},\n",
        "        \"weight_decay\": {\"values\": [0, 0.0005, 0.5]},\n",
        "        \"learning_rate\": {\"values\": [1e-3, 1e-4]},\n",
        "        \"optimizer\": {\"values\": [\"sgd\", \"momentum\", \"nesterov\", \"rmsprop\", \"adam\", \"nadam\"]},\n",
        "        \"batch_size\": {\"values\": [16, 32, 64]},\n",
        "        \"weight_initialization\": {\"values\": [\"random\", \"xavier\"]},\n",
        "        \"activation_function\": {\"values\": [\"sigmoid\", \"tanh\", \"relu\"]},\n",
        "    },\n",
        "}"
      ],
      "metadata": {
        "id": "vfQDZFi3Qt6H"
      },
      "execution_count": 6,
      "outputs": []
    },
    {
      "cell_type": "code",
      "source": [
        "# Load dataset\n",
        "(X_train, y_train), (X_test, y_test) = fashion_mnist.load_data()\n",
        "\n",
        "# Normalize and flatten images\n",
        "X_train = (X_train / 255.0).reshape(X_train.shape[0], -1)\n",
        "X_test = (X_test / 255.0).reshape(X_test.shape[0], -1)\n",
        "\n",
        "# Split training data into training and validation sets\n",
        "from sklearn.model_selection import train_test_split\n",
        "X_train, X_val, y_train, y_val = train_test_split(X_train, y_train, test_size=0.1, random_state=42)"
      ],
      "metadata": {
        "id": "cgRoEmTbRcJM"
      },
      "execution_count": 7,
      "outputs": []
    },
    {
      "cell_type": "code",
      "source": [
        "def train_model(config=None):\n",
        "    with wandb.init(config=config):\n",
        "        config = wandb.config  # Access hyperparameters\n",
        "\n",
        "        # Initialize model\n",
        "        model = FeedforwardNN(\n",
        "            input_size=28*28,\n",
        "            hidden_layers=[config.hidden_layer_size] * config.num_hidden_layers,\n",
        "            output_size=10,\n",
        "            activation=config.activation_function,\n",
        "            weight_init=config.weight_initialization,\n",
        "            weight_decay=config.weight_decay,\n",
        "            optimizer=config.optimizer,\n",
        "            learning_rate=config.learning_rate\n",
        "        )\n",
        "\n",
        "        # Training loop\n",
        "        for epoch in range(config.epochs):\n",
        "            loss, accuracy = model.train(X_train, y_train, epochs=config.epochs, batch_size=config.batch_size)\n",
        "            val_loss, val_accuracy = model.evaluate(X_val, y_val)\n",
        "\n",
        "            # Log metrics to wandb\n",
        "            wandb.log({\n",
        "                \"epoch\": epoch + 1,\n",
        "                \"train_loss\": loss,\n",
        "                \"train_accuracy\": accuracy,\n",
        "                \"val_loss\": val_loss,\n",
        "                \"val_accuracy\": val_accuracy\n",
        "            })\n",
        "\n",
        "        # Final evaluation on test set\n",
        "        test_loss, test_accuracy = model.evaluate(X_test, y_test)\n",
        "        wandb.log({\"test_loss\": test_loss, \"test_accuracy\": test_accuracy})\n"
      ],
      "metadata": {
        "id": "l4oT6zmnSjFo"
      },
      "execution_count": 28,
      "outputs": []
    },
    {
      "cell_type": "code",
      "source": [
        "sweep_id = wandb.sweep(sweep_config, project=\"fashion-mnist-hyperparameter-tuning\")\n",
        "wandb.agent(sweep_id, train_model, count=20)  # Run 20 trials with different hyperparameters"
      ],
      "metadata": {
        "colab": {
          "base_uri": "https://localhost:8080/",
          "height": 1000
        },
        "id": "ec3X4-4JSoCk",
        "outputId": "b3fb1460-60fe-4d9a-fa48-9252e933b998"
      },
      "execution_count": 29,
      "outputs": [
        {
          "output_type": "stream",
          "name": "stdout",
          "text": [
            "Create sweep with ID: w8eg7ykb\n",
            "Sweep URL: https://wandb.ai/vinyk-sd-indian-institute-of-technology-madras/fashion-mnist-hyperparameter-tuning/sweeps/w8eg7ykb\n"
          ]
        },
        {
          "output_type": "stream",
          "name": "stderr",
          "text": [
            "\u001b[34m\u001b[1mwandb\u001b[0m: Agent Starting Run: 90rp36xj with config:\n",
            "\u001b[34m\u001b[1mwandb\u001b[0m: \tactivation_function: tanh\n",
            "\u001b[34m\u001b[1mwandb\u001b[0m: \tbatch_size: 32\n",
            "\u001b[34m\u001b[1mwandb\u001b[0m: \tepochs: 5\n",
            "\u001b[34m\u001b[1mwandb\u001b[0m: \thidden_layer_size: 128\n",
            "\u001b[34m\u001b[1mwandb\u001b[0m: \tlearning_rate: 0.0001\n",
            "\u001b[34m\u001b[1mwandb\u001b[0m: \tnum_hidden_layers: 4\n",
            "\u001b[34m\u001b[1mwandb\u001b[0m: \toptimizer: adam\n",
            "\u001b[34m\u001b[1mwandb\u001b[0m: \tweight_decay: 0\n",
            "\u001b[34m\u001b[1mwandb\u001b[0m: \tweight_initialization: xavier\n"
          ]
        },
        {
          "output_type": "display_data",
          "data": {
            "text/plain": [
              "<IPython.core.display.HTML object>"
            ],
            "text/html": [
              "Tracking run with wandb version 0.19.7"
            ]
          },
          "metadata": {}
        },
        {
          "output_type": "display_data",
          "data": {
            "text/plain": [
              "<IPython.core.display.HTML object>"
            ],
            "text/html": [
              "Run data is saved locally in <code>/content/wandb/run-20250306_030858-90rp36xj</code>"
            ]
          },
          "metadata": {}
        },
        {
          "output_type": "display_data",
          "data": {
            "text/plain": [
              "<IPython.core.display.HTML object>"
            ],
            "text/html": [
              "Syncing run <strong><a href='https://wandb.ai/vinyk-sd-indian-institute-of-technology-madras/fashion-mnist-hyperparameter-tuning/runs/90rp36xj' target=\"_blank\">fearless-sweep-1</a></strong> to <a href='https://wandb.ai/vinyk-sd-indian-institute-of-technology-madras/fashion-mnist-hyperparameter-tuning' target=\"_blank\">Weights & Biases</a> (<a href='https://wandb.me/developer-guide' target=\"_blank\">docs</a>)<br>Sweep page: <a href='https://wandb.ai/vinyk-sd-indian-institute-of-technology-madras/fashion-mnist-hyperparameter-tuning/sweeps/w8eg7ykb' target=\"_blank\">https://wandb.ai/vinyk-sd-indian-institute-of-technology-madras/fashion-mnist-hyperparameter-tuning/sweeps/w8eg7ykb</a>"
            ]
          },
          "metadata": {}
        },
        {
          "output_type": "display_data",
          "data": {
            "text/plain": [
              "<IPython.core.display.HTML object>"
            ],
            "text/html": [
              " View project at <a href='https://wandb.ai/vinyk-sd-indian-institute-of-technology-madras/fashion-mnist-hyperparameter-tuning' target=\"_blank\">https://wandb.ai/vinyk-sd-indian-institute-of-technology-madras/fashion-mnist-hyperparameter-tuning</a>"
            ]
          },
          "metadata": {}
        },
        {
          "output_type": "display_data",
          "data": {
            "text/plain": [
              "<IPython.core.display.HTML object>"
            ],
            "text/html": [
              " View sweep at <a href='https://wandb.ai/vinyk-sd-indian-institute-of-technology-madras/fashion-mnist-hyperparameter-tuning/sweeps/w8eg7ykb' target=\"_blank\">https://wandb.ai/vinyk-sd-indian-institute-of-technology-madras/fashion-mnist-hyperparameter-tuning/sweeps/w8eg7ykb</a>"
            ]
          },
          "metadata": {}
        },
        {
          "output_type": "display_data",
          "data": {
            "text/plain": [
              "<IPython.core.display.HTML object>"
            ],
            "text/html": [
              " View run at <a href='https://wandb.ai/vinyk-sd-indian-institute-of-technology-madras/fashion-mnist-hyperparameter-tuning/runs/90rp36xj' target=\"_blank\">https://wandb.ai/vinyk-sd-indian-institute-of-technology-madras/fashion-mnist-hyperparameter-tuning/runs/90rp36xj</a>"
            ]
          },
          "metadata": {}
        },
        {
          "output_type": "stream",
          "name": "stderr",
          "text": [
            "Traceback (most recent call last):\n",
            "  File \"<ipython-input-28-d67e6f89803e>\", line 19, in train_model\n",
            "    loss, accuracy = model.train(X_train, y_train, epochs=config.epochs, batch_size=config.batch_size)\n",
            "                     ^^^^^^^^^^^^^^^^^^^^^^^^^^^^^^^^^^^^^^^^^^^^^^^^^^^^^^^^^^^^^^^^^^^^^^^^^^^^^^^^^\n",
            "  File \"<ipython-input-27-1641fe8015a0>\", line 166, in train\n",
            "    self.backward(X_batch, Y_batch, activations, batch_size, epoch + 1)\n",
            "  File \"<ipython-input-27-1641fe8015a0>\", line 101, in backward\n",
            "    dW = np.dot(activations[i].T, grads[i + 1]) / m + self.weight_decay * self.weights[i]  # L2 regularization\n",
            "                                  ~~~~~^^^^^^^\n",
            "KeyError: 4\n"
          ]
        },
        {
          "output_type": "display_data",
          "data": {
            "text/plain": [
              "<IPython.core.display.HTML object>"
            ],
            "text/html": []
          },
          "metadata": {}
        },
        {
          "output_type": "display_data",
          "data": {
            "text/plain": [
              "<IPython.core.display.HTML object>"
            ],
            "text/html": [
              " View run <strong style=\"color:#cdcd00\">fearless-sweep-1</strong> at: <a href='https://wandb.ai/vinyk-sd-indian-institute-of-technology-madras/fashion-mnist-hyperparameter-tuning/runs/90rp36xj' target=\"_blank\">https://wandb.ai/vinyk-sd-indian-institute-of-technology-madras/fashion-mnist-hyperparameter-tuning/runs/90rp36xj</a><br> View project at: <a href='https://wandb.ai/vinyk-sd-indian-institute-of-technology-madras/fashion-mnist-hyperparameter-tuning' target=\"_blank\">https://wandb.ai/vinyk-sd-indian-institute-of-technology-madras/fashion-mnist-hyperparameter-tuning</a><br>Synced 5 W&B file(s), 0 media file(s), 0 artifact file(s) and 0 other file(s)"
            ]
          },
          "metadata": {}
        },
        {
          "output_type": "display_data",
          "data": {
            "text/plain": [
              "<IPython.core.display.HTML object>"
            ],
            "text/html": [
              "Find logs at: <code>./wandb/run-20250306_030858-90rp36xj/logs</code>"
            ]
          },
          "metadata": {}
        },
        {
          "output_type": "stream",
          "name": "stderr",
          "text": [
            "Run 90rp36xj errored:\n",
            "Traceback (most recent call last):\n",
            "  File \"/usr/local/lib/python3.11/dist-packages/wandb/agents/pyagent.py\", line 306, in _run_job\n",
            "    self._function()\n",
            "  File \"<ipython-input-28-d67e6f89803e>\", line 19, in train_model\n",
            "    loss, accuracy = model.train(X_train, y_train, epochs=config.epochs, batch_size=config.batch_size)\n",
            "                     ^^^^^^^^^^^^^^^^^^^^^^^^^^^^^^^^^^^^^^^^^^^^^^^^^^^^^^^^^^^^^^^^^^^^^^^^^^^^^^^^^\n",
            "  File \"<ipython-input-27-1641fe8015a0>\", line 166, in train\n",
            "    self.backward(X_batch, Y_batch, activations, batch_size, epoch + 1)\n",
            "  File \"<ipython-input-27-1641fe8015a0>\", line 101, in backward\n",
            "    dW = np.dot(activations[i].T, grads[i + 1]) / m + self.weight_decay * self.weights[i]  # L2 regularization\n",
            "                                  ~~~~~^^^^^^^\n",
            "KeyError: 4\n",
            "\n",
            "\u001b[34m\u001b[1mwandb\u001b[0m: \u001b[32m\u001b[41mERROR\u001b[0m Run 90rp36xj errored:\n",
            "\u001b[34m\u001b[1mwandb\u001b[0m: \u001b[32m\u001b[41mERROR\u001b[0m Traceback (most recent call last):\n",
            "\u001b[34m\u001b[1mwandb\u001b[0m: \u001b[32m\u001b[41mERROR\u001b[0m   File \"/usr/local/lib/python3.11/dist-packages/wandb/agents/pyagent.py\", line 306, in _run_job\n",
            "\u001b[34m\u001b[1mwandb\u001b[0m: \u001b[32m\u001b[41mERROR\u001b[0m     self._function()\n",
            "\u001b[34m\u001b[1mwandb\u001b[0m: \u001b[32m\u001b[41mERROR\u001b[0m   File \"<ipython-input-28-d67e6f89803e>\", line 19, in train_model\n",
            "\u001b[34m\u001b[1mwandb\u001b[0m: \u001b[32m\u001b[41mERROR\u001b[0m     loss, accuracy = model.train(X_train, y_train, epochs=config.epochs, batch_size=config.batch_size)\n",
            "\u001b[34m\u001b[1mwandb\u001b[0m: \u001b[32m\u001b[41mERROR\u001b[0m                      ^^^^^^^^^^^^^^^^^^^^^^^^^^^^^^^^^^^^^^^^^^^^^^^^^^^^^^^^^^^^^^^^^^^^^^^^^^^^^^^^^\n",
            "\u001b[34m\u001b[1mwandb\u001b[0m: \u001b[32m\u001b[41mERROR\u001b[0m   File \"<ipython-input-27-1641fe8015a0>\", line 166, in train\n",
            "\u001b[34m\u001b[1mwandb\u001b[0m: \u001b[32m\u001b[41mERROR\u001b[0m     self.backward(X_batch, Y_batch, activations, batch_size, epoch + 1)\n",
            "\u001b[34m\u001b[1mwandb\u001b[0m: \u001b[32m\u001b[41mERROR\u001b[0m   File \"<ipython-input-27-1641fe8015a0>\", line 101, in backward\n",
            "\u001b[34m\u001b[1mwandb\u001b[0m: \u001b[32m\u001b[41mERROR\u001b[0m     dW = np.dot(activations[i].T, grads[i + 1]) / m + self.weight_decay * self.weights[i]  # L2 regularization\n",
            "\u001b[34m\u001b[1mwandb\u001b[0m: \u001b[32m\u001b[41mERROR\u001b[0m                                   ~~~~~^^^^^^^\n",
            "\u001b[34m\u001b[1mwandb\u001b[0m: \u001b[32m\u001b[41mERROR\u001b[0m KeyError: 4\n",
            "\u001b[34m\u001b[1mwandb\u001b[0m: \u001b[32m\u001b[41mERROR\u001b[0m \n",
            "\u001b[34m\u001b[1mwandb\u001b[0m: Agent Starting Run: i4lm07k1 with config:\n",
            "\u001b[34m\u001b[1mwandb\u001b[0m: \tactivation_function: relu\n",
            "\u001b[34m\u001b[1mwandb\u001b[0m: \tbatch_size: 16\n",
            "\u001b[34m\u001b[1mwandb\u001b[0m: \tepochs: 5\n",
            "\u001b[34m\u001b[1mwandb\u001b[0m: \thidden_layer_size: 128\n",
            "\u001b[34m\u001b[1mwandb\u001b[0m: \tlearning_rate: 0.001\n",
            "\u001b[34m\u001b[1mwandb\u001b[0m: \tnum_hidden_layers: 4\n",
            "\u001b[34m\u001b[1mwandb\u001b[0m: \toptimizer: nesterov\n",
            "\u001b[34m\u001b[1mwandb\u001b[0m: \tweight_decay: 0.0005\n",
            "\u001b[34m\u001b[1mwandb\u001b[0m: \tweight_initialization: random\n"
          ]
        },
        {
          "output_type": "display_data",
          "data": {
            "text/plain": [
              "<IPython.core.display.HTML object>"
            ],
            "text/html": [
              "Tracking run with wandb version 0.19.7"
            ]
          },
          "metadata": {}
        },
        {
          "output_type": "display_data",
          "data": {
            "text/plain": [
              "<IPython.core.display.HTML object>"
            ],
            "text/html": [
              "Run data is saved locally in <code>/content/wandb/run-20250306_030903-i4lm07k1</code>"
            ]
          },
          "metadata": {}
        },
        {
          "output_type": "display_data",
          "data": {
            "text/plain": [
              "<IPython.core.display.HTML object>"
            ],
            "text/html": [
              "Syncing run <strong><a href='https://wandb.ai/vinyk-sd-indian-institute-of-technology-madras/fashion-mnist-hyperparameter-tuning/runs/i4lm07k1' target=\"_blank\">decent-sweep-2</a></strong> to <a href='https://wandb.ai/vinyk-sd-indian-institute-of-technology-madras/fashion-mnist-hyperparameter-tuning' target=\"_blank\">Weights & Biases</a> (<a href='https://wandb.me/developer-guide' target=\"_blank\">docs</a>)<br>Sweep page: <a href='https://wandb.ai/vinyk-sd-indian-institute-of-technology-madras/fashion-mnist-hyperparameter-tuning/sweeps/w8eg7ykb' target=\"_blank\">https://wandb.ai/vinyk-sd-indian-institute-of-technology-madras/fashion-mnist-hyperparameter-tuning/sweeps/w8eg7ykb</a>"
            ]
          },
          "metadata": {}
        },
        {
          "output_type": "display_data",
          "data": {
            "text/plain": [
              "<IPython.core.display.HTML object>"
            ],
            "text/html": [
              " View project at <a href='https://wandb.ai/vinyk-sd-indian-institute-of-technology-madras/fashion-mnist-hyperparameter-tuning' target=\"_blank\">https://wandb.ai/vinyk-sd-indian-institute-of-technology-madras/fashion-mnist-hyperparameter-tuning</a>"
            ]
          },
          "metadata": {}
        },
        {
          "output_type": "display_data",
          "data": {
            "text/plain": [
              "<IPython.core.display.HTML object>"
            ],
            "text/html": [
              " View sweep at <a href='https://wandb.ai/vinyk-sd-indian-institute-of-technology-madras/fashion-mnist-hyperparameter-tuning/sweeps/w8eg7ykb' target=\"_blank\">https://wandb.ai/vinyk-sd-indian-institute-of-technology-madras/fashion-mnist-hyperparameter-tuning/sweeps/w8eg7ykb</a>"
            ]
          },
          "metadata": {}
        },
        {
          "output_type": "display_data",
          "data": {
            "text/plain": [
              "<IPython.core.display.HTML object>"
            ],
            "text/html": [
              " View run at <a href='https://wandb.ai/vinyk-sd-indian-institute-of-technology-madras/fashion-mnist-hyperparameter-tuning/runs/i4lm07k1' target=\"_blank\">https://wandb.ai/vinyk-sd-indian-institute-of-technology-madras/fashion-mnist-hyperparameter-tuning/runs/i4lm07k1</a>"
            ]
          },
          "metadata": {}
        },
        {
          "output_type": "stream",
          "name": "stderr",
          "text": [
            "Traceback (most recent call last):\n",
            "  File \"<ipython-input-28-d67e6f89803e>\", line 19, in train_model\n",
            "    loss, accuracy = model.train(X_train, y_train, epochs=config.epochs, batch_size=config.batch_size)\n",
            "                     ^^^^^^^^^^^^^^^^^^^^^^^^^^^^^^^^^^^^^^^^^^^^^^^^^^^^^^^^^^^^^^^^^^^^^^^^^^^^^^^^^\n",
            "  File \"<ipython-input-27-1641fe8015a0>\", line 166, in train\n",
            "    self.backward(X_batch, Y_batch, activations, batch_size, epoch + 1)\n",
            "  File \"<ipython-input-27-1641fe8015a0>\", line 101, in backward\n",
            "    dW = np.dot(activations[i].T, grads[i + 1]) / m + self.weight_decay * self.weights[i]  # L2 regularization\n",
            "                                  ~~~~~^^^^^^^\n",
            "KeyError: 4\n"
          ]
        },
        {
          "output_type": "display_data",
          "data": {
            "text/plain": [
              "<IPython.core.display.HTML object>"
            ],
            "text/html": []
          },
          "metadata": {}
        },
        {
          "output_type": "stream",
          "name": "stderr",
          "text": [
            "\u001b[34m\u001b[1mwandb\u001b[0m: Ctrl + C detected. Stopping sweep.\n"
          ]
        }
      ]
    },
    {
      "cell_type": "code",
      "source": [],
      "metadata": {
        "id": "he6Lqm9DSsLK"
      },
      "execution_count": null,
      "outputs": []
    }
  ]
}